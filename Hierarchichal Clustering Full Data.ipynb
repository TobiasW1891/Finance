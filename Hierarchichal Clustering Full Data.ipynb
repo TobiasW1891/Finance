{
 "cells": [
  {
   "cell_type": "code",
   "execution_count": 1,
   "id": "b45dea89",
   "metadata": {},
   "outputs": [],
   "source": [
    "from sklearn.cluster import DBSCAN, KMeans\n",
    "from scipy.spatial import distance_matrix\n",
    "import numpy as np\n",
    "import pandas as pd\n",
    "import random\n",
    "import matplotlib.pyplot as plt\n",
    "import datetime\n",
    "from scipy.cluster.vq import kmeans,vq\n",
    "from mpl_toolkits.mplot3d import Axes3D\n",
    "from matplotlib import rc_file\n",
    "#rc_file('/home/p0friedr/okamp/Programme/Python/plotting/plotstyle.rc') \n",
    "import argparse\n",
    "from os import path\n",
    "import time\n",
    "import matplotlib.dates as mdates\n"
   ]
  },
  {
   "cell_type": "code",
   "execution_count": 2,
   "id": "101c9b57",
   "metadata": {},
   "outputs": [],
   "source": [
    "# load the data\n",
    "DFSectors = pd.read_csv(\"NormalisedReturnsSector.csv\", index_col = \"Date\")\n",
    "DF = pd.read_csv(\"Companies1992_2012.csv\",\n",
    "                index_col=\"Date\")"
   ]
  },
  {
   "cell_type": "code",
   "execution_count": 6,
   "id": "f600d007",
   "metadata": {},
   "outputs": [
    {
     "name": "stdout",
     "output_type": "stream",
     "text": [
      "(5291, 263)\n"
     ]
    },
    {
     "data": {
      "text/html": [
       "<div>\n",
       "<style scoped>\n",
       "    .dataframe tbody tr th:only-of-type {\n",
       "        vertical-align: middle;\n",
       "    }\n",
       "\n",
       "    .dataframe tbody tr th {\n",
       "        vertical-align: top;\n",
       "    }\n",
       "\n",
       "    .dataframe thead th {\n",
       "        text-align: right;\n",
       "    }\n",
       "</style>\n",
       "<table border=\"1\" class=\"dataframe\">\n",
       "  <thead>\n",
       "    <tr style=\"text-align: right;\">\n",
       "      <th></th>\n",
       "      <th>AES</th>\n",
       "      <th>LNT</th>\n",
       "      <th>AEP</th>\n",
       "      <th>ATO</th>\n",
       "      <th>CNP</th>\n",
       "      <th>CMS</th>\n",
       "      <th>ED</th>\n",
       "      <th>D</th>\n",
       "      <th>DTE</th>\n",
       "      <th>DUK</th>\n",
       "      <th>...</th>\n",
       "      <th>DVN</th>\n",
       "      <th>EOG</th>\n",
       "      <th>XOM</th>\n",
       "      <th>HAL</th>\n",
       "      <th>HES</th>\n",
       "      <th>MRO</th>\n",
       "      <th>OXY</th>\n",
       "      <th>OKE</th>\n",
       "      <th>SLB</th>\n",
       "      <th>WMB</th>\n",
       "    </tr>\n",
       "    <tr>\n",
       "      <th>Date</th>\n",
       "      <th></th>\n",
       "      <th></th>\n",
       "      <th></th>\n",
       "      <th></th>\n",
       "      <th></th>\n",
       "      <th></th>\n",
       "      <th></th>\n",
       "      <th></th>\n",
       "      <th></th>\n",
       "      <th></th>\n",
       "      <th></th>\n",
       "      <th></th>\n",
       "      <th></th>\n",
       "      <th></th>\n",
       "      <th></th>\n",
       "      <th></th>\n",
       "      <th></th>\n",
       "      <th></th>\n",
       "      <th></th>\n",
       "      <th></th>\n",
       "      <th></th>\n",
       "    </tr>\n",
       "  </thead>\n",
       "  <tbody>\n",
       "    <tr>\n",
       "      <th>1992-01-02</th>\n",
       "      <td>NaN</td>\n",
       "      <td>NaN</td>\n",
       "      <td>NaN</td>\n",
       "      <td>NaN</td>\n",
       "      <td>NaN</td>\n",
       "      <td>NaN</td>\n",
       "      <td>NaN</td>\n",
       "      <td>NaN</td>\n",
       "      <td>NaN</td>\n",
       "      <td>NaN</td>\n",
       "      <td>...</td>\n",
       "      <td>NaN</td>\n",
       "      <td>NaN</td>\n",
       "      <td>NaN</td>\n",
       "      <td>NaN</td>\n",
       "      <td>NaN</td>\n",
       "      <td>NaN</td>\n",
       "      <td>NaN</td>\n",
       "      <td>NaN</td>\n",
       "      <td>NaN</td>\n",
       "      <td>NaN</td>\n",
       "    </tr>\n",
       "    <tr>\n",
       "      <th>1992-01-03</th>\n",
       "      <td>NaN</td>\n",
       "      <td>NaN</td>\n",
       "      <td>NaN</td>\n",
       "      <td>NaN</td>\n",
       "      <td>NaN</td>\n",
       "      <td>NaN</td>\n",
       "      <td>NaN</td>\n",
       "      <td>NaN</td>\n",
       "      <td>NaN</td>\n",
       "      <td>NaN</td>\n",
       "      <td>...</td>\n",
       "      <td>NaN</td>\n",
       "      <td>NaN</td>\n",
       "      <td>NaN</td>\n",
       "      <td>NaN</td>\n",
       "      <td>NaN</td>\n",
       "      <td>NaN</td>\n",
       "      <td>NaN</td>\n",
       "      <td>NaN</td>\n",
       "      <td>NaN</td>\n",
       "      <td>NaN</td>\n",
       "    </tr>\n",
       "    <tr>\n",
       "      <th>1992-01-06</th>\n",
       "      <td>NaN</td>\n",
       "      <td>NaN</td>\n",
       "      <td>NaN</td>\n",
       "      <td>NaN</td>\n",
       "      <td>NaN</td>\n",
       "      <td>NaN</td>\n",
       "      <td>NaN</td>\n",
       "      <td>NaN</td>\n",
       "      <td>NaN</td>\n",
       "      <td>NaN</td>\n",
       "      <td>...</td>\n",
       "      <td>NaN</td>\n",
       "      <td>NaN</td>\n",
       "      <td>NaN</td>\n",
       "      <td>NaN</td>\n",
       "      <td>NaN</td>\n",
       "      <td>NaN</td>\n",
       "      <td>NaN</td>\n",
       "      <td>NaN</td>\n",
       "      <td>NaN</td>\n",
       "      <td>NaN</td>\n",
       "    </tr>\n",
       "    <tr>\n",
       "      <th>1992-01-07</th>\n",
       "      <td>NaN</td>\n",
       "      <td>NaN</td>\n",
       "      <td>NaN</td>\n",
       "      <td>NaN</td>\n",
       "      <td>NaN</td>\n",
       "      <td>NaN</td>\n",
       "      <td>NaN</td>\n",
       "      <td>NaN</td>\n",
       "      <td>NaN</td>\n",
       "      <td>NaN</td>\n",
       "      <td>...</td>\n",
       "      <td>NaN</td>\n",
       "      <td>NaN</td>\n",
       "      <td>NaN</td>\n",
       "      <td>NaN</td>\n",
       "      <td>NaN</td>\n",
       "      <td>NaN</td>\n",
       "      <td>NaN</td>\n",
       "      <td>NaN</td>\n",
       "      <td>NaN</td>\n",
       "      <td>NaN</td>\n",
       "    </tr>\n",
       "    <tr>\n",
       "      <th>1992-01-08</th>\n",
       "      <td>NaN</td>\n",
       "      <td>NaN</td>\n",
       "      <td>NaN</td>\n",
       "      <td>NaN</td>\n",
       "      <td>NaN</td>\n",
       "      <td>NaN</td>\n",
       "      <td>NaN</td>\n",
       "      <td>NaN</td>\n",
       "      <td>NaN</td>\n",
       "      <td>NaN</td>\n",
       "      <td>...</td>\n",
       "      <td>NaN</td>\n",
       "      <td>NaN</td>\n",
       "      <td>NaN</td>\n",
       "      <td>NaN</td>\n",
       "      <td>NaN</td>\n",
       "      <td>NaN</td>\n",
       "      <td>NaN</td>\n",
       "      <td>NaN</td>\n",
       "      <td>NaN</td>\n",
       "      <td>NaN</td>\n",
       "    </tr>\n",
       "    <tr>\n",
       "      <th>...</th>\n",
       "      <td>...</td>\n",
       "      <td>...</td>\n",
       "      <td>...</td>\n",
       "      <td>...</td>\n",
       "      <td>...</td>\n",
       "      <td>...</td>\n",
       "      <td>...</td>\n",
       "      <td>...</td>\n",
       "      <td>...</td>\n",
       "      <td>...</td>\n",
       "      <td>...</td>\n",
       "      <td>...</td>\n",
       "      <td>...</td>\n",
       "      <td>...</td>\n",
       "      <td>...</td>\n",
       "      <td>...</td>\n",
       "      <td>...</td>\n",
       "      <td>...</td>\n",
       "      <td>...</td>\n",
       "      <td>...</td>\n",
       "      <td>...</td>\n",
       "    </tr>\n",
       "    <tr>\n",
       "      <th>2012-12-24</th>\n",
       "      <td>-1.081177</td>\n",
       "      <td>-0.270954</td>\n",
       "      <td>-0.869922</td>\n",
       "      <td>-0.922632</td>\n",
       "      <td>-0.418172</td>\n",
       "      <td>-0.206734</td>\n",
       "      <td>-0.309340</td>\n",
       "      <td>-0.248375</td>\n",
       "      <td>-0.498336</td>\n",
       "      <td>-0.004787</td>\n",
       "      <td>...</td>\n",
       "      <td>-0.958686</td>\n",
       "      <td>-0.813532</td>\n",
       "      <td>-0.403730</td>\n",
       "      <td>-0.682636</td>\n",
       "      <td>-1.422293</td>\n",
       "      <td>-1.156702</td>\n",
       "      <td>-1.287924</td>\n",
       "      <td>-0.178140</td>\n",
       "      <td>-0.243812</td>\n",
       "      <td>-0.919810</td>\n",
       "    </tr>\n",
       "    <tr>\n",
       "      <th>2012-12-26</th>\n",
       "      <td>-0.253817</td>\n",
       "      <td>-1.051988</td>\n",
       "      <td>-1.304070</td>\n",
       "      <td>-2.098019</td>\n",
       "      <td>-2.123994</td>\n",
       "      <td>-0.721928</td>\n",
       "      <td>-1.300321</td>\n",
       "      <td>-0.770818</td>\n",
       "      <td>-1.403926</td>\n",
       "      <td>-1.099499</td>\n",
       "      <td>...</td>\n",
       "      <td>-0.725002</td>\n",
       "      <td>-0.962120</td>\n",
       "      <td>0.271965</td>\n",
       "      <td>0.229555</td>\n",
       "      <td>-0.702476</td>\n",
       "      <td>-0.631910</td>\n",
       "      <td>-1.115471</td>\n",
       "      <td>-1.566316</td>\n",
       "      <td>-0.028972</td>\n",
       "      <td>-0.712181</td>\n",
       "    </tr>\n",
       "    <tr>\n",
       "      <th>2012-12-27</th>\n",
       "      <td>-1.229936</td>\n",
       "      <td>-0.084106</td>\n",
       "      <td>-0.345997</td>\n",
       "      <td>-0.392188</td>\n",
       "      <td>-0.213158</td>\n",
       "      <td>-0.484121</td>\n",
       "      <td>0.020371</td>\n",
       "      <td>-0.323573</td>\n",
       "      <td>-0.359014</td>\n",
       "      <td>-0.729707</td>\n",
       "      <td>...</td>\n",
       "      <td>-0.085694</td>\n",
       "      <td>-0.109297</td>\n",
       "      <td>-0.185405</td>\n",
       "      <td>-0.427361</td>\n",
       "      <td>-0.168654</td>\n",
       "      <td>-0.355331</td>\n",
       "      <td>-0.165108</td>\n",
       "      <td>-0.301423</td>\n",
       "      <td>0.195096</td>\n",
       "      <td>-1.088528</td>\n",
       "    </tr>\n",
       "    <tr>\n",
       "      <th>2012-12-28</th>\n",
       "      <td>-1.076033</td>\n",
       "      <td>-0.657521</td>\n",
       "      <td>-1.157553</td>\n",
       "      <td>-0.781905</td>\n",
       "      <td>0.077233</td>\n",
       "      <td>-0.797519</td>\n",
       "      <td>-1.094147</td>\n",
       "      <td>-1.677154</td>\n",
       "      <td>-1.292667</td>\n",
       "      <td>-1.338790</td>\n",
       "      <td>...</td>\n",
       "      <td>-1.437798</td>\n",
       "      <td>-2.110353</td>\n",
       "      <td>-2.209055</td>\n",
       "      <td>-1.393168</td>\n",
       "      <td>-1.707717</td>\n",
       "      <td>-1.267018</td>\n",
       "      <td>-2.053336</td>\n",
       "      <td>-0.062111</td>\n",
       "      <td>-0.829446</td>\n",
       "      <td>-1.009206</td>\n",
       "    </tr>\n",
       "    <tr>\n",
       "      <th>2012-12-31</th>\n",
       "      <td>1.980571</td>\n",
       "      <td>0.998821</td>\n",
       "      <td>1.635557</td>\n",
       "      <td>1.632783</td>\n",
       "      <td>2.884628</td>\n",
       "      <td>1.891091</td>\n",
       "      <td>1.656653</td>\n",
       "      <td>2.176357</td>\n",
       "      <td>1.383711</td>\n",
       "      <td>1.721484</td>\n",
       "      <td>...</td>\n",
       "      <td>1.230697</td>\n",
       "      <td>1.165552</td>\n",
       "      <td>1.998031</td>\n",
       "      <td>1.311799</td>\n",
       "      <td>1.767759</td>\n",
       "      <td>2.488306</td>\n",
       "      <td>1.319473</td>\n",
       "      <td>1.634734</td>\n",
       "      <td>1.321073</td>\n",
       "      <td>3.017447</td>\n",
       "    </tr>\n",
       "  </tbody>\n",
       "</table>\n",
       "<p>5291 rows × 263 columns</p>\n",
       "</div>"
      ],
      "text/plain": [
       "                 AES       LNT       AEP       ATO       CNP       CMS  \\\n",
       "Date                                                                     \n",
       "1992-01-02       NaN       NaN       NaN       NaN       NaN       NaN   \n",
       "1992-01-03       NaN       NaN       NaN       NaN       NaN       NaN   \n",
       "1992-01-06       NaN       NaN       NaN       NaN       NaN       NaN   \n",
       "1992-01-07       NaN       NaN       NaN       NaN       NaN       NaN   \n",
       "1992-01-08       NaN       NaN       NaN       NaN       NaN       NaN   \n",
       "...              ...       ...       ...       ...       ...       ...   \n",
       "2012-12-24 -1.081177 -0.270954 -0.869922 -0.922632 -0.418172 -0.206734   \n",
       "2012-12-26 -0.253817 -1.051988 -1.304070 -2.098019 -2.123994 -0.721928   \n",
       "2012-12-27 -1.229936 -0.084106 -0.345997 -0.392188 -0.213158 -0.484121   \n",
       "2012-12-28 -1.076033 -0.657521 -1.157553 -0.781905  0.077233 -0.797519   \n",
       "2012-12-31  1.980571  0.998821  1.635557  1.632783  2.884628  1.891091   \n",
       "\n",
       "                  ED         D       DTE       DUK  ...       DVN       EOG  \\\n",
       "Date                                                ...                       \n",
       "1992-01-02       NaN       NaN       NaN       NaN  ...       NaN       NaN   \n",
       "1992-01-03       NaN       NaN       NaN       NaN  ...       NaN       NaN   \n",
       "1992-01-06       NaN       NaN       NaN       NaN  ...       NaN       NaN   \n",
       "1992-01-07       NaN       NaN       NaN       NaN  ...       NaN       NaN   \n",
       "1992-01-08       NaN       NaN       NaN       NaN  ...       NaN       NaN   \n",
       "...              ...       ...       ...       ...  ...       ...       ...   \n",
       "2012-12-24 -0.309340 -0.248375 -0.498336 -0.004787  ... -0.958686 -0.813532   \n",
       "2012-12-26 -1.300321 -0.770818 -1.403926 -1.099499  ... -0.725002 -0.962120   \n",
       "2012-12-27  0.020371 -0.323573 -0.359014 -0.729707  ... -0.085694 -0.109297   \n",
       "2012-12-28 -1.094147 -1.677154 -1.292667 -1.338790  ... -1.437798 -2.110353   \n",
       "2012-12-31  1.656653  2.176357  1.383711  1.721484  ...  1.230697  1.165552   \n",
       "\n",
       "                 XOM       HAL       HES       MRO       OXY       OKE  \\\n",
       "Date                                                                     \n",
       "1992-01-02       NaN       NaN       NaN       NaN       NaN       NaN   \n",
       "1992-01-03       NaN       NaN       NaN       NaN       NaN       NaN   \n",
       "1992-01-06       NaN       NaN       NaN       NaN       NaN       NaN   \n",
       "1992-01-07       NaN       NaN       NaN       NaN       NaN       NaN   \n",
       "1992-01-08       NaN       NaN       NaN       NaN       NaN       NaN   \n",
       "...              ...       ...       ...       ...       ...       ...   \n",
       "2012-12-24 -0.403730 -0.682636 -1.422293 -1.156702 -1.287924 -0.178140   \n",
       "2012-12-26  0.271965  0.229555 -0.702476 -0.631910 -1.115471 -1.566316   \n",
       "2012-12-27 -0.185405 -0.427361 -0.168654 -0.355331 -0.165108 -0.301423   \n",
       "2012-12-28 -2.209055 -1.393168 -1.707717 -1.267018 -2.053336 -0.062111   \n",
       "2012-12-31  1.998031  1.311799  1.767759  2.488306  1.319473  1.634734   \n",
       "\n",
       "                 SLB       WMB  \n",
       "Date                            \n",
       "1992-01-02       NaN       NaN  \n",
       "1992-01-03       NaN       NaN  \n",
       "1992-01-06       NaN       NaN  \n",
       "1992-01-07       NaN       NaN  \n",
       "1992-01-08       NaN       NaN  \n",
       "...              ...       ...  \n",
       "2012-12-24 -0.243812 -0.919810  \n",
       "2012-12-26 -0.028972 -0.712181  \n",
       "2012-12-27  0.195096 -1.088528  \n",
       "2012-12-28 -0.829446 -1.009206  \n",
       "2012-12-31  1.321073  3.017447  \n",
       "\n",
       "[5291 rows x 263 columns]"
      ]
     },
     "execution_count": 6,
     "metadata": {},
     "output_type": "execute_result"
    }
   ],
   "source": [
    "# first rows are NaNs because of local renormalisation\n",
    "print(DF.shape)\n",
    "DF"
   ]
  },
  {
   "cell_type": "code",
   "execution_count": 9,
   "id": "7b972ff0",
   "metadata": {},
   "outputs": [
    {
     "name": "stdout",
     "output_type": "stream",
     "text": [
      "(263, 263)\n",
      "34453.0\n",
      "(1, 69169) 34453\n",
      "1\n"
     ]
    },
    {
     "data": {
      "text/plain": [
       "(5251, 34453)"
      ]
     },
     "execution_count": 9,
     "metadata": {},
     "output_type": "execute_result"
    }
   ],
   "source": [
    "# compute correlation matrices for overlapping, moving intervals\n",
    "Period = 40 # 2 trading months\n",
    "Shift = 1\n",
    "T = int((len(DF) - Period)/Shift)\n",
    "\n",
    "\n",
    "# because of symmetry and diagonal of 1, only need upper triangle:\n",
    "Index = np.triu(np.ones((DF.shape[1],\n",
    "                         DF.shape[1])),1)\n",
    "print(Index.shape)\n",
    "print(np.sum(Index))\n",
    "\n",
    "Index = Index.reshape(1,-1)\n",
    "Index = Index.astype(bool)\n",
    "print(Index.shape, np.sum(Index))\n",
    "CorrMatrices = np.empty((T, np.sum(Index)))\n",
    "CorrMatricesFull = np.empty((T,int(DF.shape[1]**2.)))\n",
    "\n",
    "print(len(Index))\n",
    "\n",
    "for t in range(T):\n",
    "    #print((0+t*Shift),(Period+t*Shift))\n",
    "    IntervalDF = DF.iloc[(0+t*Shift):(Period+t*Shift)]\n",
    "    IntervalCorr = IntervalDF.corr()\n",
    "    IntervalCorr = IntervalCorr.to_numpy().reshape(1,-1)\n",
    "\n",
    "    CorrMatricesFull[t,:] = IntervalCorr\n",
    "    \n",
    "    # Only save the non-trivial and unique elements of the correlation matrix\n",
    "    CorrMatrices[t,:] = IntervalCorr[Index]\n",
    "\n",
    "CorrMatrices.shape   "
   ]
  },
  {
   "cell_type": "code",
   "execution_count": 4,
   "id": "38b7b3a7",
   "metadata": {},
   "outputs": [],
   "source": [
    "# Repeated KMeans into 2 clusters"
   ]
  },
  {
   "cell_type": "code",
   "execution_count": 10,
   "id": "bda68ad7",
   "metadata": {},
   "outputs": [
    {
     "ename": "NameError",
     "evalue": "name 'CorrMatricesSec' is not defined",
     "output_type": "error",
     "traceback": [
      "\u001b[0;31m---------------------------------------------------------------------------\u001b[0m",
      "\u001b[0;31mNameError\u001b[0m                                 Traceback (most recent call last)",
      "\u001b[0;32m/tmp/ipykernel_66327/2995663092.py\u001b[0m in \u001b[0;36m<module>\u001b[0;34m\u001b[0m\n\u001b[1;32m      1\u001b[0m \u001b[0mkmean\u001b[0m \u001b[0;34m=\u001b[0m \u001b[0mKMeans\u001b[0m\u001b[0;34m(\u001b[0m\u001b[0mn_clusters\u001b[0m \u001b[0;34m=\u001b[0m \u001b[0;36m2\u001b[0m\u001b[0;34m,\u001b[0m\u001b[0mrandom_state\u001b[0m \u001b[0;34m=\u001b[0m \u001b[0;36m12345\u001b[0m\u001b[0;34m)\u001b[0m\u001b[0;34m.\u001b[0m\u001b[0mfit\u001b[0m\u001b[0;34m(\u001b[0m\u001b[0mCorrMatrices\u001b[0m\u001b[0;34m)\u001b[0m\u001b[0;34m\u001b[0m\u001b[0;34m\u001b[0m\u001b[0m\n\u001b[0;32m----> 2\u001b[0;31m \u001b[0mypred\u001b[0m \u001b[0;34m=\u001b[0m \u001b[0mkmean\u001b[0m\u001b[0;34m.\u001b[0m\u001b[0mpredict\u001b[0m\u001b[0;34m(\u001b[0m\u001b[0mCorrMatricesSec\u001b[0m\u001b[0;34m)\u001b[0m\u001b[0;34m\u001b[0m\u001b[0;34m\u001b[0m\u001b[0m\n\u001b[0m",
      "\u001b[0;31mNameError\u001b[0m: name 'CorrMatricesSec' is not defined"
     ]
    }
   ],
   "source": [
    "kmean = KMeans(n_clusters = 2,random_state = 12345).fit(CorrMatrices) \n"
   ]
  },
  {
   "cell_type": "code",
   "execution_count": 11,
   "id": "9d01f381",
   "metadata": {},
   "outputs": [
    {
     "data": {
      "text/plain": [
       "[<matplotlib.lines.Line2D at 0x7f439aa7c7f0>]"
      ]
     },
     "execution_count": 11,
     "metadata": {},
     "output_type": "execute_result"
    },
    {
     "data": {
      "image/png": "[encoded data removed]",
      "text/plain": [
       "<Figure size 432x288 with 1 Axes>"
      ]
     },
     "metadata": {
      "needs_background": "light"
     },
     "output_type": "display_data"
    }
   ],
   "source": [
    "ypred = kmean.predict(CorrMatrices)\n",
    "\n",
    "plt.plot(ypred,\".\")"
   ]
  },
  {
   "cell_type": "code",
   "execution_count": 12,
   "id": "9a82fd53",
   "metadata": {},
   "outputs": [
    {
     "name": "stdout",
     "output_type": "stream",
     "text": [
      "(1839, 34453) (3412, 34453)\n"
     ]
    }
   ],
   "source": [
    "#  now split the initial clusters\n",
    "\n",
    "CMS0 = CorrMatrices[ypred ==0,:]\n",
    "CMS1 = CorrMatrices[ypred ==1,:]\n",
    "print(CMS0.shape,CMS1.shape)"
   ]
  },
  {
   "cell_type": "code",
   "execution_count": 13,
   "id": "85559b2a",
   "metadata": {},
   "outputs": [],
   "source": [
    "kmean0 = KMeans(n_clusters = 2,random_state = 12345).fit(CMS0) \n",
    "ypred0 = kmean0.predict(CMS0)"
   ]
  },
  {
   "cell_type": "code",
   "execution_count": 14,
   "id": "20c490bf",
   "metadata": {},
   "outputs": [
    {
     "data": {
      "text/plain": [
       "[<matplotlib.lines.Line2D at 0x7f43f0d28fd0>]"
      ]
     },
     "execution_count": 14,
     "metadata": {},
     "output_type": "execute_result"
    },
    {
     "data": {
      "image/png": "[encoded data removed]",
      "text/plain": [
       "<Figure size 432x288 with 1 Axes>"
      ]
     },
     "metadata": {
      "needs_background": "light"
     },
     "output_type": "display_data"
    }
   ],
   "source": [
    "plt.plot(ypred0,\".\")"
   ]
  },
  {
   "cell_type": "code",
   "execution_count": 15,
   "id": "b383a382",
   "metadata": {},
   "outputs": [
    {
     "name": "stdout",
     "output_type": "stream",
     "text": [
      "(1437, 34453) (402, 34453)\n"
     ]
    }
   ],
   "source": [
    "#  now split the these sub-clusters\n",
    "CMS00 = CMS0[ypred0==0,:]\n",
    "CMS01 = CMS0[ypred0==1,:]\n",
    "print(CMS00.shape,CMS01.shape)"
   ]
  },
  {
   "cell_type": "code",
   "execution_count": 16,
   "id": "4e2e3fae",
   "metadata": {},
   "outputs": [],
   "source": [
    "kmean00 = KMeans(n_clusters = 2,random_state = 12345).fit(CMS00) \n",
    "ypred00 = kmean00.predict(CMS00)"
   ]
  },
  {
   "cell_type": "code",
   "execution_count": 17,
   "id": "1f35c9fe",
   "metadata": {},
   "outputs": [],
   "source": [
    "kmean01 = KMeans(n_clusters = 2,random_state = 12345).fit(CMS01) \n",
    "ypred01 = kmean01.predict(CMS01)"
   ]
  },
  {
   "cell_type": "code",
   "execution_count": 18,
   "id": "8dc72a63",
   "metadata": {},
   "outputs": [
    {
     "name": "stdout",
     "output_type": "stream",
     "text": [
      "(745, 34453) (692, 34453) (192, 34453) (210, 34453)\n"
     ]
    }
   ],
   "source": [
    "# final splits for the first initial cluster\n",
    "CMS000 = CMS00[ypred00==0,:]\n",
    "CMS001 = CMS00[ypred00==1,:]\n",
    "CMS010 = CMS01[ypred01==0,:]\n",
    "CMS011 = CMS01[ypred01==1,:]\n",
    "print(CMS000.shape,\n",
    "     CMS001.shape,\n",
    "     CMS010.shape,\n",
    "     CMS011.shape)"
   ]
  },
  {
   "cell_type": "code",
   "execution_count": 19,
   "id": "9a7c7caf",
   "metadata": {},
   "outputs": [],
   "source": [
    "# Now for the second initial cluster"
   ]
  },
  {
   "cell_type": "code",
   "execution_count": 20,
   "id": "7886f226",
   "metadata": {},
   "outputs": [
    {
     "data": {
      "text/plain": [
       "[<matplotlib.lines.Line2D at 0x7f43f0c9bf98>]"
      ]
     },
     "execution_count": 20,
     "metadata": {},
     "output_type": "execute_result"
    },
    {
     "data": {
      "image/png": "[encoded data removed]",
      "text/plain": [
       "<Figure size 432x288 with 1 Axes>"
      ]
     },
     "metadata": {
      "needs_background": "light"
     },
     "output_type": "display_data"
    }
   ],
   "source": [
    "kmean1 = KMeans(n_clusters = 2,random_state = 12345).fit(CMS1) \n",
    "ypred1 = kmean1.predict(CMS1)\n",
    "plt.plot(ypred1,\".\")"
   ]
  },
  {
   "cell_type": "code",
   "execution_count": 21,
   "id": "0ef94617",
   "metadata": {},
   "outputs": [
    {
     "name": "stdout",
     "output_type": "stream",
     "text": [
      "(1277, 34453) (2135, 34453)\n"
     ]
    }
   ],
   "source": [
    "#  now split the these sub-clusters\n",
    "CMS10 = CMS1[ypred1==0,:]\n",
    "CMS11 = CMS1[ypred1==1,:]\n",
    "print(CMS10.shape,CMS11.shape)"
   ]
  },
  {
   "cell_type": "code",
   "execution_count": 22,
   "id": "9cd486c5",
   "metadata": {},
   "outputs": [],
   "source": [
    "kmean10 = KMeans(n_clusters = 2,random_state = 12345).fit(CMS10) \n",
    "ypred10 = kmean10.predict(CMS10)\n",
    "kmean11 = KMeans(n_clusters = 2,random_state = 12345).fit(CMS11) \n",
    "ypred11 = kmean11.predict(CMS11)"
   ]
  },
  {
   "cell_type": "code",
   "execution_count": 23,
   "id": "5749e836",
   "metadata": {},
   "outputs": [
    {
     "name": "stdout",
     "output_type": "stream",
     "text": [
      "(466, 34453) (811, 34453) (1277, 34453) (1075, 34453)\n"
     ]
    }
   ],
   "source": [
    "# final splits for the first initial cluster\n",
    "CMS100 = CMS10[ypred10==0,:]\n",
    "CMS101 = CMS10[ypred10==1,:]\n",
    "CMS110 = CMS11[ypred11==0,:]\n",
    "CMS111 = CMS11[ypred11==1,:]\n",
    "print(CMS100.shape,\n",
    "     CMS101.shape,\n",
    "     CMS10.shape,\n",
    "     CMS111.shape)"
   ]
  },
  {
   "cell_type": "code",
   "execution_count": 25,
   "id": "8f32c188",
   "metadata": {},
   "outputs": [],
   "source": [
    "Labels = np.zeros(CorrMatrices.shape[0])"
   ]
  },
  {
   "cell_type": "code",
   "execution_count": 26,
   "id": "f68e1074",
   "metadata": {},
   "outputs": [
    {
     "name": "stdout",
     "output_type": "stream",
     "text": [
      "[0. 0. 0. 0. 0. 0. 0. 0. 0. 0.]\n",
      "[0 1 2 3 4 5 6 7 8 9]\n"
     ]
    }
   ],
   "source": [
    "Lab = Labels[0:10]\n",
    "print(Lab)\n",
    "Lab  = np.arange(10)\n",
    "print(Lab)"
   ]
  },
  {
   "cell_type": "code",
   "execution_count": 27,
   "id": "2fedac36",
   "metadata": {},
   "outputs": [
    {
     "name": "stdout",
     "output_type": "stream",
     "text": [
      "[0. 0. 0. 0. 0. 0. 0. 0. 0. 0. 0. 0. 0. 0. 0. 0. 0. 0. 0. 0.]\n"
     ]
    }
   ],
   "source": [
    "print(Labels[0:20])"
   ]
  },
  {
   "cell_type": "code",
   "execution_count": 28,
   "id": "3ef9fc30",
   "metadata": {},
   "outputs": [],
   "source": [
    "def Label(Instance):\n",
    "    \n",
    "    \n",
    "    Label1 = kmean.predict(Instance.reshape(1, -1))\n",
    "\n",
    "    if Label1 == 0:\n",
    "    \n",
    "        Label2 = kmean0.predict(Instance.reshape(1,-1))\n",
    "    \n",
    "        if Label2 == 0:\n",
    "            Label3 = kmean00.predict(Instance.reshape(1,-1))\n",
    "    \n",
    "        elif Label2 == 1:\n",
    "            Label3 = kmean01.predict(Instance.reshape(1,-1))\n",
    "    \n",
    "    \n",
    "    elif Label1 == 1:\n",
    "    \n",
    "        Label2 = kmean1.predict(Instance.reshape(1,-1))\n",
    "    \n",
    "        if Label2 == 0:\n",
    "            Label3 = kmean10.predict(Instance.reshape(1,-1))\n",
    "    \n",
    "        elif Label2 == 1:\n",
    "            Label3 = kmean11.predict(Instance.reshape(1,-1))\n",
    "    return(str(Label1[0])+str(Label2[0])+str(Label3[0]))\n",
    "            "
   ]
  },
  {
   "cell_type": "code",
   "execution_count": 30,
   "id": "da6e5c8c",
   "metadata": {},
   "outputs": [],
   "source": [
    "Labels = []\n",
    "for i in range(CorrMatrices.shape[0]):\n",
    "    Labels.append(Label(CorrMatrices[i,:]))"
   ]
  },
  {
   "cell_type": "code",
   "execution_count": 31,
   "id": "4aa34ecd",
   "metadata": {},
   "outputs": [
    {
     "data": {
      "text/plain": [
       "811"
      ]
     },
     "execution_count": 31,
     "metadata": {},
     "output_type": "execute_result"
    }
   ],
   "source": [
    "sum(np.array(Labels)== '101')"
   ]
  },
  {
   "cell_type": "code",
   "execution_count": 32,
   "id": "bc6c2f9f",
   "metadata": {},
   "outputs": [],
   "source": [
    "Labels = np.array(Labels)"
   ]
  },
  {
   "cell_type": "markdown",
   "id": "de01287d",
   "metadata": {},
   "source": [
    "Labels[Labels==\"000\"] = \"1\"\n",
    "Labels[Labels==\"001\"] = \"2\"\n",
    "Labels[Labels==\"010\"] = \"3\"\n",
    "Labels[Labels==\"011\"] = \"4\"\n",
    "Labels[Labels==\"100\"] = \"5\"\n",
    "Labels[Labels==\"101\"] = \"6\"\n",
    "Labels[Labels==\"110\"] = \"7\"\n",
    "Labels[Labels==\"111\"] = \"8\"\n"
   ]
  },
  {
   "cell_type": "code",
   "execution_count": 38,
   "id": "69e56f44",
   "metadata": {},
   "outputs": [],
   "source": [
    "TimeIndex = DF.index[20:(len(DF.index)-20)]"
   ]
  },
  {
   "cell_type": "code",
   "execution_count": 39,
   "id": "e4dd6eea",
   "metadata": {},
   "outputs": [],
   "source": [
    "T = [datetime.datetime.strptime(d,'%Y-%m-%d').date() for d in TimeIndex]"
   ]
  },
  {
   "cell_type": "code",
   "execution_count": 40,
   "id": "5c202551",
   "metadata": {},
   "outputs": [
    {
     "data": {
      "text/plain": [
       "[datetime.date(1992, 1, 30),\n",
       " datetime.date(1992, 1, 31),\n",
       " datetime.date(1992, 2, 3),\n",
       " datetime.date(1992, 2, 4),\n",
       " datetime.date(1992, 2, 5),\n",
       " datetime.date(1992, 2, 6),\n",
       " datetime.date(1992, 2, 7),\n",
       " datetime.date(1992, 2, 10),\n",
       " datetime.date(1992, 2, 11),\n",
       " datetime.date(1992, 2, 12),\n",
       " datetime.date(1992, 2, 13),\n",
       " datetime.date(1992, 2, 14),\n",
       " datetime.date(1992, 2, 18),\n",
       " datetime.date(1992, 2, 19),\n",
       " datetime.date(1992, 2, 20),\n",
       " datetime.date(1992, 2, 21),\n",
       " datetime.date(1992, 2, 24),\n",
       " datetime.date(1992, 2, 25),\n",
       " datetime.date(1992, 2, 26),\n",
       " datetime.date(1992, 2, 27),\n",
       " datetime.date(1992, 2, 28),\n",
       " datetime.date(1992, 3, 2),\n",
       " datetime.date(1992, 3, 3),\n",
       " datetime.date(1992, 3, 4),\n",
       " datetime.date(1992, 3, 5),\n",
       " datetime.date(1992, 3, 6),\n",
       " datetime.date(1992, 3, 9),\n",
       " datetime.date(1992, 3, 10),\n",
       " datetime.date(1992, 3, 11),\n",
       " datetime.date(1992, 3, 12),\n",
       " datetime.date(1992, 3, 13),\n",
       " datetime.date(1992, 3, 16),\n",
       " datetime.date(1992, 3, 17),\n",
       " datetime.date(1992, 3, 18),\n",
       " datetime.date(1992, 3, 19),\n",
       " datetime.date(1992, 3, 20),\n",
       " datetime.date(1992, 3, 23),\n",
       " datetime.date(1992, 3, 24),\n",
       " datetime.date(1992, 3, 25),\n",
       " datetime.date(1992, 3, 26),\n",
       " datetime.date(1992, 3, 27),\n",
       " datetime.date(1992, 3, 30),\n",
       " datetime.date(1992, 3, 31),\n",
       " datetime.date(1992, 4, 1),\n",
       " datetime.date(1992, 4, 2),\n",
       " datetime.date(1992, 4, 3),\n",
       " datetime.date(1992, 4, 6),\n",
       " datetime.date(1992, 4, 7),\n",
       " datetime.date(1992, 4, 8),\n",
       " datetime.date(1992, 4, 9),\n",
       " datetime.date(1992, 4, 10),\n",
       " datetime.date(1992, 4, 13),\n",
       " datetime.date(1992, 4, 14),\n",
       " datetime.date(1992, 4, 15),\n",
       " datetime.date(1992, 4, 16),\n",
       " datetime.date(1992, 4, 20),\n",
       " datetime.date(1992, 4, 21),\n",
       " datetime.date(1992, 4, 22),\n",
       " datetime.date(1992, 4, 23),\n",
       " datetime.date(1992, 4, 24),\n",
       " datetime.date(1992, 4, 27),\n",
       " datetime.date(1992, 4, 28),\n",
       " datetime.date(1992, 4, 29),\n",
       " datetime.date(1992, 4, 30),\n",
       " datetime.date(1992, 5, 1),\n",
       " datetime.date(1992, 5, 4),\n",
       " datetime.date(1992, 5, 5),\n",
       " datetime.date(1992, 5, 6),\n",
       " datetime.date(1992, 5, 7),\n",
       " datetime.date(1992, 5, 8),\n",
       " datetime.date(1992, 5, 11),\n",
       " datetime.date(1992, 5, 12),\n",
       " datetime.date(1992, 5, 13),\n",
       " datetime.date(1992, 5, 14),\n",
       " datetime.date(1992, 5, 15),\n",
       " datetime.date(1992, 5, 18),\n",
       " datetime.date(1992, 5, 19),\n",
       " datetime.date(1992, 5, 20),\n",
       " datetime.date(1992, 5, 21),\n",
       " datetime.date(1992, 5, 22),\n",
       " datetime.date(1992, 5, 26),\n",
       " datetime.date(1992, 5, 27),\n",
       " datetime.date(1992, 5, 28),\n",
       " datetime.date(1992, 5, 29),\n",
       " datetime.date(1992, 6, 1),\n",
       " datetime.date(1992, 6, 2),\n",
       " datetime.date(1992, 6, 3),\n",
       " datetime.date(1992, 6, 4),\n",
       " datetime.date(1992, 6, 5),\n",
       " datetime.date(1992, 6, 8),\n",
       " datetime.date(1992, 6, 9),\n",
       " datetime.date(1992, 6, 10),\n",
       " datetime.date(1992, 6, 11),\n",
       " datetime.date(1992, 6, 12),\n",
       " datetime.date(1992, 6, 15),\n",
       " datetime.date(1992, 6, 16),\n",
       " datetime.date(1992, 6, 17),\n",
       " datetime.date(1992, 6, 18),\n",
       " datetime.date(1992, 6, 19),\n",
       " datetime.date(1992, 6, 22),\n",
       " datetime.date(1992, 6, 23),\n",
       " datetime.date(1992, 6, 24),\n",
       " datetime.date(1992, 6, 25),\n",
       " datetime.date(1992, 6, 26),\n",
       " datetime.date(1992, 6, 29),\n",
       " datetime.date(1992, 6, 30),\n",
       " datetime.date(1992, 7, 1),\n",
       " datetime.date(1992, 7, 2),\n",
       " datetime.date(1992, 7, 6),\n",
       " datetime.date(1992, 7, 7),\n",
       " datetime.date(1992, 7, 8),\n",
       " datetime.date(1992, 7, 9),\n",
       " datetime.date(1992, 7, 10),\n",
       " datetime.date(1992, 7, 13),\n",
       " datetime.date(1992, 7, 14),\n",
       " datetime.date(1992, 7, 15),\n",
       " datetime.date(1992, 7, 16),\n",
       " datetime.date(1992, 7, 17),\n",
       " datetime.date(1992, 7, 20),\n",
       " datetime.date(1992, 7, 21),\n",
       " datetime.date(1992, 7, 22),\n",
       " datetime.date(1992, 7, 23),\n",
       " datetime.date(1992, 7, 24),\n",
       " datetime.date(1992, 7, 27),\n",
       " datetime.date(1992, 7, 28),\n",
       " datetime.date(1992, 7, 29),\n",
       " datetime.date(1992, 7, 30),\n",
       " datetime.date(1992, 7, 31),\n",
       " datetime.date(1992, 8, 3),\n",
       " datetime.date(1992, 8, 4),\n",
       " datetime.date(1992, 8, 5),\n",
       " datetime.date(1992, 8, 6),\n",
       " datetime.date(1992, 8, 7),\n",
       " datetime.date(1992, 8, 10),\n",
       " datetime.date(1992, 8, 11),\n",
       " datetime.date(1992, 8, 12),\n",
       " datetime.date(1992, 8, 13),\n",
       " datetime.date(1992, 8, 14),\n",
       " datetime.date(1992, 8, 17),\n",
       " datetime.date(1992, 8, 18),\n",
       " datetime.date(1992, 8, 19),\n",
       " datetime.date(1992, 8, 20),\n",
       " datetime.date(1992, 8, 21),\n",
       " datetime.date(1992, 8, 24),\n",
       " datetime.date(1992, 8, 25),\n",
       " datetime.date(1992, 8, 26),\n",
       " datetime.date(1992, 8, 27),\n",
       " datetime.date(1992, 8, 28),\n",
       " datetime.date(1992, 8, 31),\n",
       " datetime.date(1992, 9, 1),\n",
       " datetime.date(1992, 9, 2),\n",
       " datetime.date(1992, 9, 3),\n",
       " datetime.date(1992, 9, 4),\n",
       " datetime.date(1992, 9, 8),\n",
       " datetime.date(1992, 9, 9),\n",
       " datetime.date(1992, 9, 10),\n",
       " datetime.date(1992, 9, 11),\n",
       " datetime.date(1992, 9, 14),\n",
       " datetime.date(1992, 9, 15),\n",
       " datetime.date(1992, 9, 16),\n",
       " datetime.date(1992, 9, 17),\n",
       " datetime.date(1992, 9, 18),\n",
       " datetime.date(1992, 9, 21),\n",
       " datetime.date(1992, 9, 22),\n",
       " datetime.date(1992, 9, 23),\n",
       " datetime.date(1992, 9, 24),\n",
       " datetime.date(1992, 9, 25),\n",
       " datetime.date(1992, 9, 28),\n",
       " datetime.date(1992, 9, 29),\n",
       " datetime.date(1992, 9, 30),\n",
       " datetime.date(1992, 10, 1),\n",
       " datetime.date(1992, 10, 2),\n",
       " datetime.date(1992, 10, 5),\n",
       " datetime.date(1992, 10, 6),\n",
       " datetime.date(1992, 10, 7),\n",
       " datetime.date(1992, 10, 8),\n",
       " datetime.date(1992, 10, 9),\n",
       " datetime.date(1992, 10, 12),\n",
       " datetime.date(1992, 10, 13),\n",
       " datetime.date(1992, 10, 14),\n",
       " datetime.date(1992, 10, 15),\n",
       " datetime.date(1992, 10, 16),\n",
       " datetime.date(1992, 10, 19),\n",
       " datetime.date(1992, 10, 20),\n",
       " datetime.date(1992, 10, 21),\n",
       " datetime.date(1992, 10, 22),\n",
       " datetime.date(1992, 10, 23),\n",
       " datetime.date(1992, 10, 26),\n",
       " datetime.date(1992, 10, 27),\n",
       " datetime.date(1992, 10, 28),\n",
       " datetime.date(1992, 10, 29),\n",
       " datetime.date(1992, 10, 30),\n",
       " datetime.date(1992, 11, 2),\n",
       " datetime.date(1992, 11, 3),\n",
       " datetime.date(1992, 11, 4),\n",
       " datetime.date(1992, 11, 5),\n",
       " datetime.date(1992, 11, 6),\n",
       " datetime.date(1992, 11, 9),\n",
       " datetime.date(1992, 11, 10),\n",
       " datetime.date(1992, 11, 11),\n",
       " datetime.date(1992, 11, 12),\n",
       " datetime.date(1992, 11, 13),\n",
       " datetime.date(1992, 11, 16),\n",
       " datetime.date(1992, 11, 17),\n",
       " datetime.date(1992, 11, 18),\n",
       " datetime.date(1992, 11, 19),\n",
       " datetime.date(1992, 11, 20),\n",
       " datetime.date(1992, 11, 23),\n",
       " datetime.date(1992, 11, 24),\n",
       " datetime.date(1992, 11, 25),\n",
       " datetime.date(1992, 11, 27),\n",
       " datetime.date(1992, 11, 30),\n",
       " datetime.date(1992, 12, 1),\n",
       " datetime.date(1992, 12, 2),\n",
       " datetime.date(1992, 12, 3),\n",
       " datetime.date(1992, 12, 4),\n",
       " datetime.date(1992, 12, 7),\n",
       " datetime.date(1992, 12, 8),\n",
       " datetime.date(1992, 12, 9),\n",
       " datetime.date(1992, 12, 10),\n",
       " datetime.date(1992, 12, 11),\n",
       " datetime.date(1992, 12, 14),\n",
       " datetime.date(1992, 12, 15),\n",
       " datetime.date(1992, 12, 16),\n",
       " datetime.date(1992, 12, 17),\n",
       " datetime.date(1992, 12, 18),\n",
       " datetime.date(1992, 12, 21),\n",
       " datetime.date(1992, 12, 22),\n",
       " datetime.date(1992, 12, 23),\n",
       " datetime.date(1992, 12, 24),\n",
       " datetime.date(1992, 12, 28),\n",
       " datetime.date(1992, 12, 29),\n",
       " datetime.date(1992, 12, 30),\n",
       " datetime.date(1992, 12, 31),\n",
       " datetime.date(1993, 1, 4),\n",
       " datetime.date(1993, 1, 5),\n",
       " datetime.date(1993, 1, 6),\n",
       " datetime.date(1993, 1, 7),\n",
       " datetime.date(1993, 1, 8),\n",
       " datetime.date(1993, 1, 11),\n",
       " datetime.date(1993, 1, 12),\n",
       " datetime.date(1993, 1, 13),\n",
       " datetime.date(1993, 1, 14),\n",
       " datetime.date(1993, 1, 15),\n",
       " datetime.date(1993, 1, 18),\n",
       " datetime.date(1993, 1, 19),\n",
       " datetime.date(1993, 1, 20),\n",
       " datetime.date(1993, 1, 21),\n",
       " datetime.date(1993, 1, 22),\n",
       " datetime.date(1993, 1, 25),\n",
       " datetime.date(1993, 1, 26),\n",
       " datetime.date(1993, 1, 27),\n",
       " datetime.date(1993, 1, 28),\n",
       " datetime.date(1993, 1, 29),\n",
       " datetime.date(1993, 2, 1),\n",
       " datetime.date(1993, 2, 2),\n",
       " datetime.date(1993, 2, 3),\n",
       " datetime.date(1993, 2, 4),\n",
       " datetime.date(1993, 2, 5),\n",
       " datetime.date(1993, 2, 8),\n",
       " datetime.date(1993, 2, 9),\n",
       " datetime.date(1993, 2, 10),\n",
       " datetime.date(1993, 2, 11),\n",
       " datetime.date(1993, 2, 12),\n",
       " datetime.date(1993, 2, 16),\n",
       " datetime.date(1993, 2, 17),\n",
       " datetime.date(1993, 2, 18),\n",
       " datetime.date(1993, 2, 19),\n",
       " datetime.date(1993, 2, 22),\n",
       " datetime.date(1993, 2, 23),\n",
       " datetime.date(1993, 2, 24),\n",
       " datetime.date(1993, 2, 25),\n",
       " datetime.date(1993, 2, 26),\n",
       " datetime.date(1993, 3, 1),\n",
       " datetime.date(1993, 3, 2),\n",
       " datetime.date(1993, 3, 3),\n",
       " datetime.date(1993, 3, 4),\n",
       " datetime.date(1993, 3, 5),\n",
       " datetime.date(1993, 3, 8),\n",
       " datetime.date(1993, 3, 9),\n",
       " datetime.date(1993, 3, 10),\n",
       " datetime.date(1993, 3, 11),\n",
       " datetime.date(1993, 3, 12),\n",
       " datetime.date(1993, 3, 15),\n",
       " datetime.date(1993, 3, 16),\n",
       " datetime.date(1993, 3, 17),\n",
       " datetime.date(1993, 3, 18),\n",
       " datetime.date(1993, 3, 19),\n",
       " datetime.date(1993, 3, 22),\n",
       " datetime.date(1993, 3, 23),\n",
       " datetime.date(1993, 3, 24),\n",
       " datetime.date(1993, 3, 25),\n",
       " datetime.date(1993, 3, 26),\n",
       " datetime.date(1993, 3, 29),\n",
       " datetime.date(1993, 3, 30),\n",
       " datetime.date(1993, 3, 31),\n",
       " datetime.date(1993, 4, 1),\n",
       " datetime.date(1993, 4, 2),\n",
       " datetime.date(1993, 4, 5),\n",
       " datetime.date(1993, 4, 6),\n",
       " datetime.date(1993, 4, 7),\n",
       " datetime.date(1993, 4, 8),\n",
       " datetime.date(1993, 4, 12),\n",
       " datetime.date(1993, 4, 13),\n",
       " datetime.date(1993, 4, 14),\n",
       " datetime.date(1993, 4, 15),\n",
       " datetime.date(1993, 4, 16),\n",
       " datetime.date(1993, 4, 19),\n",
       " datetime.date(1993, 4, 20),\n",
       " datetime.date(1993, 4, 21),\n",
       " datetime.date(1993, 4, 22),\n",
       " datetime.date(1993, 4, 23),\n",
       " datetime.date(1993, 4, 26),\n",
       " datetime.date(1993, 4, 27),\n",
       " datetime.date(1993, 4, 28),\n",
       " datetime.date(1993, 4, 29),\n",
       " datetime.date(1993, 4, 30),\n",
       " datetime.date(1993, 5, 3),\n",
       " datetime.date(1993, 5, 4),\n",
       " datetime.date(1993, 5, 5),\n",
       " datetime.date(1993, 5, 6),\n",
       " datetime.date(1993, 5, 7),\n",
       " datetime.date(1993, 5, 10),\n",
       " datetime.date(1993, 5, 11),\n",
       " datetime.date(1993, 5, 12),\n",
       " datetime.date(1993, 5, 13),\n",
       " datetime.date(1993, 5, 14),\n",
       " datetime.date(1993, 5, 17),\n",
       " datetime.date(1993, 5, 18),\n",
       " datetime.date(1993, 5, 19),\n",
       " datetime.date(1993, 5, 20),\n",
       " datetime.date(1993, 5, 21),\n",
       " datetime.date(1993, 5, 24),\n",
       " datetime.date(1993, 5, 25),\n",
       " datetime.date(1993, 5, 26),\n",
       " datetime.date(1993, 5, 27),\n",
       " datetime.date(1993, 5, 28),\n",
       " datetime.date(1993, 6, 1),\n",
       " datetime.date(1993, 6, 2),\n",
       " datetime.date(1993, 6, 3),\n",
       " datetime.date(1993, 6, 4),\n",
       " datetime.date(1993, 6, 7),\n",
       " datetime.date(1993, 6, 8),\n",
       " datetime.date(1993, 6, 9),\n",
       " datetime.date(1993, 6, 10),\n",
       " datetime.date(1993, 6, 11),\n",
       " datetime.date(1993, 6, 14),\n",
       " datetime.date(1993, 6, 15),\n",
       " datetime.date(1993, 6, 16),\n",
       " datetime.date(1993, 6, 17),\n",
       " datetime.date(1993, 6, 18),\n",
       " datetime.date(1993, 6, 21),\n",
       " datetime.date(1993, 6, 22),\n",
       " datetime.date(1993, 6, 23),\n",
       " datetime.date(1993, 6, 24),\n",
       " datetime.date(1993, 6, 25),\n",
       " datetime.date(1993, 6, 28),\n",
       " datetime.date(1993, 6, 29),\n",
       " datetime.date(1993, 6, 30),\n",
       " datetime.date(1993, 7, 1),\n",
       " datetime.date(1993, 7, 2),\n",
       " datetime.date(1993, 7, 6),\n",
       " datetime.date(1993, 7, 7),\n",
       " datetime.date(1993, 7, 8),\n",
       " datetime.date(1993, 7, 9),\n",
       " datetime.date(1993, 7, 12),\n",
       " datetime.date(1993, 7, 13),\n",
       " datetime.date(1993, 7, 14),\n",
       " datetime.date(1993, 7, 15),\n",
       " datetime.date(1993, 7, 16),\n",
       " datetime.date(1993, 7, 19),\n",
       " datetime.date(1993, 7, 20),\n",
       " datetime.date(1993, 7, 21),\n",
       " datetime.date(1993, 7, 22),\n",
       " datetime.date(1993, 7, 23),\n",
       " datetime.date(1993, 7, 26),\n",
       " datetime.date(1993, 7, 27),\n",
       " datetime.date(1993, 7, 28),\n",
       " datetime.date(1993, 7, 29),\n",
       " datetime.date(1993, 7, 30),\n",
       " datetime.date(1993, 8, 2),\n",
       " datetime.date(1993, 8, 3),\n",
       " datetime.date(1993, 8, 4),\n",
       " datetime.date(1993, 8, 5),\n",
       " datetime.date(1993, 8, 6),\n",
       " datetime.date(1993, 8, 9),\n",
       " datetime.date(1993, 8, 10),\n",
       " datetime.date(1993, 8, 11),\n",
       " datetime.date(1993, 8, 12),\n",
       " datetime.date(1993, 8, 13),\n",
       " datetime.date(1993, 8, 16),\n",
       " datetime.date(1993, 8, 17),\n",
       " datetime.date(1993, 8, 18),\n",
       " datetime.date(1993, 8, 19),\n",
       " datetime.date(1993, 8, 20),\n",
       " datetime.date(1993, 8, 23),\n",
       " datetime.date(1993, 8, 24),\n",
       " datetime.date(1993, 8, 25),\n",
       " datetime.date(1993, 8, 26),\n",
       " datetime.date(1993, 8, 27),\n",
       " datetime.date(1993, 8, 30),\n",
       " datetime.date(1993, 8, 31),\n",
       " datetime.date(1993, 9, 1),\n",
       " datetime.date(1993, 9, 2),\n",
       " datetime.date(1993, 9, 3),\n",
       " datetime.date(1993, 9, 7),\n",
       " datetime.date(1993, 9, 8),\n",
       " datetime.date(1993, 9, 9),\n",
       " datetime.date(1993, 9, 10),\n",
       " datetime.date(1993, 9, 13),\n",
       " datetime.date(1993, 9, 14),\n",
       " datetime.date(1993, 9, 15),\n",
       " datetime.date(1993, 9, 16),\n",
       " datetime.date(1993, 9, 17),\n",
       " datetime.date(1993, 9, 20),\n",
       " datetime.date(1993, 9, 21),\n",
       " datetime.date(1993, 9, 22),\n",
       " datetime.date(1993, 9, 23),\n",
       " datetime.date(1993, 9, 24),\n",
       " datetime.date(1993, 9, 27),\n",
       " datetime.date(1993, 9, 28),\n",
       " datetime.date(1993, 9, 29),\n",
       " datetime.date(1993, 9, 30),\n",
       " datetime.date(1993, 10, 1),\n",
       " datetime.date(1993, 10, 4),\n",
       " datetime.date(1993, 10, 5),\n",
       " datetime.date(1993, 10, 6),\n",
       " datetime.date(1993, 10, 7),\n",
       " datetime.date(1993, 10, 8),\n",
       " datetime.date(1993, 10, 11),\n",
       " datetime.date(1993, 10, 12),\n",
       " datetime.date(1993, 10, 13),\n",
       " datetime.date(1993, 10, 14),\n",
       " datetime.date(1993, 10, 15),\n",
       " datetime.date(1993, 10, 18),\n",
       " datetime.date(1993, 10, 19),\n",
       " datetime.date(1993, 10, 20),\n",
       " datetime.date(1993, 10, 21),\n",
       " datetime.date(1993, 10, 22),\n",
       " datetime.date(1993, 10, 25),\n",
       " datetime.date(1993, 10, 26),\n",
       " datetime.date(1993, 10, 27),\n",
       " datetime.date(1993, 10, 28),\n",
       " datetime.date(1993, 10, 29),\n",
       " datetime.date(1993, 11, 1),\n",
       " datetime.date(1993, 11, 2),\n",
       " datetime.date(1993, 11, 3),\n",
       " datetime.date(1993, 11, 4),\n",
       " datetime.date(1993, 11, 5),\n",
       " datetime.date(1993, 11, 8),\n",
       " datetime.date(1993, 11, 9),\n",
       " datetime.date(1993, 11, 10),\n",
       " datetime.date(1993, 11, 11),\n",
       " datetime.date(1993, 11, 12),\n",
       " datetime.date(1993, 11, 15),\n",
       " datetime.date(1993, 11, 16),\n",
       " datetime.date(1993, 11, 17),\n",
       " datetime.date(1993, 11, 18),\n",
       " datetime.date(1993, 11, 19),\n",
       " datetime.date(1993, 11, 22),\n",
       " datetime.date(1993, 11, 23),\n",
       " datetime.date(1993, 11, 24),\n",
       " datetime.date(1993, 11, 26),\n",
       " datetime.date(1993, 11, 29),\n",
       " datetime.date(1993, 11, 30),\n",
       " datetime.date(1993, 12, 1),\n",
       " datetime.date(1993, 12, 2),\n",
       " datetime.date(1993, 12, 3),\n",
       " datetime.date(1993, 12, 6),\n",
       " datetime.date(1993, 12, 7),\n",
       " datetime.date(1993, 12, 8),\n",
       " datetime.date(1993, 12, 9),\n",
       " datetime.date(1993, 12, 10),\n",
       " datetime.date(1993, 12, 13),\n",
       " datetime.date(1993, 12, 14),\n",
       " datetime.date(1993, 12, 15),\n",
       " datetime.date(1993, 12, 16),\n",
       " datetime.date(1993, 12, 17),\n",
       " datetime.date(1993, 12, 20),\n",
       " datetime.date(1993, 12, 21),\n",
       " datetime.date(1993, 12, 22),\n",
       " datetime.date(1993, 12, 23),\n",
       " datetime.date(1993, 12, 27),\n",
       " datetime.date(1993, 12, 28),\n",
       " datetime.date(1993, 12, 29),\n",
       " datetime.date(1993, 12, 30),\n",
       " datetime.date(1993, 12, 31),\n",
       " datetime.date(1994, 1, 3),\n",
       " datetime.date(1994, 1, 4),\n",
       " datetime.date(1994, 1, 5),\n",
       " datetime.date(1994, 1, 6),\n",
       " datetime.date(1994, 1, 7),\n",
       " datetime.date(1994, 1, 10),\n",
       " datetime.date(1994, 1, 11),\n",
       " datetime.date(1994, 1, 12),\n",
       " datetime.date(1994, 1, 13),\n",
       " datetime.date(1994, 1, 14),\n",
       " datetime.date(1994, 1, 17),\n",
       " datetime.date(1994, 1, 18),\n",
       " datetime.date(1994, 1, 19),\n",
       " datetime.date(1994, 1, 20),\n",
       " datetime.date(1994, 1, 21),\n",
       " datetime.date(1994, 1, 24),\n",
       " datetime.date(1994, 1, 25),\n",
       " datetime.date(1994, 1, 26),\n",
       " datetime.date(1994, 1, 27),\n",
       " datetime.date(1994, 1, 28),\n",
       " datetime.date(1994, 1, 31),\n",
       " datetime.date(1994, 2, 1),\n",
       " datetime.date(1994, 2, 2),\n",
       " datetime.date(1994, 2, 3),\n",
       " datetime.date(1994, 2, 4),\n",
       " datetime.date(1994, 2, 7),\n",
       " datetime.date(1994, 2, 8),\n",
       " datetime.date(1994, 2, 9),\n",
       " datetime.date(1994, 2, 10),\n",
       " datetime.date(1994, 2, 11),\n",
       " datetime.date(1994, 2, 14),\n",
       " datetime.date(1994, 2, 15),\n",
       " datetime.date(1994, 2, 16),\n",
       " datetime.date(1994, 2, 17),\n",
       " datetime.date(1994, 2, 18),\n",
       " datetime.date(1994, 2, 22),\n",
       " datetime.date(1994, 2, 23),\n",
       " datetime.date(1994, 2, 24),\n",
       " datetime.date(1994, 2, 25),\n",
       " datetime.date(1994, 2, 28),\n",
       " datetime.date(1994, 3, 1),\n",
       " datetime.date(1994, 3, 2),\n",
       " datetime.date(1994, 3, 3),\n",
       " datetime.date(1994, 3, 4),\n",
       " datetime.date(1994, 3, 7),\n",
       " datetime.date(1994, 3, 8),\n",
       " datetime.date(1994, 3, 9),\n",
       " datetime.date(1994, 3, 10),\n",
       " datetime.date(1994, 3, 11),\n",
       " datetime.date(1994, 3, 14),\n",
       " datetime.date(1994, 3, 15),\n",
       " datetime.date(1994, 3, 16),\n",
       " datetime.date(1994, 3, 17),\n",
       " datetime.date(1994, 3, 18),\n",
       " datetime.date(1994, 3, 21),\n",
       " datetime.date(1994, 3, 22),\n",
       " datetime.date(1994, 3, 23),\n",
       " datetime.date(1994, 3, 24),\n",
       " datetime.date(1994, 3, 25),\n",
       " datetime.date(1994, 3, 28),\n",
       " datetime.date(1994, 3, 29),\n",
       " datetime.date(1994, 3, 30),\n",
       " datetime.date(1994, 3, 31),\n",
       " datetime.date(1994, 4, 4),\n",
       " datetime.date(1994, 4, 5),\n",
       " datetime.date(1994, 4, 6),\n",
       " datetime.date(1994, 4, 7),\n",
       " datetime.date(1994, 4, 8),\n",
       " datetime.date(1994, 4, 11),\n",
       " datetime.date(1994, 4, 12),\n",
       " datetime.date(1994, 4, 13),\n",
       " datetime.date(1994, 4, 14),\n",
       " datetime.date(1994, 4, 15),\n",
       " datetime.date(1994, 4, 18),\n",
       " datetime.date(1994, 4, 19),\n",
       " datetime.date(1994, 4, 20),\n",
       " datetime.date(1994, 4, 21),\n",
       " datetime.date(1994, 4, 22),\n",
       " datetime.date(1994, 4, 25),\n",
       " datetime.date(1994, 4, 26),\n",
       " datetime.date(1994, 4, 28),\n",
       " datetime.date(1994, 4, 29),\n",
       " datetime.date(1994, 5, 2),\n",
       " datetime.date(1994, 5, 3),\n",
       " datetime.date(1994, 5, 4),\n",
       " datetime.date(1994, 5, 5),\n",
       " datetime.date(1994, 5, 6),\n",
       " datetime.date(1994, 5, 9),\n",
       " datetime.date(1994, 5, 10),\n",
       " datetime.date(1994, 5, 11),\n",
       " datetime.date(1994, 5, 12),\n",
       " datetime.date(1994, 5, 13),\n",
       " datetime.date(1994, 5, 16),\n",
       " datetime.date(1994, 5, 17),\n",
       " datetime.date(1994, 5, 18),\n",
       " datetime.date(1994, 5, 19),\n",
       " datetime.date(1994, 5, 20),\n",
       " datetime.date(1994, 5, 23),\n",
       " datetime.date(1994, 5, 24),\n",
       " datetime.date(1994, 5, 25),\n",
       " datetime.date(1994, 5, 26),\n",
       " datetime.date(1994, 5, 27),\n",
       " datetime.date(1994, 5, 31),\n",
       " datetime.date(1994, 6, 1),\n",
       " datetime.date(1994, 6, 2),\n",
       " datetime.date(1994, 6, 3),\n",
       " datetime.date(1994, 6, 6),\n",
       " datetime.date(1994, 6, 7),\n",
       " datetime.date(1994, 6, 8),\n",
       " datetime.date(1994, 6, 9),\n",
       " datetime.date(1994, 6, 10),\n",
       " datetime.date(1994, 6, 13),\n",
       " datetime.date(1994, 6, 14),\n",
       " datetime.date(1994, 6, 15),\n",
       " datetime.date(1994, 6, 16),\n",
       " datetime.date(1994, 6, 17),\n",
       " datetime.date(1994, 6, 20),\n",
       " datetime.date(1994, 6, 21),\n",
       " datetime.date(1994, 6, 22),\n",
       " datetime.date(1994, 6, 23),\n",
       " datetime.date(1994, 6, 24),\n",
       " datetime.date(1994, 6, 27),\n",
       " datetime.date(1994, 6, 28),\n",
       " datetime.date(1994, 6, 29),\n",
       " datetime.date(1994, 6, 30),\n",
       " datetime.date(1994, 7, 1),\n",
       " datetime.date(1994, 7, 5),\n",
       " datetime.date(1994, 7, 6),\n",
       " datetime.date(1994, 7, 7),\n",
       " datetime.date(1994, 7, 8),\n",
       " datetime.date(1994, 7, 11),\n",
       " datetime.date(1994, 7, 12),\n",
       " datetime.date(1994, 7, 13),\n",
       " datetime.date(1994, 7, 14),\n",
       " datetime.date(1994, 7, 15),\n",
       " datetime.date(1994, 7, 18),\n",
       " datetime.date(1994, 7, 19),\n",
       " datetime.date(1994, 7, 20),\n",
       " datetime.date(1994, 7, 21),\n",
       " datetime.date(1994, 7, 22),\n",
       " datetime.date(1994, 7, 25),\n",
       " datetime.date(1994, 7, 26),\n",
       " datetime.date(1994, 7, 27),\n",
       " datetime.date(1994, 7, 28),\n",
       " datetime.date(1994, 7, 29),\n",
       " datetime.date(1994, 8, 1),\n",
       " datetime.date(1994, 8, 2),\n",
       " datetime.date(1994, 8, 3),\n",
       " datetime.date(1994, 8, 4),\n",
       " datetime.date(1994, 8, 5),\n",
       " datetime.date(1994, 8, 8),\n",
       " datetime.date(1994, 8, 9),\n",
       " datetime.date(1994, 8, 10),\n",
       " datetime.date(1994, 8, 11),\n",
       " datetime.date(1994, 8, 12),\n",
       " datetime.date(1994, 8, 15),\n",
       " datetime.date(1994, 8, 16),\n",
       " datetime.date(1994, 8, 17),\n",
       " datetime.date(1994, 8, 18),\n",
       " datetime.date(1994, 8, 19),\n",
       " datetime.date(1994, 8, 22),\n",
       " datetime.date(1994, 8, 23),\n",
       " datetime.date(1994, 8, 24),\n",
       " datetime.date(1994, 8, 25),\n",
       " datetime.date(1994, 8, 26),\n",
       " datetime.date(1994, 8, 29),\n",
       " datetime.date(1994, 8, 30),\n",
       " datetime.date(1994, 8, 31),\n",
       " datetime.date(1994, 9, 1),\n",
       " datetime.date(1994, 9, 2),\n",
       " datetime.date(1994, 9, 6),\n",
       " datetime.date(1994, 9, 7),\n",
       " datetime.date(1994, 9, 8),\n",
       " datetime.date(1994, 9, 9),\n",
       " datetime.date(1994, 9, 12),\n",
       " datetime.date(1994, 9, 13),\n",
       " datetime.date(1994, 9, 14),\n",
       " datetime.date(1994, 9, 15),\n",
       " datetime.date(1994, 9, 16),\n",
       " datetime.date(1994, 9, 19),\n",
       " datetime.date(1994, 9, 20),\n",
       " datetime.date(1994, 9, 21),\n",
       " datetime.date(1994, 9, 22),\n",
       " datetime.date(1994, 9, 23),\n",
       " datetime.date(1994, 9, 26),\n",
       " datetime.date(1994, 9, 27),\n",
       " datetime.date(1994, 9, 28),\n",
       " datetime.date(1994, 9, 29),\n",
       " datetime.date(1994, 9, 30),\n",
       " datetime.date(1994, 10, 3),\n",
       " datetime.date(1994, 10, 4),\n",
       " datetime.date(1994, 10, 5),\n",
       " datetime.date(1994, 10, 6),\n",
       " datetime.date(1994, 10, 7),\n",
       " datetime.date(1994, 10, 10),\n",
       " datetime.date(1994, 10, 11),\n",
       " datetime.date(1994, 10, 12),\n",
       " datetime.date(1994, 10, 13),\n",
       " datetime.date(1994, 10, 14),\n",
       " datetime.date(1994, 10, 17),\n",
       " datetime.date(1994, 10, 18),\n",
       " datetime.date(1994, 10, 19),\n",
       " datetime.date(1994, 10, 20),\n",
       " datetime.date(1994, 10, 21),\n",
       " datetime.date(1994, 10, 24),\n",
       " datetime.date(1994, 10, 25),\n",
       " datetime.date(1994, 10, 26),\n",
       " datetime.date(1994, 10, 27),\n",
       " datetime.date(1994, 10, 28),\n",
       " datetime.date(1994, 10, 31),\n",
       " datetime.date(1994, 11, 1),\n",
       " datetime.date(1994, 11, 2),\n",
       " datetime.date(1994, 11, 3),\n",
       " datetime.date(1994, 11, 4),\n",
       " datetime.date(1994, 11, 7),\n",
       " datetime.date(1994, 11, 8),\n",
       " datetime.date(1994, 11, 9),\n",
       " datetime.date(1994, 11, 10),\n",
       " datetime.date(1994, 11, 11),\n",
       " datetime.date(1994, 11, 14),\n",
       " datetime.date(1994, 11, 15),\n",
       " datetime.date(1994, 11, 16),\n",
       " datetime.date(1994, 11, 17),\n",
       " datetime.date(1994, 11, 18),\n",
       " datetime.date(1994, 11, 21),\n",
       " datetime.date(1994, 11, 22),\n",
       " datetime.date(1994, 11, 23),\n",
       " datetime.date(1994, 11, 25),\n",
       " datetime.date(1994, 11, 28),\n",
       " datetime.date(1994, 11, 29),\n",
       " datetime.date(1994, 11, 30),\n",
       " datetime.date(1994, 12, 1),\n",
       " datetime.date(1994, 12, 2),\n",
       " datetime.date(1994, 12, 5),\n",
       " datetime.date(1994, 12, 6),\n",
       " datetime.date(1994, 12, 7),\n",
       " datetime.date(1994, 12, 8),\n",
       " datetime.date(1994, 12, 9),\n",
       " datetime.date(1994, 12, 12),\n",
       " datetime.date(1994, 12, 13),\n",
       " datetime.date(1994, 12, 14),\n",
       " datetime.date(1994, 12, 15),\n",
       " datetime.date(1994, 12, 16),\n",
       " datetime.date(1994, 12, 19),\n",
       " datetime.date(1994, 12, 20),\n",
       " datetime.date(1994, 12, 21),\n",
       " datetime.date(1994, 12, 22),\n",
       " datetime.date(1994, 12, 23),\n",
       " datetime.date(1994, 12, 27),\n",
       " datetime.date(1994, 12, 28),\n",
       " datetime.date(1994, 12, 29),\n",
       " datetime.date(1994, 12, 30),\n",
       " datetime.date(1995, 1, 3),\n",
       " datetime.date(1995, 1, 4),\n",
       " datetime.date(1995, 1, 5),\n",
       " datetime.date(1995, 1, 6),\n",
       " datetime.date(1995, 1, 9),\n",
       " datetime.date(1995, 1, 10),\n",
       " datetime.date(1995, 1, 11),\n",
       " datetime.date(1995, 1, 12),\n",
       " datetime.date(1995, 1, 13),\n",
       " datetime.date(1995, 1, 16),\n",
       " datetime.date(1995, 1, 17),\n",
       " datetime.date(1995, 1, 18),\n",
       " datetime.date(1995, 1, 19),\n",
       " datetime.date(1995, 1, 20),\n",
       " datetime.date(1995, 1, 23),\n",
       " datetime.date(1995, 1, 24),\n",
       " datetime.date(1995, 1, 25),\n",
       " datetime.date(1995, 1, 26),\n",
       " datetime.date(1995, 1, 27),\n",
       " datetime.date(1995, 1, 30),\n",
       " datetime.date(1995, 1, 31),\n",
       " datetime.date(1995, 2, 1),\n",
       " datetime.date(1995, 2, 2),\n",
       " datetime.date(1995, 2, 3),\n",
       " datetime.date(1995, 2, 6),\n",
       " datetime.date(1995, 2, 7),\n",
       " datetime.date(1995, 2, 8),\n",
       " datetime.date(1995, 2, 9),\n",
       " datetime.date(1995, 2, 10),\n",
       " datetime.date(1995, 2, 13),\n",
       " datetime.date(1995, 2, 14),\n",
       " datetime.date(1995, 2, 15),\n",
       " datetime.date(1995, 2, 16),\n",
       " datetime.date(1995, 2, 17),\n",
       " datetime.date(1995, 2, 21),\n",
       " datetime.date(1995, 2, 22),\n",
       " datetime.date(1995, 2, 23),\n",
       " datetime.date(1995, 2, 24),\n",
       " datetime.date(1995, 2, 27),\n",
       " datetime.date(1995, 2, 28),\n",
       " datetime.date(1995, 3, 1),\n",
       " datetime.date(1995, 3, 2),\n",
       " datetime.date(1995, 3, 3),\n",
       " datetime.date(1995, 3, 6),\n",
       " datetime.date(1995, 3, 7),\n",
       " datetime.date(1995, 3, 8),\n",
       " datetime.date(1995, 3, 9),\n",
       " datetime.date(1995, 3, 10),\n",
       " datetime.date(1995, 3, 13),\n",
       " datetime.date(1995, 3, 14),\n",
       " datetime.date(1995, 3, 15),\n",
       " datetime.date(1995, 3, 16),\n",
       " datetime.date(1995, 3, 17),\n",
       " datetime.date(1995, 3, 20),\n",
       " datetime.date(1995, 3, 21),\n",
       " datetime.date(1995, 3, 22),\n",
       " datetime.date(1995, 3, 23),\n",
       " datetime.date(1995, 3, 24),\n",
       " datetime.date(1995, 3, 27),\n",
       " datetime.date(1995, 3, 28),\n",
       " datetime.date(1995, 3, 29),\n",
       " datetime.date(1995, 3, 30),\n",
       " datetime.date(1995, 3, 31),\n",
       " datetime.date(1995, 4, 3),\n",
       " datetime.date(1995, 4, 4),\n",
       " datetime.date(1995, 4, 5),\n",
       " datetime.date(1995, 4, 6),\n",
       " datetime.date(1995, 4, 7),\n",
       " datetime.date(1995, 4, 10),\n",
       " datetime.date(1995, 4, 11),\n",
       " datetime.date(1995, 4, 12),\n",
       " datetime.date(1995, 4, 13),\n",
       " datetime.date(1995, 4, 17),\n",
       " datetime.date(1995, 4, 18),\n",
       " datetime.date(1995, 4, 19),\n",
       " datetime.date(1995, 4, 20),\n",
       " datetime.date(1995, 4, 21),\n",
       " datetime.date(1995, 4, 24),\n",
       " datetime.date(1995, 4, 25),\n",
       " datetime.date(1995, 4, 26),\n",
       " datetime.date(1995, 4, 27),\n",
       " datetime.date(1995, 4, 28),\n",
       " datetime.date(1995, 5, 1),\n",
       " datetime.date(1995, 5, 2),\n",
       " datetime.date(1995, 5, 3),\n",
       " datetime.date(1995, 5, 4),\n",
       " datetime.date(1995, 5, 5),\n",
       " datetime.date(1995, 5, 8),\n",
       " datetime.date(1995, 5, 9),\n",
       " datetime.date(1995, 5, 10),\n",
       " datetime.date(1995, 5, 11),\n",
       " datetime.date(1995, 5, 12),\n",
       " datetime.date(1995, 5, 15),\n",
       " datetime.date(1995, 5, 16),\n",
       " datetime.date(1995, 5, 17),\n",
       " datetime.date(1995, 5, 18),\n",
       " datetime.date(1995, 5, 19),\n",
       " datetime.date(1995, 5, 22),\n",
       " datetime.date(1995, 5, 23),\n",
       " datetime.date(1995, 5, 24),\n",
       " datetime.date(1995, 5, 25),\n",
       " datetime.date(1995, 5, 26),\n",
       " datetime.date(1995, 5, 30),\n",
       " datetime.date(1995, 5, 31),\n",
       " datetime.date(1995, 6, 1),\n",
       " datetime.date(1995, 6, 2),\n",
       " datetime.date(1995, 6, 5),\n",
       " datetime.date(1995, 6, 6),\n",
       " datetime.date(1995, 6, 7),\n",
       " datetime.date(1995, 6, 8),\n",
       " datetime.date(1995, 6, 9),\n",
       " datetime.date(1995, 6, 12),\n",
       " datetime.date(1995, 6, 13),\n",
       " datetime.date(1995, 6, 14),\n",
       " datetime.date(1995, 6, 15),\n",
       " datetime.date(1995, 6, 16),\n",
       " datetime.date(1995, 6, 19),\n",
       " datetime.date(1995, 6, 20),\n",
       " datetime.date(1995, 6, 21),\n",
       " datetime.date(1995, 6, 22),\n",
       " datetime.date(1995, 6, 23),\n",
       " datetime.date(1995, 6, 26),\n",
       " datetime.date(1995, 6, 27),\n",
       " datetime.date(1995, 6, 28),\n",
       " datetime.date(1995, 6, 29),\n",
       " datetime.date(1995, 6, 30),\n",
       " datetime.date(1995, 7, 3),\n",
       " datetime.date(1995, 7, 5),\n",
       " datetime.date(1995, 7, 6),\n",
       " datetime.date(1995, 7, 7),\n",
       " datetime.date(1995, 7, 10),\n",
       " datetime.date(1995, 7, 11),\n",
       " datetime.date(1995, 7, 12),\n",
       " datetime.date(1995, 7, 13),\n",
       " datetime.date(1995, 7, 14),\n",
       " datetime.date(1995, 7, 17),\n",
       " datetime.date(1995, 7, 18),\n",
       " datetime.date(1995, 7, 19),\n",
       " datetime.date(1995, 7, 20),\n",
       " datetime.date(1995, 7, 21),\n",
       " datetime.date(1995, 7, 24),\n",
       " datetime.date(1995, 7, 25),\n",
       " datetime.date(1995, 7, 26),\n",
       " datetime.date(1995, 7, 27),\n",
       " datetime.date(1995, 7, 28),\n",
       " datetime.date(1995, 7, 31),\n",
       " datetime.date(1995, 8, 1),\n",
       " datetime.date(1995, 8, 2),\n",
       " datetime.date(1995, 8, 3),\n",
       " datetime.date(1995, 8, 4),\n",
       " datetime.date(1995, 8, 7),\n",
       " datetime.date(1995, 8, 8),\n",
       " datetime.date(1995, 8, 9),\n",
       " datetime.date(1995, 8, 10),\n",
       " datetime.date(1995, 8, 11),\n",
       " datetime.date(1995, 8, 14),\n",
       " datetime.date(1995, 8, 15),\n",
       " datetime.date(1995, 8, 16),\n",
       " datetime.date(1995, 8, 17),\n",
       " datetime.date(1995, 8, 18),\n",
       " datetime.date(1995, 8, 21),\n",
       " datetime.date(1995, 8, 22),\n",
       " datetime.date(1995, 8, 23),\n",
       " datetime.date(1995, 8, 24),\n",
       " datetime.date(1995, 8, 25),\n",
       " datetime.date(1995, 8, 28),\n",
       " datetime.date(1995, 8, 29),\n",
       " datetime.date(1995, 8, 30),\n",
       " datetime.date(1995, 8, 31),\n",
       " datetime.date(1995, 9, 1),\n",
       " datetime.date(1995, 9, 5),\n",
       " datetime.date(1995, 9, 6),\n",
       " datetime.date(1995, 9, 7),\n",
       " datetime.date(1995, 9, 8),\n",
       " datetime.date(1995, 9, 11),\n",
       " datetime.date(1995, 9, 12),\n",
       " datetime.date(1995, 9, 13),\n",
       " datetime.date(1995, 9, 14),\n",
       " datetime.date(1995, 9, 15),\n",
       " datetime.date(1995, 9, 18),\n",
       " datetime.date(1995, 9, 19),\n",
       " datetime.date(1995, 9, 20),\n",
       " datetime.date(1995, 9, 21),\n",
       " datetime.date(1995, 9, 22),\n",
       " datetime.date(1995, 9, 25),\n",
       " datetime.date(1995, 9, 26),\n",
       " datetime.date(1995, 9, 27),\n",
       " datetime.date(1995, 9, 28),\n",
       " datetime.date(1995, 9, 29),\n",
       " datetime.date(1995, 10, 2),\n",
       " datetime.date(1995, 10, 3),\n",
       " datetime.date(1995, 10, 4),\n",
       " datetime.date(1995, 10, 5),\n",
       " datetime.date(1995, 10, 6),\n",
       " datetime.date(1995, 10, 9),\n",
       " datetime.date(1995, 10, 10),\n",
       " datetime.date(1995, 10, 11),\n",
       " datetime.date(1995, 10, 12),\n",
       " datetime.date(1995, 10, 13),\n",
       " datetime.date(1995, 10, 16),\n",
       " datetime.date(1995, 10, 17),\n",
       " datetime.date(1995, 10, 18),\n",
       " datetime.date(1995, 10, 19),\n",
       " datetime.date(1995, 10, 20),\n",
       " datetime.date(1995, 10, 23),\n",
       " datetime.date(1995, 10, 24),\n",
       " datetime.date(1995, 10, 25),\n",
       " datetime.date(1995, 10, 26),\n",
       " datetime.date(1995, 10, 27),\n",
       " datetime.date(1995, 10, 30),\n",
       " datetime.date(1995, 10, 31),\n",
       " datetime.date(1995, 11, 1),\n",
       " datetime.date(1995, 11, 2),\n",
       " datetime.date(1995, 11, 3),\n",
       " datetime.date(1995, 11, 6),\n",
       " datetime.date(1995, 11, 7),\n",
       " datetime.date(1995, 11, 8),\n",
       " datetime.date(1995, 11, 9),\n",
       " datetime.date(1995, 11, 10),\n",
       " datetime.date(1995, 11, 13),\n",
       " datetime.date(1995, 11, 14),\n",
       " datetime.date(1995, 11, 15),\n",
       " datetime.date(1995, 11, 16),\n",
       " datetime.date(1995, 11, 17),\n",
       " datetime.date(1995, 11, 20),\n",
       " datetime.date(1995, 11, 21),\n",
       " datetime.date(1995, 11, 22),\n",
       " datetime.date(1995, 11, 24),\n",
       " datetime.date(1995, 11, 27),\n",
       " datetime.date(1995, 11, 28),\n",
       " datetime.date(1995, 11, 29),\n",
       " datetime.date(1995, 11, 30),\n",
       " datetime.date(1995, 12, 1),\n",
       " datetime.date(1995, 12, 4),\n",
       " datetime.date(1995, 12, 5),\n",
       " datetime.date(1995, 12, 6),\n",
       " datetime.date(1995, 12, 7),\n",
       " datetime.date(1995, 12, 8),\n",
       " datetime.date(1995, 12, 11),\n",
       " datetime.date(1995, 12, 12),\n",
       " datetime.date(1995, 12, 13),\n",
       " datetime.date(1995, 12, 14),\n",
       " datetime.date(1995, 12, 15),\n",
       " datetime.date(1995, 12, 18),\n",
       " datetime.date(1995, 12, 19),\n",
       " datetime.date(1995, 12, 20),\n",
       " datetime.date(1995, 12, 21),\n",
       " datetime.date(1995, 12, 22),\n",
       " datetime.date(1995, 12, 26),\n",
       " datetime.date(1995, 12, 27),\n",
       " datetime.date(1995, 12, 28),\n",
       " datetime.date(1995, 12, 29),\n",
       " datetime.date(1996, 1, 2),\n",
       " datetime.date(1996, 1, 3),\n",
       " datetime.date(1996, 1, 4),\n",
       " datetime.date(1996, 1, 5),\n",
       " datetime.date(1996, 1, 8),\n",
       " datetime.date(1996, 1, 9),\n",
       " datetime.date(1996, 1, 10),\n",
       " datetime.date(1996, 1, 11),\n",
       " datetime.date(1996, 1, 12),\n",
       " ...]"
      ]
     },
     "execution_count": 40,
     "metadata": {},
     "output_type": "execute_result"
    }
   ],
   "source": [
    "T"
   ]
  },
  {
   "cell_type": "code",
   "execution_count": 41,
   "id": "83aae291",
   "metadata": {},
   "outputs": [
    {
     "name": "stdout",
     "output_type": "stream",
     "text": [
      "5251 5251\n"
     ]
    }
   ],
   "source": [
    "print(len(T), len(Labels))"
   ]
  },
  {
   "cell_type": "code",
   "execution_count": 47,
   "id": "820bdc3c",
   "metadata": {},
   "outputs": [
    {
     "data": {
      "image/png": "[encoded data removed]",
      "text/plain": [
       "<Figure size 432x288 with 1 Axes>"
      ]
     },
     "metadata": {
      "needs_background": "light"
     },
     "output_type": "display_data"
    }
   ],
   "source": [
    "plt.gca().xaxis.set_major_formatter(mdates.DateFormatter('%Y-%m-%d'))\n",
    "plt.gca().xaxis.set_major_locator(mdates.AutoDateLocator())\n",
    "plt.plot(T,Labels, \".\", alpha = 0.1)\n",
    "plt.vlines(datetime.date(2001,9,11), \"110\", \"010\")\n",
    "plt.gcf().autofmt_xdate()"
   ]
  },
  {
   "cell_type": "code",
   "execution_count": 44,
   "id": "eeffff35",
   "metadata": {},
   "outputs": [
    {
     "data": {
      "text/plain": [
       "array([['000', '745'],\n",
       "       ['001', '692'],\n",
       "       ['010', '192'],\n",
       "       ['011', '210'],\n",
       "       ['100', '466'],\n",
       "       ['101', '811'],\n",
       "       ['110', '1060'],\n",
       "       ['111', '1075']], dtype='<U21')"
      ]
     },
     "execution_count": 44,
     "metadata": {},
     "output_type": "execute_result"
    }
   ],
   "source": [
    "np.array(np.unique(Labels, return_counts=True)).T"
   ]
  },
  {
   "cell_type": "markdown",
   "id": "d4c1229f",
   "metadata": {},
   "source": [
    "## distance to cluster centres\n",
    "\n",
    "Let's look at some examples: \"001\" has the most instances, \"010\" the least. Maybe this translates to something interesting in the distance-over-time-curve?\n"
   ]
  },
  {
   "cell_type": "code",
   "execution_count": 52,
   "id": "070662eb",
   "metadata": {},
   "outputs": [],
   "source": [
    "Centroid000 = kmean00.cluster_centers_[0]\n",
    "Distance000 = np.zeros(len(Labels))\n",
    "\n",
    "Centroid001 = kmean00.cluster_centers_[1]\n",
    "Distance001 = np.zeros(len(Labels))\n",
    "\n",
    "Centroid010 = kmean01.cluster_centers_[0]\n",
    "Distance010 = np.zeros(len(Labels))\n",
    "\n",
    "Centroid011 = kmean01.cluster_centers_[1]\n",
    "Distance011 = np.zeros(len(Labels))\n",
    "\n",
    "Centroid100 = kmean10.cluster_centers_[0]\n",
    "Distance100 = np.zeros(len(Labels))\n",
    "\n",
    "Centroid101 = kmean10.cluster_centers_[1]\n",
    "Distance101 = np.zeros(len(Labels))\n",
    "\n",
    "Centroid110 = kmean11.cluster_centers_[0]\n",
    "Distance110 = np.zeros(len(Labels))\n",
    "\n",
    "Centroid111 = kmean11.cluster_centers_[1]\n",
    "Distance111 = np.zeros(len(Labels))\n",
    "\n",
    "for i in range(len(Distance001)):\n",
    "    Distance000[i] =  np.sum( (Centroid000 - CorrMatrices[i,:])**2.)\n",
    "    Distance001[i] = np.sum( (Centroid001 - CorrMatrices[i,:])**2.)\n",
    "    Distance010[i] =  np.sum( (Centroid010 - CorrMatrices[i,:])**2.)\n",
    "    Distance011[i] =  np.sum( (Centroid011 - CorrMatrices[i,:])**2.)\n",
    "    Distance100[i] =  np.sum( (Centroid100 - CorrMatrices[i,:])**2.)\n",
    "    Distance101[i] =  np.sum( (Centroid101 - CorrMatrices[i,:])**2.)\n",
    "    Distance110[i] =  np.sum( (Centroid110 - CorrMatrices[i,:])**2.)\n",
    "    Distance111[i] =  np.sum( (Centroid111 - CorrMatrices[i,:])**2.)    \n",
    "    \n",
    "    "
   ]
  },
  {
   "cell_type": "code",
   "execution_count": 54,
   "id": "55847e63",
   "metadata": {},
   "outputs": [
    {
     "data": {
      "image/png": "[encoded data removed]",
      "text/plain": [
       "<Figure size 432x288 with 1 Axes>"
      ]
     },
     "metadata": {
      "needs_background": "light"
     },
     "output_type": "display_data"
    }
   ],
   "source": [
    "plt.gca().xaxis.set_major_formatter(mdates.DateFormatter('%Y-%m-%d'))\n",
    "plt.gca().xaxis.set_major_locator(mdates.AutoDateLocator())\n",
    "#plt.yscale('log')\n",
    "plt.plot(T,Distance111, label = \"111\")\n",
    "plt.plot(T,Distance010, label=\"010\")\n",
    "#plt.plot(T,Distance101, label=\"101\")\n",
    "\n",
    "plt.legend()\n",
    "plt.gcf().autofmt_xdate()\n",
    "plt.show()"
   ]
  },
  {
   "cell_type": "code",
   "execution_count": 57,
   "id": "8c488720",
   "metadata": {},
   "outputs": [
    {
     "data": {
      "image/png": "[encoded data removed]",
      "text/plain": [
       "<Figure size 432x288 with 1 Axes>"
      ]
     },
     "metadata": {
      "needs_background": "light"
     },
     "output_type": "display_data"
    }
   ],
   "source": [
    "plt.gca().xaxis.set_major_formatter(mdates.DateFormatter('%Y-%m-%d'))\n",
    "plt.gca().xaxis.set_major_locator(mdates.AutoDateLocator())\n",
    "plt.plot(T,Distance010- Distance001, label = \"001\")\n",
    "plt.hlines(0, min(T), max(T))\n",
    "#plt.plot(T,Distance010, label=\"010\")\n",
    "#plt.plot(T,Distance101, label=\"101\")\n",
    "plt.title(\"Difference between the Centroid Distances\")\n",
    "plt.legend()\n",
    "plt.gcf().autofmt_xdate()\n",
    "plt.show()"
   ]
  },
  {
   "cell_type": "code",
   "execution_count": 58,
   "id": "dd6419f7",
   "metadata": {},
   "outputs": [
    {
     "data": {
      "text/plain": [
       "array([[1.        , 0.85089695],\n",
       "       [0.85089695, 1.        ]])"
      ]
     },
     "execution_count": 58,
     "metadata": {},
     "output_type": "execute_result"
    }
   ],
   "source": [
    "np.corrcoef(Distance001, Distance010)"
   ]
  },
  {
   "cell_type": "markdown",
   "id": "76b12824",
   "metadata": {},
   "source": [
    "There seems to be \"something\" around ~2001. At this time, the cluster 001 certainly seems to not be able to \"tell\" what is going on because of the large distance, whereas the small cluster 010 gets very close to the current correlation matrix. As a comparison, one can have a look at two large clusters, e.g. the two largest 001 and 101"
   ]
  },
  {
   "cell_type": "code",
   "execution_count": 59,
   "id": "96f7c89b",
   "metadata": {},
   "outputs": [
    {
     "data": {
      "image/png": "[encoded data removed]",
      "text/plain": [
       "<Figure size 432x288 with 1 Axes>"
      ]
     },
     "metadata": {
      "needs_background": "light"
     },
     "output_type": "display_data"
    }
   ],
   "source": [
    "plt.gca().xaxis.set_major_formatter(mdates.DateFormatter('%Y-%m-%d'))\n",
    "plt.gca().xaxis.set_major_locator(mdates.AutoDateLocator())\n",
    "#plt.yscale('log')\n",
    "plt.plot(T,Distance001, label = \"001\")\n",
    "#plt.plot(T,Distance010, label=\"010\")\n",
    "plt.plot(T,Distance101, label=\"101\")\n",
    "\n",
    "plt.legend()\n",
    "plt.gcf().autofmt_xdate()\n",
    "plt.show()"
   ]
  },
  {
   "cell_type": "code",
   "execution_count": 60,
   "id": "851918fc",
   "metadata": {},
   "outputs": [
    {
     "data": {
      "image/png": "[encoded data removed]",
      "text/plain": [
       "<Figure size 432x288 with 1 Axes>"
      ]
     },
     "metadata": {
      "needs_background": "light"
     },
     "output_type": "display_data"
    }
   ],
   "source": [
    "plt.gca().xaxis.set_major_formatter(mdates.DateFormatter('%Y-%m-%d'))\n",
    "plt.gca().xaxis.set_major_locator(mdates.AutoDateLocator())\n",
    "plt.plot(T,Distance101- Distance001)\n",
    "plt.hlines(0, min(T), max(T))\n",
    "plt.title(\"Difference between the Centroid Distances\")\n",
    "\n",
    "#plt.plot(T,Distance010, label=\"010\")\n",
    "#plt.plot(T,Distance101, label=\"101\")\n",
    "\n",
    "plt.gcf().autofmt_xdate()\n",
    "plt.show()"
   ]
  },
  {
   "cell_type": "code",
   "execution_count": 61,
   "id": "b5c0ca7c",
   "metadata": {},
   "outputs": [
    {
     "data": {
      "text/plain": [
       "array([[1.        , 0.05865007],\n",
       "       [0.05865007, 1.        ]])"
      ]
     },
     "execution_count": 61,
     "metadata": {},
     "output_type": "execute_result"
    }
   ],
   "source": [
    "np.corrcoef(Distance001, Distance101)"
   ]
  },
  {
   "cell_type": "markdown",
   "id": "37eeac2e",
   "metadata": {},
   "source": [
    "## Machine Learning\n",
    "\n",
    "Start with a simple One-vs-one-classifier from Aurelien/Geron textbook"
   ]
  },
  {
   "cell_type": "code",
   "execution_count": 62,
   "id": "7aa2810b",
   "metadata": {},
   "outputs": [
    {
     "name": "stdout",
     "output_type": "stream",
     "text": [
      "['110' '110' '110' ... '000' '000' '000']\n"
     ]
    }
   ],
   "source": [
    "print(Labels)"
   ]
  },
  {
   "cell_type": "code",
   "execution_count": 63,
   "id": "dbefd385",
   "metadata": {},
   "outputs": [],
   "source": [
    "from sklearn.multiclass import OneVsOneClassifier\n",
    "from sklearn.linear_model import SGDClassifier\n",
    "import sklearn\n",
    "ovo_clf = OneVsOneClassifier(SGDClassifier(random_state=42))\n"
   ]
  },
  {
   "cell_type": "code",
   "execution_count": 65,
   "id": "af809647",
   "metadata": {},
   "outputs": [],
   "source": [
    "X = CorrMatricesFull.copy()\n",
    "y = Labels.copy()\n",
    "\n",
    "X_train, X_test, y_train, y_test = sklearn.model_selection.train_test_split(X, y, test_size=0.33, random_state=42)"
   ]
  },
  {
   "cell_type": "code",
   "execution_count": 66,
   "id": "4b8c640e",
   "metadata": {},
   "outputs": [
    {
     "name": "stdout",
     "output_type": "stream",
     "text": [
      "1733 3518\n"
     ]
    }
   ],
   "source": [
    "print(len(y_test), len(y_train))"
   ]
  },
  {
   "cell_type": "code",
   "execution_count": 67,
   "id": "ec0ce3a8",
   "metadata": {},
   "outputs": [
    {
     "data": {
      "text/plain": [
       "OneVsOneClassifier(estimator=SGDClassifier(random_state=42))"
      ]
     },
     "execution_count": 67,
     "metadata": {},
     "output_type": "execute_result"
    }
   ],
   "source": [
    "ovo_clf.fit(X_train, y_train)\n"
   ]
  },
  {
   "cell_type": "code",
   "execution_count": 68,
   "id": "037c9f0d",
   "metadata": {},
   "outputs": [
    {
     "data": {
      "text/plain": [
       "0.9642238892094633"
      ]
     },
     "execution_count": 68,
     "metadata": {},
     "output_type": "execute_result"
    }
   ],
   "source": [
    "sum(ovo_clf.predict(X_test) == y_test)/len(y_test)"
   ]
  },
  {
   "cell_type": "markdown",
   "id": "7e238829",
   "metadata": {},
   "source": [
    "That's really, really good!"
   ]
  },
  {
   "cell_type": "code",
   "execution_count": 69,
   "id": "8c979752",
   "metadata": {
    "scrolled": true
   },
   "outputs": [
    {
     "data": {
      "text/plain": [
       "array(['110', '110', '110', ..., '000', '000', '000'], dtype='<U3')"
      ]
     },
     "execution_count": 69,
     "metadata": {},
     "output_type": "execute_result"
    }
   ],
   "source": [
    "Labels"
   ]
  },
  {
   "cell_type": "markdown",
   "id": "516289cd",
   "metadata": {},
   "source": [
    "## Train Neural Net\n",
    "\n",
    "On CorrMatricesFullSec (full \"image-like\" square matrix) or on the triangular CorrMatricesSec.\n",
    "https://www.pyimagesearch.com/2018/05/07/multi-label-classification-with-keras/\n",
    "\n",
    "https://keras.io/examples/vision/mnist_convnet/"
   ]
  },
  {
   "cell_type": "code",
   "execution_count": 70,
   "id": "c8cd9c12",
   "metadata": {},
   "outputs": [
    {
     "name": "stderr",
     "output_type": "stream",
     "text": [
      "/home/users/t_wand01/.local/lib/python3.7/site-packages/tensorflow/python/framework/dtypes.py:516: FutureWarning: Passing (type, 1) or '1type' as a synonym of type is deprecated; in a future version of numpy, it will be understood as (type, (1,)) / '(1,)type'.\n",
      "  _np_qint8 = np.dtype([(\"qint8\", np.int8, 1)])\n",
      "/home/users/t_wand01/.local/lib/python3.7/site-packages/tensorflow/python/framework/dtypes.py:517: FutureWarning: Passing (type, 1) or '1type' as a synonym of type is deprecated; in a future version of numpy, it will be understood as (type, (1,)) / '(1,)type'.\n",
      "  _np_quint8 = np.dtype([(\"quint8\", np.uint8, 1)])\n",
      "/home/users/t_wand01/.local/lib/python3.7/site-packages/tensorflow/python/framework/dtypes.py:518: FutureWarning: Passing (type, 1) or '1type' as a synonym of type is deprecated; in a future version of numpy, it will be understood as (type, (1,)) / '(1,)type'.\n",
      "  _np_qint16 = np.dtype([(\"qint16\", np.int16, 1)])\n",
      "/home/users/t_wand01/.local/lib/python3.7/site-packages/tensorflow/python/framework/dtypes.py:519: FutureWarning: Passing (type, 1) or '1type' as a synonym of type is deprecated; in a future version of numpy, it will be understood as (type, (1,)) / '(1,)type'.\n",
      "  _np_quint16 = np.dtype([(\"quint16\", np.uint16, 1)])\n",
      "/home/users/t_wand01/.local/lib/python3.7/site-packages/tensorflow/python/framework/dtypes.py:520: FutureWarning: Passing (type, 1) or '1type' as a synonym of type is deprecated; in a future version of numpy, it will be understood as (type, (1,)) / '(1,)type'.\n",
      "  _np_qint32 = np.dtype([(\"qint32\", np.int32, 1)])\n",
      "/home/users/t_wand01/.local/lib/python3.7/site-packages/tensorflow/python/framework/dtypes.py:525: FutureWarning: Passing (type, 1) or '1type' as a synonym of type is deprecated; in a future version of numpy, it will be understood as (type, (1,)) / '(1,)type'.\n",
      "  np_resource = np.dtype([(\"resource\", np.ubyte, 1)])\n",
      "/usr/lib/python3/dist-packages/requests/__init__.py:91: RequestsDependencyWarning: urllib3 (1.26.7) or chardet (3.0.4) doesn't match a supported version!\n",
      "  RequestsDependencyWarning)\n",
      "/home/users/t_wand01/.local/lib/python3.7/site-packages/tensorboard/compat/tensorflow_stub/dtypes.py:541: FutureWarning: Passing (type, 1) or '1type' as a synonym of type is deprecated; in a future version of numpy, it will be understood as (type, (1,)) / '(1,)type'.\n",
      "  _np_qint8 = np.dtype([(\"qint8\", np.int8, 1)])\n",
      "/home/users/t_wand01/.local/lib/python3.7/site-packages/tensorboard/compat/tensorflow_stub/dtypes.py:542: FutureWarning: Passing (type, 1) or '1type' as a synonym of type is deprecated; in a future version of numpy, it will be understood as (type, (1,)) / '(1,)type'.\n",
      "  _np_quint8 = np.dtype([(\"quint8\", np.uint8, 1)])\n",
      "/home/users/t_wand01/.local/lib/python3.7/site-packages/tensorboard/compat/tensorflow_stub/dtypes.py:543: FutureWarning: Passing (type, 1) or '1type' as a synonym of type is deprecated; in a future version of numpy, it will be understood as (type, (1,)) / '(1,)type'.\n",
      "  _np_qint16 = np.dtype([(\"qint16\", np.int16, 1)])\n",
      "/home/users/t_wand01/.local/lib/python3.7/site-packages/tensorboard/compat/tensorflow_stub/dtypes.py:544: FutureWarning: Passing (type, 1) or '1type' as a synonym of type is deprecated; in a future version of numpy, it will be understood as (type, (1,)) / '(1,)type'.\n",
      "  _np_quint16 = np.dtype([(\"quint16\", np.uint16, 1)])\n",
      "/home/users/t_wand01/.local/lib/python3.7/site-packages/tensorboard/compat/tensorflow_stub/dtypes.py:545: FutureWarning: Passing (type, 1) or '1type' as a synonym of type is deprecated; in a future version of numpy, it will be understood as (type, (1,)) / '(1,)type'.\n",
      "  _np_qint32 = np.dtype([(\"qint32\", np.int32, 1)])\n",
      "/home/users/t_wand01/.local/lib/python3.7/site-packages/tensorboard/compat/tensorflow_stub/dtypes.py:550: FutureWarning: Passing (type, 1) or '1type' as a synonym of type is deprecated; in a future version of numpy, it will be understood as (type, (1,)) / '(1,)type'.\n",
      "  np_resource = np.dtype([(\"resource\", np.ubyte, 1)])\n"
     ]
    }
   ],
   "source": [
    "import tensorflow.keras as keras\n",
    "from tensorflow.keras import layers\n",
    "from tensorflow.keras.layers import LeakyReLU"
   ]
  },
  {
   "cell_type": "code",
   "execution_count": 76,
   "id": "682bb26c",
   "metadata": {
    "scrolled": true
   },
   "outputs": [
    {
     "name": "stdout",
     "output_type": "stream",
     "text": [
      "[1.] 001\n",
      "[1.] 001\n",
      "[1.] 001\n",
      "[1.] 001\n",
      "[1.] 001\n",
      "[1.] 001\n",
      "[1.] 001\n",
      "[1.] 001\n",
      "[1.] 001\n",
      "[1.] 001\n",
      "[1.] 001\n",
      "[1.] 001\n",
      "[1.] 001\n",
      "[1.] 001\n",
      "[1.] 001\n",
      "[1.] 001\n",
      "[1.] 001\n",
      "[1.] 001\n",
      "[1.] 001\n",
      "[0.] 000\n",
      "[0.] 000\n",
      "[0.] 000\n",
      "[0.] 000\n",
      "[0.] 000\n",
      "[0.] 000\n",
      "[0.] 000\n",
      "[0.] 000\n",
      "[0.] 000\n",
      "[0.] 000\n",
      "[0.] 000\n",
      "[0.] 000\n",
      "[0.] 000\n",
      "[0.] 000\n",
      "[0.] 000\n",
      "[0.] 000\n",
      "[0.] 000\n",
      "[0.] 000\n",
      "[0.] 000\n",
      "[0.] 000\n",
      "[0.] 000\n",
      "[1.] 001\n",
      "[1.] 001\n",
      "[1.] 001\n",
      "[1.] 001\n",
      "[1.] 001\n",
      "[1.] 001\n",
      "[1.] 001\n",
      "[1.] 001\n",
      "[1.] 001\n",
      "[1.] 001\n",
      "[1.] 001\n",
      "[1.] 001\n",
      "[1.] 001\n",
      "[1.] 001\n",
      "[1.] 001\n",
      "[1.] 001\n",
      "[1.] 001\n",
      "[1.] 001\n",
      "[1.] 001\n",
      "[1.] 001\n",
      "[1.] 001\n",
      "[1.] 001\n",
      "[1.] 001\n",
      "[1.] 001\n",
      "[1.] 001\n",
      "[1.] 001\n",
      "[1.] 001\n",
      "[1.] 001\n",
      "[1.] 001\n",
      "[1.] 001\n",
      "[1.] 001\n",
      "[1.] 001\n",
      "[1.] 001\n",
      "[1.] 001\n",
      "[1.] 001\n",
      "[1.] 001\n",
      "[1.] 001\n",
      "[1.] 001\n",
      "[1.] 001\n",
      "[0.] 000\n",
      "[0.] 000\n",
      "[0.] 000\n",
      "[0.] 000\n",
      "[0.] 000\n",
      "[0.] 000\n",
      "[0.] 000\n",
      "[0.] 000\n",
      "[0.] 000\n",
      "[0.] 000\n",
      "[0.] 000\n",
      "[0.] 000\n",
      "[0.] 000\n",
      "[0.] 000\n",
      "[0.] 000\n",
      "[5.] 101\n",
      "[5.] 101\n",
      "[5.] 101\n",
      "[0.] 000\n",
      "[0.] 000\n",
      "[5.] 101\n"
     ]
    }
   ],
   "source": [
    "# Transform the data to a fitting shape\n",
    "x = []\n",
    "\n",
    "for i in range(X.shape[0]):\n",
    "    x.append(X[i,:].reshape(DF.shape[1],DF.shape[1]))\n",
    "    \n",
    "enc = sklearn.preprocessing.OrdinalEncoder()\n",
    "yNN =     enc.fit_transform(y.reshape(-1,1))\n",
    "\n",
    "# check\n",
    "for i in range(4000,4100):\n",
    "    print(yNN[i], y[i])"
   ]
  },
  {
   "cell_type": "code",
   "execution_count": 77,
   "id": "a5d3ae3a",
   "metadata": {},
   "outputs": [
    {
     "name": "stdout",
     "output_type": "stream",
     "text": [
      "x_train shape: (3518, 263, 263, 1)\n",
      "3518 train samples\n",
      "1733 test samples\n"
     ]
    }
   ],
   "source": [
    "\n",
    "num_classes = 8\n",
    "input_shape = (DF.shape[1], DF.shape[1], 1)\n",
    "\n",
    "# the data, split between train and test sets\n",
    "x_train,x_test, y_train, y_test = sklearn.model_selection.train_test_split(x, yNN, test_size=0.33, random_state=42)\n",
    "\n",
    "\n",
    "# images are already scaled to the [0, 1] range\n",
    "\n",
    "# Make sure images have shape (11, 11, 1)\n",
    "x_train = np.expand_dims(x_train, -1)\n",
    "x_test = np.expand_dims(x_test, -1)\n",
    "print(\"x_train shape:\", x_train.shape)\n",
    "print(x_train.shape[0], \"train samples\")\n",
    "print(x_test.shape[0], \"test samples\")\n",
    "\n",
    "\n",
    "# convert class vectors to binary class matrices\n",
    "y_train = keras.utils.to_categorical(y_train, num_classes)\n",
    "y_test = keras.utils.to_categorical(y_test, num_classes)"
   ]
  },
  {
   "cell_type": "code",
   "execution_count": 113,
   "id": "2dedf276",
   "metadata": {},
   "outputs": [
    {
     "name": "stdout",
     "output_type": "stream",
     "text": [
      "Model: \"sequential_4\"\n",
      "_________________________________________________________________\n",
      "Layer (type)                 Output Shape              Param #   \n",
      "=================================================================\n",
      "conv2d_8 (Conv2D)            (None, 261, 261, 32)      320       \n",
      "_________________________________________________________________\n",
      "max_pooling2d_8 (MaxPooling2 (None, 130, 130, 32)      0         \n",
      "_________________________________________________________________\n",
      "conv2d_9 (Conv2D)            (None, 128, 128, 64)      18496     \n",
      "_________________________________________________________________\n",
      "max_pooling2d_9 (MaxPooling2 (None, 64, 64, 64)        0         \n",
      "_________________________________________________________________\n",
      "flatten_4 (Flatten)          (None, 262144)            0         \n",
      "_________________________________________________________________\n",
      "dense_18 (Dense)             (None, 128)               33554560  \n",
      "_________________________________________________________________\n",
      "dense_19 (Dense)             (None, 128)               16512     \n",
      "_________________________________________________________________\n",
      "dense_20 (Dense)             (None, 128)               16512     \n",
      "_________________________________________________________________\n",
      "dropout_4 (Dropout)          (None, 128)               0         \n",
      "_________________________________________________________________\n",
      "dense_21 (Dense)             (None, 8)                 1032      \n",
      "=================================================================\n",
      "Total params: 33,607,432\n",
      "Trainable params: 33,607,432\n",
      "Non-trainable params: 0\n",
      "_________________________________________________________________\n"
     ]
    }
   ],
   "source": [
    "layer1 = keras.layers.Dense(units=128, activation=keras.layers.LeakyReLU(alpha=0.05))\n",
    "layer2 = keras.layers.Dense(units=128, activation=keras.layers.LeakyReLU(alpha=0.01))\n",
    "\n",
    "model = keras.Sequential(\n",
    "    [\n",
    "        keras.Input(shape=input_shape),\n",
    "        layers.Conv2D(32, kernel_size=(3, 3), activation=\"relu\"),\n",
    "        layers.MaxPooling2D(pool_size=(2, 2)),\n",
    "        layers.Conv2D(64, kernel_size=(3, 3), activation=\"relu\"),\n",
    "        layers.MaxPooling2D(pool_size=(2, 2)),\n",
    "        layers.Flatten(),\n",
    "        layers.Dense(128, activation = \"selu\"),\n",
    "        layers.Dense(units=128, activation=\"relu\"),\n",
    "        layers.Dense(units=128, activation=\"relu\"),\n",
    "        #layers.Dense(units=128, \n",
    "        #      activation=keras.layers.LeakyReLU(alpha=0.05)), \n",
    "        # layers.Dense(units=128, \n",
    "        #      activation=keras.layers.LeakyReLU(alpha=0.01)), \n",
    "        layers.Dropout(0.5),\n",
    "        layers.Dense(num_classes, activation=\"softmax\"),\n",
    "    ]\n",
    ")\n",
    "\n",
    "model.summary()\n"
   ]
  },
  {
   "cell_type": "code",
   "execution_count": 114,
   "id": "7d895769",
   "metadata": {},
   "outputs": [
    {
     "name": "stdout",
     "output_type": "stream",
     "text": [
      "Train on 2814 samples, validate on 704 samples\n",
      "Epoch 1/10\n",
      "2814/2814 [==============================] - 59s 21ms/sample - loss: 1.7021 - acc: 0.3500 - val_loss: 1.0562 - val_acc: 0.6818\n",
      "Epoch 2/10\n",
      "2814/2814 [==============================] - 59s 21ms/sample - loss: 1.0619 - acc: 0.6183 - val_loss: 0.6908 - val_acc: 0.8793\n",
      "Epoch 3/10\n",
      "2814/2814 [==============================] - 59s 21ms/sample - loss: 0.7084 - acc: 0.7726 - val_loss: 0.3502 - val_acc: 0.9247\n",
      "Epoch 4/10\n",
      "2814/2814 [==============================] - 59s 21ms/sample - loss: 0.5019 - acc: 0.8422 - val_loss: 0.2464 - val_acc: 0.9403\n",
      "Epoch 5/10\n",
      "2814/2814 [==============================] - 59s 21ms/sample - loss: 0.3376 - acc: 0.8952 - val_loss: 0.1582 - val_acc: 0.9560\n",
      "Epoch 6/10\n",
      "2814/2814 [==============================] - 59s 21ms/sample - loss: 0.3034 - acc: 0.9051 - val_loss: 0.1434 - val_acc: 0.9616\n",
      "Epoch 7/10\n",
      "2814/2814 [==============================] - 59s 21ms/sample - loss: 0.2437 - acc: 0.9158 - val_loss: 0.1128 - val_acc: 0.9688\n",
      "Epoch 8/10\n",
      "2814/2814 [==============================] - 59s 21ms/sample - loss: 0.2169 - acc: 0.9268 - val_loss: 0.1312 - val_acc: 0.9531\n",
      "Epoch 9/10\n",
      "2814/2814 [==============================] - 60s 21ms/sample - loss: 0.2047 - acc: 0.9364 - val_loss: 0.0915 - val_acc: 0.9673\n",
      "Epoch 10/10\n",
      "2814/2814 [==============================] - 61s 22ms/sample - loss: 0.1765 - acc: 0.9424 - val_loss: 0.0976 - val_acc: 0.9588\n"
     ]
    },
    {
     "data": {
      "text/plain": [
       "<tensorflow.python.keras.callbacks.History at 0x7f41941e6e80>"
      ]
     },
     "execution_count": 114,
     "metadata": {},
     "output_type": "execute_result"
    }
   ],
   "source": [
    "batch_size = 128\n",
    "epochs = 10\n",
    "\n",
    "model.compile(loss=\"categorical_crossentropy\", \n",
    "              optimizer=keras.optimizers.Adam(lr=0.0001),\n",
    "              metrics=[\"accuracy\"])\n",
    "\n",
    "model.fit(x_train, y_train, \n",
    "          batch_size=batch_size, \n",
    "          epochs=epochs, \n",
    "          validation_split=0.2)\n"
   ]
  },
  {
   "cell_type": "code",
   "execution_count": 115,
   "id": "d76d46a4",
   "metadata": {},
   "outputs": [
    {
     "name": "stdout",
     "output_type": "stream",
     "text": [
      "Test loss: 0.09173799476404101\n",
      "Test accuracy: 0.9705713\n"
     ]
    }
   ],
   "source": [
    "score = model.evaluate(x_test, y_test, verbose=0)\n",
    "print(\"Test loss:\", score[0])\n",
    "print(\"Test accuracy:\", score[1])\n"
   ]
  },
  {
   "cell_type": "markdown",
   "id": "241fda32",
   "metadata": {},
   "source": [
    "A little bit better"
   ]
  },
  {
   "cell_type": "code",
   "execution_count": 116,
   "id": "f13c5383",
   "metadata": {},
   "outputs": [
    {
     "data": {
      "text/plain": [
       "array([0, 0, 0, ..., 7, 5, 1])"
      ]
     },
     "execution_count": 116,
     "metadata": {},
     "output_type": "execute_result"
    }
   ],
   "source": [
    "model.predict_classes(x_test)"
   ]
  },
  {
   "cell_type": "code",
   "execution_count": 117,
   "id": "a1d362ba",
   "metadata": {},
   "outputs": [
    {
     "data": {
      "text/plain": [
       "array([[1., 0., 0., ..., 0., 0., 0.],\n",
       "       [1., 0., 0., ..., 0., 0., 0.],\n",
       "       [1., 0., 0., ..., 0., 0., 0.],\n",
       "       ...,\n",
       "       [0., 0., 0., ..., 0., 0., 1.],\n",
       "       [0., 0., 0., ..., 1., 0., 0.],\n",
       "       [0., 1., 0., ..., 0., 0., 0.]], dtype=float32)"
      ]
     },
     "execution_count": 117,
     "metadata": {},
     "output_type": "execute_result"
    }
   ],
   "source": [
    "y_test"
   ]
  },
  {
   "cell_type": "code",
   "execution_count": 118,
   "id": "19fae7ce",
   "metadata": {},
   "outputs": [
    {
     "data": {
      "text/plain": [
       "array([0, 0, 0, ..., 7, 5, 1])"
      ]
     },
     "execution_count": 118,
     "metadata": {},
     "output_type": "execute_result"
    }
   ],
   "source": [
    "np.argmax(y_test, axis=1)"
   ]
  },
  {
   "cell_type": "code",
   "execution_count": 119,
   "id": "d7322c36",
   "metadata": {},
   "outputs": [
    {
     "data": {
      "text/plain": [
       "array([[229,   4,   0,   0,   0,   7,   0,   0],\n",
       "       [  5, 227,   0,   3,   0,   0,   0,   0],\n",
       "       [  0,   0,  68,   0,   0,   0,   0,   0],\n",
       "       [  0,   2,   3,  65,   0,   0,   0,   0],\n",
       "       [  1,   0,   0,   0, 151,   2,   0,   1],\n",
       "       [  3,   0,   0,   0,   0, 244,   0,   0],\n",
       "       [  0,   0,   0,   0,   0,   0, 378,   0],\n",
       "       [  0,   0,   0,   0,   7,   2,  11, 320]])"
      ]
     },
     "execution_count": 119,
     "metadata": {},
     "output_type": "execute_result"
    }
   ],
   "source": [
    "sklearn.metrics.confusion_matrix(np.argmax(y_test, axis=1),   # true labels\n",
    "                                 model.predict_classes(x_test)) # predictions"
   ]
  },
  {
   "cell_type": "code",
   "execution_count": 120,
   "id": "92483b0f",
   "metadata": {},
   "outputs": [],
   "source": [
    "model.save(\"KerasNN_FullFinanceData_Relu\")"
   ]
  },
  {
   "cell_type": "code",
   "execution_count": 131,
   "id": "d457faf0",
   "metadata": {},
   "outputs": [],
   "source": [
    "# save the Data\n",
    "\n",
    "np.save('x_test.npy', x_test) \n",
    "np.save('x_train.npy', x_train)   \n",
    "np.save('y_test.npy', y_test) \n",
    "np.save('y_train.npy', y_train)   \n"
   ]
  },
  {
   "cell_type": "code",
   "execution_count": 133,
   "id": "a30230c9",
   "metadata": {},
   "outputs": [],
   "source": [
    "model.save_weights('KerasNN_FullFinanceData_ReLu.h5')"
   ]
  },
  {
   "cell_type": "code",
   "execution_count": 132,
   "id": "807f1039",
   "metadata": {},
   "outputs": [
    {
     "data": {
      "text/plain": [
       "(263, 263, 1)"
      ]
     },
     "execution_count": 132,
     "metadata": {},
     "output_type": "execute_result"
    }
   ],
   "source": [
    "input_shape"
   ]
  }
 ],
 "metadata": {
  "kernelspec": {
   "display_name": "Python 3 (ipykernel)",
   "language": "python",
   "name": "python3"
  },
  "language_info": {
   "codemirror_mode": {
    "name": "ipython",
    "version": 3
   },
   "file_extension": ".py",
   "mimetype": "text/x-python",
   "name": "python",
   "nbconvert_exporter": "python",
   "pygments_lexer": "ipython3",
   "version": "3.7.3"
  }
 },
 "nbformat": 4,
 "nbformat_minor": 5
}
