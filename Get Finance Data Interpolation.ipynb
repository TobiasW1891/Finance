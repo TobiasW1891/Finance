{
 "cells": [
  {
   "cell_type": "markdown",
   "id": "5c177e75",
   "metadata": {},
   "source": [
    "#https://towardsdatascience.com/financial-data-from-yahoo-finance-with-python-b5399743bcc6 \n",
    "import sys\n",
    "!{sys.executable} -m pip install yfinance\n"
   ]
  },
  {
   "cell_type": "code",
   "execution_count": 1,
   "id": "b8abc65c",
   "metadata": {},
   "outputs": [
    {
     "name": "stderr",
     "output_type": "stream",
     "text": [
      "/usr/lib/python3/dist-packages/requests/__init__.py:91: RequestsDependencyWarning: urllib3 (1.26.7) or chardet (3.0.4) doesn't match a supported version!\n",
      "  RequestsDependencyWarning)\n"
     ]
    }
   ],
   "source": [
    "import datetime\n",
    "import yfinance as yf\n",
    "import pandas as pd\n",
    "import numpy as np\n",
    "import matplotlib.pyplot as plt\n",
    "from sklearn.decomposition import PCA\n",
    "import sklearn"
   ]
  },
  {
   "cell_type": "code",
   "execution_count": 2,
   "id": "8911f648",
   "metadata": {},
   "outputs": [],
   "source": [
    "# SP500 complete\n",
    "start=datetime.datetime(1992, 1, 2)\n",
    "end=datetime.datetime(2013, 1, 1)\n",
    "\n",
    "#end=datetime.datetime(2013, 1, 1)\n",
    "SP500 = yf.Ticker(\"^GSPC\")\n",
    "SP500 = SP500.history(start = start, end = end, period = \"1d\", prepost=False)\n"
   ]
  },
  {
   "cell_type": "code",
   "execution_count": 3,
   "id": "7058a4a4",
   "metadata": {},
   "outputs": [
    {
     "name": "stdout",
     "output_type": "stream",
     "text": [
      "DatetimeIndex(['1992-01-02', '1992-01-03', '1992-01-06', '1992-01-07',\n",
      "               '1992-01-08', '1992-01-09', '1992-01-10', '1992-01-13',\n",
      "               '1992-01-14', '1992-01-15',\n",
      "               ...\n",
      "               '2012-12-17', '2012-12-18', '2012-12-19', '2012-12-20',\n",
      "               '2012-12-21', '2012-12-24', '2012-12-26', '2012-12-27',\n",
      "               '2012-12-28', '2012-12-31'],\n",
      "              dtype='datetime64[ns]', name='Date', length=5291, freq=None)\n"
     ]
    }
   ],
   "source": [
    "print(SP500.index)"
   ]
  },
  {
   "cell_type": "code",
   "execution_count": 4,
   "id": "0e77511d",
   "metadata": {},
   "outputs": [
    {
     "name": "stdout",
     "output_type": "stream",
     "text": [
      "5264.545\n"
     ]
    }
   ],
   "source": [
    "print(len(SP500.index)*0.995)"
   ]
  },
  {
   "cell_type": "code",
   "execution_count": 5,
   "id": "e4660943",
   "metadata": {},
   "outputs": [],
   "source": [
    "# Get Sector Data from Wikipedia\n",
    "payload=pd.read_html('https://en.wikipedia.org/wiki/List_of_S%26P_500_companies')\n",
    "first_table = payload[0]\n",
    "second_table = payload[1]\n",
    "\n",
    "df = first_table\n",
    "#show unique economy sectors\n",
    "sectors = df['GICS Sector'].values.tolist()\n",
    "sectors = set(sectors)"
   ]
  },
  {
   "cell_type": "code",
   "execution_count": 6,
   "id": "5a6d63e2",
   "metadata": {},
   "outputs": [
    {
     "name": "stdout",
     "output_type": "stream",
     "text": [
      "{'Utilities', 'Information Technology', 'Materials', 'Health Care', 'Industrials', 'Consumer Discretionary', 'Financials', 'Communication Services', 'Consumer Staples', 'Real Estate', 'Energy'}\n"
     ]
    }
   ],
   "source": [
    "print(sectors)"
   ]
  },
  {
   "cell_type": "code",
   "execution_count": 7,
   "id": "68c357f5",
   "metadata": {},
   "outputs": [],
   "source": [
    "NumberOfCompanies = 0"
   ]
  },
  {
   "cell_type": "markdown",
   "id": "05b1ae25",
   "metadata": {},
   "source": [
    "#### Fill almost complete Time Series\n",
    "\n",
    "If a Time Series is not complete, but has more than 99.5% of the data: just interpolate the missing values by setting them equal to the previous value."
   ]
  },
  {
   "cell_type": "code",
   "execution_count": 8,
   "id": "d827ae58",
   "metadata": {},
   "outputs": [],
   "source": [
    "SPmissing =  yf.Ticker(\"^GSPC\").history(start = start, end = end, period = \"1d\", prepost=False)\n"
   ]
  },
  {
   "cell_type": "code",
   "execution_count": 9,
   "id": "9a69caed",
   "metadata": {},
   "outputs": [
    {
     "name": "stdout",
     "output_type": "stream",
     "text": [
      "DatetimeIndex(['1992-01-02', '1992-01-03', '1992-01-06', '1992-01-07',\n",
      "               '1992-01-08', '1992-01-09', '1992-01-10', '1992-01-13',\n",
      "               '1992-01-14', '1992-01-15',\n",
      "               ...\n",
      "               '2012-12-17', '2012-12-18', '2012-12-19', '2012-12-20',\n",
      "               '2012-12-21', '2012-12-24', '2012-12-26', '2012-12-27',\n",
      "               '2012-12-28', '2012-12-31'],\n",
      "              dtype='datetime64[ns]', name='Date', length=5287, freq=None)\n"
     ]
    }
   ],
   "source": [
    "SPmissing = SPmissing.drop(SPmissing.index[99])\n",
    "SPmissing =  SPmissing.drop(SPmissing.index[99])\n",
    "SPmissing =  SPmissing.drop(SPmissing.index[1000])\n",
    "SPmissing =  SPmissing.drop(SPmissing.index[5000])\n",
    "print(SPmissing.index)"
   ]
  },
  {
   "cell_type": "code",
   "execution_count": 10,
   "id": "30dd6b80",
   "metadata": {},
   "outputs": [
    {
     "name": "stdout",
     "output_type": "stream",
     "text": [
      "[Timestamp('1992-05-22 00:00:00'), Timestamp('1992-05-26 00:00:00'), Timestamp('1995-12-18 00:00:00'), Timestamp('2011-11-07 00:00:00')]\n"
     ]
    }
   ],
   "source": [
    "Missing = list(set(SP500.index) - set(SPmissing.index))\n",
    "Missing = sorted(Missing)\n",
    "print(Missing)"
   ]
  },
  {
   "cell_type": "code",
   "execution_count": 11,
   "id": "a93b980a",
   "metadata": {},
   "outputs": [
    {
     "name": "stdout",
     "output_type": "stream",
     "text": [
      "                   Open         High          Low        Close      Volume  \\\n",
      "Date                                                                         \n",
      "1992-01-02   417.029999   417.269989   411.040009   417.260010   207570000   \n",
      "1992-01-03   417.269989   419.790009   416.160004   419.339996   224270000   \n",
      "1992-01-06   419.309998   419.440002   416.920013   417.959991   251210000   \n",
      "1992-01-07   417.959991   417.959991   415.200012   417.399994   252780000   \n",
      "1992-01-08   417.359985   420.230011   415.019989   418.100006   290750000   \n",
      "...                 ...          ...          ...          ...         ...   \n",
      "2012-12-24  1430.150024  1430.150024  1424.660034  1426.660034  1248960000   \n",
      "2012-12-26  1426.660034  1429.420044  1416.430054  1419.829956  2285030000   \n",
      "2012-12-27  1419.829956  1422.800049  1401.800049  1418.099976  2830180000   \n",
      "2012-12-28  1418.099976  1418.099976  1401.579956  1402.430054  2426680000   \n",
      "2012-12-31  1402.430054  1426.739990  1398.109985  1426.189941  3204330000   \n",
      "\n",
      "            Dividends  Stock Splits  \n",
      "Date                                 \n",
      "1992-01-02          0             0  \n",
      "1992-01-03          0             0  \n",
      "1992-01-06          0             0  \n",
      "1992-01-07          0             0  \n",
      "1992-01-08          0             0  \n",
      "...               ...           ...  \n",
      "2012-12-24          0             0  \n",
      "2012-12-26          0             0  \n",
      "2012-12-27          0             0  \n",
      "2012-12-28          0             0  \n",
      "2012-12-31          0             0  \n",
      "\n",
      "[5287 rows x 7 columns]\n"
     ]
    }
   ],
   "source": [
    "print(SPmissing)"
   ]
  },
  {
   "cell_type": "code",
   "execution_count": 12,
   "id": "74c8c64e",
   "metadata": {
    "scrolled": true
   },
   "outputs": [
    {
     "name": "stdout",
     "output_type": "stream",
     "text": [
      "1992-05-22 00:00:00\n",
      "Open            4.126100e+02\n",
      "High            4.148200e+02\n",
      "Low             4.126000e+02\n",
      "Close           4.140200e+02\n",
      "Volume          1.467100e+08\n",
      "Dividends       0.000000e+00\n",
      "Stock Splits    0.000000e+00\n",
      "Name: 1992-05-22 00:00:00, dtype: float64\n",
      "1992-05-26 00:00:00\n",
      "Open            4.140200e+02\n",
      "High            4.140200e+02\n",
      "Low             4.102300e+02\n",
      "Close           4.114100e+02\n",
      "Volume          1.977000e+08\n",
      "Dividends       0.000000e+00\n",
      "Stock Splits    0.000000e+00\n",
      "Name: 1992-05-26 00:00:00, dtype: float64\n",
      "1995-12-18 00:00:00\n",
      "Open            6.163400e+02\n",
      "High            6.163400e+02\n",
      "Low             6.061300e+02\n",
      "Close           6.068100e+02\n",
      "Volume          4.262700e+08\n",
      "Dividends       0.000000e+00\n",
      "Stock Splits    0.000000e+00\n",
      "Name: 1995-12-18 00:00:00, dtype: float64\n",
      "2011-11-07 00:00:00\n",
      "Open            1.253210e+03\n",
      "High            1.261700e+03\n",
      "Low             1.240750e+03\n",
      "Close           1.261120e+03\n",
      "Volume          3.429740e+09\n",
      "Dividends       0.000000e+00\n",
      "Stock Splits    0.000000e+00\n",
      "Name: 2011-11-07 00:00:00, dtype: float64\n",
      "                   Open         High          Low        Close        Volume  \\\n",
      "Date                                                                           \n",
      "1992-01-02   417.029999   417.269989   411.040009   417.260010  2.075700e+08   \n",
      "1992-01-03   417.269989   419.790009   416.160004   419.339996  2.242700e+08   \n",
      "1992-01-06   419.309998   419.440002   416.920013   417.959991  2.512100e+08   \n",
      "1992-01-07   417.959991   417.959991   415.200012   417.399994  2.527800e+08   \n",
      "1992-01-08   417.359985   420.230011   415.019989   418.100006  2.907500e+08   \n",
      "...                 ...          ...          ...          ...           ...   \n",
      "2012-12-24  1430.150024  1430.150024  1424.660034  1426.660034  1.248960e+09   \n",
      "2012-12-26  1426.660034  1429.420044  1416.430054  1419.829956  2.285030e+09   \n",
      "2012-12-27  1419.829956  1422.800049  1401.800049  1418.099976  2.830180e+09   \n",
      "2012-12-28  1418.099976  1418.099976  1401.579956  1402.430054  2.426680e+09   \n",
      "2012-12-31  1402.430054  1426.739990  1398.109985  1426.189941  3.204330e+09   \n",
      "\n",
      "            Dividends  Stock Splits  \n",
      "Date                                 \n",
      "1992-01-02        0.0           0.0  \n",
      "1992-01-03        0.0           0.0  \n",
      "1992-01-06        0.0           0.0  \n",
      "1992-01-07        0.0           0.0  \n",
      "1992-01-08        0.0           0.0  \n",
      "...               ...           ...  \n",
      "2012-12-24        0.0           0.0  \n",
      "2012-12-26        0.0           0.0  \n",
      "2012-12-27        0.0           0.0  \n",
      "2012-12-28        0.0           0.0  \n",
      "2012-12-31        0.0           0.0  \n",
      "\n",
      "[5291 rows x 7 columns]\n"
     ]
    }
   ],
   "source": [
    "for i in Missing:\n",
    "    print(i)\n",
    "    print(SP500.loc[i])\n",
    "    SPmissing.loc[i] = np.nan \n",
    "SPmissing = SPmissing.sort_index()\n",
    "print(SPmissing)"
   ]
  },
  {
   "cell_type": "code",
   "execution_count": 13,
   "id": "cff48841",
   "metadata": {},
   "outputs": [
    {
     "name": "stdout",
     "output_type": "stream",
     "text": [
      "            Open  High  Low  Close  Volume  Dividends  Stock Splits\n",
      "Date                                                               \n",
      "1992-05-22   NaN   NaN  NaN    NaN     NaN        NaN           NaN\n",
      "1992-05-26   NaN   NaN  NaN    NaN     NaN        NaN           NaN\n",
      "1995-12-18   NaN   NaN  NaN    NaN     NaN        NaN           NaN\n",
      "2011-11-07   NaN   NaN  NaN    NaN     NaN        NaN           NaN\n"
     ]
    }
   ],
   "source": [
    "print(SPmissing.iloc[[99,100,1002,5003]])"
   ]
  },
  {
   "cell_type": "code",
   "execution_count": 14,
   "id": "7c643abc",
   "metadata": {},
   "outputs": [
    {
     "data": {
      "text/plain": [
       "Date\n",
       "1992-05-22     412.456675\n",
       "1992-05-26     412.313344\n",
       "1995-12-18     614.135010\n",
       "2011-11-07    1264.575012\n",
       "Name: Close, dtype: float64"
      ]
     },
     "execution_count": 14,
     "metadata": {},
     "output_type": "execute_result"
    }
   ],
   "source": [
    "SPmissing[\"Close\"].interpolate().iloc[[99,100,1002,5003]]"
   ]
  },
  {
   "cell_type": "code",
   "execution_count": 15,
   "id": "bc9e7dfe",
   "metadata": {},
   "outputs": [
    {
     "name": "stdout",
     "output_type": "stream",
     "text": [
      "Date\n",
      "1992-05-18    412.809998\n",
      "1992-05-19    416.369995\n",
      "1992-05-20    415.390015\n",
      "1992-05-21    412.600006\n",
      "1992-05-22           NaN\n",
      "1992-05-26           NaN\n",
      "1992-05-27    412.170013\n",
      "1992-05-28    416.739990\n",
      "1992-05-29    415.350006\n",
      "1992-06-01    417.299988\n",
      "Name: Close, dtype: float64\n"
     ]
    }
   ],
   "source": [
    "print(SPmissing[\"Close\"].iloc[95:105])"
   ]
  },
  {
   "cell_type": "code",
   "execution_count": 16,
   "id": "144401cd",
   "metadata": {},
   "outputs": [
    {
     "name": "stdout",
     "output_type": "stream",
     "text": [
      "Date\n",
      "1992-05-18    412.809998\n",
      "1992-05-19    416.369995\n",
      "1992-05-20    415.390015\n",
      "1992-05-21    412.600006\n",
      "1992-05-22    412.600006\n",
      "1992-05-26    412.170013\n",
      "1992-05-27    412.170013\n",
      "1992-05-28    416.739990\n",
      "1992-05-29    415.350006\n",
      "1992-06-01    417.299988\n",
      "Name: Close, dtype: float64\n"
     ]
    }
   ],
   "source": [
    "print(SPmissing[\"Close\"].interpolate(\"nearest\").iloc[95:105])"
   ]
  },
  {
   "cell_type": "code",
   "execution_count": 17,
   "id": "065fcfa6",
   "metadata": {},
   "outputs": [],
   "source": [
    "def Interpolate(DS, index):\n",
    "    # takes pandas Series DS with some missing closing data and returns an interpolation for all\n",
    "    # elements which are in index but not in DS.index\n",
    "    Output = DS.copy()\n",
    "    \n",
    "    missing = set(index)-set(DS.index)\n",
    "    \n",
    "    for i in missing:\n",
    "        Output.loc[i] = np.nan # add missing value\n",
    "    Output = Output.sort_index() # sorting\n",
    "    return(Output.interpolate(\"nearest\"))"
   ]
  },
  {
   "cell_type": "code",
   "execution_count": 18,
   "id": "89b05c95",
   "metadata": {},
   "outputs": [
    {
     "data": {
      "text/plain": [
       "Date\n",
       "1992-01-02     417.260010\n",
       "1992-01-03     419.339996\n",
       "1992-01-06     417.959991\n",
       "1992-01-07     417.399994\n",
       "1992-01-08     418.100006\n",
       "                 ...     \n",
       "2012-12-24    1426.660034\n",
       "2012-12-26    1419.829956\n",
       "2012-12-27    1418.099976\n",
       "2012-12-28    1402.430054\n",
       "2012-12-31    1426.189941\n",
       "Name: Close, Length: 5291, dtype: float64"
      ]
     },
     "execution_count": 18,
     "metadata": {},
     "output_type": "execute_result"
    }
   ],
   "source": [
    "Interpolate(SPmissing[\"Close\"], SP500.index)"
   ]
  },
  {
   "cell_type": "code",
   "execution_count": null,
   "id": "5a766205",
   "metadata": {},
   "outputs": [],
   "source": []
  },
  {
   "cell_type": "code",
   "execution_count": null,
   "id": "552aef5d",
   "metadata": {},
   "outputs": [],
   "source": []
  },
  {
   "cell_type": "code",
   "execution_count": 19,
   "id": "ebd3ab90",
   "metadata": {},
   "outputs": [
    {
     "name": "stdout",
     "output_type": "stream",
     "text": [
      "Empty DataFrame\n",
      "Columns: []\n",
      "Index: [1992-01-02 00:00:00, 1992-01-03 00:00:00, 1992-01-06 00:00:00, 1992-01-07 00:00:00, 1992-01-08 00:00:00, 1992-01-09 00:00:00, 1992-01-10 00:00:00, 1992-01-13 00:00:00, 1992-01-14 00:00:00, 1992-01-15 00:00:00, 1992-01-16 00:00:00, 1992-01-17 00:00:00, 1992-01-20 00:00:00, 1992-01-21 00:00:00, 1992-01-22 00:00:00, 1992-01-23 00:00:00, 1992-01-24 00:00:00, 1992-01-27 00:00:00, 1992-01-28 00:00:00, 1992-01-29 00:00:00, 1992-01-30 00:00:00, 1992-01-31 00:00:00, 1992-02-03 00:00:00, 1992-02-04 00:00:00, 1992-02-05 00:00:00, 1992-02-06 00:00:00, 1992-02-07 00:00:00, 1992-02-10 00:00:00, 1992-02-11 00:00:00, 1992-02-12 00:00:00, 1992-02-13 00:00:00, 1992-02-14 00:00:00, 1992-02-18 00:00:00, 1992-02-19 00:00:00, 1992-02-20 00:00:00, 1992-02-21 00:00:00, 1992-02-24 00:00:00, 1992-02-25 00:00:00, 1992-02-26 00:00:00, 1992-02-27 00:00:00, 1992-02-28 00:00:00, 1992-03-02 00:00:00, 1992-03-03 00:00:00, 1992-03-04 00:00:00, 1992-03-05 00:00:00, 1992-03-06 00:00:00, 1992-03-09 00:00:00, 1992-03-10 00:00:00, 1992-03-11 00:00:00, 1992-03-12 00:00:00, 1992-03-13 00:00:00, 1992-03-16 00:00:00, 1992-03-17 00:00:00, 1992-03-18 00:00:00, 1992-03-19 00:00:00, 1992-03-20 00:00:00, 1992-03-23 00:00:00, 1992-03-24 00:00:00, 1992-03-25 00:00:00, 1992-03-26 00:00:00, 1992-03-27 00:00:00, 1992-03-30 00:00:00, 1992-03-31 00:00:00, 1992-04-01 00:00:00, 1992-04-02 00:00:00, 1992-04-03 00:00:00, 1992-04-06 00:00:00, 1992-04-07 00:00:00, 1992-04-08 00:00:00, 1992-04-09 00:00:00, 1992-04-10 00:00:00, 1992-04-13 00:00:00, 1992-04-14 00:00:00, 1992-04-15 00:00:00, 1992-04-16 00:00:00, 1992-04-20 00:00:00, 1992-04-21 00:00:00, 1992-04-22 00:00:00, 1992-04-23 00:00:00, 1992-04-24 00:00:00, 1992-04-27 00:00:00, 1992-04-28 00:00:00, 1992-04-29 00:00:00, 1992-04-30 00:00:00, 1992-05-01 00:00:00, 1992-05-04 00:00:00, 1992-05-05 00:00:00, 1992-05-06 00:00:00, 1992-05-07 00:00:00, 1992-05-08 00:00:00, 1992-05-11 00:00:00, 1992-05-12 00:00:00, 1992-05-13 00:00:00, 1992-05-14 00:00:00, 1992-05-15 00:00:00, 1992-05-18 00:00:00, 1992-05-19 00:00:00, 1992-05-20 00:00:00, 1992-05-21 00:00:00, 1992-05-22 00:00:00, ...]\n",
      "\n",
      "[5291 rows x 0 columns]\n"
     ]
    }
   ],
   "source": [
    "CompaniesDF = pd.DataFrame({})\n",
    "CompaniesDF.index = SP500.index\n",
    "print(CompaniesDF)"
   ]
  },
  {
   "cell_type": "code",
   "execution_count": 20,
   "id": "d88771ed",
   "metadata": {},
   "outputs": [],
   "source": [
    "def SectorNormReturns(sec,df, start, end, lag):\n",
    "    global NumberOfCompanies\n",
    "    # takes the name of a sector and returns the aggregated data of all companies' normalised returns from \n",
    "    # start to endhich have full data for this time period\n",
    "    # Normalising via averages over lag\n",
    "    #  df = pandas Dataframe of company symbols \"Symbol\" and sector \"GICS Sector\"\n",
    "    \n",
    "    Counter = 0 # how many \"valid\" time series?\n",
    "    \n",
    "    SP500 = yf.Ticker(\"^GSPC\")\n",
    "    SP500 = SP500.history(start = start, end = end)\n",
    "    Output = 0*SP500[\"Close\"] # this is the output pandas series\n",
    "    \n",
    "    List = df[df['GICS Sector'] == sec]['Symbol'].values.tolist() # list of all companies in sector\n",
    "    \n",
    "    \n",
    "    \n",
    "    for sym in List:\n",
    "        StockData = yf.Ticker(sym)\n",
    "        StockData = StockData.history(start = start, end = end, period = \"1d\")\n",
    "        StockData = StockData[\"Close\"]\n",
    "        print(sym,len(StockData.index), len(StockData.index) == len(SP500.index))\n",
    "        \n",
    "        \n",
    "        # only add stocks to sector data which have full history\n",
    "        if len(StockData.index) == len(SP500.index):\n",
    "            \n",
    "            Counter +=1\n",
    "            \n",
    "            \n",
    "            # calculate returns via difference operator and an index shift\n",
    "            StockShifted = pd.Series(StockData.iloc[0:(len(StockData)-1)])\n",
    "            StockShifted.index = StockData.index[1:(len(StockData))]\n",
    "            StockData = (StockData.diff()/StockShifted) \n",
    "        \n",
    "            # Shift the new data (again...) to calculate the average of the last \"lag\" returns before current date\n",
    "            Shift = pd.Series(StockData.iloc[0:(len(StockData)-1)])\n",
    "            Shift.index = StockData.index[1:] \n",
    "            \n",
    "            #print(sym)\n",
    "            PlusOutput = (StockData-Shift.rolling(lag).mean())/Shift.rolling(lag).std()\n",
    "            #print(PlusOutput)\n",
    "            #print(sym, PlusOutput)\n",
    "\n",
    "            Output = Output.add(PlusOutput)\n",
    "            CompaniesDF[sym] = PlusOutput\n",
    "            \n",
    "        # if the data is incomplete, but almost complete    \n",
    "        elif len(StockData.index) > 0.995*len(SP500.index): \n",
    "            \n",
    "            # Interpolate the data\n",
    "            StockData = Interpolate(StockData, SP500.index)\n",
    "                        \n",
    "            Counter +=1\n",
    "            \n",
    "            \n",
    "            # calculate returns via difference operator and an index shift\n",
    "            StockShifted = pd.Series(StockData.iloc[0:(len(StockData)-1)])\n",
    "            StockShifted.index = StockData.index[1:(len(StockData))]\n",
    "            StockData = (StockData.diff()/StockShifted) \n",
    "        \n",
    "            # Shift the new data (again...) to calculate the average of the last \"lag\" returns before current date\n",
    "            Shift = pd.Series(StockData.iloc[0:(len(StockData)-1)])\n",
    "            Shift.index = StockData.index[1:] \n",
    "            \n",
    "            #print(sym)\n",
    "            PlusOutput = (StockData-Shift.rolling(lag).mean())/Shift.rolling(lag).std()\n",
    "            #print(PlusOutput)\n",
    "            #print(sym, PlusOutput)\n",
    "\n",
    "            Output = Output.add(PlusOutput)\n",
    "            CompaniesDF[sym] = PlusOutput\n",
    "            \n",
    "            \n",
    "    NumberOfCompanies += Counter    \n",
    "    print(Counter)   \n",
    "    return(Output)"
   ]
  },
  {
   "cell_type": "code",
   "execution_count": 21,
   "id": "bdfc2be4",
   "metadata": {
    "scrolled": true
   },
   "outputs": [
    {
     "name": "stdout",
     "output_type": "stream",
     "text": [
      "Utilities\n",
      "28\n",
      "AES 5282 False\n",
      "LNT 5282 False\n",
      "AEE 3772 False\n",
      "AEP 5281 False\n",
      "AWK 1182 False\n",
      "ATO 5291 True\n",
      "CNP 5291 True\n",
      "CMS 5284 False\n",
      "ED 5279 False\n",
      "D 5280 False\n",
      "DTE 5285 False\n",
      "DUK 5280 False\n",
      "EIX 5282 False\n",
      "ETR 5282 False\n",
      "EVRG 5282 False\n",
      "ES 5280 False\n",
      "EXC 5280 False\n",
      "FE 3809 False\n",
      "NEE 5281 False\n",
      "NI 5284 False\n",
      "NRG 2286 False\n",
      "PNW 5280 False\n",
      "PPL 5282 False\n",
      "PEG 5283 False\n",
      "SRE 3651 False\n",
      "SO 5285 False\n",
      "WEC 5279 False\n",
      "XEL 5281 False\n",
      "23\n",
      "Information Technology\n",
      "74\n",
      "ACN 2880 False\n",
      "ADBE 5289 False\n",
      "AMD 5290 False\n",
      "AKAM 3313 False\n",
      "APH 5280 False\n",
      "ADI 5283 False\n",
      "ANSS 4154 False\n",
      "AAPL 5285 False\n",
      "AMAT 5290 False\n",
      "- ANET: Data doesn't exist for startDate = 694306800, endDate = 1356994800\n",
      "ANET 0 False\n",
      "ADSK 4583 False\n",
      "ADP 5288 False\n",
      "AVGO 857 False\n",
      "BR 1456 False\n",
      "CDNS 5280 False\n",
      "- CDW: Data doesn't exist for startDate = 694306800, endDate = 1356994800\n",
      "CDW 0 False\n",
      "- CDAY: Data doesn't exist for startDate = 694306800, endDate = 1356994800\n",
      "CDAY 0 False\n",
      "CSCO 5290 False\n",
      "CTXS 4288 False\n",
      "CTSH 3657 False\n",
      "GLW 5280 False\n",
      "DXC 5281 False\n",
      "ENPH 189 False\n",
      "FFIV 3416 False\n",
      "FIS 2900 False\n",
      "FISV 5285 False\n",
      "FLT 514 False\n",
      "FTNT 784 False\n",
      "IT 4835 False\n",
      "GPN 3008 False\n",
      "- HPE: Data doesn't exist for startDate = 694306800, endDate = 1356994800\n",
      "HPE 0 False\n",
      "HPQ 5278 False\n",
      "INTC 5286 False\n",
      "IBM 5280 False\n",
      "INTU 4987 False\n",
      "IPGP 1522 False\n",
      "JKHY 5278 False\n",
      "JNPR 3401 False\n",
      "- KEYS: Data doesn't exist for startDate = 694306800, endDate = 1356994800\n",
      "KEYS 0 False\n",
      "KLAC 5291 True\n",
      "LRCX 5291 True\n",
      "MA 1662 False\n",
      "MCHP 4983 False\n",
      "MU 5286 False\n",
      "MSFT 5291 True\n",
      "MPWR 2042 False\n",
      "MSI 5278 False\n",
      "NTAP 4297 False\n",
      "NLOK 5275 False\n",
      "NVDA 3508 False\n",
      "NXPI 605 False\n",
      "ORCL 5277 False\n",
      "PAYX 5288 False\n",
      "- PAYC: Data doesn't exist for startDate = 694306800, endDate = 1356994800\n",
      "PAYC 0 False\n",
      "- PYPL: Data doesn't exist for startDate = 694306800, endDate = 1356994800\n",
      "PYPL 0 False\n",
      "PTC 5291 True\n",
      "- QRVO: Data doesn't exist for startDate = 694306800, endDate = 1356994800\n",
      "QRVO 0 False\n",
      "QCOM 5288 False\n",
      "CRM 2147 False\n",
      "STX 2531 False\n",
      "NOW 126 False\n",
      "SWKS 5280 False\n",
      "SNPS 5247 False\n",
      "TEL 1398 False\n",
      "TER 5276 False\n",
      "TXN 5287 False\n",
      "TRMB 5278 False\n",
      "TYL 5275 False\n",
      "VRSN 3754 False\n",
      "V 1206 False\n",
      "WDC 5276 False\n",
      "WU 1573 False\n",
      "XLNX 5291 True\n",
      "ZBRA 5276 False\n",
      "34\n",
      "Materials\n",
      "28\n",
      "APD 5282 False\n",
      "ALB 4749 False\n",
      "- AMCR: No data found for this date range, symbol may be delisted\n",
      "AMCR 0 False\n",
      "AVY 5284 False\n",
      "BLL 5281 False\n",
      "CE 2000 False\n",
      "CF 1860 False\n",
      "- CTVA: Data doesn't exist for startDate = 694306800, endDate = 1356994800\n",
      "CTVA 0 False\n",
      "- DOW: Data doesn't exist for startDate = 694306800, endDate = 1356994800\n",
      "DOW 0 False\n",
      "DD 5280 False\n",
      "EMN 4774 False\n",
      "ECL 5283 False\n",
      "FMC 5280 False\n",
      "FCX 4394 False\n",
      "IP 5281 False\n",
      "IFF 5281 False\n",
      "LIN 5165 False\n",
      "LYB 675 False\n",
      "MLM 4739 False\n",
      "MOS 4565 False\n",
      "NEM 5279 False\n",
      "NUE 5280 False\n",
      "PKG 3251 False\n",
      "PPG 5280 False\n",
      "SEE 4565 False\n",
      "SHW 5280 False\n",
      "VMC 5275 False\n",
      "- WRK: Data doesn't exist for startDate = 694306800, endDate = 1356994800\n",
      "WRK 0 False\n",
      "13\n",
      "Health Care\n",
      "64\n",
      "ABT 5282 False\n",
      "ABBV 15 False\n",
      "ABMD 5279 False\n",
      "A 3299 False\n",
      "ALGN 3000 False\n",
      "ABC 4460 False\n",
      "AMGN 5288 False\n",
      "ANTM 2812 False\n",
      "BAX 5280 False\n",
      "BDX 5282 False\n",
      "BIO 5280 False\n",
      "TECH 5287 False\n",
      "BIIB 5280 False\n",
      "BSX 5185 False\n",
      "BMY 5280 False\n",
      "CAH 5279 False\n",
      "- CTLT: Data doesn't exist for startDate = 694306800, endDate = 1356994800\n",
      "CTLT 0 False\n",
      "CNC 2781 False\n",
      "CERN 5280 False\n",
      "CRL 3148 False\n",
      "CI 5281 False\n",
      "COO 5291 True\n",
      "CVS 5278 False\n",
      "DHR 5282 False\n",
      "DVA 4308 False\n",
      "XRAY 5279 False\n",
      "DXCM 1943 False\n",
      "EW 3211 False\n",
      "GILD 5266 False\n",
      "HCA 456 False\n",
      "HSIC 4310 False\n",
      "HOLX 5278 False\n",
      "HUM 4986 False\n",
      "IDXX 5281 False\n",
      "ILMN 3125 False\n",
      "INCY 4813 False\n",
      "ISRG 3157 False\n",
      "- IQV: Data doesn't exist for startDate = 694306800, endDate = 1356994800\n",
      "IQV 0 False\n",
      "JNJ 5281 False\n",
      "LH 5252 False\n",
      "LLY 5280 False\n",
      "MCK 4557 False\n",
      "MDT 5277 False\n",
      "MRK 5280 False\n",
      "MTD 3804 False\n",
      "- MRNA: Data doesn't exist for startDate = 694306800, endDate = 1356994800\n",
      "MRNA 0 False\n",
      "- OGN: Data doesn't exist for startDate = 694306800, endDate = 1356994800\n",
      "OGN 0 False\n",
      "PKI 5281 False\n",
      "PFE 5281 False\n",
      "DGX 4029 False\n",
      "REGN 5281 False\n",
      "RMD 4412 False\n",
      "STE 5172 False\n",
      "SYK 5289 False\n",
      "TFX 5276 False\n",
      "TMO 5276 False\n",
      "UNH 5276 False\n",
      "UHS 5276 False\n"
     ]
    },
    {
     "name": "stderr",
     "output_type": "stream",
     "text": [
      "/home/users/t_wand01/.local/lib/python3.7/site-packages/ipykernel_launcher.py:72: PerformanceWarning: DataFrame is highly fragmented.  This is usually the result of calling `frame.insert` many times, which has poor performance.  Consider joining all columns at once using pd.concat(axis=1) instead.  To get a de-fragmented frame, use `newframe = frame.copy()`\n"
     ]
    },
    {
     "name": "stdout",
     "output_type": "stream",
     "text": [
      "VRTX 5274 False\n"
     ]
    },
    {
     "name": "stderr",
     "output_type": "stream",
     "text": [
      "/home/users/t_wand01/.local/lib/python3.7/site-packages/ipykernel_launcher.py:72: PerformanceWarning: DataFrame is highly fragmented.  This is usually the result of calling `frame.insert` many times, which has poor performance.  Consider joining all columns at once using pd.concat(axis=1) instead.  To get a de-fragmented frame, use `newframe = frame.copy()`\n"
     ]
    },
    {
     "name": "stdout",
     "output_type": "stream",
     "text": [
      "VTRS 5282 False\n"
     ]
    },
    {
     "name": "stderr",
     "output_type": "stream",
     "text": [
      "/home/users/t_wand01/.local/lib/python3.7/site-packages/ipykernel_launcher.py:72: PerformanceWarning: DataFrame is highly fragmented.  This is usually the result of calling `frame.insert` many times, which has poor performance.  Consider joining all columns at once using pd.concat(axis=1) instead.  To get a de-fragmented frame, use `newframe = frame.copy()`\n"
     ]
    },
    {
     "name": "stdout",
     "output_type": "stream",
     "text": [
      "WAT 4297 False\n",
      "WST 5280 False\n"
     ]
    },
    {
     "name": "stderr",
     "output_type": "stream",
     "text": [
      "/home/users/t_wand01/.local/lib/python3.7/site-packages/ipykernel_launcher.py:72: PerformanceWarning: DataFrame is highly fragmented.  This is usually the result of calling `frame.insert` many times, which has poor performance.  Consider joining all columns at once using pd.concat(axis=1) instead.  To get a de-fragmented frame, use `newframe = frame.copy()`\n"
     ]
    },
    {
     "name": "stdout",
     "output_type": "stream",
     "text": [
      "ZBH 2876 False\n",
      "- ZTS: Data doesn't exist for startDate = 694306800, endDate = 1356994800\n",
      "ZTS 0 False\n",
      "34\n",
      "Industrials\n",
      "74\n",
      "MMM 5281 False\n"
     ]
    },
    {
     "name": "stderr",
     "output_type": "stream",
     "text": [
      "/home/users/t_wand01/.local/lib/python3.7/site-packages/ipykernel_launcher.py:72: PerformanceWarning: DataFrame is highly fragmented.  This is usually the result of calling `frame.insert` many times, which has poor performance.  Consider joining all columns at once using pd.concat(axis=1) instead.  To get a de-fragmented frame, use `newframe = frame.copy()`\n"
     ]
    },
    {
     "name": "stdout",
     "output_type": "stream",
     "text": [
      "ALK 5283 False\n",
      "- ALLE: Data doesn't exist for startDate = 694306800, endDate = 1356994800\n",
      "ALLE 0 False\n"
     ]
    },
    {
     "name": "stderr",
     "output_type": "stream",
     "text": [
      "/home/users/t_wand01/.local/lib/python3.7/site-packages/ipykernel_launcher.py:72: PerformanceWarning: DataFrame is highly fragmented.  This is usually the result of calling `frame.insert` many times, which has poor performance.  Consider joining all columns at once using pd.concat(axis=1) instead.  To get a de-fragmented frame, use `newframe = frame.copy()`\n"
     ]
    },
    {
     "name": "stdout",
     "output_type": "stream",
     "text": [
      "AAL 1828 False\n",
      "AME 5275 False\n"
     ]
    },
    {
     "name": "stderr",
     "output_type": "stream",
     "text": [
      "/home/users/t_wand01/.local/lib/python3.7/site-packages/ipykernel_launcher.py:72: PerformanceWarning: DataFrame is highly fragmented.  This is usually the result of calling `frame.insert` many times, which has poor performance.  Consider joining all columns at once using pd.concat(axis=1) instead.  To get a de-fragmented frame, use `newframe = frame.copy()`\n"
     ]
    },
    {
     "name": "stdout",
     "output_type": "stream",
     "text": [
      "AOS 5291 True\n"
     ]
    },
    {
     "name": "stderr",
     "output_type": "stream",
     "text": [
      "/home/users/t_wand01/.local/lib/python3.7/site-packages/ipykernel_launcher.py:46: PerformanceWarning: DataFrame is highly fragmented.  This is usually the result of calling `frame.insert` many times, which has poor performance.  Consider joining all columns at once using pd.concat(axis=1) instead.  To get a de-fragmented frame, use `newframe = frame.copy()`\n"
     ]
    },
    {
     "name": "stdout",
     "output_type": "stream",
     "text": [
      "BA 5291 True\n",
      "CHRW 3825 False\n",
      "- CARR: Data doesn't exist for startDate = 694306800, endDate = 1356994800\n",
      "CARR 0 False\n",
      "CAT 5280 False\n"
     ]
    },
    {
     "name": "stderr",
     "output_type": "stream",
     "text": [
      "/home/users/t_wand01/.local/lib/python3.7/site-packages/ipykernel_launcher.py:72: PerformanceWarning: DataFrame is highly fragmented.  This is usually the result of calling `frame.insert` many times, which has poor performance.  Consider joining all columns at once using pd.concat(axis=1) instead.  To get a de-fragmented frame, use `newframe = frame.copy()`\n"
     ]
    },
    {
     "name": "stdout",
     "output_type": "stream",
     "text": [
      "CTAS 5283 False\n"
     ]
    },
    {
     "name": "stderr",
     "output_type": "stream",
     "text": [
      "/home/users/t_wand01/.local/lib/python3.7/site-packages/ipykernel_launcher.py:72: PerformanceWarning: DataFrame is highly fragmented.  This is usually the result of calling `frame.insert` many times, which has poor performance.  Consider joining all columns at once using pd.concat(axis=1) instead.  To get a de-fragmented frame, use `newframe = frame.copy()`\n"
     ]
    },
    {
     "name": "stdout",
     "output_type": "stream",
     "text": [
      "CPRT 4722 False\n",
      "CSX 5286 False\n"
     ]
    },
    {
     "name": "stderr",
     "output_type": "stream",
     "text": [
      "/home/users/t_wand01/.local/lib/python3.7/site-packages/ipykernel_launcher.py:72: PerformanceWarning: DataFrame is highly fragmented.  This is usually the result of calling `frame.insert` many times, which has poor performance.  Consider joining all columns at once using pd.concat(axis=1) instead.  To get a de-fragmented frame, use `newframe = frame.copy()`\n"
     ]
    },
    {
     "name": "stdout",
     "output_type": "stream",
     "text": [
      "CMI 5279 False\n"
     ]
    },
    {
     "name": "stderr",
     "output_type": "stream",
     "text": [
      "/home/users/t_wand01/.local/lib/python3.7/site-packages/ipykernel_launcher.py:72: PerformanceWarning: DataFrame is highly fragmented.  This is usually the result of calling `frame.insert` many times, which has poor performance.  Consider joining all columns at once using pd.concat(axis=1) instead.  To get a de-fragmented frame, use `newframe = frame.copy()`\n"
     ]
    },
    {
     "name": "stdout",
     "output_type": "stream",
     "text": [
      "DE 5281 False\n",
      "DAL 1427 False\n"
     ]
    },
    {
     "name": "stderr",
     "output_type": "stream",
     "text": [
      "/home/users/t_wand01/.local/lib/python3.7/site-packages/ipykernel_launcher.py:72: PerformanceWarning: DataFrame is highly fragmented.  This is usually the result of calling `frame.insert` many times, which has poor performance.  Consider joining all columns at once using pd.concat(axis=1) instead.  To get a de-fragmented frame, use `newframe = frame.copy()`\n"
     ]
    },
    {
     "name": "stdout",
     "output_type": "stream",
     "text": [
      "DOV 5281 False\n"
     ]
    },
    {
     "name": "stderr",
     "output_type": "stream",
     "text": [
      "/home/users/t_wand01/.local/lib/python3.7/site-packages/ipykernel_launcher.py:72: PerformanceWarning: DataFrame is highly fragmented.  This is usually the result of calling `frame.insert` many times, which has poor performance.  Consider joining all columns at once using pd.concat(axis=1) instead.  To get a de-fragmented frame, use `newframe = frame.copy()`\n"
     ]
    },
    {
     "name": "stdout",
     "output_type": "stream",
     "text": [
      "ETN 5281 False\n"
     ]
    },
    {
     "name": "stderr",
     "output_type": "stream",
     "text": [
      "/home/users/t_wand01/.local/lib/python3.7/site-packages/ipykernel_launcher.py:72: PerformanceWarning: DataFrame is highly fragmented.  This is usually the result of calling `frame.insert` many times, which has poor performance.  Consider joining all columns at once using pd.concat(axis=1) instead.  To get a de-fragmented frame, use `newframe = frame.copy()`\n"
     ]
    },
    {
     "name": "stdout",
     "output_type": "stream",
     "text": [
      "EMR 5280 False\n"
     ]
    },
    {
     "name": "stderr",
     "output_type": "stream",
     "text": [
      "/home/users/t_wand01/.local/lib/python3.7/site-packages/ipykernel_launcher.py:72: PerformanceWarning: DataFrame is highly fragmented.  This is usually the result of calling `frame.insert` many times, which has poor performance.  Consider joining all columns at once using pd.concat(axis=1) instead.  To get a de-fragmented frame, use `newframe = frame.copy()`\n"
     ]
    },
    {
     "name": "stdout",
     "output_type": "stream",
     "text": [
      "EFX 5280 False\n"
     ]
    },
    {
     "name": "stderr",
     "output_type": "stream",
     "text": [
      "/home/users/t_wand01/.local/lib/python3.7/site-packages/ipykernel_launcher.py:72: PerformanceWarning: DataFrame is highly fragmented.  This is usually the result of calling `frame.insert` many times, which has poor performance.  Consider joining all columns at once using pd.concat(axis=1) instead.  To get a de-fragmented frame, use `newframe = frame.copy()`\n"
     ]
    },
    {
     "name": "stdout",
     "output_type": "stream",
     "text": [
      "EXPD 5281 False\n"
     ]
    },
    {
     "name": "stderr",
     "output_type": "stream",
     "text": [
      "/home/users/t_wand01/.local/lib/python3.7/site-packages/ipykernel_launcher.py:72: PerformanceWarning: DataFrame is highly fragmented.  This is usually the result of calling `frame.insert` many times, which has poor performance.  Consider joining all columns at once using pd.concat(axis=1) instead.  To get a de-fragmented frame, use `newframe = frame.copy()`\n"
     ]
    },
    {
     "name": "stdout",
     "output_type": "stream",
     "text": [
      "FAST 5284 False\n"
     ]
    },
    {
     "name": "stderr",
     "output_type": "stream",
     "text": [
      "/home/users/t_wand01/.local/lib/python3.7/site-packages/ipykernel_launcher.py:72: PerformanceWarning: DataFrame is highly fragmented.  This is usually the result of calling `frame.insert` many times, which has poor performance.  Consider joining all columns at once using pd.concat(axis=1) instead.  To get a de-fragmented frame, use `newframe = frame.copy()`\n"
     ]
    },
    {
     "name": "stdout",
     "output_type": "stream",
     "text": [
      "FDX 5279 False\n",
      "- FTV: Data doesn't exist for startDate = 694306800, endDate = 1356994800\n",
      "FTV 0 False\n"
     ]
    },
    {
     "name": "stderr",
     "output_type": "stream",
     "text": [
      "/home/users/t_wand01/.local/lib/python3.7/site-packages/ipykernel_launcher.py:72: PerformanceWarning: DataFrame is highly fragmented.  This is usually the result of calling `frame.insert` many times, which has poor performance.  Consider joining all columns at once using pd.concat(axis=1) instead.  To get a de-fragmented frame, use `newframe = frame.copy()`\n"
     ]
    },
    {
     "name": "stdout",
     "output_type": "stream",
     "text": [
      "FBHS 324 False\n",
      "GNRC 727 False\n",
      "GD 5280 False\n"
     ]
    },
    {
     "name": "stderr",
     "output_type": "stream",
     "text": [
      "/home/users/t_wand01/.local/lib/python3.7/site-packages/ipykernel_launcher.py:72: PerformanceWarning: DataFrame is highly fragmented.  This is usually the result of calling `frame.insert` many times, which has poor performance.  Consider joining all columns at once using pd.concat(axis=1) instead.  To get a de-fragmented frame, use `newframe = frame.copy()`\n"
     ]
    },
    {
     "name": "stdout",
     "output_type": "stream",
     "text": [
      "GE 5282 False\n"
     ]
    },
    {
     "name": "stderr",
     "output_type": "stream",
     "text": [
      "/home/users/t_wand01/.local/lib/python3.7/site-packages/ipykernel_launcher.py:72: PerformanceWarning: DataFrame is highly fragmented.  This is usually the result of calling `frame.insert` many times, which has poor performance.  Consider joining all columns at once using pd.concat(axis=1) instead.  To get a de-fragmented frame, use `newframe = frame.copy()`\n"
     ]
    },
    {
     "name": "stdout",
     "output_type": "stream",
     "text": [
      "GWW 5280 False\n"
     ]
    },
    {
     "name": "stderr",
     "output_type": "stream",
     "text": [
      "/home/users/t_wand01/.local/lib/python3.7/site-packages/ipykernel_launcher.py:72: PerformanceWarning: DataFrame is highly fragmented.  This is usually the result of calling `frame.insert` many times, which has poor performance.  Consider joining all columns at once using pd.concat(axis=1) instead.  To get a de-fragmented frame, use `newframe = frame.copy()`\n"
     ]
    },
    {
     "name": "stdout",
     "output_type": "stream",
     "text": [
      "HON 5290 False\n",
      "- HWM: No data found for this date range, symbol may be delisted\n",
      "HWM 0 False\n"
     ]
    },
    {
     "name": "stderr",
     "output_type": "stream",
     "text": [
      "/home/users/t_wand01/.local/lib/python3.7/site-packages/ipykernel_launcher.py:72: PerformanceWarning: DataFrame is highly fragmented.  This is usually the result of calling `frame.insert` many times, which has poor performance.  Consider joining all columns at once using pd.concat(axis=1) instead.  To get a de-fragmented frame, use `newframe = frame.copy()`\n"
     ]
    },
    {
     "name": "stdout",
     "output_type": "stream",
     "text": [
      "HII 448 False\n",
      "IEX 5281 False\n"
     ]
    },
    {
     "name": "stderr",
     "output_type": "stream",
     "text": [
      "/home/users/t_wand01/.local/lib/python3.7/site-packages/ipykernel_launcher.py:72: PerformanceWarning: DataFrame is highly fragmented.  This is usually the result of calling `frame.insert` many times, which has poor performance.  Consider joining all columns at once using pd.concat(axis=1) instead.  To get a de-fragmented frame, use `newframe = frame.copy()`\n"
     ]
    },
    {
     "name": "stdout",
     "output_type": "stream",
     "text": [
      "INFO 1795 False\n",
      "ITW 5280 False\n",
      "- IR: Data doesn't exist for startDate = 694306800, endDate = 1356994800\n",
      "IR 0 False\n"
     ]
    },
    {
     "name": "stderr",
     "output_type": "stream",
     "text": [
      "/home/users/t_wand01/.local/lib/python3.7/site-packages/ipykernel_launcher.py:72: PerformanceWarning: DataFrame is highly fragmented.  This is usually the result of calling `frame.insert` many times, which has poor performance.  Consider joining all columns at once using pd.concat(axis=1) instead.  To get a de-fragmented frame, use `newframe = frame.copy()`\n"
     ]
    },
    {
     "name": "stdout",
     "output_type": "stream",
     "text": [
      "J 5280 False\n"
     ]
    },
    {
     "name": "stderr",
     "output_type": "stream",
     "text": [
      "/home/users/t_wand01/.local/lib/python3.7/site-packages/ipykernel_launcher.py:72: PerformanceWarning: DataFrame is highly fragmented.  This is usually the result of calling `frame.insert` many times, which has poor performance.  Consider joining all columns at once using pd.concat(axis=1) instead.  To get a de-fragmented frame, use `newframe = frame.copy()`\n"
     ]
    },
    {
     "name": "stdout",
     "output_type": "stream",
     "text": [
      "JBHT 5278 False\n"
     ]
    },
    {
     "name": "stderr",
     "output_type": "stream",
     "text": [
      "/home/users/t_wand01/.local/lib/python3.7/site-packages/ipykernel_launcher.py:72: PerformanceWarning: DataFrame is highly fragmented.  This is usually the result of calling `frame.insert` many times, which has poor performance.  Consider joining all columns at once using pd.concat(axis=1) instead.  To get a de-fragmented frame, use `newframe = frame.copy()`\n"
     ]
    },
    {
     "name": "stdout",
     "output_type": "stream",
     "text": [
      "JCI 5281 False\n"
     ]
    },
    {
     "name": "stderr",
     "output_type": "stream",
     "text": [
      "/home/users/t_wand01/.local/lib/python3.7/site-packages/ipykernel_launcher.py:72: PerformanceWarning: DataFrame is highly fragmented.  This is usually the result of calling `frame.insert` many times, which has poor performance.  Consider joining all columns at once using pd.concat(axis=1) instead.  To get a de-fragmented frame, use `newframe = frame.copy()`\n"
     ]
    },
    {
     "name": "stdout",
     "output_type": "stream",
     "text": [
      "KSU 4566 False\n",
      "LHX 5291 True\n",
      "LDOS 1564 False\n"
     ]
    },
    {
     "name": "stderr",
     "output_type": "stream",
     "text": [
      "/home/users/t_wand01/.local/lib/python3.7/site-packages/ipykernel_launcher.py:46: PerformanceWarning: DataFrame is highly fragmented.  This is usually the result of calling `frame.insert` many times, which has poor performance.  Consider joining all columns at once using pd.concat(axis=1) instead.  To get a de-fragmented frame, use `newframe = frame.copy()`\n"
     ]
    },
    {
     "name": "stdout",
     "output_type": "stream",
     "text": [
      "LMT 4519 False\n",
      "MAS 5282 False\n",
      "NLSN 486 False\n"
     ]
    },
    {
     "name": "stderr",
     "output_type": "stream",
     "text": [
      "/home/users/t_wand01/.local/lib/python3.7/site-packages/ipykernel_launcher.py:72: PerformanceWarning: DataFrame is highly fragmented.  This is usually the result of calling `frame.insert` many times, which has poor performance.  Consider joining all columns at once using pd.concat(axis=1) instead.  To get a de-fragmented frame, use `newframe = frame.copy()`\n"
     ]
    },
    {
     "name": "stdout",
     "output_type": "stream",
     "text": [
      "NSC 5279 False\n"
     ]
    },
    {
     "name": "stderr",
     "output_type": "stream",
     "text": [
      "/home/users/t_wand01/.local/lib/python3.7/site-packages/ipykernel_launcher.py:72: PerformanceWarning: DataFrame is highly fragmented.  This is usually the result of calling `frame.insert` many times, which has poor performance.  Consider joining all columns at once using pd.concat(axis=1) instead.  To get a de-fragmented frame, use `newframe = frame.copy()`\n"
     ]
    },
    {
     "name": "stdout",
     "output_type": "stream",
     "text": [
      "NOC 5284 False\n"
     ]
    },
    {
     "name": "stderr",
     "output_type": "stream",
     "text": [
      "/home/users/t_wand01/.local/lib/python3.7/site-packages/ipykernel_launcher.py:72: PerformanceWarning: DataFrame is highly fragmented.  This is usually the result of calling `frame.insert` many times, which has poor performance.  Consider joining all columns at once using pd.concat(axis=1) instead.  To get a de-fragmented frame, use `newframe = frame.copy()`\n"
     ]
    },
    {
     "name": "stdout",
     "output_type": "stream",
     "text": [
      "ODFL 5201 False\n",
      "- OTIS: Data doesn't exist for startDate = 694306800, endDate = 1356994800\n",
      "OTIS 0 False\n",
      "PCAR 5286 False\n"
     ]
    },
    {
     "name": "stderr",
     "output_type": "stream",
     "text": [
      "/home/users/t_wand01/.local/lib/python3.7/site-packages/ipykernel_launcher.py:72: PerformanceWarning: DataFrame is highly fragmented.  This is usually the result of calling `frame.insert` many times, which has poor performance.  Consider joining all columns at once using pd.concat(axis=1) instead.  To get a de-fragmented frame, use `newframe = frame.copy()`\n"
     ]
    },
    {
     "name": "stdout",
     "output_type": "stream",
     "text": [
      "PH 5282 False\n"
     ]
    },
    {
     "name": "stderr",
     "output_type": "stream",
     "text": [
      "/home/users/t_wand01/.local/lib/python3.7/site-packages/ipykernel_launcher.py:72: PerformanceWarning: DataFrame is highly fragmented.  This is usually the result of calling `frame.insert` many times, which has poor performance.  Consider joining all columns at once using pd.concat(axis=1) instead.  To get a de-fragmented frame, use `newframe = frame.copy()`\n"
     ]
    },
    {
     "name": "stdout",
     "output_type": "stream",
     "text": [
      "PNR 5291 True\n"
     ]
    },
    {
     "name": "stderr",
     "output_type": "stream",
     "text": [
      "/home/users/t_wand01/.local/lib/python3.7/site-packages/ipykernel_launcher.py:46: PerformanceWarning: DataFrame is highly fragmented.  This is usually the result of calling `frame.insert` many times, which has poor performance.  Consider joining all columns at once using pd.concat(axis=1) instead.  To get a de-fragmented frame, use `newframe = frame.copy()`\n"
     ]
    },
    {
     "name": "stdout",
     "output_type": "stream",
     "text": [
      "PWR 3745 False\n",
      "RTX 5275 False\n"
     ]
    },
    {
     "name": "stderr",
     "output_type": "stream",
     "text": [
      "/home/users/t_wand01/.local/lib/python3.7/site-packages/ipykernel_launcher.py:72: PerformanceWarning: DataFrame is highly fragmented.  This is usually the result of calling `frame.insert` many times, which has poor performance.  Consider joining all columns at once using pd.concat(axis=1) instead.  To get a de-fragmented frame, use `newframe = frame.copy()`\n"
     ]
    },
    {
     "name": "stdout",
     "output_type": "stream",
     "text": [
      "RSG 3649 False\n",
      "RHI 5280 False\n"
     ]
    },
    {
     "name": "stderr",
     "output_type": "stream",
     "text": [
      "/home/users/t_wand01/.local/lib/python3.7/site-packages/ipykernel_launcher.py:72: PerformanceWarning: DataFrame is highly fragmented.  This is usually the result of calling `frame.insert` many times, which has poor performance.  Consider joining all columns at once using pd.concat(axis=1) instead.  To get a de-fragmented frame, use `newframe = frame.copy()`\n"
     ]
    },
    {
     "name": "stdout",
     "output_type": "stream",
     "text": [
      "ROK 5280 False\n"
     ]
    },
    {
     "name": "stderr",
     "output_type": "stream",
     "text": [
      "/home/users/t_wand01/.local/lib/python3.7/site-packages/ipykernel_launcher.py:72: PerformanceWarning: DataFrame is highly fragmented.  This is usually the result of calling `frame.insert` many times, which has poor performance.  Consider joining all columns at once using pd.concat(axis=1) instead.  To get a de-fragmented frame, use `newframe = frame.copy()`\n"
     ]
    },
    {
     "name": "stdout",
     "output_type": "stream",
     "text": [
      "ROL 5281 False\n"
     ]
    },
    {
     "name": "stderr",
     "output_type": "stream",
     "text": [
      "/home/users/t_wand01/.local/lib/python3.7/site-packages/ipykernel_launcher.py:72: PerformanceWarning: DataFrame is highly fragmented.  This is usually the result of calling `frame.insert` many times, which has poor performance.  Consider joining all columns at once using pd.concat(axis=1) instead.  To get a de-fragmented frame, use `newframe = frame.copy()`\n"
     ]
    },
    {
     "name": "stdout",
     "output_type": "stream",
     "text": [
      "ROP 5246 False\n",
      "SNA 5280 False\n"
     ]
    },
    {
     "name": "stderr",
     "output_type": "stream",
     "text": [
      "/home/users/t_wand01/.local/lib/python3.7/site-packages/ipykernel_launcher.py:72: PerformanceWarning: DataFrame is highly fragmented.  This is usually the result of calling `frame.insert` many times, which has poor performance.  Consider joining all columns at once using pd.concat(axis=1) instead.  To get a de-fragmented frame, use `newframe = frame.copy()`\n"
     ]
    },
    {
     "name": "stdout",
     "output_type": "stream",
     "text": [
      "LUV 5280 False\n"
     ]
    },
    {
     "name": "stderr",
     "output_type": "stream",
     "text": [
      "/home/users/t_wand01/.local/lib/python3.7/site-packages/ipykernel_launcher.py:72: PerformanceWarning: DataFrame is highly fragmented.  This is usually the result of calling `frame.insert` many times, which has poor performance.  Consider joining all columns at once using pd.concat(axis=1) instead.  To get a de-fragmented frame, use `newframe = frame.copy()`\n"
     ]
    },
    {
     "name": "stdout",
     "output_type": "stream",
     "text": [
      "SWK 5279 False\n"
     ]
    },
    {
     "name": "stderr",
     "output_type": "stream",
     "text": [
      "/home/users/t_wand01/.local/lib/python3.7/site-packages/ipykernel_launcher.py:72: PerformanceWarning: DataFrame is highly fragmented.  This is usually the result of calling `frame.insert` many times, which has poor performance.  Consider joining all columns at once using pd.concat(axis=1) instead.  To get a de-fragmented frame, use `newframe = frame.copy()`\n"
     ]
    },
    {
     "name": "stdout",
     "output_type": "stream",
     "text": [
      "TDY 3294 False\n",
      "TXT 5280 False\n"
     ]
    },
    {
     "name": "stderr",
     "output_type": "stream",
     "text": [
      "/home/users/t_wand01/.local/lib/python3.7/site-packages/ipykernel_launcher.py:72: PerformanceWarning: DataFrame is highly fragmented.  This is usually the result of calling `frame.insert` many times, which has poor performance.  Consider joining all columns at once using pd.concat(axis=1) instead.  To get a de-fragmented frame, use `newframe = frame.copy()`\n"
     ]
    },
    {
     "name": "stdout",
     "output_type": "stream",
     "text": [
      "TT 5280 False\n"
     ]
    },
    {
     "name": "stderr",
     "output_type": "stream",
     "text": [
      "/home/users/t_wand01/.local/lib/python3.7/site-packages/ipykernel_launcher.py:72: PerformanceWarning: DataFrame is highly fragmented.  This is usually the result of calling `frame.insert` many times, which has poor performance.  Consider joining all columns at once using pd.concat(axis=1) instead.  To get a de-fragmented frame, use `newframe = frame.copy()`\n"
     ]
    },
    {
     "name": "stdout",
     "output_type": "stream",
     "text": [
      "TDG 1712 False\n",
      "UNP 5276 False\n"
     ]
    },
    {
     "name": "stderr",
     "output_type": "stream",
     "text": [
      "/home/users/t_wand01/.local/lib/python3.7/site-packages/ipykernel_launcher.py:72: PerformanceWarning: DataFrame is highly fragmented.  This is usually the result of calling `frame.insert` many times, which has poor performance.  Consider joining all columns at once using pd.concat(axis=1) instead.  To get a de-fragmented frame, use `newframe = frame.copy()`\n"
     ]
    },
    {
     "name": "stdout",
     "output_type": "stream",
     "text": [
      "UAL 1738 False\n",
      "UPS 3305 False\n",
      "URI 3781 False\n",
      "VRSK 814 False\n",
      "WAB 4402 False\n",
      "WM 5278 False\n",
      "XYL 305 False\n",
      "44\n",
      "Consumer Discretionary\n",
      "63\n"
     ]
    },
    {
     "name": "stderr",
     "output_type": "stream",
     "text": [
      "/home/users/t_wand01/.local/lib/python3.7/site-packages/ipykernel_launcher.py:72: PerformanceWarning: DataFrame is highly fragmented.  This is usually the result of calling `frame.insert` many times, which has poor performance.  Consider joining all columns at once using pd.concat(axis=1) instead.  To get a de-fragmented frame, use `newframe = frame.copy()`\n"
     ]
    },
    {
     "name": "stdout",
     "output_type": "stream",
     "text": [
      "AAP 2791 False\n",
      "AMZN 3931 False\n",
      "APTV 280 False\n",
      "AZO 5283 False\n"
     ]
    },
    {
     "name": "stderr",
     "output_type": "stream",
     "text": [
      "/home/users/t_wand01/.local/lib/python3.7/site-packages/ipykernel_launcher.py:72: PerformanceWarning: DataFrame is highly fragmented.  This is usually the result of calling `frame.insert` many times, which has poor performance.  Consider joining all columns at once using pd.concat(axis=1) instead.  To get a de-fragmented frame, use `newframe = frame.copy()`\n"
     ]
    },
    {
     "name": "stdout",
     "output_type": "stream",
     "text": [
      "BBWI 5284 False\n"
     ]
    },
    {
     "name": "stderr",
     "output_type": "stream",
     "text": [
      "/home/users/t_wand01/.local/lib/python3.7/site-packages/ipykernel_launcher.py:72: PerformanceWarning: DataFrame is highly fragmented.  This is usually the result of calling `frame.insert` many times, which has poor performance.  Consider joining all columns at once using pd.concat(axis=1) instead.  To get a de-fragmented frame, use `newframe = frame.copy()`\n"
     ]
    },
    {
     "name": "stdout",
     "output_type": "stream",
     "text": [
      "BBY 5278 False\n",
      "BKNG 3461 False\n"
     ]
    },
    {
     "name": "stderr",
     "output_type": "stream",
     "text": [
      "/home/users/t_wand01/.local/lib/python3.7/site-packages/ipykernel_launcher.py:72: PerformanceWarning: DataFrame is highly fragmented.  This is usually the result of calling `frame.insert` many times, which has poor performance.  Consider joining all columns at once using pd.concat(axis=1) instead.  To get a de-fragmented frame, use `newframe = frame.copy()`\n"
     ]
    },
    {
     "name": "stdout",
     "output_type": "stream",
     "text": [
      "BWA 4882 False\n",
      "- CZR: Data doesn't exist for startDate = 694306800, endDate = 1356994800\n",
      "CZR 0 False\n",
      "KMX 3995 False\n",
      "CCL 5280 False\n"
     ]
    },
    {
     "name": "stderr",
     "output_type": "stream",
     "text": [
      "/home/users/t_wand01/.local/lib/python3.7/site-packages/ipykernel_launcher.py:72: PerformanceWarning: DataFrame is highly fragmented.  This is usually the result of calling `frame.insert` many times, which has poor performance.  Consider joining all columns at once using pd.concat(axis=1) instead.  To get a de-fragmented frame, use `newframe = frame.copy()`\n"
     ]
    },
    {
     "name": "stdout",
     "output_type": "stream",
     "text": [
      "CMG 1745 False\n",
      "DHI 5168 False\n",
      "DRI 4434 False\n",
      "DG 787 False\n",
      "DLTR 4488 False\n",
      "DPZ 2134 False\n",
      "EBAY 3590 False\n",
      "- ETSY: Data doesn't exist for startDate = 694306800, endDate = 1356994800\n",
      "ETSY 0 False\n",
      "EXPE 1876 False\n",
      "F 5279 False\n"
     ]
    },
    {
     "name": "stderr",
     "output_type": "stream",
     "text": [
      "/home/users/t_wand01/.local/lib/python3.7/site-packages/ipykernel_launcher.py:72: PerformanceWarning: DataFrame is highly fragmented.  This is usually the result of calling `frame.insert` many times, which has poor performance.  Consider joining all columns at once using pd.concat(axis=1) instead.  To get a de-fragmented frame, use `newframe = frame.copy()`\n"
     ]
    },
    {
     "name": "stdout",
     "output_type": "stream",
     "text": [
      "GPS 5282 False\n"
     ]
    },
    {
     "name": "stderr",
     "output_type": "stream",
     "text": [
      "/home/users/t_wand01/.local/lib/python3.7/site-packages/ipykernel_launcher.py:72: PerformanceWarning: DataFrame is highly fragmented.  This is usually the result of calling `frame.insert` many times, which has poor performance.  Consider joining all columns at once using pd.concat(axis=1) instead.  To get a de-fragmented frame, use `newframe = frame.copy()`\n"
     ]
    },
    {
     "name": "stdout",
     "output_type": "stream",
     "text": [
      "GRMN 3032 False\n",
      "GM 532 False\n",
      "GPC 5282 False\n"
     ]
    },
    {
     "name": "stderr",
     "output_type": "stream",
     "text": [
      "/home/users/t_wand01/.local/lib/python3.7/site-packages/ipykernel_launcher.py:72: PerformanceWarning: DataFrame is highly fragmented.  This is usually the result of calling `frame.insert` many times, which has poor performance.  Consider joining all columns at once using pd.concat(axis=1) instead.  To get a de-fragmented frame, use `newframe = frame.copy()`\n"
     ]
    },
    {
     "name": "stdout",
     "output_type": "stream",
     "text": [
      "HBI 1591 False\n",
      "HAS 5281 False\n",
      "- HLT: Data doesn't exist for startDate = 694306800, endDate = 1356994800\n",
      "HLT 0 False\n"
     ]
    },
    {
     "name": "stderr",
     "output_type": "stream",
     "text": [
      "/home/users/t_wand01/.local/lib/python3.7/site-packages/ipykernel_launcher.py:72: PerformanceWarning: DataFrame is highly fragmented.  This is usually the result of calling `frame.insert` many times, which has poor performance.  Consider joining all columns at once using pd.concat(axis=1) instead.  To get a de-fragmented frame, use `newframe = frame.copy()`\n"
     ]
    },
    {
     "name": "stdout",
     "output_type": "stream",
     "text": [
      "HD 5281 False\n"
     ]
    },
    {
     "name": "stderr",
     "output_type": "stream",
     "text": [
      "/home/users/t_wand01/.local/lib/python3.7/site-packages/ipykernel_launcher.py:72: PerformanceWarning: DataFrame is highly fragmented.  This is usually the result of calling `frame.insert` many times, which has poor performance.  Consider joining all columns at once using pd.concat(axis=1) instead.  To get a de-fragmented frame, use `newframe = frame.copy()`\n"
     ]
    },
    {
     "name": "stdout",
     "output_type": "stream",
     "text": [
      "LVS 2025 False\n",
      "LEG 5281 False\n"
     ]
    },
    {
     "name": "stderr",
     "output_type": "stream",
     "text": [
      "/home/users/t_wand01/.local/lib/python3.7/site-packages/ipykernel_launcher.py:72: PerformanceWarning: DataFrame is highly fragmented.  This is usually the result of calling `frame.insert` many times, which has poor performance.  Consider joining all columns at once using pd.concat(axis=1) instead.  To get a de-fragmented frame, use `newframe = frame.copy()`\n"
     ]
    },
    {
     "name": "stdout",
     "output_type": "stream",
     "text": [
      "LEN 4565 False\n",
      "LKQ 2326 False\n",
      "LOW 5283 False\n"
     ]
    },
    {
     "name": "stderr",
     "output_type": "stream",
     "text": [
      "/home/users/t_wand01/.local/lib/python3.7/site-packages/ipykernel_launcher.py:72: PerformanceWarning: DataFrame is highly fragmented.  This is usually the result of calling `frame.insert` many times, which has poor performance.  Consider joining all columns at once using pd.concat(axis=1) instead.  To get a de-fragmented frame, use `newframe = frame.copy()`\n"
     ]
    },
    {
     "name": "stdout",
     "output_type": "stream",
     "text": [
      "MAR 3719 False\n",
      "MCD 5280 False\n"
     ]
    },
    {
     "name": "stderr",
     "output_type": "stream",
     "text": [
      "/home/users/t_wand01/.local/lib/python3.7/site-packages/ipykernel_launcher.py:72: PerformanceWarning: DataFrame is highly fragmented.  This is usually the result of calling `frame.insert` many times, which has poor performance.  Consider joining all columns at once using pd.concat(axis=1) instead.  To get a de-fragmented frame, use `newframe = frame.copy()`\n"
     ]
    },
    {
     "name": "stdout",
     "output_type": "stream",
     "text": [
      "MGM 5280 False\n"
     ]
    },
    {
     "name": "stderr",
     "output_type": "stream",
     "text": [
      "/home/users/t_wand01/.local/lib/python3.7/site-packages/ipykernel_launcher.py:72: PerformanceWarning: DataFrame is highly fragmented.  This is usually the result of calling `frame.insert` many times, which has poor performance.  Consider joining all columns at once using pd.concat(axis=1) instead.  To get a de-fragmented frame, use `newframe = frame.copy()`\n"
     ]
    },
    {
     "name": "stdout",
     "output_type": "stream",
     "text": [
      "MHK 5217 False\n",
      "NWL 5281 False\n"
     ]
    },
    {
     "name": "stderr",
     "output_type": "stream",
     "text": [
      "/home/users/t_wand01/.local/lib/python3.7/site-packages/ipykernel_launcher.py:72: PerformanceWarning: DataFrame is highly fragmented.  This is usually the result of calling `frame.insert` many times, which has poor performance.  Consider joining all columns at once using pd.concat(axis=1) instead.  To get a de-fragmented frame, use `newframe = frame.copy()`\n"
     ]
    },
    {
     "name": "stdout",
     "output_type": "stream",
     "text": [
      "NKE 5279 False\n",
      "- NCLH: Data doesn't exist for startDate = 694306800, endDate = 1356994800\n",
      "NCLH 0 False\n"
     ]
    },
    {
     "name": "stderr",
     "output_type": "stream",
     "text": [
      "/home/users/t_wand01/.local/lib/python3.7/site-packages/ipykernel_launcher.py:72: PerformanceWarning: DataFrame is highly fragmented.  This is usually the result of calling `frame.insert` many times, which has poor performance.  Consider joining all columns at once using pd.concat(axis=1) instead.  To get a de-fragmented frame, use `newframe = frame.copy()`\n"
     ]
    },
    {
     "name": "stdout",
     "output_type": "stream",
     "text": [
      "NVR 4815 False\n",
      "ORLY 4950 False\n",
      "PENN 4669 False\n",
      "POOL 4322 False\n",
      "PHM 5279 False\n"
     ]
    },
    {
     "name": "stderr",
     "output_type": "stream",
     "text": [
      "/home/users/t_wand01/.local/lib/python3.7/site-packages/ipykernel_launcher.py:72: PerformanceWarning: DataFrame is highly fragmented.  This is usually the result of calling `frame.insert` many times, which has poor performance.  Consider joining all columns at once using pd.concat(axis=1) instead.  To get a de-fragmented frame, use `newframe = frame.copy()`\n"
     ]
    },
    {
     "name": "stdout",
     "output_type": "stream",
     "text": [
      "PVH 5279 False\n"
     ]
    },
    {
     "name": "stderr",
     "output_type": "stream",
     "text": [
      "/home/users/t_wand01/.local/lib/python3.7/site-packages/ipykernel_launcher.py:72: PerformanceWarning: DataFrame is highly fragmented.  This is usually the result of calling `frame.insert` many times, which has poor performance.  Consider joining all columns at once using pd.concat(axis=1) instead.  To get a de-fragmented frame, use `newframe = frame.copy()`\n"
     ]
    },
    {
     "name": "stdout",
     "output_type": "stream",
     "text": [
      "RL 3911 False\n",
      "ROST 5285 False\n"
     ]
    },
    {
     "name": "stderr",
     "output_type": "stream",
     "text": [
      "/home/users/t_wand01/.local/lib/python3.7/site-packages/ipykernel_launcher.py:72: PerformanceWarning: DataFrame is highly fragmented.  This is usually the result of calling `frame.insert` many times, which has poor performance.  Consider joining all columns at once using pd.concat(axis=1) instead.  To get a de-fragmented frame, use `newframe = frame.copy()`\n"
     ]
    },
    {
     "name": "stdout",
     "output_type": "stream",
     "text": [
      "RCL 4947 False\n",
      "SBUX 5163 False\n",
      "TPR 3077 False\n",
      "TGT 5278 False\n"
     ]
    },
    {
     "name": "stderr",
     "output_type": "stream",
     "text": [
      "/home/users/t_wand01/.local/lib/python3.7/site-packages/ipykernel_launcher.py:72: PerformanceWarning: DataFrame is highly fragmented.  This is usually the result of calling `frame.insert` many times, which has poor performance.  Consider joining all columns at once using pd.concat(axis=1) instead.  To get a de-fragmented frame, use `newframe = frame.copy()`\n"
     ]
    },
    {
     "name": "stdout",
     "output_type": "stream",
     "text": [
      "TSLA 632 False\n",
      "TJX 5278 False\n"
     ]
    },
    {
     "name": "stderr",
     "output_type": "stream",
     "text": [
      "/home/users/t_wand01/.local/lib/python3.7/site-packages/ipykernel_launcher.py:72: PerformanceWarning: DataFrame is highly fragmented.  This is usually the result of calling `frame.insert` many times, which has poor performance.  Consider joining all columns at once using pd.concat(axis=1) instead.  To get a de-fragmented frame, use `newframe = frame.copy()`\n"
     ]
    },
    {
     "name": "stdout",
     "output_type": "stream",
     "text": [
      "TSCO 4733 False\n",
      "ULTA 1305 False\n",
      "UAA 1790 False\n",
      "- UA: Data doesn't exist for startDate = 694306800, endDate = 1356994800\n",
      "UA 0 False\n",
      "VFC 5280 False\n"
     ]
    },
    {
     "name": "stderr",
     "output_type": "stream",
     "text": [
      "/home/users/t_wand01/.local/lib/python3.7/site-packages/ipykernel_launcher.py:72: PerformanceWarning: DataFrame is highly fragmented.  This is usually the result of calling `frame.insert` many times, which has poor performance.  Consider joining all columns at once using pd.concat(axis=1) instead.  To get a de-fragmented frame, use `newframe = frame.copy()`\n"
     ]
    },
    {
     "name": "stdout",
     "output_type": "stream",
     "text": [
      "WHR 5282 False\n"
     ]
    },
    {
     "name": "stderr",
     "output_type": "stream",
     "text": [
      "/home/users/t_wand01/.local/lib/python3.7/site-packages/ipykernel_launcher.py:72: PerformanceWarning: DataFrame is highly fragmented.  This is usually the result of calling `frame.insert` many times, which has poor performance.  Consider joining all columns at once using pd.concat(axis=1) instead.  To get a de-fragmented frame, use `newframe = frame.copy()`\n"
     ]
    },
    {
     "name": "stdout",
     "output_type": "stream",
     "text": [
      "WYNN 2563 False\n",
      "YUM 3845 False\n",
      "22\n",
      "Financials\n",
      "65\n",
      "AFL 5280 False\n"
     ]
    },
    {
     "name": "stderr",
     "output_type": "stream",
     "text": [
      "/home/users/t_wand01/.local/lib/python3.7/site-packages/ipykernel_launcher.py:72: PerformanceWarning: DataFrame is highly fragmented.  This is usually the result of calling `frame.insert` many times, which has poor performance.  Consider joining all columns at once using pd.concat(axis=1) instead.  To get a de-fragmented frame, use `newframe = frame.copy()`\n"
     ]
    },
    {
     "name": "stdout",
     "output_type": "stream",
     "text": [
      "ALL 4925 False\n",
      "AXP 5281 False\n"
     ]
    },
    {
     "name": "stderr",
     "output_type": "stream",
     "text": [
      "/home/users/t_wand01/.local/lib/python3.7/site-packages/ipykernel_launcher.py:72: PerformanceWarning: DataFrame is highly fragmented.  This is usually the result of calling `frame.insert` many times, which has poor performance.  Consider joining all columns at once using pd.concat(axis=1) instead.  To get a de-fragmented frame, use `newframe = frame.copy()`\n"
     ]
    },
    {
     "name": "stdout",
     "output_type": "stream",
     "text": [
      "AIG 5283 False\n"
     ]
    },
    {
     "name": "stderr",
     "output_type": "stream",
     "text": [
      "/home/users/t_wand01/.local/lib/python3.7/site-packages/ipykernel_launcher.py:72: PerformanceWarning: DataFrame is highly fragmented.  This is usually the result of calling `frame.insert` many times, which has poor performance.  Consider joining all columns at once using pd.concat(axis=1) instead.  To get a de-fragmented frame, use `newframe = frame.copy()`\n"
     ]
    },
    {
     "name": "stdout",
     "output_type": "stream",
     "text": [
      "AMP 1836 False\n",
      "AON 5282 False\n"
     ]
    },
    {
     "name": "stderr",
     "output_type": "stream",
     "text": [
      "/home/users/t_wand01/.local/lib/python3.7/site-packages/ipykernel_launcher.py:72: PerformanceWarning: DataFrame is highly fragmented.  This is usually the result of calling `frame.insert` many times, which has poor performance.  Consider joining all columns at once using pd.concat(axis=1) instead.  To get a de-fragmented frame, use `newframe = frame.copy()`\n"
     ]
    },
    {
     "name": "stdout",
     "output_type": "stream",
     "text": [
      "AJG 5277 False\n"
     ]
    },
    {
     "name": "stderr",
     "output_type": "stream",
     "text": [
      "/home/users/t_wand01/.local/lib/python3.7/site-packages/ipykernel_launcher.py:72: PerformanceWarning: DataFrame is highly fragmented.  This is usually the result of calling `frame.insert` many times, which has poor performance.  Consider joining all columns at once using pd.concat(axis=1) instead.  To get a de-fragmented frame, use `newframe = frame.copy()`\n"
     ]
    },
    {
     "name": "stdout",
     "output_type": "stream",
     "text": [
      "AIZ 2242 False\n",
      "BAC 5276 False\n"
     ]
    },
    {
     "name": "stderr",
     "output_type": "stream",
     "text": [
      "/home/users/t_wand01/.local/lib/python3.7/site-packages/ipykernel_launcher.py:72: PerformanceWarning: DataFrame is highly fragmented.  This is usually the result of calling `frame.insert` many times, which has poor performance.  Consider joining all columns at once using pd.concat(axis=1) instead.  To get a de-fragmented frame, use `newframe = frame.copy()`\n"
     ]
    },
    {
     "name": "stdout",
     "output_type": "stream",
     "text": [
      "- BRK.B: No data found, symbol may be delisted\n",
      "BRK.B 0 False\n",
      "BLK 3333 False\n",
      "BK 5281 False\n"
     ]
    },
    {
     "name": "stderr",
     "output_type": "stream",
     "text": [
      "/home/users/t_wand01/.local/lib/python3.7/site-packages/ipykernel_launcher.py:72: PerformanceWarning: DataFrame is highly fragmented.  This is usually the result of calling `frame.insert` many times, which has poor performance.  Consider joining all columns at once using pd.concat(axis=1) instead.  To get a de-fragmented frame, use `newframe = frame.copy()`\n"
     ]
    },
    {
     "name": "stdout",
     "output_type": "stream",
     "text": [
      "BRO 5275 False\n"
     ]
    },
    {
     "name": "stderr",
     "output_type": "stream",
     "text": [
      "/home/users/t_wand01/.local/lib/python3.7/site-packages/ipykernel_launcher.py:72: PerformanceWarning: DataFrame is highly fragmented.  This is usually the result of calling `frame.insert` many times, which has poor performance.  Consider joining all columns at once using pd.concat(axis=1) instead.  To get a de-fragmented frame, use `newframe = frame.copy()`\n"
     ]
    },
    {
     "name": "stdout",
     "output_type": "stream",
     "text": [
      "COF 4554 False\n",
      "CBOE 642 False\n",
      "SCHW 5280 False\n"
     ]
    },
    {
     "name": "stderr",
     "output_type": "stream",
     "text": [
      "/home/users/t_wand01/.local/lib/python3.7/site-packages/ipykernel_launcher.py:72: PerformanceWarning: DataFrame is highly fragmented.  This is usually the result of calling `frame.insert` many times, which has poor performance.  Consider joining all columns at once using pd.concat(axis=1) instead.  To get a de-fragmented frame, use `newframe = frame.copy()`\n"
     ]
    },
    {
     "name": "stdout",
     "output_type": "stream",
     "text": [
      "CB 4970 False\n",
      "CINF 5282 False\n"
     ]
    },
    {
     "name": "stderr",
     "output_type": "stream",
     "text": [
      "/home/users/t_wand01/.local/lib/python3.7/site-packages/ipykernel_launcher.py:72: PerformanceWarning: DataFrame is highly fragmented.  This is usually the result of calling `frame.insert` many times, which has poor performance.  Consider joining all columns at once using pd.concat(axis=1) instead.  To get a de-fragmented frame, use `newframe = frame.copy()`\n"
     ]
    },
    {
     "name": "stdout",
     "output_type": "stream",
     "text": [
      "C 5275 False\n"
     ]
    },
    {
     "name": "stderr",
     "output_type": "stream",
     "text": [
      "/home/users/t_wand01/.local/lib/python3.7/site-packages/ipykernel_launcher.py:72: PerformanceWarning: DataFrame is highly fragmented.  This is usually the result of calling `frame.insert` many times, which has poor performance.  Consider joining all columns at once using pd.concat(axis=1) instead.  To get a de-fragmented frame, use `newframe = frame.copy()`\n"
     ]
    },
    {
     "name": "stdout",
     "output_type": "stream",
     "text": [
      "- CFG: Data doesn't exist for startDate = 694306800, endDate = 1356994800\n",
      "CFG 0 False\n",
      "CME 2534 False\n",
      "CMA 5282 False\n"
     ]
    },
    {
     "name": "stderr",
     "output_type": "stream",
     "text": [
      "/home/users/t_wand01/.local/lib/python3.7/site-packages/ipykernel_launcher.py:72: PerformanceWarning: DataFrame is highly fragmented.  This is usually the result of calling `frame.insert` many times, which has poor performance.  Consider joining all columns at once using pd.concat(axis=1) instead.  To get a de-fragmented frame, use `newframe = frame.copy()`\n"
     ]
    },
    {
     "name": "stdout",
     "output_type": "stream",
     "text": [
      "DFS 1398 False\n",
      "RE 4334 False\n",
      "FITB 5279 False\n"
     ]
    },
    {
     "name": "stderr",
     "output_type": "stream",
     "text": [
      "/home/users/t_wand01/.local/lib/python3.7/site-packages/ipykernel_launcher.py:72: PerformanceWarning: DataFrame is highly fragmented.  This is usually the result of calling `frame.insert` many times, which has poor performance.  Consider joining all columns at once using pd.concat(axis=1) instead.  To get a de-fragmented frame, use `newframe = frame.copy()`\n"
     ]
    },
    {
     "name": "stdout",
     "output_type": "stream",
     "text": [
      "FRC 518 False\n",
      "BEN 5279 False\n"
     ]
    },
    {
     "name": "stderr",
     "output_type": "stream",
     "text": [
      "/home/users/t_wand01/.local/lib/python3.7/site-packages/ipykernel_launcher.py:72: PerformanceWarning: DataFrame is highly fragmented.  This is usually the result of calling `frame.insert` many times, which has poor performance.  Consider joining all columns at once using pd.concat(axis=1) instead.  To get a de-fragmented frame, use `newframe = frame.copy()`\n"
     ]
    },
    {
     "name": "stdout",
     "output_type": "stream",
     "text": [
      "GL 5279 False\n"
     ]
    },
    {
     "name": "stderr",
     "output_type": "stream",
     "text": [
      "/home/users/t_wand01/.local/lib/python3.7/site-packages/ipykernel_launcher.py:72: PerformanceWarning: DataFrame is highly fragmented.  This is usually the result of calling `frame.insert` many times, which has poor performance.  Consider joining all columns at once using pd.concat(axis=1) instead.  To get a de-fragmented frame, use `newframe = frame.copy()`\n"
     ]
    },
    {
     "name": "stdout",
     "output_type": "stream",
     "text": [
      "GS 3438 False\n",
      "HIG 4279 False\n",
      "HBAN 5283 False\n"
     ]
    },
    {
     "name": "stderr",
     "output_type": "stream",
     "text": [
      "/home/users/t_wand01/.local/lib/python3.7/site-packages/ipykernel_launcher.py:72: PerformanceWarning: DataFrame is highly fragmented.  This is usually the result of calling `frame.insert` many times, which has poor performance.  Consider joining all columns at once using pd.concat(axis=1) instead.  To get a de-fragmented frame, use `newframe = frame.copy()`\n"
     ]
    },
    {
     "name": "stdout",
     "output_type": "stream",
     "text": [
      "ICE 1792 False\n",
      "IVZ 4428 False\n",
      "JPM 5281 False\n"
     ]
    },
    {
     "name": "stderr",
     "output_type": "stream",
     "text": [
      "/home/users/t_wand01/.local/lib/python3.7/site-packages/ipykernel_launcher.py:72: PerformanceWarning: DataFrame is highly fragmented.  This is usually the result of calling `frame.insert` many times, which has poor performance.  Consider joining all columns at once using pd.concat(axis=1) instead.  To get a de-fragmented frame, use `newframe = frame.copy()`\n"
     ]
    },
    {
     "name": "stdout",
     "output_type": "stream",
     "text": [
      "KEY 5281 False\n"
     ]
    },
    {
     "name": "stderr",
     "output_type": "stream",
     "text": [
      "/home/users/t_wand01/.local/lib/python3.7/site-packages/ipykernel_launcher.py:72: PerformanceWarning: DataFrame is highly fragmented.  This is usually the result of calling `frame.insert` many times, which has poor performance.  Consider joining all columns at once using pd.concat(axis=1) instead.  To get a de-fragmented frame, use `newframe = frame.copy()`\n"
     ]
    },
    {
     "name": "stdout",
     "output_type": "stream",
     "text": [
      "LNC 5282 False\n"
     ]
    },
    {
     "name": "stderr",
     "output_type": "stream",
     "text": [
      "/home/users/t_wand01/.local/lib/python3.7/site-packages/ipykernel_launcher.py:72: PerformanceWarning: DataFrame is highly fragmented.  This is usually the result of calling `frame.insert` many times, which has poor performance.  Consider joining all columns at once using pd.concat(axis=1) instead.  To get a de-fragmented frame, use `newframe = frame.copy()`\n"
     ]
    },
    {
     "name": "stdout",
     "output_type": "stream",
     "text": [
      "L 5279 False\n"
     ]
    },
    {
     "name": "stderr",
     "output_type": "stream",
     "text": [
      "/home/users/t_wand01/.local/lib/python3.7/site-packages/ipykernel_launcher.py:72: PerformanceWarning: DataFrame is highly fragmented.  This is usually the result of calling `frame.insert` many times, which has poor performance.  Consider joining all columns at once using pd.concat(axis=1) instead.  To get a de-fragmented frame, use `newframe = frame.copy()`\n"
     ]
    },
    {
     "name": "stdout",
     "output_type": "stream",
     "text": [
      "MTB 5281 False\n"
     ]
    },
    {
     "name": "stderr",
     "output_type": "stream",
     "text": [
      "/home/users/t_wand01/.local/lib/python3.7/site-packages/ipykernel_launcher.py:72: PerformanceWarning: DataFrame is highly fragmented.  This is usually the result of calling `frame.insert` many times, which has poor performance.  Consider joining all columns at once using pd.concat(axis=1) instead.  To get a de-fragmented frame, use `newframe = frame.copy()`\n"
     ]
    },
    {
     "name": "stdout",
     "output_type": "stream",
     "text": [
      "MKTX 2052 False\n",
      "MMC 5280 False\n"
     ]
    },
    {
     "name": "stderr",
     "output_type": "stream",
     "text": [
      "/home/users/t_wand01/.local/lib/python3.7/site-packages/ipykernel_launcher.py:72: PerformanceWarning: DataFrame is highly fragmented.  This is usually the result of calling `frame.insert` many times, which has poor performance.  Consider joining all columns at once using pd.concat(axis=1) instead.  To get a de-fragmented frame, use `newframe = frame.copy()`\n"
     ]
    },
    {
     "name": "stdout",
     "output_type": "stream",
     "text": [
      "MET 3204 False\n",
      "MCO 4563 False\n",
      "MS 5283 False\n"
     ]
    },
    {
     "name": "stderr",
     "output_type": "stream",
     "text": [
      "/home/users/t_wand01/.local/lib/python3.7/site-packages/ipykernel_launcher.py:72: PerformanceWarning: DataFrame is highly fragmented.  This is usually the result of calling `frame.insert` many times, which has poor performance.  Consider joining all columns at once using pd.concat(axis=1) instead.  To get a de-fragmented frame, use `newframe = frame.copy()`\n"
     ]
    },
    {
     "name": "stdout",
     "output_type": "stream",
     "text": [
      "MSCI 1290 False\n",
      "NDAQ 2645 False\n",
      "NTRS 5281 False\n"
     ]
    },
    {
     "name": "stderr",
     "output_type": "stream",
     "text": [
      "/home/users/t_wand01/.local/lib/python3.7/site-packages/ipykernel_launcher.py:72: PerformanceWarning: DataFrame is highly fragmented.  This is usually the result of calling `frame.insert` many times, which has poor performance.  Consider joining all columns at once using pd.concat(axis=1) instead.  To get a de-fragmented frame, use `newframe = frame.copy()`\n"
     ]
    },
    {
     "name": "stdout",
     "output_type": "stream",
     "text": [
      "PBCT 5279 False\n"
     ]
    },
    {
     "name": "stderr",
     "output_type": "stream",
     "text": [
      "/home/users/t_wand01/.local/lib/python3.7/site-packages/ipykernel_launcher.py:72: PerformanceWarning: DataFrame is highly fragmented.  This is usually the result of calling `frame.insert` many times, which has poor performance.  Consider joining all columns at once using pd.concat(axis=1) instead.  To get a de-fragmented frame, use `newframe = frame.copy()`\n"
     ]
    },
    {
     "name": "stdout",
     "output_type": "stream",
     "text": [
      "PNC 5283 False\n"
     ]
    },
    {
     "name": "stderr",
     "output_type": "stream",
     "text": [
      "/home/users/t_wand01/.local/lib/python3.7/site-packages/ipykernel_launcher.py:72: PerformanceWarning: DataFrame is highly fragmented.  This is usually the result of calling `frame.insert` many times, which has poor performance.  Consider joining all columns at once using pd.concat(axis=1) instead.  To get a de-fragmented frame, use `newframe = frame.copy()`\n"
     ]
    },
    {
     "name": "stdout",
     "output_type": "stream",
     "text": [
      "PFG 2817 False\n",
      "PGR 5279 False\n"
     ]
    },
    {
     "name": "stderr",
     "output_type": "stream",
     "text": [
      "/home/users/t_wand01/.local/lib/python3.7/site-packages/ipykernel_launcher.py:72: PerformanceWarning: DataFrame is highly fragmented.  This is usually the result of calling `frame.insert` many times, which has poor performance.  Consider joining all columns at once using pd.concat(axis=1) instead.  To get a de-fragmented frame, use `newframe = frame.copy()`\n"
     ]
    },
    {
     "name": "stdout",
     "output_type": "stream",
     "text": [
      "PRU 2781 False\n",
      "RJF 5281 False\n"
     ]
    },
    {
     "name": "stderr",
     "output_type": "stream",
     "text": [
      "/home/users/t_wand01/.local/lib/python3.7/site-packages/ipykernel_launcher.py:72: PerformanceWarning: DataFrame is highly fragmented.  This is usually the result of calling `frame.insert` many times, which has poor performance.  Consider joining all columns at once using pd.concat(axis=1) instead.  To get a de-fragmented frame, use `newframe = frame.copy()`\n"
     ]
    },
    {
     "name": "stdout",
     "output_type": "stream",
     "text": [
      "RF 3742 False\n",
      "SPGI 5282 False\n"
     ]
    },
    {
     "name": "stderr",
     "output_type": "stream",
     "text": [
      "/home/users/t_wand01/.local/lib/python3.7/site-packages/ipykernel_launcher.py:72: PerformanceWarning: DataFrame is highly fragmented.  This is usually the result of calling `frame.insert` many times, which has poor performance.  Consider joining all columns at once using pd.concat(axis=1) instead.  To get a de-fragmented frame, use `newframe = frame.copy()`\n"
     ]
    },
    {
     "name": "stdout",
     "output_type": "stream",
     "text": [
      "STT 5278 False\n"
     ]
    },
    {
     "name": "stderr",
     "output_type": "stream",
     "text": [
      "/home/users/t_wand01/.local/lib/python3.7/site-packages/ipykernel_launcher.py:72: PerformanceWarning: DataFrame is highly fragmented.  This is usually the result of calling `frame.insert` many times, which has poor performance.  Consider joining all columns at once using pd.concat(axis=1) instead.  To get a de-fragmented frame, use `newframe = frame.copy()`\n"
     ]
    },
    {
     "name": "stdout",
     "output_type": "stream",
     "text": [
      "SIVB 5276 False\n"
     ]
    },
    {
     "name": "stderr",
     "output_type": "stream",
     "text": [
      "/home/users/t_wand01/.local/lib/python3.7/site-packages/ipykernel_launcher.py:72: PerformanceWarning: DataFrame is highly fragmented.  This is usually the result of calling `frame.insert` many times, which has poor performance.  Consider joining all columns at once using pd.concat(axis=1) instead.  To get a de-fragmented frame, use `newframe = frame.copy()`\n"
     ]
    },
    {
     "name": "stdout",
     "output_type": "stream",
     "text": [
      "- SYF: Data doesn't exist for startDate = 694306800, endDate = 1356994800\n",
      "SYF 0 False\n",
      "TROW 5278 False\n"
     ]
    },
    {
     "name": "stderr",
     "output_type": "stream",
     "text": [
      "/home/users/t_wand01/.local/lib/python3.7/site-packages/ipykernel_launcher.py:72: PerformanceWarning: DataFrame is highly fragmented.  This is usually the result of calling `frame.insert` many times, which has poor performance.  Consider joining all columns at once using pd.concat(axis=1) instead.  To get a de-fragmented frame, use `newframe = frame.copy()`\n"
     ]
    },
    {
     "name": "stdout",
     "output_type": "stream",
     "text": [
      "TRV 5277 False\n"
     ]
    },
    {
     "name": "stderr",
     "output_type": "stream",
     "text": [
      "/home/users/t_wand01/.local/lib/python3.7/site-packages/ipykernel_launcher.py:72: PerformanceWarning: DataFrame is highly fragmented.  This is usually the result of calling `frame.insert` many times, which has poor performance.  Consider joining all columns at once using pd.concat(axis=1) instead.  To get a de-fragmented frame, use `newframe = frame.copy()`\n"
     ]
    },
    {
     "name": "stdout",
     "output_type": "stream",
     "text": [
      "TFC 5282 False\n"
     ]
    },
    {
     "name": "stderr",
     "output_type": "stream",
     "text": [
      "/home/users/t_wand01/.local/lib/python3.7/site-packages/ipykernel_launcher.py:72: PerformanceWarning: DataFrame is highly fragmented.  This is usually the result of calling `frame.insert` many times, which has poor performance.  Consider joining all columns at once using pd.concat(axis=1) instead.  To get a de-fragmented frame, use `newframe = frame.copy()`\n"
     ]
    },
    {
     "name": "stdout",
     "output_type": "stream",
     "text": [
      "USB 5281 False\n"
     ]
    },
    {
     "name": "stderr",
     "output_type": "stream",
     "text": [
      "/home/users/t_wand01/.local/lib/python3.7/site-packages/ipykernel_launcher.py:72: PerformanceWarning: DataFrame is highly fragmented.  This is usually the result of calling `frame.insert` many times, which has poor performance.  Consider joining all columns at once using pd.concat(axis=1) instead.  To get a de-fragmented frame, use `newframe = frame.copy()`\n"
     ]
    },
    {
     "name": "stdout",
     "output_type": "stream",
     "text": [
      "WRB 5278 False\n"
     ]
    },
    {
     "name": "stderr",
     "output_type": "stream",
     "text": [
      "/home/users/t_wand01/.local/lib/python3.7/site-packages/ipykernel_launcher.py:72: PerformanceWarning: DataFrame is highly fragmented.  This is usually the result of calling `frame.insert` many times, which has poor performance.  Consider joining all columns at once using pd.concat(axis=1) instead.  To get a de-fragmented frame, use `newframe = frame.copy()`\n"
     ]
    },
    {
     "name": "stdout",
     "output_type": "stream",
     "text": [
      "WFC 5281 False\n"
     ]
    },
    {
     "name": "stderr",
     "output_type": "stream",
     "text": [
      "/home/users/t_wand01/.local/lib/python3.7/site-packages/ipykernel_launcher.py:72: PerformanceWarning: DataFrame is highly fragmented.  This is usually the result of calling `frame.insert` many times, which has poor performance.  Consider joining all columns at once using pd.concat(axis=1) instead.  To get a de-fragmented frame, use `newframe = frame.copy()`\n"
     ]
    },
    {
     "name": "stdout",
     "output_type": "stream",
     "text": [
      "WLTW 2906 False\n",
      "ZION 5275 False\n",
      "38\n",
      "Communication Services\n",
      "27\n"
     ]
    },
    {
     "name": "stderr",
     "output_type": "stream",
     "text": [
      "/home/users/t_wand01/.local/lib/python3.7/site-packages/ipykernel_launcher.py:72: PerformanceWarning: DataFrame is highly fragmented.  This is usually the result of calling `frame.insert` many times, which has poor performance.  Consider joining all columns at once using pd.concat(axis=1) instead.  To get a de-fragmented frame, use `newframe = frame.copy()`\n"
     ]
    },
    {
     "name": "stdout",
     "output_type": "stream",
     "text": [
      "ATVI 4816 False\n",
      "GOOGL 2107 False\n",
      "- GOOG: Data doesn't exist for startDate = 694306800, endDate = 1356994800\n",
      "GOOG 0 False\n",
      "T 5279 False\n"
     ]
    },
    {
     "name": "stderr",
     "output_type": "stream",
     "text": [
      "/home/users/t_wand01/.local/lib/python3.7/site-packages/ipykernel_launcher.py:72: PerformanceWarning: DataFrame is highly fragmented.  This is usually the result of calling `frame.insert` many times, which has poor performance.  Consider joining all columns at once using pd.concat(axis=1) instead.  To get a de-fragmented frame, use `newframe = frame.copy()`\n"
     ]
    },
    {
     "name": "stdout",
     "output_type": "stream",
     "text": [
      "CHTR 753 False\n",
      "CMCSA 5281 False\n"
     ]
    },
    {
     "name": "stderr",
     "output_type": "stream",
     "text": [
      "/home/users/t_wand01/.local/lib/python3.7/site-packages/ipykernel_launcher.py:72: PerformanceWarning: DataFrame is highly fragmented.  This is usually the result of calling `frame.insert` many times, which has poor performance.  Consider joining all columns at once using pd.concat(axis=1) instead.  To get a de-fragmented frame, use `newframe = frame.copy()`\n"
     ]
    },
    {
     "name": "stdout",
     "output_type": "stream",
     "text": [
      "DISCA 1886 False\n",
      "DISCK 1079 False\n",
      "DISH 4403 False\n",
      "EA 5289 False\n"
     ]
    },
    {
     "name": "stderr",
     "output_type": "stream",
     "text": [
      "/home/users/t_wand01/.local/lib/python3.7/site-packages/ipykernel_launcher.py:72: PerformanceWarning: DataFrame is highly fragmented.  This is usually the result of calling `frame.insert` many times, which has poor performance.  Consider joining all columns at once using pd.concat(axis=1) instead.  To get a de-fragmented frame, use `newframe = frame.copy()`\n"
     ]
    },
    {
     "name": "stdout",
     "output_type": "stream",
     "text": [
      "- FOXA: Data doesn't exist for startDate = 694306800, endDate = 1356994800\n",
      "FOXA 0 False\n",
      "- FOX: Data doesn't exist for startDate = 694306800, endDate = 1356994800\n",
      "FOX 0 False\n",
      "IPG 5277 False\n"
     ]
    },
    {
     "name": "stderr",
     "output_type": "stream",
     "text": [
      "/home/users/t_wand01/.local/lib/python3.7/site-packages/ipykernel_launcher.py:72: PerformanceWarning: DataFrame is highly fragmented.  This is usually the result of calling `frame.insert` many times, which has poor performance.  Consider joining all columns at once using pd.concat(axis=1) instead.  To get a de-fragmented frame, use `newframe = frame.copy()`\n"
     ]
    },
    {
     "name": "stdout",
     "output_type": "stream",
     "text": [
      "LYV 1773 False\n",
      "LUMN 5279 False\n"
     ]
    },
    {
     "name": "stderr",
     "output_type": "stream",
     "text": [
      "/home/users/t_wand01/.local/lib/python3.7/site-packages/ipykernel_launcher.py:72: PerformanceWarning: DataFrame is highly fragmented.  This is usually the result of calling `frame.insert` many times, which has poor performance.  Consider joining all columns at once using pd.concat(axis=1) instead.  To get a de-fragmented frame, use `newframe = frame.copy()`\n"
     ]
    },
    {
     "name": "stdout",
     "output_type": "stream",
     "text": [
      "MTCH 5013 False\n",
      "FB 155 False\n",
      "NFLX 2671 False\n",
      "- NWSA: Data doesn't exist for startDate = 694306800, endDate = 1356994800\n",
      "NWSA 0 False\n",
      "- NWS: Data doesn't exist for startDate = 694306800, endDate = 1356994800\n",
      "NWS 0 False\n",
      "OMC 5281 False\n"
     ]
    },
    {
     "name": "stderr",
     "output_type": "stream",
     "text": [
      "/home/users/t_wand01/.local/lib/python3.7/site-packages/ipykernel_launcher.py:72: PerformanceWarning: DataFrame is highly fragmented.  This is usually the result of calling `frame.insert` many times, which has poor performance.  Consider joining all columns at once using pd.concat(axis=1) instead.  To get a de-fragmented frame, use `newframe = frame.copy()`\n"
     ]
    },
    {
     "name": "stdout",
     "output_type": "stream",
     "text": [
      "TMUS 1437 False\n",
      "TTWO 3939 False\n",
      "- TWTR: Data doesn't exist for startDate = 694306800, endDate = 1356994800\n",
      "TWTR 0 False\n",
      "VZ 5279 False\n"
     ]
    },
    {
     "name": "stderr",
     "output_type": "stream",
     "text": [
      "/home/users/t_wand01/.local/lib/python3.7/site-packages/ipykernel_launcher.py:72: PerformanceWarning: DataFrame is highly fragmented.  This is usually the result of calling `frame.insert` many times, which has poor performance.  Consider joining all columns at once using pd.concat(axis=1) instead.  To get a de-fragmented frame, use `newframe = frame.copy()`\n"
     ]
    },
    {
     "name": "stdout",
     "output_type": "stream",
     "text": [
      "VIAC 1780 False\n",
      "DIS 5280 False\n",
      "8\n",
      "Consumer Staples\n",
      "32\n"
     ]
    },
    {
     "name": "stderr",
     "output_type": "stream",
     "text": [
      "/home/users/t_wand01/.local/lib/python3.7/site-packages/ipykernel_launcher.py:72: PerformanceWarning: DataFrame is highly fragmented.  This is usually the result of calling `frame.insert` many times, which has poor performance.  Consider joining all columns at once using pd.concat(axis=1) instead.  To get a de-fragmented frame, use `newframe = frame.copy()`\n"
     ]
    },
    {
     "name": "stdout",
     "output_type": "stream",
     "text": [
      "MO 5282 False\n"
     ]
    },
    {
     "name": "stderr",
     "output_type": "stream",
     "text": [
      "/home/users/t_wand01/.local/lib/python3.7/site-packages/ipykernel_launcher.py:72: PerformanceWarning: DataFrame is highly fragmented.  This is usually the result of calling `frame.insert` many times, which has poor performance.  Consider joining all columns at once using pd.concat(axis=1) instead.  To get a de-fragmented frame, use `newframe = frame.copy()`\n"
     ]
    },
    {
     "name": "stdout",
     "output_type": "stream",
     "text": [
      "ADM 5283 False\n"
     ]
    },
    {
     "name": "stderr",
     "output_type": "stream",
     "text": [
      "/home/users/t_wand01/.local/lib/python3.7/site-packages/ipykernel_launcher.py:72: PerformanceWarning: DataFrame is highly fragmented.  This is usually the result of calling `frame.insert` many times, which has poor performance.  Consider joining all columns at once using pd.concat(axis=1) instead.  To get a de-fragmented frame, use `newframe = frame.copy()`\n"
     ]
    },
    {
     "name": "stdout",
     "output_type": "stream",
     "text": [
      "- BF.B: None\n",
      "BF.B 0 False\n",
      "CPB 5280 False\n"
     ]
    },
    {
     "name": "stderr",
     "output_type": "stream",
     "text": [
      "/home/users/t_wand01/.local/lib/python3.7/site-packages/ipykernel_launcher.py:72: PerformanceWarning: DataFrame is highly fragmented.  This is usually the result of calling `frame.insert` many times, which has poor performance.  Consider joining all columns at once using pd.concat(axis=1) instead.  To get a de-fragmented frame, use `newframe = frame.copy()`\n"
     ]
    },
    {
     "name": "stdout",
     "output_type": "stream",
     "text": [
      "CHD 5279 False\n"
     ]
    },
    {
     "name": "stderr",
     "output_type": "stream",
     "text": [
      "/home/users/t_wand01/.local/lib/python3.7/site-packages/ipykernel_launcher.py:72: PerformanceWarning: DataFrame is highly fragmented.  This is usually the result of calling `frame.insert` many times, which has poor performance.  Consider joining all columns at once using pd.concat(axis=1) instead.  To get a de-fragmented frame, use `newframe = frame.copy()`\n"
     ]
    },
    {
     "name": "stdout",
     "output_type": "stream",
     "text": [
      "CLX 5291 True\n"
     ]
    },
    {
     "name": "stderr",
     "output_type": "stream",
     "text": [
      "/home/users/t_wand01/.local/lib/python3.7/site-packages/ipykernel_launcher.py:46: PerformanceWarning: DataFrame is highly fragmented.  This is usually the result of calling `frame.insert` many times, which has poor performance.  Consider joining all columns at once using pd.concat(axis=1) instead.  To get a de-fragmented frame, use `newframe = frame.copy()`\n"
     ]
    },
    {
     "name": "stdout",
     "output_type": "stream",
     "text": [
      "KO 5282 False\n"
     ]
    },
    {
     "name": "stderr",
     "output_type": "stream",
     "text": [
      "/home/users/t_wand01/.local/lib/python3.7/site-packages/ipykernel_launcher.py:72: PerformanceWarning: DataFrame is highly fragmented.  This is usually the result of calling `frame.insert` many times, which has poor performance.  Consider joining all columns at once using pd.concat(axis=1) instead.  To get a de-fragmented frame, use `newframe = frame.copy()`\n"
     ]
    },
    {
     "name": "stdout",
     "output_type": "stream",
     "text": [
      "CL 5282 False\n"
     ]
    },
    {
     "name": "stderr",
     "output_type": "stream",
     "text": [
      "/home/users/t_wand01/.local/lib/python3.7/site-packages/ipykernel_launcher.py:72: PerformanceWarning: DataFrame is highly fragmented.  This is usually the result of calling `frame.insert` many times, which has poor performance.  Consider joining all columns at once using pd.concat(axis=1) instead.  To get a de-fragmented frame, use `newframe = frame.copy()`\n"
     ]
    },
    {
     "name": "stdout",
     "output_type": "stream",
     "text": [
      "CAG 5282 False\n"
     ]
    },
    {
     "name": "stderr",
     "output_type": "stream",
     "text": [
      "/home/users/t_wand01/.local/lib/python3.7/site-packages/ipykernel_launcher.py:72: PerformanceWarning: DataFrame is highly fragmented.  This is usually the result of calling `frame.insert` many times, which has poor performance.  Consider joining all columns at once using pd.concat(axis=1) instead.  To get a de-fragmented frame, use `newframe = frame.copy()`\n"
     ]
    },
    {
     "name": "stdout",
     "output_type": "stream",
     "text": [
      "STZ 5280 False\n"
     ]
    },
    {
     "name": "stderr",
     "output_type": "stream",
     "text": [
      "/home/users/t_wand01/.local/lib/python3.7/site-packages/ipykernel_launcher.py:72: PerformanceWarning: DataFrame is highly fragmented.  This is usually the result of calling `frame.insert` many times, which has poor performance.  Consider joining all columns at once using pd.concat(axis=1) instead.  To get a de-fragmented frame, use `newframe = frame.copy()`\n"
     ]
    },
    {
     "name": "stdout",
     "output_type": "stream",
     "text": [
      "COST 5284 False\n"
     ]
    },
    {
     "name": "stderr",
     "output_type": "stream",
     "text": [
      "/home/users/t_wand01/.local/lib/python3.7/site-packages/ipykernel_launcher.py:72: PerformanceWarning: DataFrame is highly fragmented.  This is usually the result of calling `frame.insert` many times, which has poor performance.  Consider joining all columns at once using pd.concat(axis=1) instead.  To get a de-fragmented frame, use `newframe = frame.copy()`\n"
     ]
    },
    {
     "name": "stdout",
     "output_type": "stream",
     "text": [
      "EL 4299 False\n",
      "GIS 5282 False\n"
     ]
    },
    {
     "name": "stderr",
     "output_type": "stream",
     "text": [
      "/home/users/t_wand01/.local/lib/python3.7/site-packages/ipykernel_launcher.py:72: PerformanceWarning: DataFrame is highly fragmented.  This is usually the result of calling `frame.insert` many times, which has poor performance.  Consider joining all columns at once using pd.concat(axis=1) instead.  To get a de-fragmented frame, use `newframe = frame.copy()`\n"
     ]
    },
    {
     "name": "stdout",
     "output_type": "stream",
     "text": [
      "HSY 5281 False\n"
     ]
    },
    {
     "name": "stderr",
     "output_type": "stream",
     "text": [
      "/home/users/t_wand01/.local/lib/python3.7/site-packages/ipykernel_launcher.py:72: PerformanceWarning: DataFrame is highly fragmented.  This is usually the result of calling `frame.insert` many times, which has poor performance.  Consider joining all columns at once using pd.concat(axis=1) instead.  To get a de-fragmented frame, use `newframe = frame.copy()`\n"
     ]
    },
    {
     "name": "stdout",
     "output_type": "stream",
     "text": [
      "HRL 5282 False\n"
     ]
    },
    {
     "name": "stderr",
     "output_type": "stream",
     "text": [
      "/home/users/t_wand01/.local/lib/python3.7/site-packages/ipykernel_launcher.py:72: PerformanceWarning: DataFrame is highly fragmented.  This is usually the result of calling `frame.insert` many times, which has poor performance.  Consider joining all columns at once using pd.concat(axis=1) instead.  To get a de-fragmented frame, use `newframe = frame.copy()`\n"
     ]
    },
    {
     "name": "stdout",
     "output_type": "stream",
     "text": [
      "SJM 4565 False\n",
      "K 5280 False\n"
     ]
    },
    {
     "name": "stderr",
     "output_type": "stream",
     "text": [
      "/home/users/t_wand01/.local/lib/python3.7/site-packages/ipykernel_launcher.py:72: PerformanceWarning: DataFrame is highly fragmented.  This is usually the result of calling `frame.insert` many times, which has poor performance.  Consider joining all columns at once using pd.concat(axis=1) instead.  To get a de-fragmented frame, use `newframe = frame.copy()`\n"
     ]
    },
    {
     "name": "stdout",
     "output_type": "stream",
     "text": [
      "KMB 5281 False\n"
     ]
    },
    {
     "name": "stderr",
     "output_type": "stream",
     "text": [
      "/home/users/t_wand01/.local/lib/python3.7/site-packages/ipykernel_launcher.py:72: PerformanceWarning: DataFrame is highly fragmented.  This is usually the result of calling `frame.insert` many times, which has poor performance.  Consider joining all columns at once using pd.concat(axis=1) instead.  To get a de-fragmented frame, use `newframe = frame.copy()`\n"
     ]
    },
    {
     "name": "stdout",
     "output_type": "stream",
     "text": [
      "- KHC: Data doesn't exist for startDate = 694306800, endDate = 1356994800\n",
      "KHC 0 False\n",
      "KR 5282 False\n"
     ]
    },
    {
     "name": "stderr",
     "output_type": "stream",
     "text": [
      "/home/users/t_wand01/.local/lib/python3.7/site-packages/ipykernel_launcher.py:72: PerformanceWarning: DataFrame is highly fragmented.  This is usually the result of calling `frame.insert` many times, which has poor performance.  Consider joining all columns at once using pd.concat(axis=1) instead.  To get a de-fragmented frame, use `newframe = frame.copy()`\n"
     ]
    },
    {
     "name": "stdout",
     "output_type": "stream",
     "text": [
      "- LW: Data doesn't exist for startDate = 694306800, endDate = 1356994800\n",
      "LW 0 False\n",
      "MKC 5279 False\n"
     ]
    },
    {
     "name": "stderr",
     "output_type": "stream",
     "text": [
      "/home/users/t_wand01/.local/lib/python3.7/site-packages/ipykernel_launcher.py:72: PerformanceWarning: DataFrame is highly fragmented.  This is usually the result of calling `frame.insert` many times, which has poor performance.  Consider joining all columns at once using pd.concat(axis=1) instead.  To get a de-fragmented frame, use `newframe = frame.copy()`\n"
     ]
    },
    {
     "name": "stdout",
     "output_type": "stream",
     "text": [
      "TAP 5281 False\n"
     ]
    },
    {
     "name": "stderr",
     "output_type": "stream",
     "text": [
      "/home/users/t_wand01/.local/lib/python3.7/site-packages/ipykernel_launcher.py:72: PerformanceWarning: DataFrame is highly fragmented.  This is usually the result of calling `frame.insert` many times, which has poor performance.  Consider joining all columns at once using pd.concat(axis=1) instead.  To get a de-fragmented frame, use `newframe = frame.copy()`\n"
     ]
    },
    {
     "name": "stdout",
     "output_type": "stream",
     "text": [
      "MDLZ 2906 False\n",
      "MNST 5212 False\n",
      "PEP 5277 False\n"
     ]
    },
    {
     "name": "stderr",
     "output_type": "stream",
     "text": [
      "/home/users/t_wand01/.local/lib/python3.7/site-packages/ipykernel_launcher.py:72: PerformanceWarning: DataFrame is highly fragmented.  This is usually the result of calling `frame.insert` many times, which has poor performance.  Consider joining all columns at once using pd.concat(axis=1) instead.  To get a de-fragmented frame, use `newframe = frame.copy()`\n"
     ]
    },
    {
     "name": "stdout",
     "output_type": "stream",
     "text": [
      "PM 1208 False\n",
      "PG 5283 False\n"
     ]
    },
    {
     "name": "stderr",
     "output_type": "stream",
     "text": [
      "/home/users/t_wand01/.local/lib/python3.7/site-packages/ipykernel_launcher.py:72: PerformanceWarning: DataFrame is highly fragmented.  This is usually the result of calling `frame.insert` many times, which has poor performance.  Consider joining all columns at once using pd.concat(axis=1) instead.  To get a de-fragmented frame, use `newframe = frame.copy()`\n"
     ]
    },
    {
     "name": "stdout",
     "output_type": "stream",
     "text": [
      "SYY 5276 False\n"
     ]
    },
    {
     "name": "stderr",
     "output_type": "stream",
     "text": [
      "/home/users/t_wand01/.local/lib/python3.7/site-packages/ipykernel_launcher.py:72: PerformanceWarning: DataFrame is highly fragmented.  This is usually the result of calling `frame.insert` many times, which has poor performance.  Consider joining all columns at once using pd.concat(axis=1) instead.  To get a de-fragmented frame, use `newframe = frame.copy()`\n"
     ]
    },
    {
     "name": "stdout",
     "output_type": "stream",
     "text": [
      "TSN 5277 False\n"
     ]
    },
    {
     "name": "stderr",
     "output_type": "stream",
     "text": [
      "/home/users/t_wand01/.local/lib/python3.7/site-packages/ipykernel_launcher.py:72: PerformanceWarning: DataFrame is highly fragmented.  This is usually the result of calling `frame.insert` many times, which has poor performance.  Consider joining all columns at once using pd.concat(axis=1) instead.  To get a de-fragmented frame, use `newframe = frame.copy()`\n"
     ]
    },
    {
     "name": "stdout",
     "output_type": "stream",
     "text": [
      "WMT 5280 False\n"
     ]
    },
    {
     "name": "stderr",
     "output_type": "stream",
     "text": [
      "/home/users/t_wand01/.local/lib/python3.7/site-packages/ipykernel_launcher.py:72: PerformanceWarning: DataFrame is highly fragmented.  This is usually the result of calling `frame.insert` many times, which has poor performance.  Consider joining all columns at once using pd.concat(axis=1) instead.  To get a de-fragmented frame, use `newframe = frame.copy()`\n"
     ]
    },
    {
     "name": "stdout",
     "output_type": "stream",
     "text": [
      "WBA 5284 False\n",
      "24\n",
      "Real Estate\n",
      "29\n"
     ]
    },
    {
     "name": "stderr",
     "output_type": "stream",
     "text": [
      "/home/users/t_wand01/.local/lib/python3.7/site-packages/ipykernel_launcher.py:72: PerformanceWarning: DataFrame is highly fragmented.  This is usually the result of calling `frame.insert` many times, which has poor performance.  Consider joining all columns at once using pd.concat(axis=1) instead.  To get a de-fragmented frame, use `newframe = frame.copy()`\n"
     ]
    },
    {
     "name": "stdout",
     "output_type": "stream",
     "text": [
      "ARE 3922 False\n",
      "AMT 3735 False\n",
      "AVB 4727 False\n",
      "BXP 3908 False\n",
      "CBRE 2155 False\n",
      "CCI 3616 False\n",
      "DLR 2057 False\n",
      "DRE 4847 False\n",
      "EQIX 3115 False\n",
      "EQR 4874 False\n",
      "ESS 4667 False\n",
      "EXR 2110 False\n",
      "FRT 5282 False\n"
     ]
    },
    {
     "name": "stderr",
     "output_type": "stream",
     "text": [
      "/home/users/t_wand01/.local/lib/python3.7/site-packages/ipykernel_launcher.py:72: PerformanceWarning: DataFrame is highly fragmented.  This is usually the result of calling `frame.insert` many times, which has poor performance.  Consider joining all columns at once using pd.concat(axis=1) instead.  To get a de-fragmented frame, use `newframe = frame.copy()`\n"
     ]
    },
    {
     "name": "stdout",
     "output_type": "stream",
     "text": [
      "PEAK 5283 False\n"
     ]
    },
    {
     "name": "stderr",
     "output_type": "stream",
     "text": [
      "/home/users/t_wand01/.local/lib/python3.7/site-packages/ipykernel_launcher.py:72: PerformanceWarning: DataFrame is highly fragmented.  This is usually the result of calling `frame.insert` many times, which has poor performance.  Consider joining all columns at once using pd.concat(axis=1) instead.  To get a de-fragmented frame, use `newframe = frame.copy()`\n"
     ]
    },
    {
     "name": "stdout",
     "output_type": "stream",
     "text": [
      "HST 4841 False\n",
      "IRM 4244 False\n",
      "KIM 5284 False\n"
     ]
    },
    {
     "name": "stderr",
     "output_type": "stream",
     "text": [
      "/home/users/t_wand01/.local/lib/python3.7/site-packages/ipykernel_launcher.py:72: PerformanceWarning: DataFrame is highly fragmented.  This is usually the result of calling `frame.insert` many times, which has poor performance.  Consider joining all columns at once using pd.concat(axis=1) instead.  To get a de-fragmented frame, use `newframe = frame.copy()`\n"
     ]
    },
    {
     "name": "stdout",
     "output_type": "stream",
     "text": [
      "MAA 4751 False\n",
      "PLD 3799 False\n",
      "PSA 5281 False\n"
     ]
    },
    {
     "name": "stderr",
     "output_type": "stream",
     "text": [
      "/home/users/t_wand01/.local/lib/python3.7/site-packages/ipykernel_launcher.py:72: PerformanceWarning: DataFrame is highly fragmented.  This is usually the result of calling `frame.insert` many times, which has poor performance.  Consider joining all columns at once using pd.concat(axis=1) instead.  To get a de-fragmented frame, use `newframe = frame.copy()`\n"
     ]
    },
    {
     "name": "stdout",
     "output_type": "stream",
     "text": [
      "O 4576 False\n",
      "REG 4819 False\n",
      "SBAC 3408 False\n",
      "SPG 4787 False\n",
      "UDR 5282 False\n"
     ]
    },
    {
     "name": "stderr",
     "output_type": "stream",
     "text": [
      "/home/users/t_wand01/.local/lib/python3.7/site-packages/ipykernel_launcher.py:72: PerformanceWarning: DataFrame is highly fragmented.  This is usually the result of calling `frame.insert` many times, which has poor performance.  Consider joining all columns at once using pd.concat(axis=1) instead.  To get a de-fragmented frame, use `newframe = frame.copy()`\n"
     ]
    },
    {
     "name": "stdout",
     "output_type": "stream",
     "text": [
      "VTR 3934 False\n",
      "VNO 5276 False\n"
     ]
    },
    {
     "name": "stderr",
     "output_type": "stream",
     "text": [
      "/home/users/t_wand01/.local/lib/python3.7/site-packages/ipykernel_launcher.py:72: PerformanceWarning: DataFrame is highly fragmented.  This is usually the result of calling `frame.insert` many times, which has poor performance.  Consider joining all columns at once using pd.concat(axis=1) instead.  To get a de-fragmented frame, use `newframe = frame.copy()`\n"
     ]
    },
    {
     "name": "stdout",
     "output_type": "stream",
     "text": [
      "WELL 5282 False\n"
     ]
    },
    {
     "name": "stderr",
     "output_type": "stream",
     "text": [
      "/home/users/t_wand01/.local/lib/python3.7/site-packages/ipykernel_launcher.py:72: PerformanceWarning: DataFrame is highly fragmented.  This is usually the result of calling `frame.insert` many times, which has poor performance.  Consider joining all columns at once using pd.concat(axis=1) instead.  To get a de-fragmented frame, use `newframe = frame.copy()`\n"
     ]
    },
    {
     "name": "stdout",
     "output_type": "stream",
     "text": [
      "WY 5279 False\n",
      "8\n",
      "Energy\n",
      "21\n"
     ]
    },
    {
     "name": "stderr",
     "output_type": "stream",
     "text": [
      "/home/users/t_wand01/.local/lib/python3.7/site-packages/ipykernel_launcher.py:72: PerformanceWarning: DataFrame is highly fragmented.  This is usually the result of calling `frame.insert` many times, which has poor performance.  Consider joining all columns at once using pd.concat(axis=1) instead.  To get a de-fragmented frame, use `newframe = frame.copy()`\n"
     ]
    },
    {
     "name": "stdout",
     "output_type": "stream",
     "text": [
      "APA 5291 True\n"
     ]
    },
    {
     "name": "stderr",
     "output_type": "stream",
     "text": [
      "/home/users/t_wand01/.local/lib/python3.7/site-packages/ipykernel_launcher.py:46: PerformanceWarning: DataFrame is highly fragmented.  This is usually the result of calling `frame.insert` many times, which has poor performance.  Consider joining all columns at once using pd.concat(axis=1) instead.  To get a de-fragmented frame, use `newframe = frame.copy()`\n"
     ]
    },
    {
     "name": "stdout",
     "output_type": "stream",
     "text": [
      "BKR 5291 True\n",
      "CVX 5280 False\n"
     ]
    },
    {
     "name": "stderr",
     "output_type": "stream",
     "text": [
      "/home/users/t_wand01/.local/lib/python3.7/site-packages/ipykernel_launcher.py:72: PerformanceWarning: DataFrame is highly fragmented.  This is usually the result of calling `frame.insert` many times, which has poor performance.  Consider joining all columns at once using pd.concat(axis=1) instead.  To get a de-fragmented frame, use `newframe = frame.copy()`\n"
     ]
    },
    {
     "name": "stdout",
     "output_type": "stream",
     "text": [
      "COP 5291 True\n"
     ]
    },
    {
     "name": "stderr",
     "output_type": "stream",
     "text": [
      "/home/users/t_wand01/.local/lib/python3.7/site-packages/ipykernel_launcher.py:46: PerformanceWarning: DataFrame is highly fragmented.  This is usually the result of calling `frame.insert` many times, which has poor performance.  Consider joining all columns at once using pd.concat(axis=1) instead.  To get a de-fragmented frame, use `newframe = frame.copy()`\n"
     ]
    },
    {
     "name": "stdout",
     "output_type": "stream",
     "text": [
      "CTRA 5278 False\n"
     ]
    },
    {
     "name": "stderr",
     "output_type": "stream",
     "text": [
      "/home/users/t_wand01/.local/lib/python3.7/site-packages/ipykernel_launcher.py:72: PerformanceWarning: DataFrame is highly fragmented.  This is usually the result of calling `frame.insert` many times, which has poor performance.  Consider joining all columns at once using pd.concat(axis=1) instead.  To get a de-fragmented frame, use `newframe = frame.copy()`\n"
     ]
    },
    {
     "name": "stdout",
     "output_type": "stream",
     "text": [
      "DVN 5279 False\n",
      "FANG 53 False\n"
     ]
    },
    {
     "name": "stderr",
     "output_type": "stream",
     "text": [
      "/home/users/t_wand01/.local/lib/python3.7/site-packages/ipykernel_launcher.py:72: PerformanceWarning: DataFrame is highly fragmented.  This is usually the result of calling `frame.insert` many times, which has poor performance.  Consider joining all columns at once using pd.concat(axis=1) instead.  To get a de-fragmented frame, use `newframe = frame.copy()`\n"
     ]
    },
    {
     "name": "stdout",
     "output_type": "stream",
     "text": [
      "EOG 5280 False\n"
     ]
    },
    {
     "name": "stderr",
     "output_type": "stream",
     "text": [
      "/home/users/t_wand01/.local/lib/python3.7/site-packages/ipykernel_launcher.py:72: PerformanceWarning: DataFrame is highly fragmented.  This is usually the result of calling `frame.insert` many times, which has poor performance.  Consider joining all columns at once using pd.concat(axis=1) instead.  To get a de-fragmented frame, use `newframe = frame.copy()`\n"
     ]
    },
    {
     "name": "stdout",
     "output_type": "stream",
     "text": [
      "XOM 5276 False\n"
     ]
    },
    {
     "name": "stderr",
     "output_type": "stream",
     "text": [
      "/home/users/t_wand01/.local/lib/python3.7/site-packages/ipykernel_launcher.py:72: PerformanceWarning: DataFrame is highly fragmented.  This is usually the result of calling `frame.insert` many times, which has poor performance.  Consider joining all columns at once using pd.concat(axis=1) instead.  To get a de-fragmented frame, use `newframe = frame.copy()`\n"
     ]
    },
    {
     "name": "stdout",
     "output_type": "stream",
     "text": [
      "HAL 5281 False\n"
     ]
    },
    {
     "name": "stderr",
     "output_type": "stream",
     "text": [
      "/home/users/t_wand01/.local/lib/python3.7/site-packages/ipykernel_launcher.py:72: PerformanceWarning: DataFrame is highly fragmented.  This is usually the result of calling `frame.insert` many times, which has poor performance.  Consider joining all columns at once using pd.concat(axis=1) instead.  To get a de-fragmented frame, use `newframe = frame.copy()`\n"
     ]
    },
    {
     "name": "stdout",
     "output_type": "stream",
     "text": [
      "HES 5292 False\n",
      "KMI 475 False\n"
     ]
    },
    {
     "name": "stderr",
     "output_type": "stream",
     "text": [
      "/home/users/t_wand01/.local/lib/python3.7/site-packages/ipykernel_launcher.py:72: PerformanceWarning: DataFrame is highly fragmented.  This is usually the result of calling `frame.insert` many times, which has poor performance.  Consider joining all columns at once using pd.concat(axis=1) instead.  To get a de-fragmented frame, use `newframe = frame.copy()`\n"
     ]
    },
    {
     "name": "stdout",
     "output_type": "stream",
     "text": [
      "MRO 5291 True\n",
      "MPC 383 False\n"
     ]
    },
    {
     "name": "stderr",
     "output_type": "stream",
     "text": [
      "/home/users/t_wand01/.local/lib/python3.7/site-packages/ipykernel_launcher.py:46: PerformanceWarning: DataFrame is highly fragmented.  This is usually the result of calling `frame.insert` many times, which has poor performance.  Consider joining all columns at once using pd.concat(axis=1) instead.  To get a de-fragmented frame, use `newframe = frame.copy()`\n"
     ]
    },
    {
     "name": "stdout",
     "output_type": "stream",
     "text": [
      "OXY 5284 False\n"
     ]
    },
    {
     "name": "stderr",
     "output_type": "stream",
     "text": [
      "/home/users/t_wand01/.local/lib/python3.7/site-packages/ipykernel_launcher.py:72: PerformanceWarning: DataFrame is highly fragmented.  This is usually the result of calling `frame.insert` many times, which has poor performance.  Consider joining all columns at once using pd.concat(axis=1) instead.  To get a de-fragmented frame, use `newframe = frame.copy()`\n"
     ]
    },
    {
     "name": "stdout",
     "output_type": "stream",
     "text": [
      "OKE 5281 False\n",
      "PSX 181 False\n"
     ]
    },
    {
     "name": "stderr",
     "output_type": "stream",
     "text": [
      "/home/users/t_wand01/.local/lib/python3.7/site-packages/ipykernel_launcher.py:72: PerformanceWarning: DataFrame is highly fragmented.  This is usually the result of calling `frame.insert` many times, which has poor performance.  Consider joining all columns at once using pd.concat(axis=1) instead.  To get a de-fragmented frame, use `newframe = frame.copy()`\n"
     ]
    },
    {
     "name": "stdout",
     "output_type": "stream",
     "text": [
      "PXD 3872 False\n",
      "SLB 5276 False\n"
     ]
    },
    {
     "name": "stderr",
     "output_type": "stream",
     "text": [
      "/home/users/t_wand01/.local/lib/python3.7/site-packages/ipykernel_launcher.py:72: PerformanceWarning: DataFrame is highly fragmented.  This is usually the result of calling `frame.insert` many times, which has poor performance.  Consider joining all columns at once using pd.concat(axis=1) instead.  To get a de-fragmented frame, use `newframe = frame.copy()`\n"
     ]
    },
    {
     "name": "stdout",
     "output_type": "stream",
     "text": [
      "VLO 3876 False\n",
      "WMB 5280 False\n",
      "15\n"
     ]
    },
    {
     "name": "stderr",
     "output_type": "stream",
     "text": [
      "/home/users/t_wand01/.local/lib/python3.7/site-packages/ipykernel_launcher.py:72: PerformanceWarning: DataFrame is highly fragmented.  This is usually the result of calling `frame.insert` many times, which has poor performance.  Consider joining all columns at once using pd.concat(axis=1) instead.  To get a de-fragmented frame, use `newframe = frame.copy()`\n"
     ]
    }
   ],
   "source": [
    "# Normalizes returns\n",
    "\n",
    "NormRetDF = pd.DataFrame(data = ())\n",
    "\n",
    "\n",
    "for s in sectors:\n",
    "    print(s)\n",
    "    SectorDF = df[df[\"GICS Sector\"] == s]\n",
    "    SectorSymbols = SectorDF['Symbol'].values.tolist()\n",
    "    print(len(SectorDF[\"Symbol\"]))\n",
    "    \n",
    "    #Seclist.append(SectorPrices(s, start, end))\n",
    "    NormRetDF[s] = SectorNormReturns(s, df,start, end, 13)\n",
    "    \n",
    "    "
   ]
  },
  {
   "cell_type": "code",
   "execution_count": null,
   "id": "47f4b7f9",
   "metadata": {},
   "outputs": [],
   "source": []
  },
  {
   "cell_type": "code",
   "execution_count": null,
   "id": "4ef6b6ea",
   "metadata": {},
   "outputs": [],
   "source": []
  },
  {
   "cell_type": "code",
   "execution_count": null,
   "id": "a4f76609",
   "metadata": {},
   "outputs": [],
   "source": []
  },
  {
   "cell_type": "code",
   "execution_count": null,
   "id": "b02ab05d",
   "metadata": {},
   "outputs": [],
   "source": []
  },
  {
   "cell_type": "code",
   "execution_count": null,
   "id": "d427296d",
   "metadata": {},
   "outputs": [],
   "source": []
  },
  {
   "cell_type": "code",
   "execution_count": null,
   "id": "ac7f8d13",
   "metadata": {},
   "outputs": [],
   "source": []
  },
  {
   "cell_type": "code",
   "execution_count": null,
   "id": "3cbc8c83",
   "metadata": {},
   "outputs": [],
   "source": []
  },
  {
   "cell_type": "code",
   "execution_count": null,
   "id": "807f0067",
   "metadata": {},
   "outputs": [],
   "source": []
  },
  {
   "cell_type": "code",
   "execution_count": 22,
   "id": "6b264896",
   "metadata": {},
   "outputs": [
    {
     "name": "stdout",
     "output_type": "stream",
     "text": [
      "263\n"
     ]
    }
   ],
   "source": [
    "print(NumberOfCompanies)"
   ]
  },
  {
   "cell_type": "code",
   "execution_count": 23,
   "id": "6db57a14",
   "metadata": {},
   "outputs": [
    {
     "data": {
      "text/plain": [
       "{Timestamp('1996-03-04 00:00:00'),\n",
       " Timestamp('1996-07-23 00:00:00'),\n",
       " Timestamp('1997-04-04 00:00:00'),\n",
       " Timestamp('1997-04-10 00:00:00'),\n",
       " Timestamp('1997-04-18 00:00:00'),\n",
       " Timestamp('1997-06-09 00:00:00'),\n",
       " Timestamp('1997-07-22 00:00:00'),\n",
       " Timestamp('1997-07-28 00:00:00'),\n",
       " Timestamp('1997-09-09 00:00:00'),\n",
       " Timestamp('1997-11-25 00:00:00'),\n",
       " Timestamp('1998-01-14 00:00:00'),\n",
       " Timestamp('1998-11-25 00:00:00')}"
      ]
     },
     "execution_count": 23,
     "metadata": {},
     "output_type": "execute_result"
    }
   ],
   "source": [
    "StockData = yf.Ticker(\"WMB\")\n",
    "StockData = StockData.history(start = start, end = end, period = \"1d\")\n",
    "set(SP500.index) - set(StockData.index)"
   ]
  },
  {
   "cell_type": "code",
   "execution_count": null,
   "id": "fb12700b",
   "metadata": {},
   "outputs": [],
   "source": []
  },
  {
   "cell_type": "code",
   "execution_count": 24,
   "id": "31f51538",
   "metadata": {},
   "outputs": [
    {
     "data": {
      "text/plain": [
       "{Timestamp('1997-09-09 00:00:00')}"
      ]
     },
     "execution_count": 24,
     "metadata": {},
     "output_type": "execute_result"
    }
   ],
   "source": [
    "StockData = yf.Ticker(\"CSCO\")\n",
    "StockData = StockData.history(start = start, end = end, period = \"1d\")\n",
    "set(SP500.index) - set(StockData.index)"
   ]
  },
  {
   "cell_type": "code",
   "execution_count": null,
   "id": "35335b87",
   "metadata": {},
   "outputs": [],
   "source": []
  },
  {
   "cell_type": "markdown",
   "id": "e3f7442d",
   "metadata": {},
   "source": [
    "            Consumer Staples  Utilities  Information Technology  Industrials  \\\n",
    "Date                                                                           \n",
    "1992-01-02               NaN        0.0                     NaN          NaN   \n",
    "1992-01-03               NaN        0.0                     NaN          NaN   \n",
    "1992-01-06               NaN        0.0                     NaN          NaN   \n",
    "1992-01-07               NaN        0.0                     NaN          NaN   \n",
    "1992-01-08               NaN        0.0                     NaN          NaN   \n",
    "...                      ...        ...                     ...          ...   \n",
    "2012-12-24         -0.500672        0.0               -1.972311    -4.995078   \n",
    "2012-12-26         -0.687495        0.0               -5.471375    -2.509213   \n",
    "2012-12-27          0.346695        0.0               -4.042904    -2.551367   \n",
    "2012-12-28         -0.371900        0.0               -6.756870   -11.272262   \n",
    "2012-12-31          1.555407        0.0               10.037852    13.397237   \n",
    "\n",
    "            Financials  Communication Services  Health Care  \\\n",
    "Date                                                          \n",
    "1992-01-02         NaN                     NaN          NaN   \n",
    "1992-01-03         NaN                     NaN          NaN   \n",
    "1992-01-06         NaN                     NaN          NaN   \n",
    "1992-01-07         NaN                     NaN          NaN   \n",
    "1992-01-08         NaN                     NaN          NaN   \n",
    "...                ...                     ...          ...   \n",
    "2012-12-24   -0.796597               -0.753516    -0.327770   \n",
    "2012-12-26   -1.053922               -2.231853    -4.193964   \n",
    "2012-12-27   -0.430637                0.483345     3.014318   \n",
    "2012-12-28   -0.824790               -0.561735    -2.427771   \n",
    "2012-12-31    0.575290                1.886439     3.294325   \n",
    "\n",
    "            Consumer Discretionary    Energy  Materials  Real Estate  \n",
    "Date                                                                  \n",
    "1992-01-02                     NaN       NaN        0.0          0.0  \n",
    "1992-01-03                     NaN       NaN        0.0          0.0  \n",
    "1992-01-06                     NaN       NaN        0.0          0.0  \n",
    "1992-01-07                     NaN       NaN        0.0          0.0  \n",
    "1992-01-08                     NaN       NaN        0.0          0.0  \n",
    "...                            ...       ...        ...          ...  \n",
    "2012-12-24               -0.383354 -1.156692        0.0          0.0  \n",
    "2012-12-26               -3.739988 -0.631933        0.0          0.0  \n",
    "2012-12-27                1.238623 -0.355332        0.0          0.0  \n",
    "2012-12-28               -2.848384 -1.267027        0.0          0.0  \n",
    "2012-12-31                9.415495  2.488306        0.0          0.0 "
   ]
  },
  {
   "cell_type": "code",
   "execution_count": 25,
   "id": "743184af",
   "metadata": {},
   "outputs": [
    {
     "name": "stdout",
     "output_type": "stream",
     "text": [
      "            Utilities  Information Technology  Materials  Health Care  \\\n",
      "Date                                                                    \n",
      "1992-01-02        NaN                     NaN        NaN          NaN   \n",
      "1992-01-03        NaN                     NaN        NaN          NaN   \n",
      "1992-01-06        NaN                     NaN        NaN          NaN   \n",
      "1992-01-07        NaN                     NaN        NaN          NaN   \n",
      "1992-01-08        NaN                     NaN        NaN          NaN   \n",
      "...               ...                     ...        ...          ...   \n",
      "2012-12-24 -13.150235              -15.559262   3.114686   -10.961609   \n",
      "2012-12-26 -30.880331              -26.606141  -3.296699   -34.500741   \n",
      "2012-12-27  -4.516366               -7.459821  -9.782953    -0.294040   \n",
      "2012-12-28 -24.800785              -33.630637 -20.600914   -36.070073   \n",
      "2012-12-31  41.969551               49.739138  17.719807    46.563195   \n",
      "\n",
      "            Industrials  Consumer Discretionary  Financials  \\\n",
      "Date                                                          \n",
      "1992-01-02          NaN                     NaN         NaN   \n",
      "1992-01-03          NaN                     NaN         NaN   \n",
      "1992-01-06          NaN                     NaN         NaN   \n",
      "1992-01-07          NaN                     NaN         NaN   \n",
      "1992-01-08          NaN                     NaN         NaN   \n",
      "...                 ...                     ...         ...   \n",
      "2012-12-24   -20.927487                1.176756  -17.361941   \n",
      "2012-12-26   -29.367562              -23.170483  -19.964943   \n",
      "2012-12-27   -12.563549               11.888090  -21.559166   \n",
      "2012-12-28   -51.556679              -16.090906  -29.739582   \n",
      "2012-12-31    79.873611               35.101000   42.268593   \n",
      "\n",
      "            Communication Services  Consumer Staples  Real Estate     Energy  \n",
      "Date                                                                          \n",
      "1992-01-02                     NaN               NaN          NaN        NaN  \n",
      "1992-01-03                     NaN               NaN          NaN        NaN  \n",
      "1992-01-06                     NaN               NaN          NaN        NaN  \n",
      "1992-01-07                     NaN               NaN          NaN        NaN  \n",
      "1992-01-08                     NaN               NaN          NaN        NaN  \n",
      "...                            ...               ...          ...        ...  \n",
      "2012-12-24               -0.710343         -5.359795     1.153713 -14.043977  \n",
      "2012-12-26               -3.401398        -24.458479    -8.267458  -9.148394  \n",
      "2012-12-27               -2.265019          1.924305     2.321190  -2.794459  \n",
      "2012-12-28               -6.607336        -25.290456    -7.710966 -21.535930  \n",
      "2012-12-31               13.045683         40.960669     9.336725  25.206619  \n",
      "\n",
      "[5292 rows x 11 columns]\n"
     ]
    }
   ],
   "source": [
    "print(NormRetDF)"
   ]
  },
  {
   "cell_type": "code",
   "execution_count": 26,
   "id": "7765f28d",
   "metadata": {},
   "outputs": [
    {
     "data": {
      "text/plain": [
       "[<matplotlib.lines.Line2D at 0x7f2e55546048>]"
      ]
     },
     "execution_count": 26,
     "metadata": {},
     "output_type": "execute_result"
    },
    {
     "data": {
      "image/png": "[encoded data removed]",
      "text/plain": [
       "<Figure size 432x288 with 1 Axes>"
      ]
     },
     "metadata": {
      "needs_background": "light"
     },
     "output_type": "display_data"
    }
   ],
   "source": [
    "plt.plot(NormRetDF[\"Utilities\"])"
   ]
  },
  {
   "cell_type": "code",
   "execution_count": 27,
   "id": "764a9182",
   "metadata": {},
   "outputs": [
    {
     "data": {
      "image/png": "[encoded data removed]",
      "text/plain": [
       "<Figure size 432x288 with 1 Axes>"
      ]
     },
     "metadata": {
      "needs_background": "light"
     },
     "output_type": "display_data"
    }
   ],
   "source": [
    "for i in NormRetDF.columns:\n",
    "    plt.plot(NormRetDF[i], label=i)\n",
    "    \n",
    "plt.legend()\n",
    "plt.show()"
   ]
  },
  {
   "cell_type": "markdown",
   "id": "ad902168",
   "metadata": {},
   "source": [
    "Something stragne happened in the IT data:"
   ]
  },
  {
   "cell_type": "code",
   "execution_count": 28,
   "id": "425db749",
   "metadata": {},
   "outputs": [
    {
     "data": {
      "text/plain": [
       "Utilities                2007-02-27\n",
       "Information Technology   2007-02-27\n",
       "Materials                1997-10-27\n",
       "Health Care              1997-10-27\n",
       "Industrials              2001-09-17\n",
       "Consumer Discretionary   1997-10-27\n",
       "Financials               2011-08-08\n",
       "Communication Services   1997-10-27\n",
       "Consumer Staples         2007-04-02\n",
       "Real Estate              2011-08-08\n",
       "Energy                   2011-08-04\n",
       "dtype: datetime64[ns]"
      ]
     },
     "execution_count": 28,
     "metadata": {},
     "output_type": "execute_result"
    }
   ],
   "source": [
    "NormRetDF.idxmin()"
   ]
  },
  {
   "cell_type": "code",
   "execution_count": 29,
   "id": "a6a84592",
   "metadata": {},
   "outputs": [
    {
     "data": {
      "text/plain": [
       "Utilities                 15.161161\n",
       "Information Technology    -2.135243\n",
       "Materials                  3.966142\n",
       "Health Care               22.057105\n",
       "Industrials               25.071082\n",
       "Consumer Discretionary    -0.512288\n",
       "Financials                50.500622\n",
       "Communication Services     0.478041\n",
       "Consumer Staples          11.374062\n",
       "Real Estate                3.524026\n",
       "Energy                   -42.144861\n",
       "Name: 2000-11-29 00:00:00, dtype: float64"
      ]
     },
     "execution_count": 29,
     "metadata": {},
     "output_type": "execute_result"
    }
   ],
   "source": [
    "NormRetDF.loc[\"2000-11-29\"]"
   ]
  },
  {
   "cell_type": "code",
   "execution_count": 30,
   "id": "63c9a845",
   "metadata": {},
   "outputs": [
    {
     "name": "stdout",
     "output_type": "stream",
     "text": [
      "{'NTAP', 'MSFT', 'MSI', 'TER', 'CDW', 'KEYS', 'NVDA', 'DXC', 'FLT', 'FISV', 'ENPH', 'IT', 'IPGP', 'PTC', 'TXN', 'WDC', 'ADI', 'ACN', 'MU', 'MPWR', 'TRMB', 'CTSH', 'INTU', 'CSCO', 'PYPL', 'SWKS', 'PAYX', 'TEL', 'ADSK', 'JNPR', 'IBM', 'BR', 'APH', 'CDAY', 'INTC', 'QRVO', 'ADP', 'ADBE', 'SNPS', 'HPE', 'LRCX', 'ZBRA', 'AKAM', 'KLAC', 'GLW', 'CRM', 'FFIV', 'GPN', 'NXPI', 'NLOK', 'MCHP', 'ORCL', 'ANET', 'WU', 'XLNX', 'AMAT', 'CTXS', 'NOW', 'V', 'AVGO', 'HPQ', 'CDNS', 'ANSS', 'FIS', 'FTNT', 'JKHY', 'PAYC', 'QCOM', 'MA', 'STX', 'TYL', 'AMD', 'VRSN', 'AAPL'}\n"
     ]
    }
   ],
   "source": [
    "IT = set(df[df[\"GICS Sector\"] ==\"Information Technology\"][\"Symbol\"])\n",
    "print(IT)"
   ]
  },
  {
   "cell_type": "markdown",
   "id": "4a98d642",
   "metadata": {},
   "source": [
    "## Some Data Analysis"
   ]
  },
  {
   "cell_type": "code",
   "execution_count": 31,
   "id": "1a5b4dda",
   "metadata": {},
   "outputs": [
    {
     "name": "stdout",
     "output_type": "stream",
     "text": [
      "0.5282801107104377 Utilities\n",
      "0.6155367437395848 Information Technology\n",
      "0.6546977376420522 Materials\n",
      "0.6544320501287944 Health Care\n",
      "0.7051472379677968 Industrials\n",
      "0.656557597009138 Consumer Discretionary\n",
      "0.670530877196055 Financials\n",
      "0.6244008431653767 Communication Services\n",
      "0.35235051491483627 Consumer Staples\n",
      "0.5429389836633425 Real Estate\n",
      "0.501180519086912 Energy\n"
     ]
    },
    {
     "data": {
      "text/html": [
       "<div>\n",
       "<style scoped>\n",
       "    .dataframe tbody tr th:only-of-type {\n",
       "        vertical-align: middle;\n",
       "    }\n",
       "\n",
       "    .dataframe tbody tr th {\n",
       "        vertical-align: top;\n",
       "    }\n",
       "\n",
       "    .dataframe thead th {\n",
       "        text-align: right;\n",
       "    }\n",
       "</style>\n",
       "<table border=\"1\" class=\"dataframe\">\n",
       "  <thead>\n",
       "    <tr style=\"text-align: right;\">\n",
       "      <th></th>\n",
       "      <th>Utilities</th>\n",
       "      <th>Information Technology</th>\n",
       "      <th>Materials</th>\n",
       "      <th>Health Care</th>\n",
       "      <th>Industrials</th>\n",
       "      <th>Consumer Discretionary</th>\n",
       "      <th>Financials</th>\n",
       "      <th>Communication Services</th>\n",
       "      <th>Consumer Staples</th>\n",
       "      <th>Real Estate</th>\n",
       "      <th>Energy</th>\n",
       "    </tr>\n",
       "  </thead>\n",
       "  <tbody>\n",
       "    <tr>\n",
       "      <th>Utilities</th>\n",
       "      <td>1.000000</td>\n",
       "      <td>0.424780</td>\n",
       "      <td>0.525519</td>\n",
       "      <td>0.534249</td>\n",
       "      <td>0.548931</td>\n",
       "      <td>0.487982</td>\n",
       "      <td>0.562034</td>\n",
       "      <td>0.514662</td>\n",
       "      <td>0.277152</td>\n",
       "      <td>0.458927</td>\n",
       "      <td>0.476846</td>\n",
       "    </tr>\n",
       "    <tr>\n",
       "      <th>Information Technology</th>\n",
       "      <td>0.424780</td>\n",
       "      <td>1.000000</td>\n",
       "      <td>0.636956</td>\n",
       "      <td>0.694774</td>\n",
       "      <td>0.762903</td>\n",
       "      <td>0.690690</td>\n",
       "      <td>0.677191</td>\n",
       "      <td>0.678397</td>\n",
       "      <td>0.261962</td>\n",
       "      <td>0.491217</td>\n",
       "      <td>0.452034</td>\n",
       "    </tr>\n",
       "    <tr>\n",
       "      <th>Materials</th>\n",
       "      <td>0.525519</td>\n",
       "      <td>0.636956</td>\n",
       "      <td>1.000000</td>\n",
       "      <td>0.680501</td>\n",
       "      <td>0.835783</td>\n",
       "      <td>0.727191</td>\n",
       "      <td>0.712357</td>\n",
       "      <td>0.632114</td>\n",
       "      <td>0.302532</td>\n",
       "      <td>0.573071</td>\n",
       "      <td>0.575650</td>\n",
       "    </tr>\n",
       "    <tr>\n",
       "      <th>Health Care</th>\n",
       "      <td>0.534249</td>\n",
       "      <td>0.694774</td>\n",
       "      <td>0.680501</td>\n",
       "      <td>1.000000</td>\n",
       "      <td>0.771111</td>\n",
       "      <td>0.712116</td>\n",
       "      <td>0.737239</td>\n",
       "      <td>0.681687</td>\n",
       "      <td>0.336462</td>\n",
       "      <td>0.546395</td>\n",
       "      <td>0.504219</td>\n",
       "    </tr>\n",
       "    <tr>\n",
       "      <th>Industrials</th>\n",
       "      <td>0.548931</td>\n",
       "      <td>0.762903</td>\n",
       "      <td>0.835783</td>\n",
       "      <td>0.771111</td>\n",
       "      <td>1.000000</td>\n",
       "      <td>0.820191</td>\n",
       "      <td>0.801372</td>\n",
       "      <td>0.723783</td>\n",
       "      <td>0.324375</td>\n",
       "      <td>0.610159</td>\n",
       "      <td>0.558011</td>\n",
       "    </tr>\n",
       "    <tr>\n",
       "      <th>Consumer Discretionary</th>\n",
       "      <td>0.487982</td>\n",
       "      <td>0.690690</td>\n",
       "      <td>0.727191</td>\n",
       "      <td>0.712116</td>\n",
       "      <td>0.820191</td>\n",
       "      <td>1.000000</td>\n",
       "      <td>0.757887</td>\n",
       "      <td>0.681995</td>\n",
       "      <td>0.321516</td>\n",
       "      <td>0.579735</td>\n",
       "      <td>0.442832</td>\n",
       "    </tr>\n",
       "    <tr>\n",
       "      <th>Financials</th>\n",
       "      <td>0.562034</td>\n",
       "      <td>0.677191</td>\n",
       "      <td>0.712357</td>\n",
       "      <td>0.737239</td>\n",
       "      <td>0.801372</td>\n",
       "      <td>0.757887</td>\n",
       "      <td>1.000000</td>\n",
       "      <td>0.705169</td>\n",
       "      <td>0.332385</td>\n",
       "      <td>0.615201</td>\n",
       "      <td>0.475005</td>\n",
       "    </tr>\n",
       "    <tr>\n",
       "      <th>Communication Services</th>\n",
       "      <td>0.514662</td>\n",
       "      <td>0.678397</td>\n",
       "      <td>0.632114</td>\n",
       "      <td>0.681687</td>\n",
       "      <td>0.723783</td>\n",
       "      <td>0.681995</td>\n",
       "      <td>0.705169</td>\n",
       "      <td>1.000000</td>\n",
       "      <td>0.296110</td>\n",
       "      <td>0.500146</td>\n",
       "      <td>0.454347</td>\n",
       "    </tr>\n",
       "    <tr>\n",
       "      <th>Consumer Staples</th>\n",
       "      <td>0.277152</td>\n",
       "      <td>0.261962</td>\n",
       "      <td>0.302532</td>\n",
       "      <td>0.336462</td>\n",
       "      <td>0.324375</td>\n",
       "      <td>0.321516</td>\n",
       "      <td>0.332385</td>\n",
       "      <td>0.296110</td>\n",
       "      <td>1.000000</td>\n",
       "      <td>0.223399</td>\n",
       "      <td>0.199961</td>\n",
       "    </tr>\n",
       "    <tr>\n",
       "      <th>Real Estate</th>\n",
       "      <td>0.458927</td>\n",
       "      <td>0.491217</td>\n",
       "      <td>0.573071</td>\n",
       "      <td>0.546395</td>\n",
       "      <td>0.610159</td>\n",
       "      <td>0.579735</td>\n",
       "      <td>0.615201</td>\n",
       "      <td>0.500146</td>\n",
       "      <td>0.223399</td>\n",
       "      <td>1.000000</td>\n",
       "      <td>0.374080</td>\n",
       "    </tr>\n",
       "    <tr>\n",
       "      <th>Energy</th>\n",
       "      <td>0.476846</td>\n",
       "      <td>0.452034</td>\n",
       "      <td>0.575650</td>\n",
       "      <td>0.504219</td>\n",
       "      <td>0.558011</td>\n",
       "      <td>0.442832</td>\n",
       "      <td>0.475005</td>\n",
       "      <td>0.454347</td>\n",
       "      <td>0.199961</td>\n",
       "      <td>0.374080</td>\n",
       "      <td>1.000000</td>\n",
       "    </tr>\n",
       "  </tbody>\n",
       "</table>\n",
       "</div>"
      ],
      "text/plain": [
       "                        Utilities  Information Technology  Materials  \\\n",
       "Utilities                1.000000                0.424780   0.525519   \n",
       "Information Technology   0.424780                1.000000   0.636956   \n",
       "Materials                0.525519                0.636956   1.000000   \n",
       "Health Care              0.534249                0.694774   0.680501   \n",
       "Industrials              0.548931                0.762903   0.835783   \n",
       "Consumer Discretionary   0.487982                0.690690   0.727191   \n",
       "Financials               0.562034                0.677191   0.712357   \n",
       "Communication Services   0.514662                0.678397   0.632114   \n",
       "Consumer Staples         0.277152                0.261962   0.302532   \n",
       "Real Estate              0.458927                0.491217   0.573071   \n",
       "Energy                   0.476846                0.452034   0.575650   \n",
       "\n",
       "                        Health Care  Industrials  Consumer Discretionary  \\\n",
       "Utilities                  0.534249     0.548931                0.487982   \n",
       "Information Technology     0.694774     0.762903                0.690690   \n",
       "Materials                  0.680501     0.835783                0.727191   \n",
       "Health Care                1.000000     0.771111                0.712116   \n",
       "Industrials                0.771111     1.000000                0.820191   \n",
       "Consumer Discretionary     0.712116     0.820191                1.000000   \n",
       "Financials                 0.737239     0.801372                0.757887   \n",
       "Communication Services     0.681687     0.723783                0.681995   \n",
       "Consumer Staples           0.336462     0.324375                0.321516   \n",
       "Real Estate                0.546395     0.610159                0.579735   \n",
       "Energy                     0.504219     0.558011                0.442832   \n",
       "\n",
       "                        Financials  Communication Services  Consumer Staples  \\\n",
       "Utilities                 0.562034                0.514662          0.277152   \n",
       "Information Technology    0.677191                0.678397          0.261962   \n",
       "Materials                 0.712357                0.632114          0.302532   \n",
       "Health Care               0.737239                0.681687          0.336462   \n",
       "Industrials               0.801372                0.723783          0.324375   \n",
       "Consumer Discretionary    0.757887                0.681995          0.321516   \n",
       "Financials                1.000000                0.705169          0.332385   \n",
       "Communication Services    0.705169                1.000000          0.296110   \n",
       "Consumer Staples          0.332385                0.296110          1.000000   \n",
       "Real Estate               0.615201                0.500146          0.223399   \n",
       "Energy                    0.475005                0.454347          0.199961   \n",
       "\n",
       "                        Real Estate    Energy  \n",
       "Utilities                  0.458927  0.476846  \n",
       "Information Technology     0.491217  0.452034  \n",
       "Materials                  0.573071  0.575650  \n",
       "Health Care                0.546395  0.504219  \n",
       "Industrials                0.610159  0.558011  \n",
       "Consumer Discretionary     0.579735  0.442832  \n",
       "Financials                 0.615201  0.475005  \n",
       "Communication Services     0.500146  0.454347  \n",
       "Consumer Staples           0.223399  0.199961  \n",
       "Real Estate                1.000000  0.374080  \n",
       "Energy                     0.374080  1.000000  "
      ]
     },
     "execution_count": 31,
     "metadata": {},
     "output_type": "execute_result"
    }
   ],
   "source": [
    "Corr = NormRetDF.corr()\n",
    "\n",
    "for i in Corr.columns:\n",
    "    print(np.mean(Corr[i]),i)\n",
    "\n",
    "Corr"
   ]
  },
  {
   "cell_type": "code",
   "execution_count": 32,
   "id": "44e991ad",
   "metadata": {},
   "outputs": [
    {
     "data": {
      "text/plain": [
       "PCA()"
      ]
     },
     "execution_count": 32,
     "metadata": {},
     "output_type": "execute_result"
    }
   ],
   "source": [
    "pca = PCA()\n",
    "pca.fit(Corr)"
   ]
  },
  {
   "cell_type": "code",
   "execution_count": 33,
   "id": "88a09323",
   "metadata": {},
   "outputs": [
    {
     "name": "stdout",
     "output_type": "stream",
     "text": [
      "[5.45842557e-01 1.54757540e-01 9.65671818e-02 7.15319973e-02\n",
      " 4.72273803e-02 2.58192723e-02 2.36810473e-02 1.59837617e-02\n",
      " 1.38002834e-02 4.78897840e-03 6.69092788e-33]\n"
     ]
    }
   ],
   "source": [
    "print(pca.explained_variance_ratio_)"
   ]
  },
  {
   "cell_type": "code",
   "execution_count": 34,
   "id": "b38da3d1",
   "metadata": {},
   "outputs": [
    {
     "data": {
      "text/plain": [
       "array([[-0.07642309, -0.35599541, -0.32406575, -0.3120893 , -0.37863782,\n",
       "        -0.36020283, -0.33571814, -0.31170667,  0.3530206 , -0.21721779,\n",
       "        -0.10109862],\n",
       "       [ 0.38696405, -0.1934552 ,  0.04653522, -0.11424668, -0.08768176,\n",
       "        -0.22677604, -0.13713857, -0.136925  , -0.54359879,  0.03356064,\n",
       "         0.635861  ],\n",
       "       [ 0.2715846 , -0.24269856, -0.10491807, -0.10934435, -0.10098127,\n",
       "        -0.0014284 ,  0.09225389, -0.12061592, -0.17738677,  0.75189663,\n",
       "        -0.46292805],\n",
       "       [ 0.77769433, -0.04682053, -0.13769601,  0.13568682, -0.03688979,\n",
       "        -0.01377608,  0.12828297,  0.27777018,  0.09110552, -0.41981095,\n",
       "        -0.27554197],\n",
       "       [-0.16793184,  0.46991347, -0.54364779, -0.01175823, -0.24757082,\n",
       "        -0.23009156, -0.16578627,  0.4142597 , -0.36246495,  0.04560382,\n",
       "        -0.09218943],\n",
       "       [-0.18497529, -0.52487061,  0.09411271, -0.32905891, -0.04293834,\n",
       "         0.04231381,  0.11765219,  0.73493776,  0.03981959,  0.03860114,\n",
       "         0.11168109],\n",
       "       [-0.14299714, -0.34262124, -0.30062068,  0.76473981, -0.12569918,\n",
       "        -0.17840357,  0.26701719,  0.01703874,  0.10643073,  0.11584933,\n",
       "         0.20735849],\n",
       "       [-0.02626308, -0.04174963, -0.52661894, -0.2768548 , -0.08595688,\n",
       "         0.58765241,  0.43565053, -0.21939129, -0.06926833, -0.12008441,\n",
       "         0.18364339],\n",
       "       [-0.01010188,  0.2224425 ,  0.07123824, -0.28107165,  0.05197176,\n",
       "        -0.59077006,  0.701054  , -0.06963764,  0.12266921,  0.01587557,\n",
       "         0.05481711],\n",
       "       [ 0.13792955,  0.00490921, -0.4226193 , -0.099124  ,  0.74435689,\n",
       "        -0.11190283, -0.21145707,  0.07316304,  0.29685297,  0.21274491,\n",
       "         0.2061074 ],\n",
       "       [ 0.25133674,  0.33136485,  0.08399697, -0.02145774, -0.44078919,\n",
       "         0.15876853, -0.07008241,  0.148379  ,  0.53651567,  0.36493401,\n",
       "         0.38994221]])"
      ]
     },
     "execution_count": 34,
     "metadata": {},
     "output_type": "execute_result"
    }
   ],
   "source": [
    "pca.components_"
   ]
  },
  {
   "cell_type": "markdown",
   "id": "f48effb8",
   "metadata": {},
   "source": [
    "## Interval-wise"
   ]
  },
  {
   "cell_type": "code",
   "execution_count": 35,
   "id": "dba6f1b0",
   "metadata": {},
   "outputs": [
    {
     "name": "stdout",
     "output_type": "stream",
     "text": [
      "0.32411371916874165 0\n",
      "0.6089631438430719 1\n",
      "0.6290094788949169 2\n",
      "0.6313243201915377 3\n",
      "0.45834903117997133 4\n",
      "0.562275234773346 5\n",
      "0.4754613777465036 6\n",
      "0.5772389878168823 7\n",
      "0.42343834256342083 8\n",
      "0.41788979376405294 9\n",
      "0.3654798771434805 10\n",
      "0.3379320358614164 11\n",
      "0.5154663310898755 12\n",
      "0.3841649432630099 13\n",
      "0.46360935287830934 14\n",
      "0.5108956793340385 15\n",
      "0.32870244885222255 16\n",
      "0.31067126425547464 17\n",
      "0.5994091035071664 18\n",
      "0.3948614295925463 19\n",
      "0.4208401534047739 20\n",
      "0.36785048590398617 21\n",
      "0.3486854875935595 22\n",
      "0.4137337007677035 23\n",
      "0.29756968861524064 24\n",
      "0.4086479208042086 25\n",
      "0.678938197421521 26\n",
      "0.47298860899021716 27\n",
      "0.4639641272750969 28\n",
      "0.5177685881230722 29\n",
      "0.40539095919573387 30\n",
      "0.44299856158971795 31\n",
      "0.5151486290409174 32\n",
      "0.5337756777706368 33\n",
      "0.7169648950751016 34\n",
      "0.6221591102034412 35\n",
      "0.6102705587588739 36\n",
      "0.538246889164772 37\n",
      "0.48970161244199206 38\n",
      "0.5880051123400717 39\n",
      "0.6172473466581957 40\n",
      "0.422643669547572 41\n",
      "0.8832402565916619 42\n",
      "0.35650599360182894 43\n",
      "0.4816029595962345 44\n",
      "0.4168024845381172 45\n",
      "0.6981212018815472 46\n",
      "0.5463065800627352 47\n",
      "0.3915676004646464 48\n",
      "0.4382144747262295 49\n",
      "0.4421930899796861 50\n",
      "0.6714439449352332 51\n",
      "0.38869537453430747 52\n",
      "0.40918687322726616 53\n",
      "0.4337494739861181 54\n",
      "0.6788676484772903 55\n",
      "0.8167480888239421 56\n",
      "0.38278670005094934 57\n",
      "0.47998748604208163 58\n",
      "0.7079449368204407 59\n",
      "0.5495581762235225 60\n",
      "0.5867594379345795 61\n",
      "0.751214227965903 62\n",
      "0.43892999773897395 63\n",
      "0.362020653152132 64\n",
      "0.49396022869794337 65\n",
      "0.4287830107437632 66\n",
      "0.6715828572768393 67\n",
      "0.5715132710482055 68\n",
      "0.5250734284486193 69\n",
      "0.8464963291386071 70\n",
      "0.6164272472681186 71\n",
      "0.6236589893583875 72\n",
      "0.3631323545408679 73\n",
      "0.5109795123980724 74\n",
      "0.39101390622584087 75\n",
      "0.4205766231962333 76\n",
      "0.556810563059493 77\n",
      "0.5149987925868086 78\n",
      "0.5207585769144192 79\n",
      "0.5897401584711319 80\n",
      "0.7805053584118359 81\n",
      "0.5512493030619647 82\n",
      "0.5840305520513748 83\n",
      "0.49942981691461774 84\n",
      "0.7121712116527419 85\n",
      "0.7244089425791578 86\n",
      "0.5232918847565186 87\n",
      "0.6623098937402795 88\n",
      "0.4931859848896047 89\n",
      "0.4624179100893422 90\n",
      "0.5726804100896872 91\n",
      "0.6845862206922082 92\n",
      "0.614661778325164 93\n",
      "0.47637004534068295 94\n",
      "0.5899670981201275 95\n",
      "0.6577287866906478 96\n",
      "0.5519540756796342 97\n",
      "0.4091971597654869 98\n",
      "0.4831546205923779 99\n",
      "0.4805847045166491 100\n",
      "0.5120360858206184 101\n",
      "0.6258106308450303 102\n",
      "0.8664408626417559 103\n",
      "0.8899875242716087 104\n",
      "0.4811781434795711 105\n",
      "0.6383244221020444 106\n",
      "0.47587994732242966 107\n",
      "0.4539060182777194 108\n",
      "0.4572226466916412 109\n",
      "0.4396163528902904 110\n",
      "0.4901125878866702 111\n",
      "0.5342814925319412 112\n",
      "0.3487168305637328 113\n",
      "0.38058300696630737 114\n",
      "0.38594558561060033 115\n",
      "0.5969709517978683 116\n",
      "0.6565452023127384 117\n",
      "0.32032201057965515 118\n",
      "0.37525468486446295 119\n",
      "0.561917207575853 120\n",
      "0.36386887453043276 121\n",
      "0.5975637712651095 122\n",
      "0.38901083579221074 123\n",
      "0.656241528409921 124\n",
      "0.49155742488865856 125\n",
      "0.6319027455274538 126\n",
      "0.616272746078146 127\n",
      "0.6489908094027276 128\n",
      "0.49763925047041613 129\n",
      "0.5894784532325906 130\n",
      "0.5685707993764878 131\n"
     ]
    }
   ],
   "source": [
    "Period = 40 # 2 trading months\n",
    "\n",
    "T = int(len(NormRetDF)/Period)\n",
    "\n",
    "\n",
    "for t in range(T):\n",
    "    IntervalDF = NormRetDF.iloc[(0+t*Period):(Period+t*Period)]\n",
    "    IntervalCorr = IntervalDF.corr()\n",
    "    pca = PCA()\n",
    "    pca.fit(IntervalCorr)\n",
    "    print(pca.explained_variance_ratio_[0], t)"
   ]
  },
  {
   "cell_type": "code",
   "execution_count": 36,
   "id": "f93bf730",
   "metadata": {},
   "outputs": [
    {
     "name": "stdout",
     "output_type": "stream",
     "text": [
      "0.32411371916874165 0\n",
      "0.38218707269295377 1\n",
      "0.4195744463786481 2\n",
      "0.5819414589257661 3\n",
      "0.6089631438430719 4\n",
      "0.7100231534604102 5\n",
      "0.7005085905340306 6\n",
      "0.6488720124082827 7\n",
      "0.6290094788949169 8\n",
      "0.650334038422894 9\n",
      "0.6419190582905797 10\n",
      "0.7013152534013669 11\n",
      "0.6313243201915377 12\n",
      "0.4726976276557616 13\n",
      "0.55743562614853 14\n",
      "0.48576294834325695 15\n",
      "0.45834903117997133 16\n",
      "0.5270480709749674 17\n",
      "0.5596478190325295 18\n",
      "0.557662110386036 19\n",
      "0.562275234773346 20\n",
      "0.460754816360477 21\n",
      "0.4004646787839671 22\n",
      "0.4015612918072087 23\n",
      "0.4754613777465036 24\n",
      "0.4673303727081798 25\n",
      "0.4750748736648096 26\n",
      "0.5243731831560214 27\n",
      "0.5772389878168823 28\n",
      "0.5397424029804049 29\n",
      "0.4589801167323746 30\n",
      "0.47431617848351804 31\n",
      "0.42343834256342083 32\n",
      "0.4979224691874256 33\n",
      "0.513901520020294 34\n",
      "0.43466997765584575 35\n",
      "0.41788979376405294 36\n",
      "0.3385539266316613 37\n",
      "0.3201312449904968 38\n",
      "0.31547732771109627 39\n",
      "0.3654798771434805 40\n",
      "0.4354701332611456 41\n",
      "0.3640697304323174 42\n",
      "0.37344478458591246 43\n",
      "0.3379320358614164 44\n",
      "0.3036317112402093 45\n",
      "0.4828223288728589 46\n",
      "0.4680384657001177 47\n",
      "0.5154663310898755 48\n",
      "0.48803549332274415 49\n",
      "0.4431811986799661 50\n",
      "0.31925493916813286 51\n",
      "0.3841649432630099 52\n",
      "0.4326777294575502 53\n",
      "0.35313773225818385 54\n",
      "0.492449393648939 55\n",
      "0.46360935287830934 56\n",
      "0.410449803686308 57\n",
      "0.40897682383192513 58\n",
      "0.553467088541992 59\n",
      "0.5108956793340385 60\n",
      "0.33709281889943316 61\n",
      "0.35449399663907816 62\n",
      "0.3467647709302965 63\n",
      "0.32870244885222255 64\n",
      "0.4978892125730253 65\n",
      "0.44500899957142226 66\n",
      "0.35374435760314576 67\n",
      "0.31067126425547464 68\n",
      "0.36381537109461 69\n",
      "0.3827432357934345 70\n",
      "0.5017864317951112 71\n",
      "0.5994091035071664 72\n",
      "0.5605520092751345 73\n",
      "0.41737694039028106 74\n",
      "0.42233127028486805 75\n",
      "0.3948614295925463 76\n",
      "0.4512602489551198 77\n",
      "0.38924054608189185 78\n",
      "0.5348924581569455 79\n",
      "0.4208401534047739 80\n",
      "0.44941654350878935 81\n",
      "0.3538347570680621 82\n",
      "0.3692574000265491 83\n",
      "0.36785048590398617 84\n",
      "0.3894156834063087 85\n",
      "0.35990121095523514 86\n",
      "0.35000745269796946 87\n",
      "0.3486854875935595 88\n",
      "0.26479548025705224 89\n",
      "0.3088076485702262 90\n",
      "0.3327485258465462 91\n",
      "0.4137337007677035 92\n",
      "0.47925146202560587 93\n",
      "0.48946816152887296 94\n",
      "0.4597455411443939 95\n",
      "0.29756968861524064 96\n",
      "0.31850752371807484 97\n",
      "0.31509209856391507 98\n",
      "0.33861912084010437 99\n",
      "0.4086479208042086 100\n",
      "0.30763338762789694 101\n",
      "0.5524455242912792 102\n",
      "0.5825183792316615 103\n",
      "0.678938197421521 104\n",
      "0.6737522761024183 105\n",
      "0.4673313640993126 106\n",
      "0.5364521507542248 107\n",
      "0.47298860899021716 108\n",
      "0.3991969327349911 109\n",
      "0.31511279877923937 110\n",
      "0.40804945602537196 111\n",
      "0.4639641272750969 112\n",
      "0.3984743793998282 113\n",
      "0.4760903069408258 114\n",
      "0.5417218854427505 115\n",
      "0.5177685881230722 116\n",
      "0.4890878860826534 117\n",
      "0.4034088709672452 118\n",
      "0.3655047855317987 119\n",
      "0.40539095919573387 120\n",
      "0.4265429873046568 121\n",
      "0.4070465636439529 122\n",
      "0.4310610284179283 123\n",
      "0.44299856158971795 124\n",
      "0.3584159204552926 125\n",
      "0.46226153973863643 126\n",
      "0.4930537170546229 127\n",
      "0.5151486290409174 128\n",
      "0.554876198793316 129\n",
      "0.5447152306285987 130\n",
      "0.5163069985547449 131\n",
      "0.5337756777706368 132\n",
      "0.4567193138430692 133\n",
      "0.7297629043209907 134\n",
      "0.7542268286107942 135\n",
      "0.7169648950751016 136\n",
      "0.7050555446124662 137\n",
      "0.45543710335826304 138\n",
      "0.37749026897541793 139\n",
      "0.6221591102034412 140\n",
      "0.6811708037201216 141\n",
      "0.697673697309345 142\n",
      "0.6658890774349503 143\n",
      "0.6102705587588739 144\n",
      "0.5989151756543125 145\n",
      "0.5239121577564917 146\n",
      "0.577877968426464 147\n",
      "0.538246889164772 148\n",
      "0.5614431193716005 149\n",
      "0.635044787506524 150\n",
      "0.5811284929496485 151\n",
      "0.48970161244199206 152\n",
      "0.5383098984676805 153\n",
      "0.5904175449874818 154\n",
      "0.526962085180193 155\n",
      "0.5880051123400717 156\n",
      "0.4718683592220652 157\n",
      "0.5366710652461081 158\n",
      "0.5170669432021215 159\n",
      "0.6172473466581957 160\n",
      "0.5684930534314231 161\n",
      "0.4888644724174246 162\n",
      "0.381664844642373 163\n",
      "0.422643669547572 164\n",
      "0.6949584158921679 165\n",
      "0.699093681066132 166\n",
      "0.7971575817985017 167\n",
      "0.8832402565916619 168\n",
      "0.8095209656616331 169\n",
      "0.8177092868030575 170\n",
      "0.701706643659124 171\n",
      "0.35650599360182894 172\n",
      "0.416015541825197 173\n",
      "0.559618733730859 174\n",
      "0.4620120075388661 175\n",
      "0.4816029595962345 176\n",
      "0.48596148765937264 177\n",
      "0.5401270866115954 178\n",
      "0.5532586339389571 179\n",
      "0.4168024845381172 180\n",
      "0.6337213470244781 181\n",
      "0.7002695390164752 182\n",
      "0.7340166293391097 183\n",
      "0.6981212018815472 184\n",
      "0.38835982974625566 185\n",
      "0.46977968898535255 186\n",
      "0.5051788815947912 187\n",
      "0.5463065800627352 188\n",
      "0.5337159329331729 189\n",
      "0.45304867708961405 190\n",
      "0.48580266535636857 191\n",
      "0.3915676004646464 192\n",
      "0.47549293364649226 193\n",
      "0.4193142883732801 194\n",
      "0.45888482595042135 195\n",
      "0.4382144747262295 196\n",
      "0.3226082396603107 197\n",
      "0.3137788906578179 198\n",
      "0.4333307586277941 199\n",
      "0.4421930899796861 200\n",
      "0.39581579832499836 201\n",
      "0.4196308800521387 202\n",
      "0.4987930406945428 203\n",
      "0.6714439449352332 204\n",
      "0.6534399760574295 205\n",
      "0.6477899460342972 206\n",
      "0.6046412065062099 207\n",
      "0.38869537453430747 208\n",
      "0.5187361513766382 209\n",
      "0.5322307634791181 210\n",
      "0.44264146527459014 211\n",
      "0.40918687322726616 212\n",
      "0.32733074974886095 213\n",
      "0.29887933254962307 214\n",
      "0.3120072216841928 215\n",
      "0.4337494739861181 216\n",
      "0.395337798939688 217\n",
      "0.4603685101292062 218\n",
      "0.5362509387115318 219\n",
      "0.6788676484772903 220\n",
      "0.615169482809479 221\n",
      "0.646249785379759 222\n",
      "0.6715380053757195 223\n",
      "0.8167480888239421 224\n",
      "0.7865092661694819 225\n",
      "0.7620481034261843 226\n",
      "0.779906319872939 227\n",
      "0.38278670005094934 228\n",
      "0.46165687322277943 229\n",
      "0.4207360436355763 230\n",
      "0.4270149870427545 231\n",
      "0.47998748604208163 232\n",
      "0.6130735299017847 233\n",
      "0.6260430395542462 234\n",
      "0.6115572392386048 235\n",
      "0.7079449368204407 236\n",
      "0.7294969657535615 237\n",
      "0.7225714149604469 238\n",
      "0.6290291156898957 239\n",
      "0.5495581762235225 240\n",
      "0.40521806761339296 241\n",
      "0.5343532513656313 242\n",
      "0.5228472127897463 243\n",
      "0.5867594379345795 244\n",
      "0.661385345394534 245\n",
      "0.6781349773038772 246\n",
      "0.7369970112120209 247\n",
      "0.751214227965903 248\n",
      "0.6852200336812267 249\n",
      "0.606746831960631 250\n",
      "0.448316327352521 251\n",
      "0.43892999773897395 252\n",
      "0.3864226381190765 253\n",
      "0.38564059191277256 254\n",
      "0.42957309785960135 255\n",
      "0.362020653152132 256\n",
      "0.4332439922234494 257\n",
      "0.3992299711213 258\n",
      "0.4483871246770733 259\n",
      "0.49396022869794337 260\n",
      "0.5945465160280335 261\n",
      "0.46462730521196083 262\n",
      "0.4173659091142964 263\n",
      "0.4287830107437632 264\n",
      "0.46731903312624856 265\n",
      "0.6465109313821529 266\n",
      "0.6810522722845452 267\n",
      "0.6715828572768393 268\n",
      "0.6383688888087561 269\n",
      "0.4298868155499553 270\n",
      "0.5373642529204026 271\n",
      "0.5715132710482055 272\n",
      "0.6194866369386202 273\n",
      "0.5851170698687327 274\n",
      "0.6038216189852638 275\n",
      "0.5250734284486193 276\n",
      "0.5928660162185914 277\n",
      "0.5742222769261833 278\n",
      "0.789654483945312 279\n",
      "0.8464963291386071 280\n",
      "0.837561329019196 281\n",
      "0.7332754052571712 282\n",
      "0.5365989358600544 283\n",
      "0.6164272472681186 284\n",
      "0.6167428754168587 285\n",
      "0.6542938278199287 286\n",
      "0.6933937929849935 287\n",
      "0.6236589893583875 288\n",
      "0.6162296067031275 289\n",
      "0.5055728778336336 290\n",
      "0.3490405859360002 291\n",
      "0.3631323545408679 292\n",
      "0.3705545275039577 293\n",
      "0.423185854201173 294\n",
      "0.5247866274555948 295\n",
      "0.5109795123980724 296\n",
      "0.5435514150857134 297\n",
      "0.46512634086278726 298\n",
      "0.3594511418626169 299\n",
      "0.39101390622584087 300\n",
      "0.43854788623185786 301\n",
      "0.4879501438653343 302\n",
      "0.4505744523266624 303\n",
      "0.4205766231962333 304\n",
      "0.5426901841988003 305\n",
      "0.5655188823891477 306\n",
      "0.5671450118331217 307\n",
      "0.556810563059493 308\n",
      "0.5238978384829321 309\n",
      "0.37782059662572715 310\n",
      "0.4249418669700948 311\n",
      "0.5149987925868086 312\n",
      "0.5745179348349431 313\n",
      "0.6254224532532855 314\n",
      "0.6231413760094023 315\n",
      "0.5207585769144192 316\n",
      "0.4585484501506341 317\n",
      "0.4071198744343779 318\n",
      "0.4968172098740114 319\n",
      "0.5897401584711319 320\n",
      "0.6519705643385072 321\n",
      "0.7418870024184645 322\n",
      "0.7508481496417105 323\n",
      "0.7805053584118359 324\n",
      "0.7156235931460029 325\n",
      "0.5090445857669521 326\n",
      "0.5961846900672928 327\n",
      "0.5512493030619647 328\n",
      "0.5504244014233632 329\n",
      "0.6292508427828241 330\n",
      "0.6213049419541598 331\n",
      "0.5840305520513748 332\n",
      "0.501196801713599 333\n",
      "0.4674440498490007 334\n",
      "0.48802771842642284 335\n",
      "0.49942981691461774 336\n",
      "0.7192372404263646 337\n",
      "0.7073820084814454 338\n",
      "0.7116753050400865 339\n",
      "0.7121712116527419 340\n",
      "0.6631886998156868 341\n",
      "0.6906738522436265 342\n",
      "0.7239846677980984 343\n",
      "0.7244089425791578 344\n",
      "0.6494989179520466 345\n",
      "0.6150009332282413 346\n",
      "0.5479564167312494 347\n",
      "0.5232918847565186 348\n",
      "0.5665623560676283 349\n",
      "0.4555088645509694 350\n",
      "0.6284717873788228 351\n",
      "0.6623098937402795 352\n",
      "0.7138330272432228 353\n",
      "0.6467161150886013 354\n",
      "0.624734536996945 355\n",
      "0.4931859848896047 356\n",
      "0.4349869628245919 357\n",
      "0.4538154727981866 358\n",
      "0.3617932207634745 359\n",
      "0.4624179100893422 360\n",
      "0.3569040511476419 361\n",
      "0.424787082646704 362\n",
      "0.5102730959829974 363\n",
      "0.5726804100896872 364\n",
      "0.6730076500662596 365\n"
     ]
    },
    {
     "name": "stdout",
     "output_type": "stream",
     "text": [
      "0.6690027782873582 366\n",
      "0.6527306528793382 367\n",
      "0.6845862206922082 368\n",
      "0.6032953659764129 369\n",
      "0.578348908843332 370\n",
      "0.5788546807540242 371\n",
      "0.614661778325164 372\n",
      "0.6690688746887614 373\n",
      "0.5921793725436674 374\n",
      "0.64119290888653 375\n",
      "0.47637004534068295 376\n",
      "0.4170305973782017 377\n",
      "0.5598151781022287 378\n",
      "0.5047254340546546 379\n",
      "0.5899670981201275 380\n",
      "0.8705236738298695 381\n",
      "0.7802446437288316 382\n",
      "0.7135177931909431 383\n",
      "0.6577287866906478 384\n",
      "0.4484595767142929 385\n",
      "0.5407772041154683 386\n",
      "0.5161809541545328 387\n",
      "0.5519540756796342 388\n",
      "0.47047047829000155 389\n",
      "0.43055845693979156 390\n",
      "0.4270476302759296 391\n",
      "0.4091971597654869 392\n",
      "0.554893578413352 393\n",
      "0.42625831108250034 394\n",
      "0.46008646854415636 395\n",
      "0.4831546205923779 396\n",
      "0.6069818107896401 397\n",
      "0.5586793195408899 398\n",
      "0.5223439932364762 399\n",
      "0.4805847045166491 400\n",
      "0.48517763143282133 401\n",
      "0.5198037532439191 402\n",
      "0.5081197611894681 403\n",
      "0.5120360858206184 404\n",
      "0.5578197789922842 405\n",
      "0.500450770570002 406\n",
      "0.48504670900113167 407\n",
      "0.6258106308450303 408\n",
      "0.6659858970764085 409\n",
      "0.7781736052957053 410\n",
      "0.8819460178185996 411\n",
      "0.8664408626417559 412\n",
      "0.8430575965568354 413\n",
      "0.8772997442105588 414\n",
      "0.8345269119102846 415\n",
      "0.8899875242716087 416\n",
      "0.8457579366066141 417\n",
      "0.8136586748022463 418\n",
      "0.5374487901429505 419\n",
      "0.4811781434795711 420\n",
      "0.6933521762805475 421\n",
      "0.7220698736100597 422\n",
      "0.5662202461662587 423\n",
      "0.6383244221020444 424\n",
      "0.5416409202000722 425\n",
      "0.5548775263239291 426\n",
      "0.5602150313611988 427\n",
      "0.47587994732242966 428\n",
      "0.4975734806500919 429\n",
      "0.49504085062859876 430\n",
      "0.39013591494387667 431\n",
      "0.4539060182777194 432\n",
      "0.6066325592021381 433\n",
      "0.6225146246458649 434\n",
      "0.5010321472737926 435\n",
      "0.4572226466916412 436\n",
      "0.5479146198122619 437\n",
      "0.4671329049502531 438\n",
      "0.5145915547890417 439\n",
      "0.4396163528902904 440\n",
      "0.4390081661670919 441\n",
      "0.48212325089767677 442\n",
      "0.46635332645672284 443\n",
      "0.4901125878866702 444\n",
      "0.4672768309295582 445\n",
      "0.5410730783710295 446\n",
      "0.4979760887093058 447\n",
      "0.5342814925319412 448\n",
      "0.49700612024203983 449\n",
      "0.40064842107030985 450\n",
      "0.31193028597588995 451\n",
      "0.3487168305637328 452\n",
      "0.3124141499508874 453\n",
      "0.34208737796546573 454\n",
      "0.37779076553334207 455\n",
      "0.38058300696630737 456\n",
      "0.36136345312596213 457\n",
      "0.32757704000101356 458\n",
      "0.3414486184008909 459\n",
      "0.38594558561060033 460\n",
      "0.5472449076056533 461\n",
      "0.6511686666791213 462\n",
      "0.568907905870025 463\n",
      "0.5969709517978683 464\n",
      "0.6749215214820268 465\n",
      "0.6551997645888318 466\n",
      "0.6686748466665863 467\n",
      "0.6565452023127384 468\n",
      "0.5323492092720904 469\n",
      "0.4692666509841721 470\n",
      "0.33698221397557276 471\n",
      "0.32032201057965515 472\n",
      "0.39774018958405455 473\n",
      "0.43229813745439194 474\n",
      "0.4202830409503115 475\n",
      "0.37525468486446295 476\n",
      "0.42260929583758144 477\n",
      "0.42716635531700553 478\n",
      "0.43519059145007577 479\n",
      "0.561917207575853 480\n",
      "0.5768233455704762 481\n",
      "0.6097285206405922 482\n",
      "0.4251522390691166 483\n",
      "0.36386887453043276 484\n",
      "0.4479936661373153 485\n",
      "0.4064945108855394 486\n",
      "0.49957799614819715 487\n",
      "0.5975637712651095 488\n",
      "0.578590492827609 489\n",
      "0.49135981109645577 490\n",
      "0.35277545208906624 491\n",
      "0.38901083579221074 492\n",
      "0.45847483072614587 493\n",
      "0.6783398753477154 494\n",
      "0.6910852513031701 495\n",
      "0.656241528409921 496\n",
      "0.605481443984567 497\n",
      "0.6032940134399816 498\n",
      "0.4652330948671123 499\n",
      "0.49155742488865856 500\n",
      "0.5931858903895244 501\n",
      "0.6800140046851121 502\n",
      "0.6982940277866598 503\n",
      "0.6319027455274538 504\n",
      "0.6977990637699949 505\n",
      "0.5974458650073851 506\n",
      "0.5503832230431199 507\n",
      "0.616272746078146 508\n",
      "0.5249775013449087 509\n",
      "0.5752433954841676 510\n",
      "0.5776922398339598 511\n",
      "0.6489908094027276 512\n",
      "0.6502265080128946 513\n",
      "0.6237234737837324 514\n",
      "0.5062900987865483 515\n",
      "0.49763925047041613 516\n",
      "0.5627009141897745 517\n",
      "0.6334344802152424 518\n",
      "0.7036844546388096 519\n",
      "0.5894784532325906 520\n",
      "0.5552836698119886 521\n",
      "0.6029024996530493 522\n",
      "0.5869515920007864 523\n",
      "0.5685707993764878 524\n"
     ]
    }
   ],
   "source": [
    "# now overlapping intervals\n",
    "Period = 40 # 2 trading months\n",
    "Shift = 10\n",
    "T = int((len(NormRetDF) - Period)/Shift)\n",
    "\n",
    "CorrMatrices = np.empty((T, 121))\n",
    "\n",
    "\n",
    "for t in range(T):\n",
    "    #print((0+t*Shift),(Period+t*Shift))\n",
    "    IntervalDF = NormRetDF.iloc[(0+t*Shift):(Period+t*Shift)]\n",
    "    IntervalCorr = IntervalDF.corr()\n",
    "    CorrMatrices[t,:] = IntervalCorr.to_numpy().reshape(1,-1)\n",
    "    \n",
    "    pca = PCA()\n",
    "    pca.fit(IntervalCorr)\n",
    "    print(pca.explained_variance_ratio_[0], t)"
   ]
  },
  {
   "cell_type": "markdown",
   "id": "adaf18c4",
   "metadata": {},
   "source": [
    "\n",
    "for t in range(T):\n",
    "    print((0+t*Shift),(Period+t*Shift), SectorsDF.index[int(0.5*Period)+t*Shift])"
   ]
  },
  {
   "cell_type": "code",
   "execution_count": 37,
   "id": "ca3bae17",
   "metadata": {},
   "outputs": [
    {
     "name": "stdout",
     "output_type": "stream",
     "text": [
      "[[1.         0.52101497 0.3186915  ... 0.21018616 0.12275564 1.        ]\n",
      " [1.         0.57937824 0.22839803 ... 0.16906246 0.04357593 1.        ]\n",
      " [1.         0.5295678  0.28518921 ... 0.16637894 0.16522966 1.        ]\n",
      " ...\n",
      " [1.         0.22186374 0.33573368 ... 0.6253862  0.25173392 1.        ]\n",
      " [1.         0.35544748 0.40885901 ... 0.76107342 0.27113554 1.        ]\n",
      " [1.         0.29443509 0.31598189 ... 0.85280403 0.32586505 1.        ]]\n",
      "(525, 121)\n"
     ]
    }
   ],
   "source": [
    "print(CorrMatrices)\n",
    "print(CorrMatrices.shape)"
   ]
  },
  {
   "cell_type": "code",
   "execution_count": 64,
   "id": "32481d4b",
   "metadata": {},
   "outputs": [],
   "source": [
    "from sklearn.cluster import KMeans\n",
    "kmeans = KMeans(n_clusters=4, random_state=0).fit(CorrMatrices)"
   ]
  },
  {
   "cell_type": "code",
   "execution_count": 65,
   "id": "c90f43a0",
   "metadata": {},
   "outputs": [
    {
     "name": "stdout",
     "output_type": "stream",
     "text": [
      "525\n"
     ]
    }
   ],
   "source": [
    "ClusterPred = kmeans.fit_predict(CorrMatrices)\n",
    "print(len(ClusterPred))"
   ]
  },
  {
   "cell_type": "code",
   "execution_count": 66,
   "id": "50d31daf",
   "metadata": {},
   "outputs": [
    {
     "data": {
      "image/png": "[encoded data removed]",
      "text/plain": [
       "<Figure size 432x288 with 1 Axes>"
      ]
     },
     "metadata": {
      "needs_background": "light"
     },
     "output_type": "display_data"
    }
   ],
   "source": [
    "plt.scatter(NormRetDF.index[np.arange(Period+1, len(NormRetDF.index)-Shift, Shift)],\n",
    "            ClusterPred, marker=\".\")\n",
    "plt.show()\n",
    "\n",
    "# That does not look like the original publication...\n",
    "# BECAUSE THE GICS CLASSIFICATION HAS CHANGED!!"
   ]
  },
  {
   "cell_type": "markdown",
   "id": "2c7e231a",
   "metadata": {},
   "source": [
    "##### Reduce number of matrix elements\n",
    "\n",
    "Diagonal is always 1 and rest is symmetric\n",
    "-> only need one triangle of the correlation matrices"
   ]
  },
  {
   "cell_type": "code",
   "execution_count": 41,
   "id": "817d618e",
   "metadata": {},
   "outputs": [
    {
     "name": "stdout",
     "output_type": "stream",
     "text": [
      "(11, 11)\n"
     ]
    }
   ],
   "source": [
    "IntCorrMat = IntervalCorr.to_numpy()\n",
    "print(IntCorrMat.shape)"
   ]
  },
  {
   "cell_type": "code",
   "execution_count": 42,
   "id": "97714aec",
   "metadata": {},
   "outputs": [
    {
     "data": {
      "image/png": "[encoded data removed]",
      "text/plain": [
       "<Figure size 288x288 with 1 Axes>"
      ]
     },
     "metadata": {
      "needs_background": "light"
     },
     "output_type": "display_data"
    }
   ],
   "source": [
    "plt.matshow(IntCorrMat)\n",
    "plt.show()"
   ]
  },
  {
   "cell_type": "code",
   "execution_count": 43,
   "id": "1d82ec0a",
   "metadata": {},
   "outputs": [
    {
     "data": {
      "image/png": "[encoded data removed]",
      "text/plain": [
       "<Figure size 288x288 with 1 Axes>"
      ]
     },
     "metadata": {
      "needs_background": "light"
     },
     "output_type": "display_data"
    }
   ],
   "source": [
    "plt.matshow(np.triu(IntCorrMat,1)>0)\n",
    "plt.show()"
   ]
  },
  {
   "cell_type": "code",
   "execution_count": 44,
   "id": "619d3c98",
   "metadata": {},
   "outputs": [
    {
     "name": "stdout",
     "output_type": "stream",
     "text": [
      "55\n"
     ]
    }
   ],
   "source": [
    "print(len((np.triu(IntCorrMat,1)).reshape(1,-1)[(np.triu(IntCorrMat,1)!=0).reshape(1,-1)]))"
   ]
  },
  {
   "cell_type": "code",
   "execution_count": 45,
   "id": "f240319d",
   "metadata": {},
   "outputs": [
    {
     "name": "stdout",
     "output_type": "stream",
     "text": [
      "[0.29443509 0.31598189 0.34930619 0.49164152 0.38714805 0.56351322\n",
      " 0.34841181 0.59320714 0.25980431 0.5219849  0.73069372 0.82462637\n",
      " 0.85793295 0.52374699 0.70283698 0.68257633 0.69679089 0.29640237\n",
      " 0.70289355 0.81020371 0.75797156 0.69249885 0.65291834 0.7109304\n",
      " 0.76898496 0.48076791 0.72381878 0.80029443 0.58468971 0.77132681\n",
      " 0.72357977 0.79781658 0.42085005 0.77179472 0.67442255 0.81663808\n",
      " 0.76167049 0.79677457 0.44805671 0.74105083 0.5834278  0.63869477\n",
      " 0.73166645 0.60402368 0.66190279 0.72511789 0.80852412 0.27253144\n",
      " 0.84368697 0.73947636 0.43598756 0.68886009 0.54671925 0.85280403\n",
      " 0.32586505] 55\n"
     ]
    }
   ],
   "source": [
    "def ReduceData(CorrMat):\n",
    "    # takes a nxn correlatin matrix and returns only upper triangle without diagonal elements as 1d array\n",
    "    return((np.triu(CorrMat,1)).reshape(1,-1)[(np.triu(CorrMat,1)!=0).reshape(1,-1)])\n",
    "\n",
    "print(ReduceData(IntCorrMat), len(ReduceData(IntCorrMat)))"
   ]
  },
  {
   "cell_type": "code",
   "execution_count": 46,
   "id": "b5ecf801",
   "metadata": {},
   "outputs": [
    {
     "name": "stdout",
     "output_type": "stream",
     "text": [
      "0.32411371916874165 0\n",
      "0.38218707269295377 1\n",
      "0.4195744463786481 2\n",
      "0.5819414589257661 3\n",
      "0.6089631438430719 4\n",
      "0.7100231534604102 5\n",
      "0.7005085905340306 6\n",
      "0.6488720124082827 7\n",
      "0.6290094788949169 8\n",
      "0.650334038422894 9\n",
      "0.6419190582905797 10\n",
      "0.7013152534013669 11\n",
      "0.6313243201915377 12\n",
      "0.4726976276557616 13\n",
      "0.55743562614853 14\n",
      "0.48576294834325695 15\n",
      "0.45834903117997133 16\n",
      "0.5270480709749674 17\n",
      "0.5596478190325295 18\n",
      "0.557662110386036 19\n",
      "0.562275234773346 20\n",
      "0.460754816360477 21\n",
      "0.4004646787839671 22\n",
      "0.4015612918072087 23\n",
      "0.4754613777465036 24\n",
      "0.4673303727081798 25\n",
      "0.4750748736648096 26\n",
      "0.5243731831560214 27\n",
      "0.5772389878168823 28\n",
      "0.5397424029804049 29\n",
      "0.4589801167323746 30\n",
      "0.47431617848351804 31\n",
      "0.42343834256342083 32\n",
      "0.4979224691874256 33\n",
      "0.513901520020294 34\n",
      "0.43466997765584575 35\n",
      "0.41788979376405294 36\n",
      "0.3385539266316613 37\n",
      "0.3201312449904968 38\n",
      "0.31547732771109627 39\n",
      "0.3654798771434805 40\n",
      "0.4354701332611456 41\n",
      "0.3640697304323174 42\n",
      "0.37344478458591246 43\n",
      "0.3379320358614164 44\n",
      "0.3036317112402093 45\n",
      "0.4828223288728589 46\n",
      "0.4680384657001177 47\n",
      "0.5154663310898755 48\n",
      "0.48803549332274415 49\n",
      "0.4431811986799661 50\n",
      "0.31925493916813286 51\n",
      "0.3841649432630099 52\n",
      "0.4326777294575502 53\n",
      "0.35313773225818385 54\n",
      "0.492449393648939 55\n",
      "0.46360935287830934 56\n",
      "0.410449803686308 57\n",
      "0.40897682383192513 58\n",
      "0.553467088541992 59\n",
      "0.5108956793340385 60\n",
      "0.33709281889943316 61\n",
      "0.35449399663907816 62\n",
      "0.3467647709302965 63\n",
      "0.32870244885222255 64\n",
      "0.4978892125730253 65\n",
      "0.44500899957142226 66\n",
      "0.35374435760314576 67\n",
      "0.31067126425547464 68\n",
      "0.36381537109461 69\n",
      "0.3827432357934345 70\n",
      "0.5017864317951112 71\n",
      "0.5994091035071664 72\n",
      "0.5605520092751345 73\n",
      "0.41737694039028106 74\n",
      "0.42233127028486805 75\n",
      "0.3948614295925463 76\n",
      "0.4512602489551198 77\n",
      "0.38924054608189185 78\n",
      "0.5348924581569455 79\n",
      "0.4208401534047739 80\n",
      "0.44941654350878935 81\n",
      "0.3538347570680621 82\n",
      "0.3692574000265491 83\n",
      "0.36785048590398617 84\n",
      "0.3894156834063087 85\n",
      "0.35990121095523514 86\n",
      "0.35000745269796946 87\n",
      "0.3486854875935595 88\n",
      "0.26479548025705224 89\n",
      "0.3088076485702262 90\n",
      "0.3327485258465462 91\n",
      "0.4137337007677035 92\n",
      "0.47925146202560587 93\n",
      "0.48946816152887296 94\n",
      "0.4597455411443939 95\n",
      "0.29756968861524064 96\n",
      "0.31850752371807484 97\n",
      "0.31509209856391507 98\n",
      "0.33861912084010437 99\n",
      "0.4086479208042086 100\n",
      "0.30763338762789694 101\n",
      "0.5524455242912792 102\n",
      "0.5825183792316615 103\n",
      "0.678938197421521 104\n",
      "0.6737522761024183 105\n",
      "0.4673313640993126 106\n",
      "0.5364521507542248 107\n",
      "0.47298860899021716 108\n",
      "0.3991969327349911 109\n",
      "0.31511279877923937 110\n",
      "0.40804945602537196 111\n",
      "0.4639641272750969 112\n",
      "0.3984743793998282 113\n",
      "0.4760903069408258 114\n",
      "0.5417218854427505 115\n",
      "0.5177685881230722 116\n",
      "0.4890878860826534 117\n",
      "0.4034088709672452 118\n",
      "0.3655047855317987 119\n",
      "0.40539095919573387 120\n",
      "0.4265429873046568 121\n",
      "0.4070465636439529 122\n",
      "0.4310610284179283 123\n",
      "0.44299856158971795 124\n",
      "0.3584159204552926 125\n",
      "0.46226153973863643 126\n",
      "0.4930537170546229 127\n",
      "0.5151486290409174 128\n",
      "0.554876198793316 129\n",
      "0.5447152306285987 130\n",
      "0.5163069985547449 131\n",
      "0.5337756777706368 132\n",
      "0.4567193138430692 133\n",
      "0.7297629043209907 134\n",
      "0.7542268286107942 135\n",
      "0.7169648950751016 136\n",
      "0.7050555446124662 137\n",
      "0.45543710335826304 138\n",
      "0.37749026897541793 139\n",
      "0.6221591102034412 140\n",
      "0.6811708037201216 141\n",
      "0.697673697309345 142\n",
      "0.6658890774349503 143\n",
      "0.6102705587588739 144\n",
      "0.5989151756543125 145\n",
      "0.5239121577564917 146\n",
      "0.577877968426464 147\n",
      "0.538246889164772 148\n",
      "0.5614431193716005 149\n",
      "0.635044787506524 150\n",
      "0.5811284929496485 151\n",
      "0.48970161244199206 152\n",
      "0.5383098984676805 153\n",
      "0.5904175449874818 154\n",
      "0.526962085180193 155\n",
      "0.5880051123400717 156\n",
      "0.4718683592220652 157\n",
      "0.5366710652461081 158\n",
      "0.5170669432021215 159\n",
      "0.6172473466581957 160\n",
      "0.5684930534314231 161\n",
      "0.4888644724174246 162\n",
      "0.381664844642373 163\n",
      "0.422643669547572 164\n",
      "0.6949584158921679 165\n",
      "0.699093681066132 166\n",
      "0.7971575817985017 167\n",
      "0.8832402565916619 168\n",
      "0.8095209656616331 169\n",
      "0.8177092868030575 170\n",
      "0.701706643659124 171\n",
      "0.35650599360182894 172\n",
      "0.416015541825197 173\n",
      "0.559618733730859 174\n",
      "0.4620120075388661 175\n",
      "0.4816029595962345 176\n",
      "0.48596148765937264 177\n",
      "0.5401270866115954 178\n",
      "0.5532586339389571 179\n",
      "0.4168024845381172 180\n",
      "0.6337213470244781 181\n",
      "0.7002695390164752 182\n",
      "0.7340166293391097 183\n",
      "0.6981212018815472 184\n",
      "0.38835982974625566 185\n",
      "0.46977968898535255 186\n",
      "0.5051788815947912 187\n",
      "0.5463065800627352 188\n",
      "0.5337159329331729 189\n",
      "0.45304867708961405 190\n",
      "0.48580266535636857 191\n",
      "0.3915676004646464 192\n",
      "0.47549293364649226 193\n",
      "0.4193142883732801 194\n",
      "0.45888482595042135 195\n",
      "0.4382144747262295 196\n",
      "0.3226082396603107 197\n",
      "0.3137788906578179 198\n",
      "0.4333307586277941 199\n",
      "0.4421930899796861 200\n",
      "0.39581579832499836 201\n",
      "0.4196308800521387 202\n",
      "0.4987930406945428 203\n",
      "0.6714439449352332 204\n",
      "0.6534399760574295 205\n",
      "0.6477899460342972 206\n",
      "0.6046412065062099 207\n",
      "0.38869537453430747 208\n",
      "0.5187361513766382 209\n",
      "0.5322307634791181 210\n",
      "0.44264146527459014 211\n",
      "0.40918687322726616 212\n",
      "0.32733074974886095 213\n",
      "0.29887933254962307 214\n",
      "0.3120072216841928 215\n",
      "0.4337494739861181 216\n",
      "0.395337798939688 217\n",
      "0.4603685101292062 218\n",
      "0.5362509387115318 219\n",
      "0.6788676484772903 220\n",
      "0.615169482809479 221\n",
      "0.646249785379759 222\n",
      "0.6715380053757195 223\n",
      "0.8167480888239421 224\n",
      "0.7865092661694819 225\n",
      "0.7620481034261843 226\n",
      "0.779906319872939 227\n",
      "0.38278670005094934 228\n",
      "0.46165687322277943 229\n",
      "0.4207360436355763 230\n",
      "0.4270149870427545 231\n",
      "0.47998748604208163 232\n",
      "0.6130735299017847 233\n",
      "0.6260430395542462 234\n",
      "0.6115572392386048 235\n",
      "0.7079449368204407 236\n",
      "0.7294969657535615 237\n",
      "0.7225714149604469 238\n",
      "0.6290291156898957 239\n",
      "0.5495581762235225 240\n",
      "0.40521806761339296 241\n",
      "0.5343532513656313 242\n",
      "0.5228472127897463 243\n",
      "0.5867594379345795 244\n",
      "0.661385345394534 245\n",
      "0.6781349773038772 246\n",
      "0.7369970112120209 247\n",
      "0.751214227965903 248\n",
      "0.6852200336812267 249\n",
      "0.606746831960631 250\n",
      "0.448316327352521 251\n",
      "0.43892999773897395 252\n",
      "0.3864226381190765 253\n",
      "0.38564059191277256 254\n",
      "0.42957309785960135 255\n",
      "0.362020653152132 256\n",
      "0.4332439922234494 257\n",
      "0.3992299711213 258\n",
      "0.4483871246770733 259\n",
      "0.49396022869794337 260\n",
      "0.5945465160280335 261\n",
      "0.46462730521196083 262\n",
      "0.4173659091142964 263\n",
      "0.4287830107437632 264\n",
      "0.46731903312624856 265\n",
      "0.6465109313821529 266\n",
      "0.6810522722845452 267\n",
      "0.6715828572768393 268\n",
      "0.6383688888087561 269\n",
      "0.4298868155499553 270\n",
      "0.5373642529204026 271\n",
      "0.5715132710482055 272\n",
      "0.6194866369386202 273\n",
      "0.5851170698687327 274\n",
      "0.6038216189852638 275\n",
      "0.5250734284486193 276\n",
      "0.5928660162185914 277\n",
      "0.5742222769261833 278\n",
      "0.789654483945312 279\n",
      "0.8464963291386071 280\n",
      "0.837561329019196 281\n",
      "0.7332754052571712 282\n",
      "0.5365989358600544 283\n",
      "0.6164272472681186 284\n",
      "0.6167428754168587 285\n",
      "0.6542938278199287 286\n",
      "0.6933937929849935 287\n",
      "0.6236589893583875 288\n",
      "0.6162296067031275 289\n",
      "0.5055728778336336 290\n",
      "0.3490405859360002 291\n",
      "0.3631323545408679 292\n",
      "0.3705545275039577 293\n",
      "0.423185854201173 294\n",
      "0.5247866274555948 295\n",
      "0.5109795123980724 296\n",
      "0.5435514150857134 297\n",
      "0.46512634086278726 298\n",
      "0.3594511418626169 299\n",
      "0.39101390622584087 300\n",
      "0.43854788623185786 301\n",
      "0.4879501438653343 302\n",
      "0.4505744523266624 303\n",
      "0.4205766231962333 304\n",
      "0.5426901841988003 305\n",
      "0.5655188823891477 306\n",
      "0.5671450118331217 307\n",
      "0.556810563059493 308\n",
      "0.5238978384829321 309\n",
      "0.37782059662572715 310\n",
      "0.4249418669700948 311\n",
      "0.5149987925868086 312\n",
      "0.5745179348349431 313\n",
      "0.6254224532532855 314\n",
      "0.6231413760094023 315\n",
      "0.5207585769144192 316\n",
      "0.4585484501506341 317\n",
      "0.4071198744343779 318\n",
      "0.4968172098740114 319\n",
      "0.5897401584711319 320\n",
      "0.6519705643385072 321\n",
      "0.7418870024184645 322\n",
      "0.7508481496417105 323\n",
      "0.7805053584118359 324\n",
      "0.7156235931460029 325\n",
      "0.5090445857669521 326\n",
      "0.5961846900672928 327\n",
      "0.5512493030619647 328\n",
      "0.5504244014233632 329\n",
      "0.6292508427828241 330\n",
      "0.6213049419541598 331\n",
      "0.5840305520513748 332\n",
      "0.501196801713599 333\n",
      "0.4674440498490007 334\n",
      "0.48802771842642284 335\n",
      "0.49942981691461774 336\n",
      "0.7192372404263646 337\n",
      "0.7073820084814454 338\n",
      "0.7116753050400865 339\n",
      "0.7121712116527419 340\n",
      "0.6631886998156868 341\n",
      "0.6906738522436265 342\n",
      "0.7239846677980984 343\n",
      "0.7244089425791578 344\n",
      "0.6494989179520466 345\n",
      "0.6150009332282413 346\n",
      "0.5479564167312494 347\n",
      "0.5232918847565186 348\n",
      "0.5665623560676283 349\n",
      "0.4555088645509694 350\n",
      "0.6284717873788228 351\n",
      "0.6623098937402795 352\n",
      "0.7138330272432228 353\n",
      "0.6467161150886013 354\n",
      "0.624734536996945 355\n",
      "0.4931859848896047 356\n",
      "0.4349869628245919 357\n",
      "0.4538154727981866 358\n",
      "0.3617932207634745 359\n",
      "0.4624179100893422 360\n",
      "0.3569040511476419 361\n",
      "0.424787082646704 362\n",
      "0.5102730959829974 363\n",
      "0.5726804100896872 364\n",
      "0.6730076500662596 365\n",
      "0.6690027782873582 366\n",
      "0.6527306528793382 367\n",
      "0.6845862206922082 368\n",
      "0.6032953659764129 369\n",
      "0.578348908843332 370\n",
      "0.5788546807540242 371\n",
      "0.614661778325164 372\n",
      "0.6690688746887614 373\n",
      "0.5921793725436674 374\n",
      "0.64119290888653 375\n",
      "0.47637004534068295 376\n",
      "0.4170305973782017 377\n",
      "0.5598151781022287 378\n",
      "0.5047254340546546 379\n",
      "0.5899670981201275 380\n",
      "0.8705236738298695 381\n",
      "0.7802446437288316 382\n",
      "0.7135177931909431 383\n",
      "0.6577287866906478 384\n",
      "0.4484595767142929 385\n",
      "0.5407772041154683 386\n",
      "0.5161809541545328 387\n",
      "0.5519540756796342 388\n",
      "0.47047047829000155 389\n",
      "0.43055845693979156 390\n",
      "0.4270476302759296 391\n",
      "0.4091971597654869 392\n",
      "0.554893578413352 393\n",
      "0.42625831108250034 394\n",
      "0.46008646854415636 395\n",
      "0.4831546205923779 396\n",
      "0.6069818107896401 397\n",
      "0.5586793195408899 398\n",
      "0.5223439932364762 399\n",
      "0.4805847045166491 400\n",
      "0.48517763143282133 401\n",
      "0.5198037532439191 402\n",
      "0.5081197611894681 403\n",
      "0.5120360858206184 404\n",
      "0.5578197789922842 405\n",
      "0.500450770570002 406\n",
      "0.48504670900113167 407\n",
      "0.6258106308450303 408\n",
      "0.6659858970764085 409\n",
      "0.7781736052957053 410\n",
      "0.8819460178185996 411\n",
      "0.8664408626417559 412\n",
      "0.8430575965568354 413\n",
      "0.8772997442105588 414\n",
      "0.8345269119102846 415\n",
      "0.8899875242716087 416\n",
      "0.8457579366066141 417\n",
      "0.8136586748022463 418\n",
      "0.5374487901429505 419\n",
      "0.4811781434795711 420\n",
      "0.6933521762805475 421\n",
      "0.7220698736100597 422\n",
      "0.5662202461662587 423\n",
      "0.6383244221020444 424\n",
      "0.5416409202000722 425\n",
      "0.5548775263239291 426\n",
      "0.5602150313611988 427\n",
      "0.47587994732242966 428\n",
      "0.4975734806500919 429\n",
      "0.49504085062859876 430\n",
      "0.39013591494387667 431\n",
      "0.4539060182777194 432\n",
      "0.6066325592021381 433\n",
      "0.6225146246458649 434\n",
      "0.5010321472737926 435\n",
      "0.4572226466916412 436\n",
      "0.5479146198122619 437\n",
      "0.4671329049502531 438\n",
      "0.5145915547890417 439\n",
      "0.4396163528902904 440\n",
      "0.4390081661670919 441\n",
      "0.48212325089767677 442\n",
      "0.46635332645672284 443\n",
      "0.4901125878866702 444\n",
      "0.4672768309295582 445\n",
      "0.5410730783710295 446\n",
      "0.4979760887093058 447\n",
      "0.5342814925319412 448\n",
      "0.49700612024203983 449\n",
      "0.40064842107030985 450\n",
      "0.31193028597588995 451\n",
      "0.3487168305637328 452\n",
      "0.3124141499508874 453\n",
      "0.34208737796546573 454\n",
      "0.37779076553334207 455\n",
      "0.38058300696630737 456\n"
     ]
    },
    {
     "name": "stdout",
     "output_type": "stream",
     "text": [
      "0.36136345312596213 457\n",
      "0.32757704000101356 458\n",
      "0.3414486184008909 459\n",
      "0.38594558561060033 460\n",
      "0.5472449076056533 461\n",
      "0.6511686666791213 462\n",
      "0.568907905870025 463\n",
      "0.5969709517978683 464\n",
      "0.6749215214820268 465\n",
      "0.6551997645888318 466\n",
      "0.6686748466665863 467\n",
      "0.6565452023127384 468\n",
      "0.5323492092720904 469\n",
      "0.4692666509841721 470\n",
      "0.33698221397557276 471\n",
      "0.32032201057965515 472\n",
      "0.39774018958405455 473\n",
      "0.43229813745439194 474\n",
      "0.4202830409503115 475\n",
      "0.37525468486446295 476\n",
      "0.42260929583758144 477\n",
      "0.42716635531700553 478\n",
      "0.43519059145007577 479\n",
      "0.561917207575853 480\n",
      "0.5768233455704762 481\n",
      "0.6097285206405922 482\n",
      "0.4251522390691166 483\n",
      "0.36386887453043276 484\n",
      "0.4479936661373153 485\n",
      "0.4064945108855394 486\n",
      "0.49957799614819715 487\n",
      "0.5975637712651095 488\n",
      "0.578590492827609 489\n",
      "0.49135981109645577 490\n",
      "0.35277545208906624 491\n",
      "0.38901083579221074 492\n",
      "0.45847483072614587 493\n",
      "0.6783398753477154 494\n",
      "0.6910852513031701 495\n",
      "0.656241528409921 496\n",
      "0.605481443984567 497\n",
      "0.6032940134399816 498\n",
      "0.4652330948671123 499\n",
      "0.49155742488865856 500\n",
      "0.5931858903895244 501\n",
      "0.6800140046851121 502\n",
      "0.6982940277866598 503\n",
      "0.6319027455274538 504\n",
      "0.6977990637699949 505\n",
      "0.5974458650073851 506\n",
      "0.5503832230431199 507\n",
      "0.616272746078146 508\n",
      "0.5249775013449087 509\n",
      "0.5752433954841676 510\n",
      "0.5776922398339598 511\n",
      "0.6489908094027276 512\n",
      "0.6502265080128946 513\n",
      "0.6237234737837324 514\n",
      "0.5062900987865483 515\n",
      "0.49763925047041613 516\n",
      "0.5627009141897745 517\n",
      "0.6334344802152424 518\n",
      "0.7036844546388096 519\n",
      "0.5894784532325906 520\n",
      "0.5552836698119886 521\n",
      "0.6029024996530493 522\n",
      "0.5869515920007864 523\n",
      "0.5685707993764878 524\n"
     ]
    }
   ],
   "source": [
    "# now overlapping intervals\n",
    "Period = 40 # 2 trading months\n",
    "Shift = 10\n",
    "T = int((len(NormRetDF) - Period)/Shift)\n",
    "\n",
    "CorrMatrices = np.empty((T, 55))\n",
    "\n",
    "\n",
    "for t in range(T):\n",
    "    #print((0+t*Shift),(Period+t*Shift))\n",
    "    IntervalDF = NormRetDF.iloc[(0+t*Shift):(Period+t*Shift)]\n",
    "    IntervalCorr = IntervalDF.corr()\n",
    "    CorrMatrices[t,:] = ReduceData(IntervalCorr.to_numpy())\n",
    "    \n",
    "    pca = PCA()\n",
    "    pca.fit(IntervalCorr)\n",
    "    print(pca.explained_variance_ratio_[0], t)"
   ]
  },
  {
   "cell_type": "code",
   "execution_count": 47,
   "id": "54d67514",
   "metadata": {},
   "outputs": [
    {
     "data": {
      "text/plain": [
       "(525, 55)"
      ]
     },
     "execution_count": 47,
     "metadata": {},
     "output_type": "execute_result"
    }
   ],
   "source": [
    "CorrMatrices.shape"
   ]
  },
  {
   "cell_type": "code",
   "execution_count": 48,
   "id": "f5960ff8",
   "metadata": {},
   "outputs": [
    {
     "name": "stdout",
     "output_type": "stream",
     "text": [
      "525\n"
     ]
    },
    {
     "data": {
      "image/png": "[encoded data removed]",
      "text/plain": [
       "<Figure size 432x288 with 1 Axes>"
      ]
     },
     "metadata": {
      "needs_background": "light"
     },
     "output_type": "display_data"
    }
   ],
   "source": [
    "kmeans = KMeans(n_clusters=4, random_state=0).fit(CorrMatrices)\n",
    "ClusterPred = kmeans.fit_predict(CorrMatrices)\n",
    "print(len(ClusterPred))\n",
    "plt.scatter(NormRetDF.index[np.arange(Period+1, len(NormRetDF.index)-Shift, Shift)],\n",
    "            ClusterPred, marker=\".\")\n",
    "plt.show()\n"
   ]
  },
  {
   "cell_type": "code",
   "execution_count": null,
   "id": "f14d1706",
   "metadata": {},
   "outputs": [],
   "source": []
  },
  {
   "cell_type": "code",
   "execution_count": null,
   "id": "de4b0916",
   "metadata": {},
   "outputs": [],
   "source": []
  },
  {
   "cell_type": "markdown",
   "id": "066cef75",
   "metadata": {},
   "source": [
    "#### With DBSCAN instead of K-means"
   ]
  },
  {
   "cell_type": "code",
   "execution_count": 49,
   "id": "7b4665a7",
   "metadata": {},
   "outputs": [
    {
     "name": "stdout",
     "output_type": "stream",
     "text": [
      "(525, 525)\n",
      "2.047576074582372 0.8155106036066697\n"
     ]
    }
   ],
   "source": [
    "# determine mean distance as a guide for parameter epc in DBSCAN\n",
    "from scipy.spatial import distance_matrix\n",
    "\n",
    "distances = distance_matrix(CorrMatrices,CorrMatrices)\n",
    "print(distances.shape)\n",
    "print(np.mean(distances), np.std(distances))"
   ]
  },
  {
   "cell_type": "code",
   "execution_count": 50,
   "id": "46e251a4",
   "metadata": {},
   "outputs": [],
   "source": [
    "from sklearn.cluster import DBSCAN\n",
    "db = DBSCAN(eps = np.mean(distances)-1*np.std(distances),\n",
    "            min_samples=20)"
   ]
  },
  {
   "cell_type": "code",
   "execution_count": 51,
   "id": "e7e94f9b",
   "metadata": {},
   "outputs": [
    {
     "data": {
      "text/plain": [
       "DBSCAN(eps=1.2320654709757024, min_samples=20)"
      ]
     },
     "execution_count": 51,
     "metadata": {},
     "output_type": "execute_result"
    }
   ],
   "source": [
    "db.fit(CorrMatrices)"
   ]
  },
  {
   "cell_type": "code",
   "execution_count": 52,
   "id": "ed80da7f",
   "metadata": {
    "scrolled": true
   },
   "outputs": [
    {
     "data": {
      "text/plain": [
       "array([ 0,  0,  0,  0,  0,  0,  0, -1,  0,  0,  0,  0,  0,  0,  0,  0,  0,\n",
       "        0,  0,  0, -1, -1,  0,  0,  0,  0,  0,  0,  0,  0,  0,  0, -1,  0,\n",
       "        0,  0,  0, -1, -1, -1, -1, -1, -1, -1, -1, -1, -1, -1, -1,  0,  0,\n",
       "        0,  0,  0,  0,  0,  0,  0,  0,  0,  0,  0,  0,  0,  0,  0,  0,  0,\n",
       "        0,  0,  0,  0,  0,  0,  0,  0,  0,  0,  0,  0,  0, -1, -1,  0,  0,\n",
       "        0,  0,  0,  0,  0, -1, -1, -1, -1, -1, -1, -1,  0,  0,  0,  0,  0,\n",
       "        0,  0,  0,  0,  0,  0,  0,  0,  0,  0,  0,  0,  0,  0,  0,  0,  0,\n",
       "        0,  0,  0,  0,  0,  0,  0,  0,  0,  0,  0,  0,  0,  0,  0,  0,  0,\n",
       "        0,  0,  0,  0,  0,  0,  0,  0,  0,  0,  0,  0,  0,  0,  0,  0,  0,\n",
       "        0,  0,  0,  0,  0,  0,  0,  0,  0,  0,  0,  0,  0,  0,  0,  0, -1,\n",
       "       -1,  0,  0,  0,  0,  0,  0,  0,  0,  0,  0, -1, -1, -1, -1,  0,  0,\n",
       "        0,  0,  0,  0,  0,  0,  0,  0,  0,  0,  0, -1, -1, -1,  0,  0,  0,\n",
       "        0,  0,  0,  0,  0,  0,  0, -1, -1, -1, -1, -1, -1, -1, -1, -1, -1,\n",
       "       -1, -1, -1, -1, -1, -1, -1, -1,  0,  0,  0,  0,  0,  0,  0,  0,  0,\n",
       "        0,  0,  0,  0,  0,  0,  0,  0,  0,  0,  0, -1, -1,  0,  0,  0,  0,\n",
       "        0,  0,  0,  0,  0,  0,  0,  0,  0,  0,  0,  0,  0,  0,  0,  0,  0,\n",
       "        0,  0,  0,  0,  0,  0,  0,  0,  0,  0,  0,  0,  0,  0,  0,  0,  0,\n",
       "        0,  0,  0,  0,  0,  0,  0,  0,  0,  0,  0,  0,  0,  0,  0,  0,  0,\n",
       "        0,  0,  0,  0,  0,  0,  0,  0,  0,  0,  0,  0,  0,  0,  0,  0,  0,\n",
       "        0,  0,  0,  0,  0,  0,  0,  0,  0,  0,  0,  0,  0,  0,  0,  0,  0,\n",
       "        0,  0,  0,  0,  0,  0,  0,  0,  0,  0,  0,  0,  0,  0,  0,  0,  0,\n",
       "        0,  0,  0,  0,  0,  0,  0,  0,  0,  0,  0,  0,  0,  0, -1,  0,  0,\n",
       "        0,  0,  0,  0,  0,  0,  0, -1, -1, -1, -1,  0,  0,  0,  0,  0,  0,\n",
       "        0,  0,  0,  0,  0,  0,  0,  0,  0,  0,  0,  0,  0,  0,  0,  0,  0,\n",
       "        0,  0,  0,  0,  0,  0,  0,  0, -1,  0,  0,  0,  0,  0,  0,  0,  0,\n",
       "        0,  0,  0,  0,  0,  0,  0,  0,  0,  0,  0,  0,  0,  0,  0,  0,  0,\n",
       "        0,  0,  0,  0,  0,  0,  0,  0,  0,  0,  0,  0,  0,  0,  0,  0,  0,\n",
       "        0,  0,  0,  0,  0,  0,  0,  0,  0,  0,  0,  0,  0,  0,  0,  0,  0,\n",
       "        0,  0,  0,  0,  0,  0,  0,  0,  0,  0,  0,  0,  0,  0,  0,  0,  0,\n",
       "        0,  0,  0,  0,  0,  0,  0,  0,  0,  0,  0,  0,  0,  0,  0,  0,  0,\n",
       "        0,  0,  0,  0,  0,  0,  0,  0,  0,  0,  0,  0,  0,  0,  0])"
      ]
     },
     "execution_count": 52,
     "metadata": {},
     "output_type": "execute_result"
    }
   ],
   "source": [
    "# Noisy samples are given the label -1\n",
    "db.fit_predict(CorrMatrices)"
   ]
  },
  {
   "cell_type": "code",
   "execution_count": 67,
   "id": "dd71d34e",
   "metadata": {},
   "outputs": [],
   "source": [
    "CompaniesDF.iloc[15:]\n",
    "CompaniesDF.to_csv(\"Companies1992_2012.csv\")"
   ]
  },
  {
   "cell_type": "code",
   "execution_count": 70,
   "id": "0b5fcc1b",
   "metadata": {},
   "outputs": [
    {
     "name": "stdout",
     "output_type": "stream",
     "text": [
      "                 AES       LNT       AEP       ATO       CNP       CMS  \\\n",
      "Date                                                                     \n",
      "1992-01-23  1.222135  0.856979 -0.788233  0.542558  0.144135 -0.436862   \n",
      "1992-01-24 -0.851919  1.808037  0.780710 -1.251607  0.423839  0.685835   \n",
      "1992-01-27 -2.934459  0.177430  0.736323 -0.006089  1.403012  1.082350   \n",
      "1992-01-28  1.761504  0.424003  1.430255 -1.015174 -0.357585 -0.506345   \n",
      "1992-01-29 -1.681220 -0.651191 -0.942252  0.066599  0.534006 -0.488287   \n",
      "...              ...       ...       ...       ...       ...       ...   \n",
      "2012-12-24 -1.081177 -0.270954 -0.869922 -0.922632 -0.418172 -0.206734   \n",
      "2012-12-26 -0.253817 -1.051988 -1.304070 -2.098019 -2.123994 -0.721928   \n",
      "2012-12-27 -1.229936 -0.084106 -0.345997 -0.392188 -0.213158 -0.484121   \n",
      "2012-12-28 -1.076033 -0.657521 -1.157553 -0.781905  0.077233 -0.797519   \n",
      "2012-12-31  1.980571  0.998821  1.635557  1.632783  2.884628  1.891091   \n",
      "\n",
      "                  ED         D       DTE       DUK  ...       DVN       EOG  \\\n",
      "Date                                                ...                       \n",
      "1992-01-23 -0.982316 -0.220243 -1.121070 -0.659238  ... -1.077489 -0.483400   \n",
      "1992-01-24  1.123189  2.309624  1.439908  1.886563  ...  1.271613 -1.801580   \n",
      "1992-01-27  0.027863  0.663762  0.238535 -0.532340  ...  0.354453 -0.894680   \n",
      "1992-01-28  0.027863 -0.848495 -0.302178 -0.293887  ...  0.354453 -1.304825   \n",
      "1992-01-29 -0.027173  0.324066 -0.837486  0.075248  ...  0.304684  0.191465   \n",
      "...              ...       ...       ...       ...  ...       ...       ...   \n",
      "2012-12-24 -0.309340 -0.248375 -0.498336 -0.004787  ... -0.958686 -0.813532   \n",
      "2012-12-26 -1.300321 -0.770818 -1.403926 -1.099499  ... -0.725002 -0.962120   \n",
      "2012-12-27  0.020371 -0.323573 -0.359014 -0.729707  ... -0.085694 -0.109297   \n",
      "2012-12-28 -1.094147 -1.677154 -1.292667 -1.338790  ... -1.437798 -2.110353   \n",
      "2012-12-31  1.656653  2.176357  1.383711  1.721484  ...  1.230697  1.165552   \n",
      "\n",
      "                 XOM       HAL       HES       MRO       OXY       OKE  \\\n",
      "Date                                                                     \n",
      "1992-01-23 -0.616362 -1.434397 -0.457562 -0.502286 -1.245079 -0.254680   \n",
      "1992-01-24  1.760986 -3.076478  0.266386  0.393746 -0.086175 -1.110608   \n",
      "1992-01-27  0.202505 -0.025956 -0.592161 -0.426043 -1.226129 -1.339220   \n",
      "1992-01-28 -0.362713  0.274395  0.455290 -0.069463 -0.087819  0.794755   \n",
      "1992-01-29 -1.523287 -0.263923 -0.448889 -1.880833 -1.067600  0.327731   \n",
      "...              ...       ...       ...       ...       ...       ...   \n",
      "2012-12-24 -0.403730 -0.682636 -1.422293 -1.156702 -1.287924 -0.178140   \n",
      "2012-12-26  0.271965  0.229555 -0.702476 -0.631910 -1.115471 -1.566316   \n",
      "2012-12-27 -0.185405 -0.427361 -0.168654 -0.355331 -0.165108 -0.301423   \n",
      "2012-12-28 -2.209055 -1.393168 -1.707717 -1.267018 -2.053336 -0.062111   \n",
      "2012-12-31  1.998031  1.311799  1.767759  2.488306  1.319473  1.634734   \n",
      "\n",
      "                 SLB       WMB  \n",
      "Date                            \n",
      "1992-01-23 -0.714963 -0.832966  \n",
      "1992-01-24 -1.152116  0.200693  \n",
      "1992-01-27 -0.130328 -0.918393  \n",
      "1992-01-28 -0.142218 -0.590686  \n",
      "1992-01-29 -2.577898 -0.484082  \n",
      "...              ...       ...  \n",
      "2012-12-24 -0.243812 -0.919810  \n",
      "2012-12-26 -0.028972 -0.712181  \n",
      "2012-12-27  0.195096 -1.088528  \n",
      "2012-12-28 -0.829446 -1.009206  \n",
      "2012-12-31  1.321073  3.017447  \n",
      "\n",
      "[5276 rows x 263 columns]\n"
     ]
    }
   ],
   "source": [
    "ComDF = pd.read_csv(\"Companies1992_2012.csv\", index_col = \"Date\")\n",
    "print(ComDF.iloc[15:])"
   ]
  },
  {
   "cell_type": "markdown",
   "id": "34fadd6d",
   "metadata": {},
   "source": [
    "## Alternativ: Erst aggregieren, dann normieren"
   ]
  },
  {
   "cell_type": "code",
   "execution_count": null,
   "id": "640d9b4f",
   "metadata": {},
   "outputs": [],
   "source": []
  }
 ],
 "metadata": {
  "kernelspec": {
   "display_name": "Python 3 (ipykernel)",
   "language": "python",
   "name": "python3"
  },
  "language_info": {
   "codemirror_mode": {
    "name": "ipython",
    "version": 3
   },
   "file_extension": ".py",
   "mimetype": "text/x-python",
   "name": "python",
   "nbconvert_exporter": "python",
   "pygments_lexer": "ipython3",
   "version": "3.7.3"
  }
 },
 "nbformat": 4,
 "nbformat_minor": 5
}
