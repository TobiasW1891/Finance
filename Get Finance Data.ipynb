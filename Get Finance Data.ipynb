{
 "cells": [
  {
   "cell_type": "code",
   "execution_count": 15,
   "id": "2e4384a5",
   "metadata": {},
   "outputs": [
    {
     "name": "stdout",
     "output_type": "stream",
     "text": [
      "Collecting yfinance\n",
      "  Downloading https://files.pythonhosted.org/packages/dd/ea/c878476f88405f64dee5aefca5f87d75e88058987d41141c73deecc0b63b/yfinance-0.1.67-py2.py3-none-any.whl\n",
      "Collecting lxml>=4.5.1 (from yfinance)\n",
      "\u001b[?25l  Downloading https://files.pythonhosted.org/packages/97/d4/156d939ca782193b4eb46e53b1df5f003a9fe21d0d5233ce014c7e957ae1/lxml-4.6.4-cp37-cp37m-manylinux_2_5_x86_64.manylinux1_x86_64.whl (5.5MB)\n",
      "\u001b[K    100% |████████████████████████████████| 5.5MB 340kB/s  eta 0:00:01\n",
      "\u001b[?25hRequirement already satisfied: multitasking>=0.0.7 in /home/users/t_wand01/.local/lib/python3.7/site-packages (from yfinance) (0.0.10)\n",
      "Requirement already satisfied: numpy>=1.15 in /home/users/t_wand01/.local/lib/python3.7/site-packages (from yfinance) (1.21.4)\n",
      "Requirement already satisfied: requests>=2.20 in /usr/lib/python3/dist-packages (from yfinance) (2.21.0)\n",
      "Requirement already satisfied: pandas>=0.24 in /home/users/t_wand01/.local/lib/python3.7/site-packages (from yfinance) (1.3.4)\n",
      "Requirement already satisfied: pytz>=2017.3 in /home/users/t_wand01/.local/lib/python3.7/site-packages (from pandas>=0.24->yfinance) (2021.3)\n",
      "Requirement already satisfied: python-dateutil>=2.7.3 in /usr/lib/python3/dist-packages (from pandas>=0.24->yfinance) (2.7.3)\n",
      "Installing collected packages: lxml, yfinance\n",
      "Successfully installed lxml-4.6.4 yfinance-0.1.67\n"
     ]
    }
   ],
   "source": [
    "#https://towardsdatascience.com/financial-data-from-yahoo-finance-with-python-b5399743bcc6 \n",
    "import sys\n",
    "!{sys.executable} -m pip install yfinance\n"
   ]
  },
  {
   "cell_type": "code",
   "execution_count": 84,
   "id": "22a5c021",
   "metadata": {},
   "outputs": [],
   "source": [
    "import datetime\n",
    "import yfinance as yf\n",
    "import pandas as pd\n",
    "import numpy as np\n",
    "import matplotlib.pyplot as plt"
   ]
  },
  {
   "cell_type": "code",
   "execution_count": 17,
   "id": "ca61494e",
   "metadata": {},
   "outputs": [],
   "source": [
    "Amazon = yf.Ticker(\"AMZN\")"
   ]
  },
  {
   "cell_type": "code",
   "execution_count": 19,
   "id": "e64219a1",
   "metadata": {},
   "outputs": [
    {
     "data": {
      "text/plain": [
       "'Consumer Cyclical'"
      ]
     },
     "execution_count": 19,
     "metadata": {},
     "output_type": "execute_result"
    }
   ],
   "source": [
    "Amazon.info[\"sector\"]"
   ]
  },
  {
   "cell_type": "code",
   "execution_count": 20,
   "id": "c3d2aa6d",
   "metadata": {},
   "outputs": [
    {
     "name": "stdout",
     "output_type": "stream",
     "text": [
      "                  Open        High         Low       Close    Volume  \\\n",
      "Date                                                                   \n",
      "2012-05-30  212.139999  212.979996  207.750000  209.229996   4078200   \n",
      "2012-05-31  209.479996  213.789993  207.110001  212.910004   4944000   \n",
      "2012-06-01  208.440002  211.229996  207.300003  208.220001   3951500   \n",
      "2012-06-04  207.399994  215.350006  206.369995  214.570007   4299600   \n",
      "2012-06-05  213.850006  216.860001  211.160004  213.210007   3543900   \n",
      "...                ...         ...         ...         ...       ...   \n",
      "2013-01-23  270.570007  271.089996  266.649994  268.109985   2508900   \n",
      "2013-01-24  269.369995  276.649994  269.369995  273.459991   3417000   \n",
      "2013-01-25  275.000000  284.720001  274.399994  283.989990   4968100   \n",
      "2013-01-28  283.779999  284.480011  274.399994  276.040009   4321400   \n",
      "2013-01-29  275.350006  275.459991  258.350006  260.350006  10172600   \n",
      "\n",
      "            Dividends  Stock Splits  \n",
      "Date                                 \n",
      "2012-05-30          0             0  \n",
      "2012-05-31          0             0  \n",
      "2012-06-01          0             0  \n",
      "2012-06-04          0             0  \n",
      "2012-06-05          0             0  \n",
      "...               ...           ...  \n",
      "2013-01-23          0             0  \n",
      "2013-01-24          0             0  \n",
      "2013-01-25          0             0  \n",
      "2013-01-28          0             0  \n",
      "2013-01-29          0             0  \n",
      "\n",
      "[167 rows x 7 columns]\n"
     ]
    }
   ],
   "source": [
    "start = datetime.datetime(2012,5,31) \n",
    "end = datetime.datetime(2013,1,30)\n",
    "print(Amazon.history(start=start, end=end))"
   ]
  },
  {
   "cell_type": "markdown",
   "id": "941a16bc",
   "metadata": {},
   "source": [
    "## Get all current S&P500 Stock data"
   ]
  },
  {
   "cell_type": "code",
   "execution_count": 24,
   "id": "a0881d12",
   "metadata": {},
   "outputs": [
    {
     "name": "stdout",
     "output_type": "stream",
     "text": [
      "    Symbol             Security SEC filings             GICS Sector  \\\n",
      "0      MMM                   3M     reports             Industrials   \n",
      "1      ABT  Abbott Laboratories     reports             Health Care   \n",
      "2     ABBV               AbbVie     reports             Health Care   \n",
      "3     ABMD              Abiomed     reports             Health Care   \n",
      "4      ACN            Accenture     reports  Information Technology   \n",
      "..     ...                  ...         ...                     ...   \n",
      "500    YUM          Yum! Brands     reports  Consumer Discretionary   \n",
      "501   ZBRA   Zebra Technologies     reports  Information Technology   \n",
      "502    ZBH        Zimmer Biomet     reports             Health Care   \n",
      "503   ZION        Zions Bancorp     reports              Financials   \n",
      "504    ZTS               Zoetis     reports             Health Care   \n",
      "\n",
      "                      GICS Sub-Industry    Headquarters Location  \\\n",
      "0              Industrial Conglomerates    Saint Paul, Minnesota   \n",
      "1                 Health Care Equipment  North Chicago, Illinois   \n",
      "2                       Pharmaceuticals  North Chicago, Illinois   \n",
      "3                 Health Care Equipment   Danvers, Massachusetts   \n",
      "4        IT Consulting & Other Services          Dublin, Ireland   \n",
      "..                                  ...                      ...   \n",
      "500                         Restaurants     Louisville, Kentucky   \n",
      "501  Electronic Equipment & Instruments   Lincolnshire, Illinois   \n",
      "502               Health Care Equipment          Warsaw, Indiana   \n",
      "503                      Regional Banks     Salt Lake City, Utah   \n",
      "504                     Pharmaceuticals   Parsippany, New Jersey   \n",
      "\n",
      "    Date first added      CIK      Founded  \n",
      "0         1976-08-09    66740         1902  \n",
      "1         1964-03-31     1800         1888  \n",
      "2         2012-12-31  1551152  2013 (1888)  \n",
      "3         2018-05-31   815094         1981  \n",
      "4         2011-07-06  1467373         1989  \n",
      "..               ...      ...          ...  \n",
      "500       1997-10-06  1041061         1997  \n",
      "501       2019-12-23   877212         1969  \n",
      "502       2001-08-07  1136869         1927  \n",
      "503       2001-06-22   109380         1873  \n",
      "504       2013-06-21  1555280         1952  \n",
      "\n",
      "[505 rows x 9 columns]\n"
     ]
    }
   ],
   "source": [
    "# https://tcoil.info/how-to-get-list-of-companies-in-sp-500-with-python/\n",
    "\n",
    "\n",
    "payload=pd.read_html('https://en.wikipedia.org/wiki/List_of_S%26P_500_companies')\n",
    "first_table = payload[0]\n",
    "second_table = payload[1]\n",
    "\n",
    "df = first_table\n",
    "print(df)"
   ]
  },
  {
   "cell_type": "code",
   "execution_count": 25,
   "id": "1102bdf5",
   "metadata": {},
   "outputs": [
    {
     "name": "stdout",
     "output_type": "stream",
     "text": [
      "['MMM', 'ABT', 'ABBV', 'ABMD', 'ACN', 'ATVI', 'ADBE', 'AMD', 'AAP', 'AES', 'AFL', 'A', 'APD', 'AKAM', 'ALK']\n",
      "['3M', 'Abbott Laboratories', 'AbbVie', 'Abiomed', 'Accenture', 'Activision Blizzard', 'Adobe', 'Advanced Micro Devices', 'Advance Auto Parts', 'AES Corp', 'Aflac', 'Agilent Technologies', 'Air Products & Chemicals', 'Akamai Technologies', 'Alaska Air Group']\n"
     ]
    }
   ],
   "source": [
    "symbols = df['Symbol'].values.tolist()\n",
    "print(symbols[:15])\n",
    "\n",
    "names = df['Security'].values.tolist()\n",
    "print(names[:15])"
   ]
  },
  {
   "cell_type": "code",
   "execution_count": 27,
   "id": "fe33a1db",
   "metadata": {},
   "outputs": [
    {
     "name": "stdout",
     "output_type": "stream",
     "text": [
      "11 {'Health Care', 'Financials', 'Consumer Discretionary', 'Communication Services', 'Industrials', 'Consumer Staples', 'Utilities', 'Materials', 'Information Technology', 'Energy', 'Real Estate'}\n"
     ]
    }
   ],
   "source": [
    "#show unique economy sectors\n",
    "sectors = df['GICS Sector'].values.tolist()\n",
    "sectors = set(sectors)\n",
    "print(len(sectors),\n",
    "      sectors)\n",
    "\n"
   ]
  },
  {
   "cell_type": "code",
   "execution_count": 69,
   "id": "5d0a2587",
   "metadata": {},
   "outputs": [
    {
     "name": "stdout",
     "output_type": "stream",
     "text": [
      "['ARE', 'AMT', 'AVB', 'BXP', 'CBRE', 'CCI', 'DLR', 'DRE', 'EQIX', 'EQR', 'ESS', 'EXR', 'FRT', 'PEAK', 'HST', 'IRM', 'KIM', 'MAA', 'PLD', 'PSA', 'O', 'REG', 'SBAC', 'SPG', 'UDR', 'VTR', 'VNO', 'WELL', 'WY']\n"
     ]
    }
   ],
   "source": [
    "real_estate_symbs  = df[df['GICS Sector'] == 'Real Estate']['Symbol'].values.tolist()\n",
    "print(real_estate_symbs)"
   ]
  },
  {
   "cell_type": "code",
   "execution_count": 30,
   "id": "5d9f4109",
   "metadata": {},
   "outputs": [
    {
     "name": "stdout",
     "output_type": "stream",
     "text": [
      "['ARE', 'AMT', 'AVB', 'BXP', 'CBRE', 'CCI', 'DLR', 'DRE', 'EQIX', 'EQR', 'ESS', 'EXR', 'FRT', 'PEAK', 'HST', 'IRM', 'KIM', 'MAA', 'PLD', 'PSA', 'O', 'REG', 'SBAC', 'SPG', 'UDR', 'VTR', 'VNO', 'WELL', 'WY']\n"
     ]
    }
   ],
   "source": [
    "\n",
    "real_estate_df = df[df['GICS Sector'] == 'Real Estate']\n",
    "real_estate_symbols = real_estate_df['Symbol'].values.tolist()\n",
    "\n",
    "print(real_estate_symbols)"
   ]
  },
  {
   "cell_type": "code",
   "execution_count": 57,
   "id": "d3d017a5",
   "metadata": {},
   "outputs": [],
   "source": [
    "# SP500 complete\n",
    "start=datetime.datetime(1995, 1, 1)\n",
    "end=datetime.datetime(2021, 1, 1)\n",
    "SP500 = yf.Ticker(\"^GSPC\")\n",
    "SP500 = SP500.history(start = start, end = end)\n"
   ]
  },
  {
   "cell_type": "code",
   "execution_count": 59,
   "id": "c87936af",
   "metadata": {},
   "outputs": [
    {
     "name": "stdout",
     "output_type": "stream",
     "text": [
      "DatetimeIndex(['1995-01-03', '1995-01-04', '1995-01-05', '1995-01-06',\n",
      "               '1995-01-09', '1995-01-10', '1995-01-11', '1995-01-12',\n",
      "               '1995-01-13', '1995-01-16',\n",
      "               ...\n",
      "               '2020-12-17', '2020-12-18', '2020-12-21', '2020-12-22',\n",
      "               '2020-12-23', '2020-12-24', '2020-12-28', '2020-12-29',\n",
      "               '2020-12-30', '2020-12-31'],\n",
      "              dtype='datetime64[ns]', name='Date', length=6547, freq=None)\n"
     ]
    }
   ],
   "source": [
    "print(SP500.index)"
   ]
  },
  {
   "cell_type": "code",
   "execution_count": 64,
   "id": "30b5e618",
   "metadata": {},
   "outputs": [
    {
     "data": {
      "text/plain": [
       "6547"
      ]
     },
     "execution_count": 64,
     "metadata": {},
     "output_type": "execute_result"
    }
   ],
   "source": [
    "len(0*SP500[\"Close\"])"
   ]
  },
  {
   "cell_type": "code",
   "execution_count": 70,
   "id": "58f9f871",
   "metadata": {},
   "outputs": [],
   "source": [
    "def SectorPrices(sec, start, end):\n",
    "    # takes the name of a sector and returns the aggregated data of all companies from start to end\n",
    "    # which have full data for this time period\n",
    "    \n",
    "    SP500 = yf.Ticker(\"^GSPC\")\n",
    "    SP500 = SP500.history(start = start, end = end)\n",
    "    Output = 0*SP500[\"Close\"] # this is the output pandas series\n",
    "    \n",
    "    List = df[df['GICS Sector'] == sec]['Symbol'].values.tolist() # list of all companies in sector\n",
    "    \n",
    "    for sym in List:\n",
    "        StockData = yf.Ticker(sym)\n",
    "        StockData = StockData.history(start = start, end = end)\n",
    "        StockData = StockData[\"Close\"]\n",
    "        \n",
    "        # only add stocks o sector data which have full history\n",
    "        if len(StockData.index) == len(SP500.index):\n",
    "            Output = Output.add(StockData)\n",
    "    \n",
    "    return(Output)"
   ]
  },
  {
   "cell_type": "code",
   "execution_count": null,
   "id": "40069591",
   "metadata": {},
   "outputs": [],
   "source": []
  },
  {
   "cell_type": "code",
   "execution_count": 71,
   "id": "4a46a84c",
   "metadata": {},
   "outputs": [
    {
     "data": {
      "text/plain": [
       "Date\n",
       "1995-01-03      71.326278\n",
       "1995-01-04      71.497539\n",
       "1995-01-05      71.538372\n",
       "1995-01-06      71.322944\n",
       "1995-01-09      71.496336\n",
       "                 ...     \n",
       "2020-12-24    1307.739234\n",
       "2020-12-28    1320.167468\n",
       "2020-12-29    1303.770288\n",
       "2020-12-30    1315.966419\n",
       "2020-12-31    1329.620789\n",
       "Name: Close, Length: 6547, dtype: float64"
      ]
     },
     "execution_count": 71,
     "metadata": {},
     "output_type": "execute_result"
    }
   ],
   "source": [
    "SectorPrices(\"Real Estate\", start, end)"
   ]
  },
  {
   "cell_type": "code",
   "execution_count": 68,
   "id": "89d8f3d0",
   "metadata": {},
   "outputs": [
    {
     "name": "stdout",
     "output_type": "stream",
     "text": [
      "ARE\n",
      "AMT\n",
      "AVB\n",
      "6547 6547\n",
      "BXP\n",
      "CBRE\n",
      "CCI\n",
      "DLR\n",
      "DRE\n",
      "6547 6547\n",
      "EQIX\n",
      "EQR\n",
      "6547 6547\n",
      "ESS\n",
      "6547 6547\n",
      "EXR\n",
      "FRT\n",
      "6547 6547\n",
      "PEAK\n",
      "6547 6547\n",
      "HST\n",
      "6547 6547\n",
      "IRM\n",
      "KIM\n",
      "6547 6547\n",
      "MAA\n",
      "6547 6547\n",
      "PLD\n",
      "PSA\n",
      "6547 6547\n",
      "O\n",
      "6547 6547\n",
      "REG\n",
      "6547 6547\n",
      "SBAC\n",
      "SPG\n",
      "6547 6547\n",
      "UDR\n",
      "6547 6547\n",
      "VTR\n",
      "VNO\n",
      "6547 6547\n",
      "WELL\n",
      "6547 6547\n",
      "WY\n",
      "6547 6547\n",
      "Date\n",
      "1995-01-03      71.326283\n",
      "1995-01-04      71.497544\n",
      "1995-01-05      71.538383\n",
      "1995-01-06      71.322936\n",
      "1995-01-09      71.496337\n",
      "                 ...     \n",
      "2020-12-24    1307.739216\n",
      "2020-12-28    1320.167489\n",
      "2020-12-29    1303.770267\n",
      "2020-12-30    1315.966423\n",
      "2020-12-31    1329.620798\n",
      "Name: Close, Length: 6547, dtype: float64\n"
     ]
    }
   ],
   "source": [
    "RealEstateStocks = 0*SP500[\"Close\"]\n",
    "for sym in real_estate_symbols:\n",
    "    print(sym)\n",
    "    StockData = yf.Ticker(sym)\n",
    "    StockData = StockData.history(start=datetime.datetime(1995, 1, 1), \n",
    "                                  end=datetime.datetime(2021, 1, 1))\n",
    "    StockData = StockData[\"Close\"]\n",
    "    \n",
    "    # Only add stocks to sector data which have full history\n",
    "    if len(StockData.index) == len(SP500.index):\n",
    "        print(len(RealEstateStocks), len(StockData))\n",
    "        RealEstateStocks = RealEstateStocks.add(StockData)\n",
    "        \n",
    "\n",
    "print(RealEstateStocks)"
   ]
  },
  {
   "cell_type": "code",
   "execution_count": null,
   "id": "6559c1f3",
   "metadata": {},
   "outputs": [],
   "source": [
    "def SectorPrices(sec, start, end):\n",
    "    # takes the name of a sector and returns the aggregated data of all companies from start to end\n",
    "    # which have full data for this time period\n",
    "    \n",
    "    SP500 = yf.Ticker(\"^GSPC\")\n",
    "    SP500 = SP500.history(start = start, end = end)\n",
    "    Output = 0*SP500[\"Close\"] # this is the output pandas series\n",
    "    \n",
    "    List = df[df['GICS Sector'] == sec]['Symbol'].values.tolist() # list of all companies in sector\n",
    "    \n",
    "    for sym in List:\n",
    "        StockData = yf.Ticker(sym)\n",
    "        StockData = StockData.history(start = start, end = end)\n",
    "        StockData = StockData[\"Close\"]\n",
    "        \n",
    "        # only add stocks o sector data which have full history\n",
    "        if len(StockData.index) == len(SP500.index):\n",
    "            Output = Output.add(StockData)\n",
    "    \n",
    "    return(Output)"
   ]
  },
  {
   "cell_type": "code",
   "execution_count": 52,
   "id": "ccb519a7",
   "metadata": {},
   "outputs": [
    {
     "name": "stdout",
     "output_type": "stream",
     "text": [
      "1995-01-03 00:00:00\n",
      "True\n"
     ]
    }
   ],
   "source": [
    "print(StockData.index[0])\n",
    "print(StockData.index[0] == datetime.datetime(1995, 1, 3))"
   ]
  },
  {
   "cell_type": "code",
   "execution_count": 72,
   "id": "104343b6",
   "metadata": {},
   "outputs": [
    {
     "name": "stdout",
     "output_type": "stream",
     "text": [
      "['I']\n"
     ]
    }
   ],
   "source": [
    "Seclist = list()\n"
   ]
  },
  {
   "cell_type": "code",
   "execution_count": 79,
   "id": "fc677cc3",
   "metadata": {},
   "outputs": [
    {
     "name": "stdout",
     "output_type": "stream",
     "text": [
      "Health Care\n",
      "- OGN: Data doesn't exist for startDate = 788914800, endDate = 1609455600\n",
      "Financials\n",
      "- BRK.B: No data found, symbol may be delisted\n",
      "Consumer Discretionary\n",
      "Communication Services\n",
      "Industrials\n",
      "Consumer Staples\n",
      "- BF.B: No data found for this date range, symbol may be delisted\n",
      "Utilities\n",
      "Materials\n",
      "Information Technology\n",
      "Energy\n",
      "Real Estate\n"
     ]
    }
   ],
   "source": [
    "SectorsDF = pd.DataFrame(data = ())\n",
    "\n",
    "\n",
    "for s in sectors:\n",
    "    print(s)\n",
    "    SectorDF = df[df[\"GICS Sector\"] == s]\n",
    "    SectorSymbols = SectorDF['Symbol'].values.tolist()\n",
    "    \n",
    "    #Seclist.append(SectorPrices(s, start, end))\n",
    "    SectorsDF[s] = SectorPrices(s, start, end)\n",
    "    "
   ]
  },
  {
   "cell_type": "code",
   "execution_count": 80,
   "id": "6292e573",
   "metadata": {},
   "outputs": [
    {
     "name": "stdout",
     "output_type": "stream",
     "text": [
      "            Health Care   Financials  Consumer Discretionary  \\\n",
      "Date                                                           \n",
      "1995-01-03   252.536228   422.520369              179.047661   \n",
      "1995-01-04   252.162853   421.681724              178.541232   \n",
      "1995-01-05   253.021434   421.635561              178.926074   \n",
      "1995-01-06   254.520722   422.265567              178.490130   \n",
      "1995-01-09   255.681090   422.439001              178.938541   \n",
      "...                 ...          ...                     ...   \n",
      "2020-12-24  8151.506901  3881.876234             8621.035822   \n",
      "2020-12-28  8154.417374  3893.463562             8543.670601   \n",
      "2020-12-29  8172.589890  3878.364791             8470.905934   \n",
      "2020-12-30  8171.484985  3910.681441             8482.546898   \n",
      "2020-12-31  8260.434713  3963.974326             8436.160795   \n",
      "\n",
      "            Communication Services  Industrials  Consumer Staples  \\\n",
      "Date                                                                \n",
      "1995-01-03               46.733438   328.068930        154.667044   \n",
      "1995-01-04               46.422789   328.356845        155.057177   \n",
      "1995-01-05               46.167831   329.237607        153.756919   \n",
      "1995-01-06               46.083145   330.572925        153.690314   \n",
      "1995-01-09               45.888903   329.952151        153.062893   \n",
      "...                            ...          ...               ...   \n",
      "2020-12-24              781.459073  7838.503891       2564.267906   \n",
      "2020-12-28              785.986525  7852.197001       2582.971655   \n",
      "2020-12-29              784.273319  7791.955896       2578.144485   \n",
      "2020-12-30              790.020832  7841.481831       2575.188366   \n",
      "2020-12-31              794.583793  7896.543049       2594.151531   \n",
      "\n",
      "              Utilities    Materials  Information Technology      Energy  \\\n",
      "Date                                                                       \n",
      "1995-01-03   129.152626   195.742588              245.296054   82.377869   \n",
      "1995-01-04   129.850474   194.378622              245.055641   82.752754   \n",
      "1995-01-05   129.708197   194.087822              244.528690   82.424189   \n",
      "1995-01-06   130.168657   196.391424              247.225131   81.928098   \n",
      "1995-01-09   129.871015   196.564641              253.207389   81.672649   \n",
      "...                 ...          ...                     ...         ...   \n",
      "2020-12-24  1426.916817  2534.664579             6167.426176  498.033422   \n",
      "2020-12-28  1434.416052  2532.338902             6172.350407  493.322155   \n",
      "2020-12-29  1434.806406  2520.669794             6132.082178  490.629484   \n",
      "2020-12-30  1442.128456  2549.311680             6172.482695  500.503055   \n",
      "2020-12-31  1465.400000  2563.248884             6214.575794  495.638867   \n",
      "\n",
      "            Real Estate  \n",
      "Date                     \n",
      "1995-01-03    71.326295  \n",
      "1995-01-04    71.497545  \n",
      "1995-01-05    71.538374  \n",
      "1995-01-06    71.322947  \n",
      "1995-01-09    71.496338  \n",
      "...                 ...  \n",
      "2020-12-24  1307.739261  \n",
      "2020-12-28  1320.167451  \n",
      "2020-12-29  1303.770246  \n",
      "2020-12-30  1315.966473  \n",
      "2020-12-31  1329.620771  \n",
      "\n",
      "[6547 rows x 11 columns]\n"
     ]
    }
   ],
   "source": [
    "print(SectorsDF)"
   ]
  },
  {
   "cell_type": "code",
   "execution_count": 82,
   "id": "d3558585",
   "metadata": {},
   "outputs": [
    {
     "data": {
      "text/plain": [
       "DatetimeIndex(['1995-01-03', '1995-01-04', '1995-01-05', '1995-01-06',\n",
       "               '1995-01-09', '1995-01-10', '1995-01-11', '1995-01-12',\n",
       "               '1995-01-13', '1995-01-16',\n",
       "               ...\n",
       "               '2020-12-17', '2020-12-18', '2020-12-21', '2020-12-22',\n",
       "               '2020-12-23', '2020-12-24', '2020-12-28', '2020-12-29',\n",
       "               '2020-12-30', '2020-12-31'],\n",
       "              dtype='datetime64[ns]', name='Date', length=6547, freq=None)"
      ]
     },
     "execution_count": 82,
     "metadata": {},
     "output_type": "execute_result"
    }
   ],
   "source": [
    "SectorsDF.index"
   ]
  },
  {
   "cell_type": "code",
   "execution_count": 86,
   "id": "680b8dcb",
   "metadata": {},
   "outputs": [
    {
     "name": "stderr",
     "output_type": "stream",
     "text": [
      "/usr/lib/python3/dist-packages/matplotlib/cbook/__init__.py:1377: FutureWarning: Support for multi-dimensional indexing (e.g. `obj[:, None]`) is deprecated and will be removed in a future version.  Convert to a numpy array before indexing instead.\n",
      "  x[:, None]\n",
      "/usr/lib/python3/dist-packages/matplotlib/axes/_base.py:237: FutureWarning: Support for multi-dimensional indexing (e.g. `obj[:, None]`) is deprecated and will be removed in a future version.  Convert to a numpy array before indexing instead.\n",
      "  x = x[:, np.newaxis]\n",
      "/usr/lib/python3/dist-packages/matplotlib/axes/_base.py:239: FutureWarning: Support for multi-dimensional indexing (e.g. `obj[:, None]`) is deprecated and will be removed in a future version.  Convert to a numpy array before indexing instead.\n",
      "  y = y[:, np.newaxis]\n",
      "/usr/lib/python3/dist-packages/matplotlib/cbook/__init__.py:1377: FutureWarning: Support for multi-dimensional indexing (e.g. `obj[:, None]`) is deprecated and will be removed in a future version.  Convert to a numpy array before indexing instead.\n",
      "  x[:, None]\n",
      "/usr/lib/python3/dist-packages/matplotlib/axes/_base.py:237: FutureWarning: Support for multi-dimensional indexing (e.g. `obj[:, None]`) is deprecated and will be removed in a future version.  Convert to a numpy array before indexing instead.\n",
      "  x = x[:, np.newaxis]\n",
      "/usr/lib/python3/dist-packages/matplotlib/axes/_base.py:239: FutureWarning: Support for multi-dimensional indexing (e.g. `obj[:, None]`) is deprecated and will be removed in a future version.  Convert to a numpy array before indexing instead.\n",
      "  y = y[:, np.newaxis]\n",
      "/usr/lib/python3/dist-packages/matplotlib/cbook/__init__.py:1377: FutureWarning: Support for multi-dimensional indexing (e.g. `obj[:, None]`) is deprecated and will be removed in a future version.  Convert to a numpy array before indexing instead.\n",
      "  x[:, None]\n",
      "/usr/lib/python3/dist-packages/matplotlib/axes/_base.py:237: FutureWarning: Support for multi-dimensional indexing (e.g. `obj[:, None]`) is deprecated and will be removed in a future version.  Convert to a numpy array before indexing instead.\n",
      "  x = x[:, np.newaxis]\n",
      "/usr/lib/python3/dist-packages/matplotlib/axes/_base.py:239: FutureWarning: Support for multi-dimensional indexing (e.g. `obj[:, None]`) is deprecated and will be removed in a future version.  Convert to a numpy array before indexing instead.\n",
      "  y = y[:, np.newaxis]\n",
      "/usr/lib/python3/dist-packages/matplotlib/cbook/__init__.py:1377: FutureWarning: Support for multi-dimensional indexing (e.g. `obj[:, None]`) is deprecated and will be removed in a future version.  Convert to a numpy array before indexing instead.\n",
      "  x[:, None]\n",
      "/usr/lib/python3/dist-packages/matplotlib/axes/_base.py:237: FutureWarning: Support for multi-dimensional indexing (e.g. `obj[:, None]`) is deprecated and will be removed in a future version.  Convert to a numpy array before indexing instead.\n",
      "  x = x[:, np.newaxis]\n",
      "/usr/lib/python3/dist-packages/matplotlib/axes/_base.py:239: FutureWarning: Support for multi-dimensional indexing (e.g. `obj[:, None]`) is deprecated and will be removed in a future version.  Convert to a numpy array before indexing instead.\n",
      "  y = y[:, np.newaxis]\n",
      "/usr/lib/python3/dist-packages/matplotlib/cbook/__init__.py:1377: FutureWarning: Support for multi-dimensional indexing (e.g. `obj[:, None]`) is deprecated and will be removed in a future version.  Convert to a numpy array before indexing instead.\n",
      "  x[:, None]\n",
      "/usr/lib/python3/dist-packages/matplotlib/axes/_base.py:237: FutureWarning: Support for multi-dimensional indexing (e.g. `obj[:, None]`) is deprecated and will be removed in a future version.  Convert to a numpy array before indexing instead.\n",
      "  x = x[:, np.newaxis]\n",
      "/usr/lib/python3/dist-packages/matplotlib/axes/_base.py:239: FutureWarning: Support for multi-dimensional indexing (e.g. `obj[:, None]`) is deprecated and will be removed in a future version.  Convert to a numpy array before indexing instead.\n",
      "  y = y[:, np.newaxis]\n",
      "/usr/lib/python3/dist-packages/matplotlib/cbook/__init__.py:1377: FutureWarning: Support for multi-dimensional indexing (e.g. `obj[:, None]`) is deprecated and will be removed in a future version.  Convert to a numpy array before indexing instead.\n",
      "  x[:, None]\n",
      "/usr/lib/python3/dist-packages/matplotlib/axes/_base.py:237: FutureWarning: Support for multi-dimensional indexing (e.g. `obj[:, None]`) is deprecated and will be removed in a future version.  Convert to a numpy array before indexing instead.\n",
      "  x = x[:, np.newaxis]\n",
      "/usr/lib/python3/dist-packages/matplotlib/axes/_base.py:239: FutureWarning: Support for multi-dimensional indexing (e.g. `obj[:, None]`) is deprecated and will be removed in a future version.  Convert to a numpy array before indexing instead.\n",
      "  y = y[:, np.newaxis]\n",
      "/usr/lib/python3/dist-packages/matplotlib/cbook/__init__.py:1377: FutureWarning: Support for multi-dimensional indexing (e.g. `obj[:, None]`) is deprecated and will be removed in a future version.  Convert to a numpy array before indexing instead.\n",
      "  x[:, None]\n",
      "/usr/lib/python3/dist-packages/matplotlib/axes/_base.py:237: FutureWarning: Support for multi-dimensional indexing (e.g. `obj[:, None]`) is deprecated and will be removed in a future version.  Convert to a numpy array before indexing instead.\n",
      "  x = x[:, np.newaxis]\n",
      "/usr/lib/python3/dist-packages/matplotlib/axes/_base.py:239: FutureWarning: Support for multi-dimensional indexing (e.g. `obj[:, None]`) is deprecated and will be removed in a future version.  Convert to a numpy array before indexing instead.\n",
      "  y = y[:, np.newaxis]\n",
      "/usr/lib/python3/dist-packages/matplotlib/cbook/__init__.py:1377: FutureWarning: Support for multi-dimensional indexing (e.g. `obj[:, None]`) is deprecated and will be removed in a future version.  Convert to a numpy array before indexing instead.\n",
      "  x[:, None]\n",
      "/usr/lib/python3/dist-packages/matplotlib/axes/_base.py:237: FutureWarning: Support for multi-dimensional indexing (e.g. `obj[:, None]`) is deprecated and will be removed in a future version.  Convert to a numpy array before indexing instead.\n",
      "  x = x[:, np.newaxis]\n",
      "/usr/lib/python3/dist-packages/matplotlib/axes/_base.py:239: FutureWarning: Support for multi-dimensional indexing (e.g. `obj[:, None]`) is deprecated and will be removed in a future version.  Convert to a numpy array before indexing instead.\n",
      "  y = y[:, np.newaxis]\n",
      "/usr/lib/python3/dist-packages/matplotlib/cbook/__init__.py:1377: FutureWarning: Support for multi-dimensional indexing (e.g. `obj[:, None]`) is deprecated and will be removed in a future version.  Convert to a numpy array before indexing instead.\n",
      "  x[:, None]\n",
      "/usr/lib/python3/dist-packages/matplotlib/axes/_base.py:237: FutureWarning: Support for multi-dimensional indexing (e.g. `obj[:, None]`) is deprecated and will be removed in a future version.  Convert to a numpy array before indexing instead.\n",
      "  x = x[:, np.newaxis]\n",
      "/usr/lib/python3/dist-packages/matplotlib/axes/_base.py:239: FutureWarning: Support for multi-dimensional indexing (e.g. `obj[:, None]`) is deprecated and will be removed in a future version.  Convert to a numpy array before indexing instead.\n",
      "  y = y[:, np.newaxis]\n",
      "/usr/lib/python3/dist-packages/matplotlib/cbook/__init__.py:1377: FutureWarning: Support for multi-dimensional indexing (e.g. `obj[:, None]`) is deprecated and will be removed in a future version.  Convert to a numpy array before indexing instead.\n",
      "  x[:, None]\n",
      "/usr/lib/python3/dist-packages/matplotlib/axes/_base.py:237: FutureWarning: Support for multi-dimensional indexing (e.g. `obj[:, None]`) is deprecated and will be removed in a future version.  Convert to a numpy array before indexing instead.\n",
      "  x = x[:, np.newaxis]\n",
      "/usr/lib/python3/dist-packages/matplotlib/axes/_base.py:239: FutureWarning: Support for multi-dimensional indexing (e.g. `obj[:, None]`) is deprecated and will be removed in a future version.  Convert to a numpy array before indexing instead.\n",
      "  y = y[:, np.newaxis]\n",
      "/usr/lib/python3/dist-packages/matplotlib/cbook/__init__.py:1377: FutureWarning: Support for multi-dimensional indexing (e.g. `obj[:, None]`) is deprecated and will be removed in a future version.  Convert to a numpy array before indexing instead.\n",
      "  x[:, None]\n",
      "/usr/lib/python3/dist-packages/matplotlib/axes/_base.py:237: FutureWarning: Support for multi-dimensional indexing (e.g. `obj[:, None]`) is deprecated and will be removed in a future version.  Convert to a numpy array before indexing instead.\n",
      "  x = x[:, np.newaxis]\n",
      "/usr/lib/python3/dist-packages/matplotlib/axes/_base.py:239: FutureWarning: Support for multi-dimensional indexing (e.g. `obj[:, None]`) is deprecated and will be removed in a future version.  Convert to a numpy array before indexing instead.\n",
      "  y = y[:, np.newaxis]\n"
     ]
    },
    {
     "data": {
      "image/png": "[encoded data removed]",
      "text/plain": [
       "<Figure size 432x288 with 1 Axes>"
      ]
     },
     "metadata": {
      "needs_background": "light"
     },
     "output_type": "display_data"
    }
   ],
   "source": [
    "for i in SectorsDF.columns:\n",
    "    plt.plot(SectorsDF.index,SectorsDF[i], label = i)\n",
    "plt.legend()\n",
    "plt.show()"
   ]
  },
  {
   "cell_type": "code",
   "execution_count": 87,
   "id": "8af25560",
   "metadata": {},
   "outputs": [
    {
     "data": {
      "text/html": [
       "<div>\n",
       "<style scoped>\n",
       "    .dataframe tbody tr th:only-of-type {\n",
       "        vertical-align: middle;\n",
       "    }\n",
       "\n",
       "    .dataframe tbody tr th {\n",
       "        vertical-align: top;\n",
       "    }\n",
       "\n",
       "    .dataframe thead th {\n",
       "        text-align: right;\n",
       "    }\n",
       "</style>\n",
       "<table border=\"1\" class=\"dataframe\">\n",
       "  <thead>\n",
       "    <tr style=\"text-align: right;\">\n",
       "      <th></th>\n",
       "      <th>Health Care</th>\n",
       "      <th>Financials</th>\n",
       "      <th>Consumer Discretionary</th>\n",
       "      <th>Communication Services</th>\n",
       "      <th>Industrials</th>\n",
       "      <th>Consumer Staples</th>\n",
       "      <th>Utilities</th>\n",
       "      <th>Materials</th>\n",
       "      <th>Information Technology</th>\n",
       "      <th>Energy</th>\n",
       "      <th>Real Estate</th>\n",
       "    </tr>\n",
       "  </thead>\n",
       "  <tbody>\n",
       "    <tr>\n",
       "      <th>Health Care</th>\n",
       "      <td>1.000000</td>\n",
       "      <td>0.702831</td>\n",
       "      <td>0.988327</td>\n",
       "      <td>0.987902</td>\n",
       "      <td>0.991078</td>\n",
       "      <td>0.988778</td>\n",
       "      <td>0.981672</td>\n",
       "      <td>0.984732</td>\n",
       "      <td>0.969113</td>\n",
       "      <td>0.655183</td>\n",
       "      <td>0.927662</td>\n",
       "    </tr>\n",
       "    <tr>\n",
       "      <th>Financials</th>\n",
       "      <td>0.702831</td>\n",
       "      <td>1.000000</td>\n",
       "      <td>0.712778</td>\n",
       "      <td>0.772979</td>\n",
       "      <td>0.714916</td>\n",
       "      <td>0.674960</td>\n",
       "      <td>0.688716</td>\n",
       "      <td>0.677433</td>\n",
       "      <td>0.741520</td>\n",
       "      <td>0.382736</td>\n",
       "      <td>0.612228</td>\n",
       "    </tr>\n",
       "    <tr>\n",
       "      <th>Consumer Discretionary</th>\n",
       "      <td>0.988327</td>\n",
       "      <td>0.712778</td>\n",
       "      <td>1.000000</td>\n",
       "      <td>0.982749</td>\n",
       "      <td>0.992310</td>\n",
       "      <td>0.987094</td>\n",
       "      <td>0.985234</td>\n",
       "      <td>0.988445</td>\n",
       "      <td>0.960444</td>\n",
       "      <td>0.670262</td>\n",
       "      <td>0.940100</td>\n",
       "    </tr>\n",
       "    <tr>\n",
       "      <th>Communication Services</th>\n",
       "      <td>0.987902</td>\n",
       "      <td>0.772979</td>\n",
       "      <td>0.982749</td>\n",
       "      <td>1.000000</td>\n",
       "      <td>0.987086</td>\n",
       "      <td>0.981734</td>\n",
       "      <td>0.975149</td>\n",
       "      <td>0.976221</td>\n",
       "      <td>0.967106</td>\n",
       "      <td>0.646336</td>\n",
       "      <td>0.921607</td>\n",
       "    </tr>\n",
       "    <tr>\n",
       "      <th>Industrials</th>\n",
       "      <td>0.991078</td>\n",
       "      <td>0.714916</td>\n",
       "      <td>0.992310</td>\n",
       "      <td>0.987086</td>\n",
       "      <td>1.000000</td>\n",
       "      <td>0.988301</td>\n",
       "      <td>0.988340</td>\n",
       "      <td>0.994866</td>\n",
       "      <td>0.963172</td>\n",
       "      <td>0.705057</td>\n",
       "      <td>0.944046</td>\n",
       "    </tr>\n",
       "    <tr>\n",
       "      <th>Consumer Staples</th>\n",
       "      <td>0.988778</td>\n",
       "      <td>0.674960</td>\n",
       "      <td>0.987094</td>\n",
       "      <td>0.981734</td>\n",
       "      <td>0.988301</td>\n",
       "      <td>1.000000</td>\n",
       "      <td>0.989987</td>\n",
       "      <td>0.989731</td>\n",
       "      <td>0.938550</td>\n",
       "      <td>0.716360</td>\n",
       "      <td>0.962984</td>\n",
       "    </tr>\n",
       "    <tr>\n",
       "      <th>Utilities</th>\n",
       "      <td>0.981672</td>\n",
       "      <td>0.688716</td>\n",
       "      <td>0.985234</td>\n",
       "      <td>0.975149</td>\n",
       "      <td>0.988340</td>\n",
       "      <td>0.989987</td>\n",
       "      <td>1.000000</td>\n",
       "      <td>0.989725</td>\n",
       "      <td>0.945063</td>\n",
       "      <td>0.720934</td>\n",
       "      <td>0.961197</td>\n",
       "    </tr>\n",
       "    <tr>\n",
       "      <th>Materials</th>\n",
       "      <td>0.984732</td>\n",
       "      <td>0.677433</td>\n",
       "      <td>0.988445</td>\n",
       "      <td>0.976221</td>\n",
       "      <td>0.994866</td>\n",
       "      <td>0.989731</td>\n",
       "      <td>0.989725</td>\n",
       "      <td>1.000000</td>\n",
       "      <td>0.946043</td>\n",
       "      <td>0.741413</td>\n",
       "      <td>0.957160</td>\n",
       "    </tr>\n",
       "    <tr>\n",
       "      <th>Information Technology</th>\n",
       "      <td>0.969113</td>\n",
       "      <td>0.741520</td>\n",
       "      <td>0.960444</td>\n",
       "      <td>0.967106</td>\n",
       "      <td>0.963172</td>\n",
       "      <td>0.938550</td>\n",
       "      <td>0.945063</td>\n",
       "      <td>0.946043</td>\n",
       "      <td>1.000000</td>\n",
       "      <td>0.528128</td>\n",
       "      <td>0.839935</td>\n",
       "    </tr>\n",
       "    <tr>\n",
       "      <th>Energy</th>\n",
       "      <td>0.655183</td>\n",
       "      <td>0.382736</td>\n",
       "      <td>0.670262</td>\n",
       "      <td>0.646336</td>\n",
       "      <td>0.705057</td>\n",
       "      <td>0.716360</td>\n",
       "      <td>0.720934</td>\n",
       "      <td>0.741413</td>\n",
       "      <td>0.528128</td>\n",
       "      <td>1.000000</td>\n",
       "      <td>0.837169</td>\n",
       "    </tr>\n",
       "    <tr>\n",
       "      <th>Real Estate</th>\n",
       "      <td>0.927662</td>\n",
       "      <td>0.612228</td>\n",
       "      <td>0.940100</td>\n",
       "      <td>0.921607</td>\n",
       "      <td>0.944046</td>\n",
       "      <td>0.962984</td>\n",
       "      <td>0.961197</td>\n",
       "      <td>0.957160</td>\n",
       "      <td>0.839935</td>\n",
       "      <td>0.837169</td>\n",
       "      <td>1.000000</td>\n",
       "    </tr>\n",
       "  </tbody>\n",
       "</table>\n",
       "</div>"
      ],
      "text/plain": [
       "                        Health Care  Financials  Consumer Discretionary  \\\n",
       "Health Care                1.000000    0.702831                0.988327   \n",
       "Financials                 0.702831    1.000000                0.712778   \n",
       "Consumer Discretionary     0.988327    0.712778                1.000000   \n",
       "Communication Services     0.987902    0.772979                0.982749   \n",
       "Industrials                0.991078    0.714916                0.992310   \n",
       "Consumer Staples           0.988778    0.674960                0.987094   \n",
       "Utilities                  0.981672    0.688716                0.985234   \n",
       "Materials                  0.984732    0.677433                0.988445   \n",
       "Information Technology     0.969113    0.741520                0.960444   \n",
       "Energy                     0.655183    0.382736                0.670262   \n",
       "Real Estate                0.927662    0.612228                0.940100   \n",
       "\n",
       "                        Communication Services  Industrials  Consumer Staples  \\\n",
       "Health Care                           0.987902     0.991078          0.988778   \n",
       "Financials                            0.772979     0.714916          0.674960   \n",
       "Consumer Discretionary                0.982749     0.992310          0.987094   \n",
       "Communication Services                1.000000     0.987086          0.981734   \n",
       "Industrials                           0.987086     1.000000          0.988301   \n",
       "Consumer Staples                      0.981734     0.988301          1.000000   \n",
       "Utilities                             0.975149     0.988340          0.989987   \n",
       "Materials                             0.976221     0.994866          0.989731   \n",
       "Information Technology                0.967106     0.963172          0.938550   \n",
       "Energy                                0.646336     0.705057          0.716360   \n",
       "Real Estate                           0.921607     0.944046          0.962984   \n",
       "\n",
       "                        Utilities  Materials  Information Technology  \\\n",
       "Health Care              0.981672   0.984732                0.969113   \n",
       "Financials               0.688716   0.677433                0.741520   \n",
       "Consumer Discretionary   0.985234   0.988445                0.960444   \n",
       "Communication Services   0.975149   0.976221                0.967106   \n",
       "Industrials              0.988340   0.994866                0.963172   \n",
       "Consumer Staples         0.989987   0.989731                0.938550   \n",
       "Utilities                1.000000   0.989725                0.945063   \n",
       "Materials                0.989725   1.000000                0.946043   \n",
       "Information Technology   0.945063   0.946043                1.000000   \n",
       "Energy                   0.720934   0.741413                0.528128   \n",
       "Real Estate              0.961197   0.957160                0.839935   \n",
       "\n",
       "                          Energy  Real Estate  \n",
       "Health Care             0.655183     0.927662  \n",
       "Financials              0.382736     0.612228  \n",
       "Consumer Discretionary  0.670262     0.940100  \n",
       "Communication Services  0.646336     0.921607  \n",
       "Industrials             0.705057     0.944046  \n",
       "Consumer Staples        0.716360     0.962984  \n",
       "Utilities               0.720934     0.961197  \n",
       "Materials               0.741413     0.957160  \n",
       "Information Technology  0.528128     0.839935  \n",
       "Energy                  1.000000     0.837169  \n",
       "Real Estate             0.837169     1.000000  "
      ]
     },
     "execution_count": 87,
     "metadata": {},
     "output_type": "execute_result"
    }
   ],
   "source": [
    "SectorsDF.corr()"
   ]
  }
 ],
 "metadata": {
  "kernelspec": {
   "display_name": "Python 3 (ipykernel)",
   "language": "python",
   "name": "python3"
  },
  "language_info": {
   "codemirror_mode": {
    "name": "ipython",
    "version": 3
   },
   "file_extension": ".py",
   "mimetype": "text/x-python",
   "name": "python",
   "nbconvert_exporter": "python",
   "pygments_lexer": "ipython3",
   "version": "3.7.3"
  }
 },
 "nbformat": 4,
 "nbformat_minor": 5
}
