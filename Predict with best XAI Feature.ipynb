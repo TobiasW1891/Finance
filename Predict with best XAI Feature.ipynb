{
 "cells": [
  {
   "cell_type": "code",
   "execution_count": 25,
   "metadata": {
    "collapsed": true
   },
   "outputs": [],
   "source": [
    "import antiCPy\n",
    "import numpy as np\n",
    "import matplotlib.pyplot as plt\n",
    "import warnings\n",
    "warnings.filterwarnings(\"ignore\")\n",
    "from sklearn.cluster import KMeans\n",
    "from sklearn.ensemble import RandomForestClassifier\n",
    "from sklearn.model_selection import train_test_split\n",
    "from imblearn.over_sampling import SMOTE\n",
    "import tensorflow.keras as keras\n",
    "from tensorflow.keras import layers\n",
    "from tensorflow.keras.layers import LeakyReLU\n",
    "from sklearn.preprocessing import LabelEncoder\n",
    "from keras.utils import np_utils\n",
    "import seaborn as sns\n",
    "sns.set()"
   ]
  },
  {
   "cell_type": "code",
   "execution_count": 12,
   "outputs": [
    {
     "data": {
      "text/plain": "array([[ 0, 47],\n       [ 1, 37],\n       [ 2,  8],\n       [ 3, 43],\n       [ 4, 45],\n       [ 5, 43],\n       [ 6,  8],\n       [ 7,  8]])"
     },
     "execution_count": 12,
     "metadata": {},
     "output_type": "execute_result"
    }
   ],
   "source": [
    "XAI = np.load(\"XAI_Finance.npy\")\n",
    "Names = np.load(\"Names.npy\")\n",
    "CorrMatrices = np.load(\"CorrMatricesTriangular.npy\")\n",
    "LabelNaiveOrdered = np.load(\"LabelNaiveOrdered.npy\")\n",
    "#OptimalXAI = np.load(\"OptimalXAIFeature.npy\")\n",
    "# now something different\n",
    "OptimalXAI = np.load(\"XAI_modes.npy\")\n",
    "OptimalXAI"
   ],
   "metadata": {
    "collapsed": false,
    "pycharm": {
     "name": "#%%\n"
    }
   }
  },
  {
   "cell_type": "markdown",
   "source": [
    "### Train NN with all relevant features\n",
    "\n",
    "For this, we need one-hot encoded y"
   ],
   "metadata": {
    "collapsed": false
   }
  },
  {
   "cell_type": "code",
   "execution_count": 13,
   "outputs": [
    {
     "name": "stdout",
     "output_type": "stream",
     "text": [
      "{37, 8, 43, 45, 47}\n",
      "(5251, 5)\n",
      "[[1. 0. 0. ... 0. 0. 0.]\n",
      " [1. 0. 0. ... 0. 0. 0.]\n",
      " [0. 1. 0. ... 0. 0. 0.]\n",
      " ...\n",
      " [0. 0. 1. ... 0. 0. 0.]\n",
      " [0. 0. 1. ... 0. 0. 0.]\n",
      " [0. 0. 0. ... 0. 1. 0.]]\n"
     ]
    }
   ],
   "source": [
    "print(set(OptimalXAI[:,1]))\n",
    "CM_Reduced = CorrMatrices[:,list(set(OptimalXAI[:,1]))]\n",
    "print(CM_Reduced.shape)\n",
    "\n",
    "# one hot encoded\n",
    "encoded_Y = np_utils.to_categorical(LabelNaiveOrdered)\n",
    "\n",
    "X_train, X_test, y_train, y_test = train_test_split(CM_Reduced, encoded_Y,\n",
    "                                                    test_size=0.33, random_state=1)\n",
    "print(encoded_Y)\n",
    "\n",
    "# reverse the encoding via\n",
    "# np.argmax(encoded_Y, 1)"
   ],
   "metadata": {
    "collapsed": false,
    "pycharm": {
     "name": "#%%\n"
    }
   }
  },
  {
   "cell_type": "code",
   "execution_count": 27,
   "outputs": [
    {
     "data": {
      "text/plain": "<Figure size 576x216 with 2 Axes>",
      "image/png": "[encoded data removed]"
     },
     "metadata": {},
     "output_type": "display_data"
    }
   ],
   "source": [
    "fig, (ax1, ax2) = plt.subplots(1, 2)\n",
    "fig.set_size_inches(8, 3)\n",
    "ax1.hist(np.argmax(y_train,1), density = True,\n",
    "         bins = np.arange(-0.5, max(np.argmax(y_train,1))+1.5,1))\n",
    "ax2.hist(np.argmax(y_test,1),density = True,\n",
    "         bins = np.arange(-0.5, max(np.argmax(y_test,1))+1.5,1))\n",
    "plt.suptitle(\"Histograms of Training and Test Labels\")\n",
    "plt.show()"
   ],
   "metadata": {
    "collapsed": false,
    "pycharm": {
     "name": "#%%\n"
    }
   }
  },
  {
   "cell_type": "code",
   "execution_count": 15,
   "outputs": [
    {
     "name": "stdout",
     "output_type": "stream",
     "text": [
      "5 8\n",
      "Model: \"sequential_1\"\n",
      "_________________________________________________________________\n",
      " Layer (type)                Output Shape              Param #   \n",
      "=================================================================\n",
      " dense_6 (Dense)             (None, 256)               1536      \n",
      "                                                                 \n",
      " dense_7 (Dense)             (None, 128)               32896     \n",
      "                                                                 \n",
      " dense_8 (Dense)             (None, 128)               16512     \n",
      "                                                                 \n",
      " dense_9 (Dense)             (None, 1024)              132096    \n",
      "                                                                 \n",
      " dense_10 (Dense)            (None, 128)               131200    \n",
      "                                                                 \n",
      " dropout_1 (Dropout)         (None, 128)               0         \n",
      "                                                                 \n",
      " dense_11 (Dense)            (None, 8)                 1032      \n",
      "                                                                 \n",
      "=================================================================\n",
      "Total params: 315,272\n",
      "Trainable params: 315,272\n",
      "Non-trainable params: 0\n",
      "_________________________________________________________________\n"
     ]
    }
   ],
   "source": [
    "n_In = CM_Reduced.shape[1]\n",
    "num_classes = len(set(LabelNaiveOrdered))\n",
    "print(n_In, num_classes)\n",
    "\n",
    "model = keras.Sequential(\n",
    "    [\n",
    "        layers.Dense(units = 256, input_shape=(n_In,), activation = \"selu\"),\n",
    "        layers.Dense(units=128, activation=\"relu\"),\n",
    "        layers.Dense(units=128, activation=\"relu\"),\n",
    "        layers.Dense(units=1024,\n",
    "              activation=keras.layers.LeakyReLU(alpha=0.05)),\n",
    "        layers.Dense(units=128,\n",
    "              activation=keras.layers.LeakyReLU(alpha=0.01)),\n",
    "        layers.Dropout(0.3),\n",
    "        layers.Dense(units =num_classes, activation=\"softmax\"),\n",
    "    ]\n",
    ")\n",
    "#model.build(n_In)\n",
    "model.summary()"
   ],
   "metadata": {
    "collapsed": false,
    "pycharm": {
     "name": "#%%\n"
    }
   }
  },
  {
   "cell_type": "code",
   "execution_count": 16,
   "outputs": [
    {
     "name": "stdout",
     "output_type": "stream",
     "text": [
      "Epoch 1/100\n",
      "14/14 [==============================] - 1s 19ms/step - loss: 2.0500 - accuracy: 0.1893 - val_loss: 2.0217 - val_accuracy: 0.1717\n",
      "Epoch 2/100\n",
      "14/14 [==============================] - 0s 8ms/step - loss: 1.9952 - accuracy: 0.1870 - val_loss: 1.9661 - val_accuracy: 0.1717\n",
      "Epoch 3/100\n",
      "14/14 [==============================] - 0s 8ms/step - loss: 1.9345 - accuracy: 0.1904 - val_loss: 1.9078 - val_accuracy: 0.1859\n",
      "Epoch 4/100\n",
      "14/14 [==============================] - 0s 8ms/step - loss: 1.8787 - accuracy: 0.2177 - val_loss: 1.8418 - val_accuracy: 0.2371\n",
      "Epoch 5/100\n",
      "14/14 [==============================] - 0s 8ms/step - loss: 1.8069 - accuracy: 0.3007 - val_loss: 1.7555 - val_accuracy: 0.3366\n",
      "Epoch 6/100\n",
      "14/14 [==============================] - 0s 7ms/step - loss: 1.7209 - accuracy: 0.3565 - val_loss: 1.6546 - val_accuracy: 0.3695\n",
      "Epoch 7/100\n",
      "14/14 [==============================] - 0s 8ms/step - loss: 1.6196 - accuracy: 0.4019 - val_loss: 1.5419 - val_accuracy: 0.4252\n",
      "Epoch 8/100\n",
      "14/14 [==============================] - 0s 8ms/step - loss: 1.5135 - accuracy: 0.4406 - val_loss: 1.4224 - val_accuracy: 0.4724\n",
      "Epoch 9/100\n",
      "14/14 [==============================] - 0s 7ms/step - loss: 1.4093 - accuracy: 0.4696 - val_loss: 1.3143 - val_accuracy: 0.5077\n",
      "Epoch 10/100\n",
      "14/14 [==============================] - 0s 7ms/step - loss: 1.3149 - accuracy: 0.4895 - val_loss: 1.2144 - val_accuracy: 0.5469\n",
      "Epoch 11/100\n",
      "14/14 [==============================] - 0s 8ms/step - loss: 1.2139 - accuracy: 0.5321 - val_loss: 1.1369 - val_accuracy: 0.5486\n",
      "Epoch 12/100\n",
      "14/14 [==============================] - 0s 7ms/step - loss: 1.1609 - accuracy: 0.5344 - val_loss: 1.0624 - val_accuracy: 0.6123\n",
      "Epoch 13/100\n",
      "14/14 [==============================] - 0s 8ms/step - loss: 1.0842 - accuracy: 0.5793 - val_loss: 1.0023 - val_accuracy: 0.6504\n",
      "Epoch 14/100\n",
      "14/14 [==============================] - 0s 8ms/step - loss: 1.0450 - accuracy: 0.5719 - val_loss: 0.9519 - val_accuracy: 0.6163\n",
      "Epoch 15/100\n",
      "14/14 [==============================] - 0s 8ms/step - loss: 0.9808 - accuracy: 0.6134 - val_loss: 0.9132 - val_accuracy: 0.6760\n",
      "Epoch 16/100\n",
      "14/14 [==============================] - 0s 8ms/step - loss: 0.9479 - accuracy: 0.6225 - val_loss: 0.8704 - val_accuracy: 0.6703\n",
      "Epoch 17/100\n",
      "14/14 [==============================] - 0s 8ms/step - loss: 0.8891 - accuracy: 0.6481 - val_loss: 0.8332 - val_accuracy: 0.7123\n",
      "Epoch 18/100\n",
      "14/14 [==============================] - 0s 8ms/step - loss: 0.8691 - accuracy: 0.6680 - val_loss: 0.7916 - val_accuracy: 0.7356\n",
      "Epoch 19/100\n",
      "14/14 [==============================] - 0s 9ms/step - loss: 0.8388 - accuracy: 0.6686 - val_loss: 0.7963 - val_accuracy: 0.7084\n",
      "Epoch 20/100\n",
      "14/14 [==============================] - 0s 8ms/step - loss: 0.8237 - accuracy: 0.6714 - val_loss: 0.7453 - val_accuracy: 0.7447\n",
      "Epoch 21/100\n",
      "14/14 [==============================] - 0s 8ms/step - loss: 0.8073 - accuracy: 0.6703 - val_loss: 0.7311 - val_accuracy: 0.7413\n",
      "Epoch 22/100\n",
      "14/14 [==============================] - 0s 7ms/step - loss: 0.7982 - accuracy: 0.6964 - val_loss: 0.7177 - val_accuracy: 0.7550\n",
      "Epoch 23/100\n",
      "14/14 [==============================] - 0s 7ms/step - loss: 0.7686 - accuracy: 0.6873 - val_loss: 0.6992 - val_accuracy: 0.7510\n",
      "Epoch 24/100\n",
      "14/14 [==============================] - 0s 7ms/step - loss: 0.7600 - accuracy: 0.7112 - val_loss: 0.6901 - val_accuracy: 0.7601\n",
      "Epoch 25/100\n",
      "14/14 [==============================] - 0s 7ms/step - loss: 0.7644 - accuracy: 0.6953 - val_loss: 0.6811 - val_accuracy: 0.7635\n",
      "Epoch 26/100\n",
      "14/14 [==============================] - 0s 7ms/step - loss: 0.7455 - accuracy: 0.7067 - val_loss: 0.6979 - val_accuracy: 0.7516\n",
      "Epoch 27/100\n",
      "14/14 [==============================] - 0s 6ms/step - loss: 0.7355 - accuracy: 0.7078 - val_loss: 0.6642 - val_accuracy: 0.7675\n",
      "Epoch 28/100\n",
      "14/14 [==============================] - 0s 7ms/step - loss: 0.7094 - accuracy: 0.7277 - val_loss: 0.6612 - val_accuracy: 0.7595\n",
      "Epoch 29/100\n",
      "14/14 [==============================] - 0s 8ms/step - loss: 0.7194 - accuracy: 0.7044 - val_loss: 0.6462 - val_accuracy: 0.7737\n",
      "Epoch 30/100\n",
      "14/14 [==============================] - 0s 8ms/step - loss: 0.6770 - accuracy: 0.7379 - val_loss: 0.6511 - val_accuracy: 0.7669\n",
      "Epoch 31/100\n",
      "14/14 [==============================] - 0s 8ms/step - loss: 0.6767 - accuracy: 0.7192 - val_loss: 0.6376 - val_accuracy: 0.7749\n",
      "Epoch 32/100\n",
      "14/14 [==============================] - 0s 7ms/step - loss: 0.6905 - accuracy: 0.7294 - val_loss: 0.6303 - val_accuracy: 0.7578\n",
      "Epoch 33/100\n",
      "14/14 [==============================] - 0s 7ms/step - loss: 0.6864 - accuracy: 0.7231 - val_loss: 0.6188 - val_accuracy: 0.7703\n",
      "Epoch 34/100\n",
      "14/14 [==============================] - 0s 8ms/step - loss: 0.6731 - accuracy: 0.7248 - val_loss: 0.6165 - val_accuracy: 0.7806\n",
      "Epoch 35/100\n",
      "14/14 [==============================] - 0s 8ms/step - loss: 0.6891 - accuracy: 0.7311 - val_loss: 0.6407 - val_accuracy: 0.7641\n",
      "Epoch 36/100\n",
      "14/14 [==============================] - 0s 9ms/step - loss: 0.6760 - accuracy: 0.7305 - val_loss: 0.6138 - val_accuracy: 0.7800\n",
      "Epoch 37/100\n",
      "14/14 [==============================] - 0s 9ms/step - loss: 0.6673 - accuracy: 0.7300 - val_loss: 0.6271 - val_accuracy: 0.7709\n",
      "Epoch 38/100\n",
      "14/14 [==============================] - 0s 8ms/step - loss: 0.6674 - accuracy: 0.7362 - val_loss: 0.6043 - val_accuracy: 0.7783\n",
      "Epoch 39/100\n",
      "14/14 [==============================] - 0s 8ms/step - loss: 0.6582 - accuracy: 0.7442 - val_loss: 0.6118 - val_accuracy: 0.7743\n",
      "Epoch 40/100\n",
      "14/14 [==============================] - 0s 8ms/step - loss: 0.6387 - accuracy: 0.7430 - val_loss: 0.5945 - val_accuracy: 0.7806\n",
      "Epoch 41/100\n",
      "14/14 [==============================] - 0s 9ms/step - loss: 0.6683 - accuracy: 0.7260 - val_loss: 0.5979 - val_accuracy: 0.7692\n",
      "Epoch 42/100\n",
      "14/14 [==============================] - 0s 8ms/step - loss: 0.6546 - accuracy: 0.7265 - val_loss: 0.6276 - val_accuracy: 0.7510\n",
      "Epoch 43/100\n",
      "14/14 [==============================] - 0s 9ms/step - loss: 0.6515 - accuracy: 0.7362 - val_loss: 0.5946 - val_accuracy: 0.7845\n",
      "Epoch 44/100\n",
      "14/14 [==============================] - 0s 9ms/step - loss: 0.6272 - accuracy: 0.7521 - val_loss: 0.5834 - val_accuracy: 0.7754\n",
      "Epoch 45/100\n",
      "14/14 [==============================] - 0s 6ms/step - loss: 0.6337 - accuracy: 0.7391 - val_loss: 0.5803 - val_accuracy: 0.7845\n",
      "Epoch 46/100\n",
      "14/14 [==============================] - 0s 6ms/step - loss: 0.6105 - accuracy: 0.7544 - val_loss: 0.5764 - val_accuracy: 0.7783\n",
      "Epoch 47/100\n",
      "14/14 [==============================] - 0s 6ms/step - loss: 0.6297 - accuracy: 0.7425 - val_loss: 0.5791 - val_accuracy: 0.7726\n",
      "Epoch 48/100\n",
      "14/14 [==============================] - 0s 7ms/step - loss: 0.6236 - accuracy: 0.7663 - val_loss: 0.5765 - val_accuracy: 0.7834\n",
      "Epoch 49/100\n",
      "14/14 [==============================] - 0s 7ms/step - loss: 0.5927 - accuracy: 0.7612 - val_loss: 0.5706 - val_accuracy: 0.7897\n",
      "Epoch 50/100\n",
      "14/14 [==============================] - 0s 7ms/step - loss: 0.6091 - accuracy: 0.7464 - val_loss: 0.5674 - val_accuracy: 0.7834\n",
      "Epoch 51/100\n",
      "14/14 [==============================] - 0s 8ms/step - loss: 0.6096 - accuracy: 0.7607 - val_loss: 0.5662 - val_accuracy: 0.7919\n",
      "Epoch 52/100\n",
      "14/14 [==============================] - 0s 7ms/step - loss: 0.5999 - accuracy: 0.7681 - val_loss: 0.5760 - val_accuracy: 0.7789\n",
      "Epoch 53/100\n",
      "14/14 [==============================] - 0s 8ms/step - loss: 0.5953 - accuracy: 0.7601 - val_loss: 0.5759 - val_accuracy: 0.7851\n",
      "Epoch 54/100\n",
      "14/14 [==============================] - 0s 7ms/step - loss: 0.5967 - accuracy: 0.7601 - val_loss: 0.5595 - val_accuracy: 0.7874\n",
      "Epoch 55/100\n",
      "14/14 [==============================] - 0s 8ms/step - loss: 0.6062 - accuracy: 0.7550 - val_loss: 0.5663 - val_accuracy: 0.7851\n",
      "Epoch 56/100\n",
      "14/14 [==============================] - 0s 8ms/step - loss: 0.5914 - accuracy: 0.7686 - val_loss: 0.5583 - val_accuracy: 0.7936\n",
      "Epoch 57/100\n",
      "14/14 [==============================] - 0s 8ms/step - loss: 0.5883 - accuracy: 0.7590 - val_loss: 0.5846 - val_accuracy: 0.7726\n",
      "Epoch 58/100\n",
      "14/14 [==============================] - 0s 8ms/step - loss: 0.5942 - accuracy: 0.7590 - val_loss: 0.5524 - val_accuracy: 0.7874\n",
      "Epoch 59/100\n",
      "14/14 [==============================] - 0s 7ms/step - loss: 0.5827 - accuracy: 0.7703 - val_loss: 0.5462 - val_accuracy: 0.7857\n",
      "Epoch 60/100\n",
      "14/14 [==============================] - 0s 7ms/step - loss: 0.5789 - accuracy: 0.7675 - val_loss: 0.5476 - val_accuracy: 0.7931\n",
      "Epoch 61/100\n",
      "14/14 [==============================] - 0s 7ms/step - loss: 0.5791 - accuracy: 0.7572 - val_loss: 0.5743 - val_accuracy: 0.7806\n",
      "Epoch 62/100\n",
      "14/14 [==============================] - 0s 7ms/step - loss: 0.5733 - accuracy: 0.7663 - val_loss: 0.5477 - val_accuracy: 0.7976\n",
      "Epoch 63/100\n",
      "14/14 [==============================] - 0s 8ms/step - loss: 0.5636 - accuracy: 0.7771 - val_loss: 0.5404 - val_accuracy: 0.7948\n",
      "Epoch 64/100\n",
      "14/14 [==============================] - 0s 8ms/step - loss: 0.5544 - accuracy: 0.7760 - val_loss: 0.5525 - val_accuracy: 0.7908\n",
      "Epoch 65/100\n",
      "14/14 [==============================] - 0s 7ms/step - loss: 0.5803 - accuracy: 0.7686 - val_loss: 0.5426 - val_accuracy: 0.8016\n",
      "Epoch 66/100\n",
      "14/14 [==============================] - 0s 7ms/step - loss: 0.5679 - accuracy: 0.7698 - val_loss: 0.5402 - val_accuracy: 0.8027\n",
      "Epoch 67/100\n",
      "14/14 [==============================] - 0s 7ms/step - loss: 0.5616 - accuracy: 0.7817 - val_loss: 0.5476 - val_accuracy: 0.7942\n",
      "Epoch 68/100\n",
      "14/14 [==============================] - 0s 7ms/step - loss: 0.5671 - accuracy: 0.7715 - val_loss: 0.5339 - val_accuracy: 0.8016\n",
      "Epoch 69/100\n",
      "14/14 [==============================] - 0s 7ms/step - loss: 0.5665 - accuracy: 0.7777 - val_loss: 0.5444 - val_accuracy: 0.7970\n",
      "Epoch 70/100\n",
      "14/14 [==============================] - 0s 7ms/step - loss: 0.5737 - accuracy: 0.7749 - val_loss: 0.5501 - val_accuracy: 0.7919\n",
      "Epoch 71/100\n",
      "14/14 [==============================] - 0s 8ms/step - loss: 0.5466 - accuracy: 0.7828 - val_loss: 0.5359 - val_accuracy: 0.7885\n",
      "Epoch 72/100\n",
      "14/14 [==============================] - 0s 7ms/step - loss: 0.5669 - accuracy: 0.7720 - val_loss: 0.5294 - val_accuracy: 0.8010\n",
      "Epoch 73/100\n",
      "14/14 [==============================] - 0s 8ms/step - loss: 0.5503 - accuracy: 0.7845 - val_loss: 0.5316 - val_accuracy: 0.8050\n",
      "Epoch 74/100\n",
      "14/14 [==============================] - 0s 7ms/step - loss: 0.5511 - accuracy: 0.7760 - val_loss: 0.5247 - val_accuracy: 0.8044\n",
      "Epoch 75/100\n",
      "14/14 [==============================] - 0s 7ms/step - loss: 0.5538 - accuracy: 0.7823 - val_loss: 0.5279 - val_accuracy: 0.8044\n",
      "Epoch 76/100\n",
      "14/14 [==============================] - 0s 7ms/step - loss: 0.5444 - accuracy: 0.7817 - val_loss: 0.5400 - val_accuracy: 0.7970\n",
      "Epoch 77/100\n",
      "14/14 [==============================] - 0s 7ms/step - loss: 0.5416 - accuracy: 0.7777 - val_loss: 0.5288 - val_accuracy: 0.8033\n",
      "Epoch 78/100\n",
      "14/14 [==============================] - 0s 7ms/step - loss: 0.5536 - accuracy: 0.7777 - val_loss: 0.5250 - val_accuracy: 0.8039\n",
      "Epoch 79/100\n",
      "14/14 [==============================] - 0s 7ms/step - loss: 0.5472 - accuracy: 0.7732 - val_loss: 0.5249 - val_accuracy: 0.7999\n",
      "Epoch 80/100\n",
      "14/14 [==============================] - 0s 8ms/step - loss: 0.5369 - accuracy: 0.7783 - val_loss: 0.5238 - val_accuracy: 0.8022\n",
      "Epoch 81/100\n",
      "14/14 [==============================] - 0s 7ms/step - loss: 0.5479 - accuracy: 0.7857 - val_loss: 0.5207 - val_accuracy: 0.8016\n",
      "Epoch 82/100\n",
      "14/14 [==============================] - 0s 7ms/step - loss: 0.5427 - accuracy: 0.7726 - val_loss: 0.5207 - val_accuracy: 0.8073\n",
      "Epoch 83/100\n",
      "14/14 [==============================] - 0s 7ms/step - loss: 0.5289 - accuracy: 0.7862 - val_loss: 0.5186 - val_accuracy: 0.8113\n",
      "Epoch 84/100\n",
      "14/14 [==============================] - 0s 7ms/step - loss: 0.5450 - accuracy: 0.7828 - val_loss: 0.5225 - val_accuracy: 0.8044\n",
      "Epoch 85/100\n",
      "14/14 [==============================] - 0s 7ms/step - loss: 0.5397 - accuracy: 0.7760 - val_loss: 0.5135 - val_accuracy: 0.8113\n",
      "Epoch 86/100\n",
      "14/14 [==============================] - 0s 7ms/step - loss: 0.5130 - accuracy: 0.7879 - val_loss: 0.5186 - val_accuracy: 0.8056\n",
      "Epoch 87/100\n",
      "14/14 [==============================] - 0s 7ms/step - loss: 0.5207 - accuracy: 0.7936 - val_loss: 0.5153 - val_accuracy: 0.8084\n",
      "Epoch 88/100\n",
      "14/14 [==============================] - 0s 7ms/step - loss: 0.5256 - accuracy: 0.7862 - val_loss: 0.5185 - val_accuracy: 0.7936\n",
      "Epoch 89/100\n",
      "14/14 [==============================] - 0s 7ms/step - loss: 0.5354 - accuracy: 0.7914 - val_loss: 0.5169 - val_accuracy: 0.8090\n",
      "Epoch 90/100\n",
      "14/14 [==============================] - 0s 7ms/step - loss: 0.5279 - accuracy: 0.7919 - val_loss: 0.5122 - val_accuracy: 0.8113\n",
      "Epoch 91/100\n",
      "14/14 [==============================] - 0s 7ms/step - loss: 0.5207 - accuracy: 0.7925 - val_loss: 0.5087 - val_accuracy: 0.8096\n",
      "Epoch 92/100\n",
      "14/14 [==============================] - 0s 7ms/step - loss: 0.5257 - accuracy: 0.7828 - val_loss: 0.5127 - val_accuracy: 0.8084\n",
      "Epoch 93/100\n",
      "14/14 [==============================] - 0s 7ms/step - loss: 0.5011 - accuracy: 0.8022 - val_loss: 0.5088 - val_accuracy: 0.8124\n",
      "Epoch 94/100\n",
      "14/14 [==============================] - 0s 7ms/step - loss: 0.5039 - accuracy: 0.8010 - val_loss: 0.5301 - val_accuracy: 0.7987\n",
      "Epoch 95/100\n",
      "14/14 [==============================] - 0s 7ms/step - loss: 0.5139 - accuracy: 0.7936 - val_loss: 0.5037 - val_accuracy: 0.8090\n",
      "Epoch 96/100\n",
      "14/14 [==============================] - 0s 6ms/step - loss: 0.5036 - accuracy: 0.7959 - val_loss: 0.5021 - val_accuracy: 0.8078\n",
      "Epoch 97/100\n",
      "14/14 [==============================] - 0s 7ms/step - loss: 0.5177 - accuracy: 0.7936 - val_loss: 0.5028 - val_accuracy: 0.8113\n",
      "Epoch 98/100\n",
      "14/14 [==============================] - 0s 7ms/step - loss: 0.5074 - accuracy: 0.7914 - val_loss: 0.5117 - val_accuracy: 0.8067\n",
      "Epoch 99/100\n",
      "14/14 [==============================] - 0s 6ms/step - loss: 0.5077 - accuracy: 0.7857 - val_loss: 0.5070 - val_accuracy: 0.8130\n",
      "Epoch 100/100\n",
      "14/14 [==============================] - 0s 7ms/step - loss: 0.5194 - accuracy: 0.7879 - val_loss: 0.5044 - val_accuracy: 0.8090\n"
     ]
    },
    {
     "data": {
      "text/plain": "<keras.callbacks.History at 0x7fdb7013c6a0>"
     },
     "execution_count": 16,
     "metadata": {},
     "output_type": "execute_result"
    }
   ],
   "source": [
    "batch_size = 128\n",
    "epochs = 100\n",
    "\n",
    "model.compile(loss=\"categorical_crossentropy\",\n",
    "              optimizer=keras.optimizers.Adam(lr=0.0001),\n",
    "              metrics=[\"accuracy\"])\n",
    "\n",
    "model.fit(X_train, y_train,\n",
    "          batch_size=batch_size,\n",
    "          epochs=epochs,\n",
    "          validation_split=0.5)"
   ],
   "metadata": {
    "collapsed": false,
    "pycharm": {
     "name": "#%%\n"
    }
   }
  },
  {
   "cell_type": "code",
   "execution_count": 17,
   "outputs": [
    {
     "name": "stdout",
     "output_type": "stream",
     "text": [
      "0.8061165608770917\n"
     ]
    }
   ],
   "source": [
    "y_hat = np.argmax(model.predict(X_test),1)\n",
    "Accuracy_BestXAI = np.mean(y_hat == np.argmax(y_test,1))\n",
    "print(Accuracy_BestXAI)"
   ],
   "metadata": {
    "collapsed": false,
    "pycharm": {
     "name": "#%%\n"
    }
   }
  },
  {
   "cell_type": "code",
   "execution_count": 28,
   "outputs": [
    {
     "data": {
      "text/plain": "<Figure size 576x216 with 2 Axes>",
      "image/png": "[encoded data removed]"
     },
     "metadata": {},
     "output_type": "display_data"
    }
   ],
   "source": [
    "fig, (ax1, ax2) = plt.subplots(1, 2)\n",
    "fig.set_size_inches(8, 3)\n",
    "ax1.hist(y_hat, density = True,\n",
    "         bins = np.arange(-0.5, max(y_hat)+1.5,1))\n",
    "ax2.hist(np.argmax(y_test,1),density = True,\n",
    "         bins = np.arange(-0.5, max(np.argmax(y_test,1))+1.5,1))\n",
    "plt.suptitle(\"Histograms of Predicted and Test Labels\")\n",
    "plt.show()"
   ],
   "metadata": {
    "collapsed": false,
    "pycharm": {
     "name": "#%%\n"
    }
   }
  },
  {
   "cell_type": "markdown",
   "source": [
    "### Now with some other features"
   ],
   "metadata": {
    "collapsed": false,
    "pycharm": {
     "name": "#%% md\n"
    }
   }
  },
  {
   "cell_type": "code",
   "execution_count": 19,
   "outputs": [],
   "source": [
    "def TestNN(seed = 1234):\n",
    "    np.random.seed(seed)\n",
    "    Index = np.random.choice(np.arange(XAI.shape[1]).astype(\"int\"), # features to compare optimal XAI to\n",
    "                     size = len(list(set(OptimalXAI[:,1]))),\n",
    "                     replace = False)\n",
    "    CM_Reduced = CorrMatrices[:,Index]\n",
    "    X_train, X_test, y_train, y_test = train_test_split(CM_Reduced, encoded_Y,\n",
    "                                                    test_size=0.33, random_state=1)\n",
    "    model.fit(X_train, y_train,\n",
    "          batch_size=batch_size,\n",
    "          epochs=epochs,\n",
    "          validation_split=0.5,\n",
    "          verbose=0)\n",
    "    y_hat = np.argmax(model.predict(X_test),1)\n",
    "    return(np.mean(y_hat == np.argmax(y_test,1)))"
   ],
   "metadata": {
    "collapsed": false,
    "pycharm": {
     "name": "#%%\n"
    }
   }
  },
  {
   "cell_type": "markdown",
   "source": [],
   "metadata": {
    "collapsed": false
   }
  },
  {
   "cell_type": "code",
   "execution_count": 20,
   "outputs": [
    {
     "data": {
      "text/plain": "0.7241777264858626"
     },
     "execution_count": 20,
     "metadata": {},
     "output_type": "execute_result"
    }
   ],
   "source": [
    "TestNN(54321)"
   ],
   "metadata": {
    "collapsed": false,
    "pycharm": {
     "name": "#%%\n"
    }
   }
  },
  {
   "cell_type": "code",
   "execution_count": 21,
   "outputs": [
    {
     "data": {
      "text/plain": "0.7380265435660704"
     },
     "execution_count": 21,
     "metadata": {},
     "output_type": "execute_result"
    }
   ],
   "source": [
    "TestNN()"
   ],
   "metadata": {
    "collapsed": false,
    "pycharm": {
     "name": "#%%\n"
    }
   }
  },
  {
   "cell_type": "code",
   "execution_count": 22,
   "outputs": [
    {
     "name": "stdout",
     "output_type": "stream",
     "text": [
      "0 [5206] 0.6370455856895557\n",
      "1 [8676] 0.6624350836699365\n",
      "2 [2446] 0.7743796884016156\n",
      "3 [2594] 0.6687824581650318\n",
      "4 [0] 0.6203115983843047\n",
      "5 [7221] 0.7316791690709752\n",
      "6 [6887] 0.7784189267166762\n",
      "7 [7580] 0.7461050201961916\n",
      "8 [30] 0.6064627813040969\n",
      "9 [7699] 0.6485862665897288\n",
      "10 [4222] 0.8228505481823427\n",
      "11 [6242] 0.7784189267166762\n",
      "12 [1070] 0.7351413733410271\n",
      "13 [6397] 0.8015002885170225\n",
      "14 [7177] 0.6832083092902481\n",
      "15 [2956] 0.7478361223312175\n",
      "16 [395] 0.7512983266012695\n",
      "17 [5141] 0.6895556837853434\n",
      "18 [8748] 0.6780150028851702\n",
      "19 [6897] 0.7766878245816503\n",
      "20 [5977] 0.676860934795153\n",
      "21 [5705] 0.7743796884016156\n",
      "22 [4016] 0.6658972879399885\n",
      "23 [2914] 0.7512983266012695\n",
      "24 [142] 0.7934218118869013\n",
      "25 [657] 0.8130409694171956\n",
      "26 [9479] 0.8430467397576457\n",
      "27 [4210] 0.7057126370455857\n",
      "28 [8513] 0.7189844200807848\n",
      "29 [9173] 0.7864974033467974\n",
      "30 [9637] 0.7501442585112522\n",
      "31 [6801] 0.8343912290825158\n",
      "32 [3333] 0.7864974033467974\n",
      "33 [921] 0.6532025389497981\n",
      "34 [1677] 0.6601269474899019\n",
      "35 [5278] 0.8136180034622043\n",
      "36 [8481] 0.6601269474899019\n",
      "37 [6780] 0.7553375649163301\n",
      "38 [4364] 0.7980380842469705\n",
      "39 [5362] 0.8159261396422389\n",
      "40 [8917] 0.8234275822273515\n",
      "41 [5835] 0.7172533179457588\n",
      "42 [302] 0.7189844200807848\n",
      "43 [734] 0.7888055395268321\n",
      "44 [8535] 0.6809001731102136\n",
      "45 [1145] 0.7963069821119446\n",
      "46 [7068] 0.7691863819965378\n",
      "47 [8524] 0.7761107905366417\n",
      "48 [2014] 0.8188113098672821\n",
      "49 [4683] 0.7039815349105597\n",
      "50 [400] 0.842469705712637\n",
      "51 [4242] 0.7691863819965378\n",
      "52 [362] 0.7253317945758799\n",
      "53 [7131] 0.7593768032313907\n",
      "54 [5389] 0.8245816503173687\n",
      "55 [5094] 0.7899596076168494\n",
      "56 [3484] 0.8263127524523947\n",
      "57 [5208] 0.7305251009809579\n",
      "58 [8855] 0.8234275822273515\n",
      "59 [9349] 0.7634160415464513\n",
      "60 [3280] 0.8078476630121177\n",
      "61 [1327] 0.7963069821119446\n",
      "62 [9953] 0.7334102712060011\n",
      "63 [6860] 0.7328332371609925\n",
      "64 [893] 0.790536641661858\n",
      "65 [8554] 0.6508944027697634\n",
      "66 [8382] 0.7080207732256203\n",
      "67 [5396] 0.8303519907674553\n",
      "68 [7369] 0.7074437391806117\n",
      "69 [9226] 0.7997691863819966\n",
      "70 [8924] 0.6964800923254472\n",
      "71 [4485] 0.7282169648009232\n",
      "72 [748] 0.7305251009809579\n",
      "73 [3383] 0.842469705712637\n",
      "74 [9774] 0.7362954414310444\n",
      "75 [5309] 0.7553375649163301\n",
      "76 [1195] 0.7311021350259665\n",
      "77 [1113] 0.7593768032313907\n",
      "78 [5662] 0.7974610502019619\n",
      "79 [6980] 0.6647432198499712\n",
      "80 [7152] 0.7743796884016156\n",
      "81 [5453] 0.6653202538949798\n",
      "82 [6669] 0.6912867859203693\n",
      "83 [772] 0.7628390075014426\n",
      "84 [96] 0.7241777264858626\n",
      "85 [7664] 0.7893825735718407\n",
      "86 [8314] 0.6191575302942873\n",
      "87 [3796] 0.7316791690709752\n",
      "88 [9816] 0.740334679746105\n",
      "89 [4870] 0.740334679746105\n",
      "90 [2135] 0.7184073860357761\n",
      "91 [6114] 0.7501442585112522\n",
      "92 [8305] 0.7778418926716676\n",
      "93 [3013] 0.7328332371609925\n",
      "94 [7718] 0.7870744373918062\n",
      "95 [8061] 0.6520484708597807\n",
      "96 [100] 0.7137911136757069\n",
      "97 [7074] 0.6999422965954991\n",
      "98 [5101] 0.7639930755914599\n",
      "99 [7586] 0.7287939988459319\n"
     ]
    }
   ],
   "source": [
    "Runs = 100\n",
    "NN_comparison = np.zeros(Runs)\n",
    "\n",
    "for i in range(Runs):\n",
    "    s = np.random.choice(np.arange(10000).astype(\"int\"),1)\n",
    "    Test_Score = TestNN(s)\n",
    "    print(i,s,Test_Score)\n",
    "    NN_comparison[i] = Test_Score\n"
   ],
   "metadata": {
    "collapsed": false,
    "pycharm": {
     "name": "#%%\n"
    }
   }
  },
  {
   "cell_type": "code",
   "execution_count": 34,
   "outputs": [
    {
     "data": {
      "text/plain": "<Figure size 540x313.2 with 1 Axes>",
      "image/png": "[encoded data removed]"
     },
     "metadata": {},
     "output_type": "display_data"
    }
   ],
   "source": [
    "fig = plt.gcf()\n",
    "fig.set_size_inches(7.5,4.35)\n",
    "plt.hist(NN_comparison)\n",
    "plt.axvline(Accuracy_BestXAI,\n",
    "            c=\"red\")\n",
    "plt.xlabel(\"Accuracy of NN\",fontsize=14)\n",
    "plt.ylabel(\"Frequency\",fontsize=14)\n",
    "plt.title(\"Comparison: NN for Best XAI vs. Random Features\",\n",
    "          fontsize = 16)\n",
    "plt.xticks(fontsize=12)\n",
    "plt.yticks(fontsize=12)\n",
    "plt.savefig(\"Comparison_RandomFeatures_vs_XAImode_100NN\",dpi=600)\n",
    "plt.show()"
   ],
   "metadata": {
    "collapsed": false,
    "pycharm": {
     "name": "#%%\n"
    }
   }
  },
  {
   "cell_type": "code",
   "execution_count": 24,
   "outputs": [
    {
     "data": {
      "text/plain": "(0.7489901904212348, 0.744068090017311, 0.8061165608770917)"
     },
     "execution_count": 24,
     "metadata": {},
     "output_type": "execute_result"
    }
   ],
   "source": [
    "np.median(NN_comparison),np.mean(NN_comparison), Accuracy_BestXAI"
   ],
   "metadata": {
    "collapsed": false,
    "pycharm": {
     "name": "#%%\n"
    }
   }
  }
 ],
 "metadata": {
  "kernelspec": {
   "display_name": "Python 3",
   "language": "python",
   "name": "python3"
  },
  "language_info": {
   "codemirror_mode": {
    "name": "ipython",
    "version": 2
   },
   "file_extension": ".py",
   "mimetype": "text/x-python",
   "name": "python",
   "nbconvert_exporter": "python",
   "pygments_lexer": "ipython2",
   "version": "2.7.6"
  }
 },
 "nbformat": 4,
 "nbformat_minor": 0
}