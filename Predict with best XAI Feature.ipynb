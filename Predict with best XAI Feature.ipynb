{
 "cells": [
  {
   "cell_type": "code",
   "execution_count": 71,
   "metadata": {
    "collapsed": true
   },
   "outputs": [],
   "source": [
    "import antiCPy\n",
    "import numpy as np\n",
    "import matplotlib.pyplot as plt\n",
    "import warnings\n",
    "warnings.filterwarnings(\"ignore\")\n",
    "from sklearn.cluster import KMeans\n",
    "from sklearn.ensemble import RandomForestClassifier\n",
    "from sklearn.model_selection import train_test_split\n",
    "from imblearn.over_sampling import SMOTE\n",
    "import tensorflow.keras as keras\n",
    "from tensorflow.keras import layers\n",
    "from tensorflow.keras.layers import LeakyReLU\n",
    "from sklearn.preprocessing import LabelEncoder\n",
    "from keras.utils import np_utils"
   ]
  },
  {
   "cell_type": "code",
   "execution_count": 72,
   "outputs": [
    {
     "data": {
      "text/plain": "array([[ 0, 47],\n       [ 1, 37],\n       [ 2,  8],\n       [ 3, 43],\n       [ 4, 45],\n       [ 5, 43],\n       [ 6,  8]])"
     },
     "execution_count": 72,
     "metadata": {},
     "output_type": "execute_result"
    }
   ],
   "source": [
    "XAI = np.load(\"XAI_Finance.npy\")\n",
    "Names = np.load(\"Names.npy\")\n",
    "CorrMatrices = np.load(\"CorrMatricesTriangular.npy\")\n",
    "LabelNaiveOrdered = np.load(\"LabelNaiveOrdered.npy\")\n",
    "#OptimalXAI = np.load(\"OptimalXAIFeature.npy\")\n",
    "# now something different\n",
    "OptimalXAI = np.load(\"XAI_modes.npy\")\n",
    "OptimalXAI"
   ],
   "metadata": {
    "collapsed": false,
    "pycharm": {
     "name": "#%%\n"
    }
   }
  },
  {
   "cell_type": "code",
   "execution_count": 73,
   "outputs": [],
   "source": [
    "clf = RandomForestClassifier(max_depth=20, random_state=0)"
   ],
   "metadata": {
    "collapsed": false,
    "pycharm": {
     "name": "#%%\n"
    }
   }
  },
  {
   "cell_type": "code",
   "execution_count": 74,
   "outputs": [
    {
     "name": "stdout",
     "output_type": "stream",
     "text": [
      "[ 0 47]\n",
      "[1 1 0 ... 0 0 0]\n",
      "0.375989458190872 0.3813329962535151 0.5062355658198614 0.49376443418013855\n"
     ]
    }
   ],
   "source": [
    "# 1 vs. all other clusters\n",
    "print(OptimalXAI[0,:])\n",
    "\n",
    "Label0 = (LabelNaiveOrdered == OptimalXAI[0,0])*1\n",
    "print(Label0)\n",
    "\n",
    "Data_0opt = CorrMatrices[:,OptimalXAI[0,1]]\n",
    "Data_0opt = Data_0opt.reshape(-1,1)\n",
    "\n",
    "# transform the imbalanced Data set\n",
    "oversample = SMOTE()\n",
    "Data_0opt, Label0 = oversample.fit_resample(Data_0opt, Label0)\n",
    "\n",
    "X_train, X_test, y_train, y_test = train_test_split(Data_0opt, Label0,\n",
    "                                                    test_size=0.5, random_state=1)\n",
    "#X_train, y_train = oversample.fit_resample(X_train, y_train)\n",
    "\n",
    "print(X_train.mean(), X_test.mean(), y_train.mean(), y_test.mean())"
   ],
   "metadata": {
    "collapsed": false,
    "pycharm": {
     "name": "#%%\n"
    }
   }
  },
  {
   "cell_type": "code",
   "execution_count": 75,
   "outputs": [
    {
     "name": "stdout",
     "output_type": "stream",
     "text": [
      "0.5510392609699769\n"
     ]
    },
    {
     "data": {
      "text/plain": "0.7496535796766743"
     },
     "execution_count": 75,
     "metadata": {},
     "output_type": "execute_result"
    }
   ],
   "source": [
    "clf.fit(X_train, y_train)\n",
    "y_hat = clf.predict(X_test)\n",
    "print(np.mean(y_hat))\n",
    "np.mean(y_hat == y_test )"
   ],
   "metadata": {
    "collapsed": false,
    "pycharm": {
     "name": "#%%\n"
    }
   }
  },
  {
   "cell_type": "code",
   "execution_count": 76,
   "outputs": [
    {
     "name": "stdout",
     "output_type": "stream",
     "text": [
      "Optimal feature is 47\n"
     ]
    },
    {
     "data": {
      "text/plain": "<Figure size 432x288 with 1 Axes>",
      "image/png": "[encoded data removed]"
     },
     "metadata": {
      "needs_background": "light"
     },
     "output_type": "display_data"
    },
    {
     "name": "stdout",
     "output_type": "stream",
     "text": [
      "Optimal feature is 37\n"
     ]
    },
    {
     "data": {
      "text/plain": "<Figure size 432x288 with 1 Axes>",
      "image/png": "[encoded data removed]"
     },
     "metadata": {
      "needs_background": "light"
     },
     "output_type": "display_data"
    },
    {
     "name": "stdout",
     "output_type": "stream",
     "text": [
      "Optimal feature is 8\n"
     ]
    },
    {
     "data": {
      "text/plain": "<Figure size 432x288 with 1 Axes>",
      "image/png": "[encoded data removed]"
     },
     "metadata": {
      "needs_background": "light"
     },
     "output_type": "display_data"
    },
    {
     "name": "stdout",
     "output_type": "stream",
     "text": [
      "Optimal feature is 43\n"
     ]
    },
    {
     "data": {
      "text/plain": "<Figure size 432x288 with 1 Axes>",
      "image/png": "[encoded data removed]"
     },
     "metadata": {
      "needs_background": "light"
     },
     "output_type": "display_data"
    },
    {
     "name": "stdout",
     "output_type": "stream",
     "text": [
      "Optimal feature is 45\n"
     ]
    },
    {
     "data": {
      "text/plain": "<Figure size 432x288 with 1 Axes>",
      "image/png": "[encoded data removed]"
     },
     "metadata": {
      "needs_background": "light"
     },
     "output_type": "display_data"
    },
    {
     "name": "stdout",
     "output_type": "stream",
     "text": [
      "Optimal feature is 43\n"
     ]
    },
    {
     "data": {
      "text/plain": "<Figure size 432x288 with 1 Axes>",
      "image/png": "[encoded data removed]"
     },
     "metadata": {
      "needs_background": "light"
     },
     "output_type": "display_data"
    },
    {
     "name": "stdout",
     "output_type": "stream",
     "text": [
      "Optimal feature is 8\n"
     ]
    },
    {
     "data": {
      "text/plain": "<Figure size 432x288 with 1 Axes>",
      "image/png": "[encoded data removed]"
     },
     "metadata": {
      "needs_background": "light"
     },
     "output_type": "display_data"
    }
   ],
   "source": [
    "oversample = SMOTE()\n",
    "for j in range(OptimalXAI.shape[0]):\n",
    "    Scores = list()\n",
    "    print(\"Optimal feature is\", OptimalXAI[j,1])\n",
    "    for i in range(CorrMatrices.shape[1]):\n",
    "        Label0 = (LabelNaiveOrdered == OptimalXAI[0,0])*1\n",
    "        Data_0 = CorrMatrices[:,i].reshape(-1,1)\n",
    "        Data_0, Label0 = oversample.fit_resample(Data_0, Label0)\n",
    "        X_train, X_test, y_train, y_test = train_test_split(Data_0, Label0,\n",
    "                                                    test_size=0.5, random_state=1)\n",
    "        clf.fit(X_train, y_train)\n",
    "        y_hat = clf.predict(X_test)\n",
    "        Scores.append( np.mean(y_hat == y_test ))\n",
    "    plt.hist(Scores)\n",
    "    plt.axvline(Scores[OptimalXAI[j,1]],c=\"red\")\n",
    "    plt.show()"
   ],
   "metadata": {
    "collapsed": false,
    "pycharm": {
     "name": "#%%\n"
    }
   }
  },
  {
   "cell_type": "markdown",
   "source": [
    "### Train NN with all relevant features\n",
    "\n",
    "For this, we need one-hot encoded y"
   ],
   "metadata": {
    "collapsed": false
   }
  },
  {
   "cell_type": "code",
   "execution_count": 77,
   "outputs": [
    {
     "name": "stdout",
     "output_type": "stream",
     "text": [
      "{37, 8, 43, 45, 47}\n",
      "(5251, 5)\n",
      "[[1. 0. 0. ... 0. 0. 0.]\n",
      " [1. 0. 0. ... 0. 0. 0.]\n",
      " [0. 1. 0. ... 0. 0. 0.]\n",
      " ...\n",
      " [0. 0. 1. ... 0. 0. 0.]\n",
      " [0. 0. 1. ... 0. 0. 0.]\n",
      " [0. 0. 0. ... 0. 1. 0.]]\n"
     ]
    }
   ],
   "source": [
    "print(set(OptimalXAI[:,1]))\n",
    "CM_Reduced = CorrMatrices[:,list(set(OptimalXAI[:,1]))]\n",
    "print(CM_Reduced.shape)\n",
    "\n",
    "# one hot encoded\n",
    "encoded_Y = np_utils.to_categorical(LabelNaiveOrdered)\n",
    "\n",
    "X_train, X_test, y_train, y_test = train_test_split(CM_Reduced, encoded_Y,\n",
    "                                                    test_size=0.33, random_state=1)\n",
    "print(encoded_Y)\n",
    "\n",
    "# reverse the encoding via\n",
    "# np.argmax(encoded_Y, 1)"
   ],
   "metadata": {
    "collapsed": false,
    "pycharm": {
     "name": "#%%\n"
    }
   }
  },
  {
   "cell_type": "code",
   "execution_count": 78,
   "outputs": [
    {
     "data": {
      "text/plain": "<Figure size 576x216 with 2 Axes>",
      "image/png": "[encoded data removed]"
     },
     "metadata": {
      "needs_background": "light"
     },
     "output_type": "display_data"
    }
   ],
   "source": [
    "fig, (ax1, ax2) = plt.subplots(1, 2)\n",
    "fig.set_size_inches(8, 3)\n",
    "ax1.hist(np.argmax(y_train,1), density = True,\n",
    "         bins = np.arange(-0.5, max(np.argmax(y_train,1))+1.5,1))\n",
    "ax2.hist(np.argmax(y_test,1),density = True,\n",
    "         bins = np.arange(-0.5, max(np.argmax(y_test,1))+1.5,1))\n",
    "plt.suptitle(\"Histograms of Training and Test Labels\")\n",
    "plt.show()"
   ],
   "metadata": {
    "collapsed": false,
    "pycharm": {
     "name": "#%%\n"
    }
   }
  },
  {
   "cell_type": "code",
   "execution_count": 79,
   "outputs": [
    {
     "name": "stdout",
     "output_type": "stream",
     "text": [
      "5 8\n",
      "Model: \"sequential_6\"\n",
      "_________________________________________________________________\n",
      " Layer (type)                Output Shape              Param #   \n",
      "=================================================================\n",
      " dense_36 (Dense)            (None, 256)               1536      \n",
      "                                                                 \n",
      " dense_37 (Dense)            (None, 128)               32896     \n",
      "                                                                 \n",
      " dense_38 (Dense)            (None, 128)               16512     \n",
      "                                                                 \n",
      " dense_39 (Dense)            (None, 1024)              132096    \n",
      "                                                                 \n",
      " dense_40 (Dense)            (None, 128)               131200    \n",
      "                                                                 \n",
      " dropout_6 (Dropout)         (None, 128)               0         \n",
      "                                                                 \n",
      " dense_41 (Dense)            (None, 8)                 1032      \n",
      "                                                                 \n",
      "=================================================================\n",
      "Total params: 315,272\n",
      "Trainable params: 315,272\n",
      "Non-trainable params: 0\n",
      "_________________________________________________________________\n"
     ]
    }
   ],
   "source": [
    "n_In = CM_Reduced.shape[1]\n",
    "num_classes = len(set(LabelNaiveOrdered))\n",
    "print(n_In, num_classes)\n",
    "\n",
    "model = keras.Sequential(\n",
    "    [\n",
    "        layers.Dense(units = 256, input_shape=(n_In,), activation = \"selu\"),\n",
    "        layers.Dense(units=128, activation=\"relu\"),\n",
    "        layers.Dense(units=128, activation=\"relu\"),\n",
    "        layers.Dense(units=1024,\n",
    "              activation=keras.layers.LeakyReLU(alpha=0.05)),\n",
    "        layers.Dense(units=128,\n",
    "              activation=keras.layers.LeakyReLU(alpha=0.01)),\n",
    "        layers.Dropout(0.3),\n",
    "        layers.Dense(units =num_classes, activation=\"softmax\"),\n",
    "    ]\n",
    ")\n",
    "#model.build(n_In)\n",
    "model.summary()"
   ],
   "metadata": {
    "collapsed": false,
    "pycharm": {
     "name": "#%%\n"
    }
   }
  },
  {
   "cell_type": "code",
   "execution_count": 80,
   "outputs": [
    {
     "name": "stdout",
     "output_type": "stream",
     "text": [
      "Epoch 1/100\n",
      "14/14 [==============================] - 0s 15ms/step - loss: 2.0590 - accuracy: 0.1831 - val_loss: 2.0286 - val_accuracy: 0.2058\n",
      "Epoch 2/100\n",
      "14/14 [==============================] - 0s 6ms/step - loss: 2.0011 - accuracy: 0.2177 - val_loss: 1.9702 - val_accuracy: 0.1995\n",
      "Epoch 3/100\n",
      "14/14 [==============================] - 0s 6ms/step - loss: 1.9386 - accuracy: 0.2211 - val_loss: 1.9008 - val_accuracy: 0.2103\n",
      "Epoch 4/100\n",
      "14/14 [==============================] - 0s 7ms/step - loss: 1.8691 - accuracy: 0.2382 - val_loss: 1.8152 - val_accuracy: 0.2723\n",
      "Epoch 5/100\n",
      "14/14 [==============================] - 0s 7ms/step - loss: 1.7801 - accuracy: 0.3081 - val_loss: 1.7214 - val_accuracy: 0.3354\n",
      "Epoch 6/100\n",
      "14/14 [==============================] - 0s 7ms/step - loss: 1.6793 - accuracy: 0.3775 - val_loss: 1.6119 - val_accuracy: 0.3764\n",
      "Epoch 7/100\n",
      "14/14 [==============================] - 0s 6ms/step - loss: 1.5779 - accuracy: 0.4002 - val_loss: 1.4998 - val_accuracy: 0.4213\n",
      "Epoch 8/100\n",
      "14/14 [==============================] - 0s 6ms/step - loss: 1.4654 - accuracy: 0.4406 - val_loss: 1.3821 - val_accuracy: 0.4474\n",
      "Epoch 9/100\n",
      "14/14 [==============================] - 0s 6ms/step - loss: 1.3606 - accuracy: 0.4747 - val_loss: 1.2690 - val_accuracy: 0.4929\n",
      "Epoch 10/100\n",
      "14/14 [==============================] - 0s 6ms/step - loss: 1.2627 - accuracy: 0.5094 - val_loss: 1.1816 - val_accuracy: 0.5190\n",
      "Epoch 11/100\n",
      "14/14 [==============================] - 0s 6ms/step - loss: 1.1917 - accuracy: 0.5287 - val_loss: 1.0990 - val_accuracy: 0.6049\n",
      "Epoch 12/100\n",
      "14/14 [==============================] - 0s 6ms/step - loss: 1.1176 - accuracy: 0.5537 - val_loss: 1.0385 - val_accuracy: 0.6026\n",
      "Epoch 13/100\n",
      "14/14 [==============================] - 0s 6ms/step - loss: 1.0385 - accuracy: 0.5947 - val_loss: 0.9732 - val_accuracy: 0.6401\n",
      "Epoch 14/100\n",
      "14/14 [==============================] - 0s 6ms/step - loss: 0.9860 - accuracy: 0.6020 - val_loss: 0.9207 - val_accuracy: 0.6816\n",
      "Epoch 15/100\n",
      "14/14 [==============================] - 0s 7ms/step - loss: 0.9486 - accuracy: 0.6242 - val_loss: 0.8948 - val_accuracy: 0.6731\n",
      "Epoch 16/100\n",
      "14/14 [==============================] - 0s 7ms/step - loss: 0.9109 - accuracy: 0.6339 - val_loss: 0.8471 - val_accuracy: 0.6947\n",
      "Epoch 17/100\n",
      "14/14 [==============================] - 0s 7ms/step - loss: 0.8818 - accuracy: 0.6418 - val_loss: 0.8101 - val_accuracy: 0.7180\n",
      "Epoch 18/100\n",
      "14/14 [==============================] - 0s 6ms/step - loss: 0.8457 - accuracy: 0.6578 - val_loss: 0.7807 - val_accuracy: 0.7305\n",
      "Epoch 19/100\n",
      "14/14 [==============================] - 0s 6ms/step - loss: 0.8369 - accuracy: 0.6731 - val_loss: 0.7738 - val_accuracy: 0.7265\n",
      "Epoch 20/100\n",
      "14/14 [==============================] - 0s 6ms/step - loss: 0.8199 - accuracy: 0.6652 - val_loss: 0.7374 - val_accuracy: 0.7419\n",
      "Epoch 21/100\n",
      "14/14 [==============================] - 0s 6ms/step - loss: 0.7817 - accuracy: 0.6845 - val_loss: 0.7264 - val_accuracy: 0.7555\n",
      "Epoch 22/100\n",
      "14/14 [==============================] - 0s 7ms/step - loss: 0.7781 - accuracy: 0.6976 - val_loss: 0.7167 - val_accuracy: 0.7464\n",
      "Epoch 23/100\n",
      "14/14 [==============================] - 0s 7ms/step - loss: 0.7701 - accuracy: 0.6885 - val_loss: 0.7065 - val_accuracy: 0.7561\n",
      "Epoch 24/100\n",
      "14/14 [==============================] - 0s 7ms/step - loss: 0.7482 - accuracy: 0.6993 - val_loss: 0.6856 - val_accuracy: 0.7578\n",
      "Epoch 25/100\n",
      "14/14 [==============================] - 0s 7ms/step - loss: 0.7583 - accuracy: 0.6987 - val_loss: 0.6735 - val_accuracy: 0.7646\n",
      "Epoch 26/100\n",
      "14/14 [==============================] - 0s 7ms/step - loss: 0.7417 - accuracy: 0.7095 - val_loss: 0.6907 - val_accuracy: 0.7470\n",
      "Epoch 27/100\n",
      "14/14 [==============================] - 0s 7ms/step - loss: 0.7287 - accuracy: 0.7061 - val_loss: 0.6735 - val_accuracy: 0.7572\n",
      "Epoch 28/100\n",
      "14/14 [==============================] - 0s 7ms/step - loss: 0.7218 - accuracy: 0.6958 - val_loss: 0.6610 - val_accuracy: 0.7550\n",
      "Epoch 29/100\n",
      "14/14 [==============================] - 0s 7ms/step - loss: 0.7107 - accuracy: 0.7152 - val_loss: 0.6826 - val_accuracy: 0.7419\n",
      "Epoch 30/100\n",
      "14/14 [==============================] - 0s 7ms/step - loss: 0.6907 - accuracy: 0.7180 - val_loss: 0.6461 - val_accuracy: 0.7675\n",
      "Epoch 31/100\n",
      "14/14 [==============================] - 0s 6ms/step - loss: 0.6847 - accuracy: 0.7345 - val_loss: 0.6388 - val_accuracy: 0.7732\n",
      "Epoch 32/100\n",
      "14/14 [==============================] - 0s 6ms/step - loss: 0.6720 - accuracy: 0.7356 - val_loss: 0.6571 - val_accuracy: 0.7572\n",
      "Epoch 33/100\n",
      "14/14 [==============================] - 0s 6ms/step - loss: 0.6786 - accuracy: 0.7237 - val_loss: 0.6220 - val_accuracy: 0.7806\n",
      "Epoch 34/100\n",
      "14/14 [==============================] - 0s 6ms/step - loss: 0.6637 - accuracy: 0.7356 - val_loss: 0.6159 - val_accuracy: 0.7624\n",
      "Epoch 35/100\n",
      "14/14 [==============================] - 0s 6ms/step - loss: 0.6703 - accuracy: 0.7300 - val_loss: 0.6153 - val_accuracy: 0.7789\n",
      "Epoch 36/100\n",
      "14/14 [==============================] - 0s 6ms/step - loss: 0.6472 - accuracy: 0.7391 - val_loss: 0.6049 - val_accuracy: 0.7823\n",
      "Epoch 37/100\n",
      "14/14 [==============================] - 0s 6ms/step - loss: 0.6647 - accuracy: 0.7317 - val_loss: 0.6183 - val_accuracy: 0.7720\n",
      "Epoch 38/100\n",
      "14/14 [==============================] - 0s 6ms/step - loss: 0.6461 - accuracy: 0.7408 - val_loss: 0.6152 - val_accuracy: 0.7749\n",
      "Epoch 39/100\n",
      "14/14 [==============================] - 0s 6ms/step - loss: 0.6489 - accuracy: 0.7317 - val_loss: 0.6002 - val_accuracy: 0.7692\n",
      "Epoch 40/100\n",
      "14/14 [==============================] - 0s 6ms/step - loss: 0.6354 - accuracy: 0.7385 - val_loss: 0.5920 - val_accuracy: 0.7669\n",
      "Epoch 41/100\n",
      "14/14 [==============================] - 0s 6ms/step - loss: 0.6410 - accuracy: 0.7493 - val_loss: 0.6224 - val_accuracy: 0.7681\n",
      "Epoch 42/100\n",
      "14/14 [==============================] - 0s 6ms/step - loss: 0.6322 - accuracy: 0.7470 - val_loss: 0.5801 - val_accuracy: 0.7897\n",
      "Epoch 43/100\n",
      "14/14 [==============================] - 0s 6ms/step - loss: 0.6285 - accuracy: 0.7408 - val_loss: 0.5943 - val_accuracy: 0.7709\n",
      "Epoch 44/100\n",
      "14/14 [==============================] - 0s 6ms/step - loss: 0.6086 - accuracy: 0.7544 - val_loss: 0.6076 - val_accuracy: 0.7663\n",
      "Epoch 45/100\n",
      "14/14 [==============================] - 0s 7ms/step - loss: 0.6267 - accuracy: 0.7538 - val_loss: 0.5955 - val_accuracy: 0.7783\n",
      "Epoch 46/100\n",
      "14/14 [==============================] - 0s 7ms/step - loss: 0.6033 - accuracy: 0.7561 - val_loss: 0.5797 - val_accuracy: 0.7828\n",
      "Epoch 47/100\n",
      "14/14 [==============================] - 0s 6ms/step - loss: 0.6022 - accuracy: 0.7629 - val_loss: 0.5700 - val_accuracy: 0.7902\n",
      "Epoch 48/100\n",
      "14/14 [==============================] - 0s 7ms/step - loss: 0.6080 - accuracy: 0.7595 - val_loss: 0.5684 - val_accuracy: 0.7817\n",
      "Epoch 49/100\n",
      "14/14 [==============================] - 0s 7ms/step - loss: 0.5963 - accuracy: 0.7771 - val_loss: 0.5645 - val_accuracy: 0.7936\n",
      "Epoch 50/100\n",
      "14/14 [==============================] - 0s 7ms/step - loss: 0.5978 - accuracy: 0.7635 - val_loss: 0.5697 - val_accuracy: 0.7783\n",
      "Epoch 51/100\n",
      "14/14 [==============================] - 0s 6ms/step - loss: 0.6060 - accuracy: 0.7629 - val_loss: 0.5570 - val_accuracy: 0.7908\n",
      "Epoch 52/100\n",
      "14/14 [==============================] - 0s 7ms/step - loss: 0.5950 - accuracy: 0.7555 - val_loss: 0.5706 - val_accuracy: 0.7828\n",
      "Epoch 53/100\n",
      "14/14 [==============================] - 0s 7ms/step - loss: 0.5974 - accuracy: 0.7578 - val_loss: 0.5583 - val_accuracy: 0.8016\n",
      "Epoch 54/100\n",
      "14/14 [==============================] - 0s 7ms/step - loss: 0.5968 - accuracy: 0.7607 - val_loss: 0.5574 - val_accuracy: 0.7965\n",
      "Epoch 55/100\n",
      "14/14 [==============================] - 0s 7ms/step - loss: 0.5954 - accuracy: 0.7538 - val_loss: 0.5481 - val_accuracy: 0.7936\n",
      "Epoch 56/100\n",
      "14/14 [==============================] - 0s 6ms/step - loss: 0.5744 - accuracy: 0.7618 - val_loss: 0.5583 - val_accuracy: 0.7993\n",
      "Epoch 57/100\n",
      "14/14 [==============================] - 0s 7ms/step - loss: 0.5830 - accuracy: 0.7652 - val_loss: 0.5491 - val_accuracy: 0.7942\n",
      "Epoch 58/100\n",
      "14/14 [==============================] - 0s 7ms/step - loss: 0.5767 - accuracy: 0.7669 - val_loss: 0.5496 - val_accuracy: 0.7851\n",
      "Epoch 59/100\n",
      "14/14 [==============================] - 0s 6ms/step - loss: 0.5718 - accuracy: 0.7663 - val_loss: 0.5505 - val_accuracy: 0.7999\n",
      "Epoch 60/100\n",
      "14/14 [==============================] - 0s 6ms/step - loss: 0.5879 - accuracy: 0.7635 - val_loss: 0.5536 - val_accuracy: 0.7999\n",
      "Epoch 61/100\n",
      "14/14 [==============================] - 0s 6ms/step - loss: 0.5644 - accuracy: 0.7715 - val_loss: 0.5437 - val_accuracy: 0.7936\n",
      "Epoch 62/100\n",
      "14/14 [==============================] - 0s 6ms/step - loss: 0.5564 - accuracy: 0.7686 - val_loss: 0.5458 - val_accuracy: 0.8050\n",
      "Epoch 63/100\n",
      "14/14 [==============================] - 0s 6ms/step - loss: 0.5626 - accuracy: 0.7789 - val_loss: 0.5422 - val_accuracy: 0.8050\n",
      "Epoch 64/100\n",
      "14/14 [==============================] - 0s 10ms/step - loss: 0.5674 - accuracy: 0.7749 - val_loss: 0.5359 - val_accuracy: 0.8050\n",
      "Epoch 65/100\n",
      "14/14 [==============================] - 0s 7ms/step - loss: 0.5646 - accuracy: 0.7681 - val_loss: 0.5420 - val_accuracy: 0.7897\n",
      "Epoch 66/100\n",
      "14/14 [==============================] - 0s 6ms/step - loss: 0.5582 - accuracy: 0.7760 - val_loss: 0.5637 - val_accuracy: 0.7817\n",
      "Epoch 67/100\n",
      "14/14 [==============================] - 0s 6ms/step - loss: 0.5638 - accuracy: 0.7749 - val_loss: 0.5437 - val_accuracy: 0.8039\n",
      "Epoch 68/100\n",
      "14/14 [==============================] - 0s 6ms/step - loss: 0.5489 - accuracy: 0.7794 - val_loss: 0.5291 - val_accuracy: 0.8039\n",
      "Epoch 69/100\n",
      "14/14 [==============================] - 0s 6ms/step - loss: 0.5433 - accuracy: 0.7845 - val_loss: 0.5348 - val_accuracy: 0.8096\n",
      "Epoch 70/100\n",
      "14/14 [==============================] - 0s 6ms/step - loss: 0.5519 - accuracy: 0.7783 - val_loss: 0.5321 - val_accuracy: 0.8016\n",
      "Epoch 71/100\n",
      "14/14 [==============================] - 0s 6ms/step - loss: 0.5514 - accuracy: 0.7732 - val_loss: 0.5316 - val_accuracy: 0.8090\n",
      "Epoch 72/100\n",
      "14/14 [==============================] - 0s 6ms/step - loss: 0.5387 - accuracy: 0.7845 - val_loss: 0.5275 - val_accuracy: 0.7953\n",
      "Epoch 73/100\n",
      "14/14 [==============================] - 0s 6ms/step - loss: 0.5596 - accuracy: 0.7777 - val_loss: 0.5421 - val_accuracy: 0.7982\n",
      "Epoch 74/100\n",
      "14/14 [==============================] - 0s 6ms/step - loss: 0.5436 - accuracy: 0.7817 - val_loss: 0.5450 - val_accuracy: 0.7931\n",
      "Epoch 75/100\n",
      "14/14 [==============================] - 0s 7ms/step - loss: 0.5552 - accuracy: 0.7732 - val_loss: 0.5280 - val_accuracy: 0.7953\n",
      "Epoch 76/100\n",
      "14/14 [==============================] - 0s 6ms/step - loss: 0.5518 - accuracy: 0.7789 - val_loss: 0.5288 - val_accuracy: 0.7959\n",
      "Epoch 77/100\n",
      "14/14 [==============================] - 0s 6ms/step - loss: 0.5350 - accuracy: 0.7851 - val_loss: 0.5378 - val_accuracy: 0.7948\n",
      "Epoch 78/100\n",
      "14/14 [==============================] - 0s 7ms/step - loss: 0.5370 - accuracy: 0.7925 - val_loss: 0.5249 - val_accuracy: 0.8107\n",
      "Epoch 79/100\n",
      "14/14 [==============================] - 0s 7ms/step - loss: 0.5362 - accuracy: 0.7885 - val_loss: 0.5164 - val_accuracy: 0.8027\n",
      "Epoch 80/100\n",
      "14/14 [==============================] - 0s 7ms/step - loss: 0.5349 - accuracy: 0.7902 - val_loss: 0.5183 - val_accuracy: 0.8090\n",
      "Epoch 81/100\n",
      "14/14 [==============================] - 0s 7ms/step - loss: 0.5197 - accuracy: 0.7897 - val_loss: 0.5159 - val_accuracy: 0.8135\n",
      "Epoch 82/100\n",
      "14/14 [==============================] - 0s 7ms/step - loss: 0.5178 - accuracy: 0.7845 - val_loss: 0.5289 - val_accuracy: 0.8010\n",
      "Epoch 83/100\n",
      "14/14 [==============================] - 0s 6ms/step - loss: 0.5300 - accuracy: 0.7942 - val_loss: 0.5124 - val_accuracy: 0.8050\n",
      "Epoch 84/100\n",
      "14/14 [==============================] - 0s 6ms/step - loss: 0.5453 - accuracy: 0.7919 - val_loss: 0.5157 - val_accuracy: 0.8107\n",
      "Epoch 85/100\n",
      "14/14 [==============================] - 0s 7ms/step - loss: 0.5313 - accuracy: 0.7800 - val_loss: 0.5268 - val_accuracy: 0.8039\n",
      "Epoch 86/100\n",
      "14/14 [==============================] - 0s 7ms/step - loss: 0.5229 - accuracy: 0.7885 - val_loss: 0.5116 - val_accuracy: 0.8061\n",
      "Epoch 87/100\n",
      "14/14 [==============================] - 0s 7ms/step - loss: 0.5065 - accuracy: 0.7936 - val_loss: 0.5145 - val_accuracy: 0.8073\n",
      "Epoch 88/100\n",
      "14/14 [==============================] - 0s 7ms/step - loss: 0.5154 - accuracy: 0.7942 - val_loss: 0.5107 - val_accuracy: 0.8147\n",
      "Epoch 89/100\n",
      "14/14 [==============================] - 0s 7ms/step - loss: 0.5161 - accuracy: 0.7868 - val_loss: 0.5279 - val_accuracy: 0.7959\n",
      "Epoch 90/100\n",
      "14/14 [==============================] - 0s 7ms/step - loss: 0.5101 - accuracy: 0.8022 - val_loss: 0.5160 - val_accuracy: 0.8061\n",
      "Epoch 91/100\n",
      "14/14 [==============================] - 0s 7ms/step - loss: 0.5151 - accuracy: 0.7953 - val_loss: 0.5049 - val_accuracy: 0.8181\n",
      "Epoch 92/100\n",
      "14/14 [==============================] - 0s 6ms/step - loss: 0.5250 - accuracy: 0.7874 - val_loss: 0.5102 - val_accuracy: 0.8039\n",
      "Epoch 93/100\n",
      "14/14 [==============================] - 0s 9ms/step - loss: 0.4951 - accuracy: 0.8044 - val_loss: 0.5091 - val_accuracy: 0.8169\n",
      "Epoch 94/100\n",
      "14/14 [==============================] - 0s 7ms/step - loss: 0.5074 - accuracy: 0.7965 - val_loss: 0.5055 - val_accuracy: 0.8113\n",
      "Epoch 95/100\n",
      "14/14 [==============================] - 0s 6ms/step - loss: 0.5083 - accuracy: 0.8022 - val_loss: 0.5078 - val_accuracy: 0.8090\n",
      "Epoch 96/100\n",
      "14/14 [==============================] - 0s 6ms/step - loss: 0.5114 - accuracy: 0.7953 - val_loss: 0.5036 - val_accuracy: 0.8107\n",
      "Epoch 97/100\n",
      "14/14 [==============================] - 0s 7ms/step - loss: 0.4968 - accuracy: 0.8010 - val_loss: 0.5067 - val_accuracy: 0.8113\n",
      "Epoch 98/100\n",
      "14/14 [==============================] - 0s 6ms/step - loss: 0.5008 - accuracy: 0.7891 - val_loss: 0.4970 - val_accuracy: 0.8175\n",
      "Epoch 99/100\n",
      "14/14 [==============================] - 0s 6ms/step - loss: 0.4883 - accuracy: 0.8061 - val_loss: 0.5300 - val_accuracy: 0.7965\n",
      "Epoch 100/100\n",
      "14/14 [==============================] - 0s 6ms/step - loss: 0.4981 - accuracy: 0.7987 - val_loss: 0.5046 - val_accuracy: 0.8056\n"
     ]
    },
    {
     "data": {
      "text/plain": "<keras.callbacks.History at 0x7f17aa4db280>"
     },
     "execution_count": 80,
     "metadata": {},
     "output_type": "execute_result"
    }
   ],
   "source": [
    "batch_size = 128\n",
    "epochs = 100\n",
    "\n",
    "model.compile(loss=\"categorical_crossentropy\",\n",
    "              optimizer=keras.optimizers.Adam(lr=0.0001),\n",
    "              metrics=[\"accuracy\"])\n",
    "\n",
    "model.fit(X_train, y_train,\n",
    "          batch_size=batch_size,\n",
    "          epochs=epochs,\n",
    "          validation_split=0.5)"
   ],
   "metadata": {
    "collapsed": false,
    "pycharm": {
     "name": "#%%\n"
    }
   }
  },
  {
   "cell_type": "code",
   "execution_count": 81,
   "outputs": [
    {
     "name": "stdout",
     "output_type": "stream",
     "text": [
      "0.7974610502019619\n"
     ]
    }
   ],
   "source": [
    "y_hat = np.argmax(model.predict(X_test),1)\n",
    "Accuracy_BestXAI = np.mean(y_hat == np.argmax(y_test,1))\n",
    "print(Accuracy_BestXAI)"
   ],
   "metadata": {
    "collapsed": false,
    "pycharm": {
     "name": "#%%\n"
    }
   }
  },
  {
   "cell_type": "code",
   "execution_count": 82,
   "outputs": [
    {
     "data": {
      "text/plain": "<Figure size 576x216 with 2 Axes>",
      "image/png": "[encoded data removed]"
     },
     "metadata": {
      "needs_background": "light"
     },
     "output_type": "display_data"
    }
   ],
   "source": [
    "fig, (ax1, ax2) = plt.subplots(1, 2)\n",
    "fig.set_size_inches(8, 3)\n",
    "ax1.hist(y_hat, density = True,\n",
    "         bins = np.arange(-0.5, max(y_hat)+1.5,1))\n",
    "ax2.hist(np.argmax(y_test,1),density = True,\n",
    "         bins = np.arange(-0.5, max(np.argmax(y_test,1))+1.5,1))\n",
    "plt.suptitle(\"Histograms of Predicted and Test Labels\")\n",
    "plt.show()"
   ],
   "metadata": {
    "collapsed": false,
    "pycharm": {
     "name": "#%%\n"
    }
   }
  },
  {
   "cell_type": "markdown",
   "source": [
    "### Now with some other features"
   ],
   "metadata": {
    "collapsed": false,
    "pycharm": {
     "name": "#%% md\n"
    }
   }
  },
  {
   "cell_type": "code",
   "execution_count": 83,
   "outputs": [],
   "source": [
    "def TestNN(seed = 1234):\n",
    "    np.random.seed(seed)\n",
    "    Index = np.random.choice(np.arange(XAI.shape[1]).astype(\"int\"), # features to compare optimal XAI to\n",
    "                     size = len(list(set(OptimalXAI[:,1]))),\n",
    "                     replace = False)\n",
    "    CM_Reduced = CorrMatrices[:,Index]\n",
    "    X_train, X_test, y_train, y_test = train_test_split(CM_Reduced, encoded_Y,\n",
    "                                                    test_size=0.33, random_state=1)\n",
    "    model.fit(X_train, y_train,\n",
    "          batch_size=batch_size,\n",
    "          epochs=epochs,\n",
    "          validation_split=0.5,\n",
    "          verbose=0)\n",
    "    y_hat = np.argmax(model.predict(X_test),1)\n",
    "    return(np.mean(y_hat == np.argmax(y_test,1)))"
   ],
   "metadata": {
    "collapsed": false,
    "pycharm": {
     "name": "#%%\n"
    }
   }
  },
  {
   "cell_type": "markdown",
   "source": [],
   "metadata": {
    "collapsed": false
   }
  },
  {
   "cell_type": "code",
   "execution_count": 84,
   "outputs": [
    {
     "data": {
      "text/plain": "0.7380265435660704"
     },
     "execution_count": 84,
     "metadata": {},
     "output_type": "execute_result"
    }
   ],
   "source": [
    "TestNN(54321)"
   ],
   "metadata": {
    "collapsed": false,
    "pycharm": {
     "name": "#%%\n"
    }
   }
  },
  {
   "cell_type": "code",
   "execution_count": 85,
   "outputs": [
    {
     "data": {
      "text/plain": "0.7224466243508367"
     },
     "execution_count": 85,
     "metadata": {},
     "output_type": "execute_result"
    }
   ],
   "source": [
    "TestNN()"
   ],
   "metadata": {
    "collapsed": false,
    "pycharm": {
     "name": "#%%\n"
    }
   }
  },
  {
   "cell_type": "code",
   "execution_count": 86,
   "outputs": [
    {
     "name": "stdout",
     "output_type": "stream",
     "text": [
      "0 [5206] 0.6387766878245816\n",
      "1 [8676] 0.6595499134448932\n",
      "2 [2446] 0.7766878245816503\n",
      "3 [2594] 0.6739757645701097\n",
      "4 [0] 0.6295441431044432\n",
      "5 [7221] 0.7322562031159838\n",
      "6 [6887] 0.773802654356607\n",
      "7 [7580] 0.7391806116560877\n",
      "8 [30] 0.5926139642238892\n",
      "9 [7699] 0.6480092325447201\n",
      "10 [4222] 0.8043854587420658\n",
      "11 [6242] 0.7807270628967109\n",
      "12 [1070] 0.7368724754760531\n",
      "13 [6397] 0.7968840161569533\n",
      "14 [7177] 0.6918638199653779\n",
      "15 [2956] 0.7466820542412003\n",
      "16 [395] 0.7397576457010964\n",
      "17 [5141] 0.7010963646855164\n",
      "18 [8748] 0.668205424120023\n",
      "19 [6897] 0.7807270628967109\n",
      "20 [5977] 0.6635891517599538\n",
      "21 [5705] 0.7726485862665897\n",
      "22 [4016] 0.6728216964800924\n",
      "23 [2914] 0.7316791690709752\n",
      "24 [142] 0.795729948066936\n",
      "25 [657] 0.790536641661858\n",
      "26 [9479] 0.8268897864974033\n",
      "27 [4210] 0.6912867859203693\n",
      "28 [8513] 0.7305251009809579\n",
      "29 [9173] 0.7732256203115984\n",
      "30 [9637] 0.7564916330063474\n",
      "31 [6801] 0.8280438545874207\n",
      "32 [3333] 0.7709174841315638\n",
      "33 [921] 0.6312752452394691\n",
      "34 [1677] 0.6658972879399885\n",
      "35 [5278] 0.8159261396422389\n",
      "36 [8481] 0.6485862665897288\n",
      "37 [6780] 0.7455279861511829\n",
      "38 [4364] 0.7876514714368148\n",
      "39 [5362] 0.8072706289671091\n",
      "40 [8917] 0.8153491055972303\n",
      "41 [5835] 0.7074437391806117\n",
      "42 [302] 0.7316791690709752\n",
      "43 [734] 0.7945758799769186\n",
      "44 [8535] 0.6959030582804385\n",
      "45 [1145] 0.8084246970571264\n",
      "46 [7068] 0.740334679746105\n",
      "47 [8524] 0.7668782458165032\n",
      "48 [2014] 0.8216964800923254\n",
      "49 [4683] 0.7247547605308713\n"
     ]
    }
   ],
   "source": [
    "Runs = 50\n",
    "NN_comparison = np.zeros(Runs)\n",
    "\n",
    "for i in range(Runs):\n",
    "    s = np.random.choice(np.arange(10000).astype(\"int\"),1)\n",
    "    Test_Score = TestNN(s)\n",
    "    print(i,s,Test_Score)\n",
    "    NN_comparison[i] = Test_Score\n"
   ],
   "metadata": {
    "collapsed": false,
    "pycharm": {
     "name": "#%%\n"
    }
   }
  },
  {
   "cell_type": "code",
   "execution_count": 87,
   "outputs": [
    {
     "data": {
      "text/plain": "<Figure size 432x288 with 1 Axes>",
      "image/png": "[encoded data removed]"
     },
     "metadata": {
      "needs_background": "light"
     },
     "output_type": "display_data"
    }
   ],
   "source": [
    "plt.hist(NN_comparison)\n",
    "plt.axvline(Accuracy_BestXAI,\n",
    "            c=\"red\")\n",
    "plt.xlabel(\"Accuracy of NN\")\n",
    "plt.ylabel(\"Frequency\")\n",
    "plt.title(\"Comparison: NN for Best XAI vs. Random Features\")\n",
    "plt.show()"
   ],
   "metadata": {
    "collapsed": false,
    "pycharm": {
     "name": "#%%\n"
    }
   }
  },
  {
   "cell_type": "code",
   "execution_count": 87,
   "outputs": [],
   "source": [],
   "metadata": {
    "collapsed": false,
    "pycharm": {
     "name": "#%%\n"
    }
   }
  }
 ],
 "metadata": {
  "kernelspec": {
   "display_name": "Python 3",
   "language": "python",
   "name": "python3"
  },
  "language_info": {
   "codemirror_mode": {
    "name": "ipython",
    "version": 2
   },
   "file_extension": ".py",
   "mimetype": "text/x-python",
   "name": "python",
   "nbconvert_exporter": "python",
   "pygments_lexer": "ipython2",
   "version": "2.7.6"
  }
 },
 "nbformat": 4,
 "nbformat_minor": 0
}