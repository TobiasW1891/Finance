{
 "cells": [
  {
   "cell_type": "code",
   "execution_count": 15,
   "id": "1a223e8e",
   "metadata": {},
   "outputs": [],
   "source": [
    "from tensorflow import keras\n",
    "import tensorflow.keras as keras\n",
    "from tensorflow.keras import layers\n",
    "import numpy as np\n",
    "import sklearn\n",
    "import sklearn.metrics"
   ]
  },
  {
   "cell_type": "code",
   "execution_count": 5,
   "id": "d064c67b",
   "metadata": {},
   "outputs": [],
   "source": [
    "# get the data\n",
    "x_train = np.load(\"x_train.npy\")\n",
    "x_test = np.load(\"x_test.npy\")\n",
    "y_train = np.load(\"y_train.npy\")\n",
    "y_test = np.load(\"y_test.npy\")\n"
   ]
  },
  {
   "cell_type": "markdown",
   "id": "4206fa60",
   "metadata": {},
   "source": [
    "Because the model export/import apparently does not work, we need a workaround. First create the model architecture  (which we luckily know), then \"fit\" the model with 0 epochs (i.e. do not fit it at all) and finally, load the weights of the saved model into the empty \"frame\" of the NN."
   ]
  },
  {
   "cell_type": "code",
   "execution_count": 9,
   "id": "213c9e25",
   "metadata": {},
   "outputs": [
    {
     "name": "stdout",
     "output_type": "stream",
     "text": [
      "WARNING:tensorflow:From /home/users/t_wand01/.local/lib/python3.7/site-packages/tensorflow/python/keras/backend.py:4075: add_dispatch_support.<locals>.wrapper (from tensorflow.python.ops.array_ops) is deprecated and will be removed in a future version.\n",
      "Instructions for updating:\n",
      "Use tf.where in 2.0, which has the same broadcast rule as np.where\n"
     ]
    }
   ],
   "source": [
    "input_shape = x_train.shape[1:]\n",
    "num_classes = 8\n",
    "\n",
    "model = keras.Sequential(\n",
    "    [\n",
    "        keras.Input(shape=input_shape),\n",
    "        layers.Conv2D(32, kernel_size=(3, 3), activation=\"relu\"),\n",
    "        layers.MaxPooling2D(pool_size=(2, 2)),\n",
    "        layers.Conv2D(64, kernel_size=(3, 3), activation=\"relu\"),\n",
    "        layers.MaxPooling2D(pool_size=(2, 2)),\n",
    "        layers.Flatten(),\n",
    "        layers.Dense(128, activation = \"selu\"),\n",
    "        layers.Dense(units=128, activation=\"relu\"),\n",
    "        layers.Dense(units=128, activation=\"relu\"),\n",
    "        #layers.Dense(units=128, \n",
    "        #      activation=keras.layers.LeakyReLU(alpha=0.05)), \n",
    "        # layers.Dense(units=128, \n",
    "        #      activation=keras.layers.LeakyReLU(alpha=0.01)), \n",
    "        layers.Dropout(0.5),\n",
    "        layers.Dense(num_classes, activation=\"softmax\"),\n",
    "    ]\n",
    ")\n"
   ]
  },
  {
   "cell_type": "code",
   "execution_count": 11,
   "id": "c57ab9ce",
   "metadata": {},
   "outputs": [
    {
     "name": "stderr",
     "output_type": "stream",
     "text": [
      "2021-12-20 16:04:45.688145: I tensorflow/core/platform/cpu_feature_guard.cc:142] Your CPU supports instructions that this TensorFlow binary was not compiled to use: AVX2 FMA\n",
      "2021-12-20 16:04:45.745931: I tensorflow/core/platform/profile_utils/cpu_utils.cc:94] CPU Frequency: 3299990000 Hz\n",
      "2021-12-20 16:04:45.746387: I tensorflow/compiler/xla/service/service.cc:168] XLA service 0x3fb0850 executing computations on platform Host. Devices:\n",
      "2021-12-20 16:04:45.746399: I tensorflow/compiler/xla/service/service.cc:175]   StreamExecutor device (0): <undefined>, <undefined>\n",
      "2021-12-20 16:04:45.760938: W tensorflow/compiler/jit/mark_for_compilation_pass.cc:1412] (One-time warning): Not using XLA:CPU for cluster because envvar TF_XLA_FLAGS=--tf_xla_cpu_global_jit was not set.  If you want XLA:CPU, either set that envvar, or use experimental_jit_scope to enable XLA:CPU.  To confirm that XLA is active, pass --vmodule=xla_compilation_cache=1 (as a proper command-line flag, not via TF_XLA_FLAGS) or set the envvar XLA_FLAGS=--xla_hlo_profile.\n",
      "2021-12-20 16:04:45.777151: W tensorflow/core/framework/allocator.cc:107] Allocation of 134217728 exceeds 10% of system memory.\n",
      "2021-12-20 16:04:45.832771: W tensorflow/core/framework/allocator.cc:107] Allocation of 134217728 exceeds 10% of system memory.\n",
      "2021-12-20 16:04:45.874884: W tensorflow/core/framework/allocator.cc:107] Allocation of 134217728 exceeds 10% of system memory.\n"
     ]
    }
   ],
   "source": [
    "model.load_weights('KerasNN_FullFinanceData_ReLu.h5')"
   ]
  },
  {
   "cell_type": "code",
   "execution_count": 19,
   "id": "726adec3",
   "metadata": {},
   "outputs": [],
   "source": [
    "model.compile(loss=\"categorical_crossentropy\", \n",
    "              optimizer=keras.optimizers.Adam(lr=0.0001),\n",
    "              metrics=[\"accuracy\"])"
   ]
  },
  {
   "cell_type": "code",
   "execution_count": 20,
   "id": "a65df1e0",
   "metadata": {},
   "outputs": [
    {
     "name": "stdout",
     "output_type": "stream",
     "text": [
      "Test loss: 0.09173799476404101\n",
      "Test accuracy: 0.9705713\n"
     ]
    }
   ],
   "source": [
    "score = model.evaluate(x_test, y_test, verbose=0)\n",
    "print(\"Test loss:\", score[0])\n",
    "print(\"Test accuracy:\", score[1])"
   ]
  },
  {
   "cell_type": "code",
   "execution_count": 21,
   "id": "b9c59307",
   "metadata": {},
   "outputs": [
    {
     "data": {
      "text/plain": [
       "array([[229,   4,   0,   0,   0,   7,   0,   0],\n",
       "       [  5, 227,   0,   3,   0,   0,   0,   0],\n",
       "       [  0,   0,  68,   0,   0,   0,   0,   0],\n",
       "       [  0,   2,   3,  65,   0,   0,   0,   0],\n",
       "       [  1,   0,   0,   0, 151,   2,   0,   1],\n",
       "       [  3,   0,   0,   0,   0, 244,   0,   0],\n",
       "       [  0,   0,   0,   0,   0,   0, 378,   0],\n",
       "       [  0,   0,   0,   0,   7,   2,  11, 320]])"
      ]
     },
     "execution_count": 21,
     "metadata": {},
     "output_type": "execute_result"
    }
   ],
   "source": [
    "sklearn.metrics.confusion_matrix(np.argmax(y_test, axis=1),   # true labels\n",
    "                                 model.predict_classes(x_test)) # predictions"
   ]
  },
  {
   "cell_type": "markdown",
   "id": "f1179795",
   "metadata": {},
   "source": [
    "Very good results!"
   ]
  }
 ],
 "metadata": {
  "kernelspec": {
   "display_name": "Python 3 (ipykernel)",
   "language": "python",
   "name": "python3"
  },
  "language_info": {
   "codemirror_mode": {
    "name": "ipython",
    "version": 3
   },
   "file_extension": ".py",
   "mimetype": "text/x-python",
   "name": "python",
   "nbconvert_exporter": "python",
   "pygments_lexer": "ipython3",
   "version": "3.7.3"
  }
 },
 "nbformat": 4,
 "nbformat_minor": 5
}
