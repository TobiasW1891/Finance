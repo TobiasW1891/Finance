{
 "cells": [
  {
   "cell_type": "code",
   "execution_count": 1,
   "metadata": {},
   "outputs": [],
   "source": [
    "from sklearn.cluster import DBSCAN, KMeans\n",
    "from scipy.spatial import distance_matrix\n",
    "import numpy as np\n",
    "import pandas as pd\n",
    "import random\n",
    "import matplotlib.pyplot as plt\n",
    "import datetime\n",
    "from scipy.cluster.vq import kmeans,vq\n",
    "from mpl_toolkits.mplot3d import Axes3D\n",
    "from matplotlib import rc_file\n",
    "#rc_file('/home/p0friedr/okamp/Programme/Python/plotting/plotstyle.rc') \n",
    "import argparse\n",
    "from os import path\n",
    "import time\n",
    "import matplotlib.dates as mdates\n"
   ]
  },
  {
   "cell_type": "code",
   "execution_count": 2,
   "metadata": {},
   "outputs": [],
   "source": [
    "# load the data\n",
    "DF = pd.read_csv(\"NormalisedReturnsSector.csv\", index_col = \"Date\")\n",
    "#DF = pd.read_csv(\"Companies1992_2012.csv\",\n",
    "#                index_col=\"Date\")"
   ]
  },
  {
   "cell_type": "code",
   "execution_count": 3,
   "metadata": {},
   "outputs": [
    {
     "name": "stdout",
     "output_type": "stream",
     "text": [
      "(5292, 11)\n"
     ]
    },
    {
     "data": {
      "text/html": [
       "<div>\n",
       "<style scoped>\n",
       "    .dataframe tbody tr th:only-of-type {\n",
       "        vertical-align: middle;\n",
       "    }\n",
       "\n",
       "    .dataframe tbody tr th {\n",
       "        vertical-align: top;\n",
       "    }\n",
       "\n",
       "    .dataframe thead th {\n",
       "        text-align: right;\n",
       "    }\n",
       "</style>\n",
       "<table border=\"1\" class=\"dataframe\">\n",
       "  <thead>\n",
       "    <tr style=\"text-align: right;\">\n",
       "      <th></th>\n",
       "      <th>Utilities</th>\n",
       "      <th>Information Technology</th>\n",
       "      <th>Materials</th>\n",
       "      <th>Health Care</th>\n",
       "      <th>Industrials</th>\n",
       "      <th>Consumer Discretionary</th>\n",
       "      <th>Financials</th>\n",
       "      <th>Communication Services</th>\n",
       "      <th>Consumer Staples</th>\n",
       "      <th>Real Estate</th>\n",
       "      <th>Energy</th>\n",
       "    </tr>\n",
       "    <tr>\n",
       "      <th>Date</th>\n",
       "      <th></th>\n",
       "      <th></th>\n",
       "      <th></th>\n",
       "      <th></th>\n",
       "      <th></th>\n",
       "      <th></th>\n",
       "      <th></th>\n",
       "      <th></th>\n",
       "      <th></th>\n",
       "      <th></th>\n",
       "      <th></th>\n",
       "    </tr>\n",
       "  </thead>\n",
       "  <tbody>\n",
       "    <tr>\n",
       "      <th>1992-01-02</th>\n",
       "      <td>NaN</td>\n",
       "      <td>NaN</td>\n",
       "      <td>NaN</td>\n",
       "      <td>NaN</td>\n",
       "      <td>NaN</td>\n",
       "      <td>NaN</td>\n",
       "      <td>NaN</td>\n",
       "      <td>NaN</td>\n",
       "      <td>NaN</td>\n",
       "      <td>NaN</td>\n",
       "      <td>NaN</td>\n",
       "    </tr>\n",
       "    <tr>\n",
       "      <th>1992-01-03</th>\n",
       "      <td>NaN</td>\n",
       "      <td>NaN</td>\n",
       "      <td>NaN</td>\n",
       "      <td>NaN</td>\n",
       "      <td>NaN</td>\n",
       "      <td>NaN</td>\n",
       "      <td>NaN</td>\n",
       "      <td>NaN</td>\n",
       "      <td>NaN</td>\n",
       "      <td>NaN</td>\n",
       "      <td>NaN</td>\n",
       "    </tr>\n",
       "    <tr>\n",
       "      <th>1992-01-06</th>\n",
       "      <td>NaN</td>\n",
       "      <td>NaN</td>\n",
       "      <td>NaN</td>\n",
       "      <td>NaN</td>\n",
       "      <td>NaN</td>\n",
       "      <td>NaN</td>\n",
       "      <td>NaN</td>\n",
       "      <td>NaN</td>\n",
       "      <td>NaN</td>\n",
       "      <td>NaN</td>\n",
       "      <td>NaN</td>\n",
       "    </tr>\n",
       "    <tr>\n",
       "      <th>1992-01-07</th>\n",
       "      <td>NaN</td>\n",
       "      <td>NaN</td>\n",
       "      <td>NaN</td>\n",
       "      <td>NaN</td>\n",
       "      <td>NaN</td>\n",
       "      <td>NaN</td>\n",
       "      <td>NaN</td>\n",
       "      <td>NaN</td>\n",
       "      <td>NaN</td>\n",
       "      <td>NaN</td>\n",
       "      <td>NaN</td>\n",
       "    </tr>\n",
       "    <tr>\n",
       "      <th>1992-01-08</th>\n",
       "      <td>NaN</td>\n",
       "      <td>NaN</td>\n",
       "      <td>NaN</td>\n",
       "      <td>NaN</td>\n",
       "      <td>NaN</td>\n",
       "      <td>NaN</td>\n",
       "      <td>NaN</td>\n",
       "      <td>NaN</td>\n",
       "      <td>NaN</td>\n",
       "      <td>NaN</td>\n",
       "      <td>NaN</td>\n",
       "    </tr>\n",
       "    <tr>\n",
       "      <th>...</th>\n",
       "      <td>...</td>\n",
       "      <td>...</td>\n",
       "      <td>...</td>\n",
       "      <td>...</td>\n",
       "      <td>...</td>\n",
       "      <td>...</td>\n",
       "      <td>...</td>\n",
       "      <td>...</td>\n",
       "      <td>...</td>\n",
       "      <td>...</td>\n",
       "      <td>...</td>\n",
       "    </tr>\n",
       "    <tr>\n",
       "      <th>2012-12-24</th>\n",
       "      <td>-13.150235</td>\n",
       "      <td>-15.559262</td>\n",
       "      <td>3.114686</td>\n",
       "      <td>-10.961609</td>\n",
       "      <td>-20.927487</td>\n",
       "      <td>1.176756</td>\n",
       "      <td>-17.361941</td>\n",
       "      <td>-0.710343</td>\n",
       "      <td>-5.359795</td>\n",
       "      <td>1.153713</td>\n",
       "      <td>-14.043977</td>\n",
       "    </tr>\n",
       "    <tr>\n",
       "      <th>2012-12-26</th>\n",
       "      <td>-30.880331</td>\n",
       "      <td>-26.606141</td>\n",
       "      <td>-3.296699</td>\n",
       "      <td>-34.500741</td>\n",
       "      <td>-29.367562</td>\n",
       "      <td>-23.170483</td>\n",
       "      <td>-19.964943</td>\n",
       "      <td>-3.401398</td>\n",
       "      <td>-24.458479</td>\n",
       "      <td>-8.267458</td>\n",
       "      <td>-9.148394</td>\n",
       "    </tr>\n",
       "    <tr>\n",
       "      <th>2012-12-27</th>\n",
       "      <td>-4.516366</td>\n",
       "      <td>-7.459821</td>\n",
       "      <td>-9.782953</td>\n",
       "      <td>-0.294040</td>\n",
       "      <td>-12.563549</td>\n",
       "      <td>11.888090</td>\n",
       "      <td>-21.559166</td>\n",
       "      <td>-2.265019</td>\n",
       "      <td>1.924305</td>\n",
       "      <td>2.321190</td>\n",
       "      <td>-2.794459</td>\n",
       "    </tr>\n",
       "    <tr>\n",
       "      <th>2012-12-28</th>\n",
       "      <td>-24.800785</td>\n",
       "      <td>-33.630637</td>\n",
       "      <td>-20.600914</td>\n",
       "      <td>-36.070073</td>\n",
       "      <td>-51.556679</td>\n",
       "      <td>-16.090906</td>\n",
       "      <td>-29.739582</td>\n",
       "      <td>-6.607336</td>\n",
       "      <td>-25.290456</td>\n",
       "      <td>-7.710966</td>\n",
       "      <td>-21.535930</td>\n",
       "    </tr>\n",
       "    <tr>\n",
       "      <th>2012-12-31</th>\n",
       "      <td>41.969551</td>\n",
       "      <td>49.739138</td>\n",
       "      <td>17.719807</td>\n",
       "      <td>46.563195</td>\n",
       "      <td>79.873611</td>\n",
       "      <td>35.101000</td>\n",
       "      <td>42.268593</td>\n",
       "      <td>13.045683</td>\n",
       "      <td>40.960669</td>\n",
       "      <td>9.336725</td>\n",
       "      <td>25.206619</td>\n",
       "    </tr>\n",
       "  </tbody>\n",
       "</table>\n",
       "<p>5292 rows × 11 columns</p>\n",
       "</div>"
      ],
      "text/plain": [
       "            Utilities  Information Technology  Materials  Health Care  \\\n",
       "Date                                                                    \n",
       "1992-01-02        NaN                     NaN        NaN          NaN   \n",
       "1992-01-03        NaN                     NaN        NaN          NaN   \n",
       "1992-01-06        NaN                     NaN        NaN          NaN   \n",
       "1992-01-07        NaN                     NaN        NaN          NaN   \n",
       "1992-01-08        NaN                     NaN        NaN          NaN   \n",
       "...               ...                     ...        ...          ...   \n",
       "2012-12-24 -13.150235              -15.559262   3.114686   -10.961609   \n",
       "2012-12-26 -30.880331              -26.606141  -3.296699   -34.500741   \n",
       "2012-12-27  -4.516366               -7.459821  -9.782953    -0.294040   \n",
       "2012-12-28 -24.800785              -33.630637 -20.600914   -36.070073   \n",
       "2012-12-31  41.969551               49.739138  17.719807    46.563195   \n",
       "\n",
       "            Industrials  Consumer Discretionary  Financials  \\\n",
       "Date                                                          \n",
       "1992-01-02          NaN                     NaN         NaN   \n",
       "1992-01-03          NaN                     NaN         NaN   \n",
       "1992-01-06          NaN                     NaN         NaN   \n",
       "1992-01-07          NaN                     NaN         NaN   \n",
       "1992-01-08          NaN                     NaN         NaN   \n",
       "...                 ...                     ...         ...   \n",
       "2012-12-24   -20.927487                1.176756  -17.361941   \n",
       "2012-12-26   -29.367562              -23.170483  -19.964943   \n",
       "2012-12-27   -12.563549               11.888090  -21.559166   \n",
       "2012-12-28   -51.556679              -16.090906  -29.739582   \n",
       "2012-12-31    79.873611               35.101000   42.268593   \n",
       "\n",
       "            Communication Services  Consumer Staples  Real Estate     Energy  \n",
       "Date                                                                          \n",
       "1992-01-02                     NaN               NaN          NaN        NaN  \n",
       "1992-01-03                     NaN               NaN          NaN        NaN  \n",
       "1992-01-06                     NaN               NaN          NaN        NaN  \n",
       "1992-01-07                     NaN               NaN          NaN        NaN  \n",
       "1992-01-08                     NaN               NaN          NaN        NaN  \n",
       "...                            ...               ...          ...        ...  \n",
       "2012-12-24               -0.710343         -5.359795     1.153713 -14.043977  \n",
       "2012-12-26               -3.401398        -24.458479    -8.267458  -9.148394  \n",
       "2012-12-27               -2.265019          1.924305     2.321190  -2.794459  \n",
       "2012-12-28               -6.607336        -25.290456    -7.710966 -21.535930  \n",
       "2012-12-31               13.045683         40.960669     9.336725  25.206619  \n",
       "\n",
       "[5292 rows x 11 columns]"
      ]
     },
     "execution_count": 3,
     "metadata": {},
     "output_type": "execute_result"
    }
   ],
   "source": [
    "# first rows are NaNs because of local renormalisation\n",
    "print(DF.shape)\n",
    "DF"
   ]
  },
  {
   "cell_type": "code",
   "execution_count": 4,
   "metadata": {},
   "outputs": [
    {
     "name": "stdout",
     "output_type": "stream",
     "text": [
      "(11, 11)\n",
      "55.0\n",
      "(1, 121) 55\n",
      "1\n"
     ]
    },
    {
     "data": {
      "text/plain": [
       "(5252, 55)"
      ]
     },
     "execution_count": 4,
     "metadata": {},
     "output_type": "execute_result"
    }
   ],
   "source": [
    "# compute correlation matrices for overlapping, moving intervals\n",
    "Period = 40 # 2 trading months\n",
    "Shift = 1\n",
    "T = int((len(DF) - Period)/Shift)\n",
    "\n",
    "\n",
    "# because of symmetry and diagonal of 1, only need upper triangle:\n",
    "Index = np.triu(np.ones((DF.shape[1],\n",
    "                         DF.shape[1])),1)\n",
    "print(Index.shape)\n",
    "print(np.sum(Index))\n",
    "\n",
    "Index = Index.reshape(1,-1)\n",
    "Index = Index.astype(bool)\n",
    "print(Index.shape, np.sum(Index))\n",
    "CorrMatrices = np.empty((T, np.sum(Index)))\n",
    "CorrMatricesFull = np.empty((T,int(DF.shape[1]**2.)))\n",
    "\n",
    "print(len(Index))\n",
    "\n",
    "for t in range(T):\n",
    "    #print((0+t*Shift),(Period+t*Shift))\n",
    "    IntervalDF = DF.iloc[(0+t*Shift):(Period+t*Shift)]\n",
    "    IntervalCorr = IntervalDF.corr()\n",
    "    IntervalCorr = IntervalCorr.to_numpy().reshape(1,-1)\n",
    "\n",
    "    CorrMatricesFull[t,:] = IntervalCorr\n",
    "    \n",
    "    # Only save the non-trivial and unique elements of the correlation matrix\n",
    "    CorrMatrices[t,:] = IntervalCorr[Index]\n",
    "\n",
    "CorrMatrices.shape   "
   ]
  },
  {
   "cell_type": "code",
   "execution_count": 5,
   "metadata": {},
   "outputs": [],
   "source": [
    "# Repeated KMeans into 2 clusters"
   ]
  },
  {
   "cell_type": "code",
   "execution_count": 6,
   "metadata": {},
   "outputs": [],
   "source": [
    "kmean = KMeans(n_clusters = 2,random_state = 12345).fit(CorrMatrices) \n"
   ]
  },
  {
   "cell_type": "code",
   "execution_count": 7,
   "metadata": {},
   "outputs": [
    {
     "data": {
      "text/plain": [
       "[<matplotlib.lines.Line2D at 0x17f59fbad60>]"
      ]
     },
     "execution_count": 7,
     "metadata": {},
     "output_type": "execute_result"
    },
    {
     "data": {
      "image/png": "[encoded data removed]",
      "text/plain": [
       "<Figure size 432x288 with 1 Axes>"
      ]
     },
     "metadata": {
      "needs_background": "light"
     },
     "output_type": "display_data"
    }
   ],
   "source": [
    "ypred = kmean.predict(CorrMatrices)\n",
    "\n",
    "plt.plot(ypred,\".\")"
   ]
  },
  {
   "cell_type": "code",
   "execution_count": 8,
   "metadata": {},
   "outputs": [
    {
     "name": "stdout",
     "output_type": "stream",
     "text": [
      "(2857, 55) (2395, 55)\n"
     ]
    }
   ],
   "source": [
    "#  now split the initial clusters\n",
    "\n",
    "CMS0 = CorrMatrices[ypred ==0,:]\n",
    "CMS1 = CorrMatrices[ypred ==1,:]\n",
    "print(CMS0.shape,CMS1.shape)"
   ]
  },
  {
   "cell_type": "code",
   "execution_count": 9,
   "metadata": {},
   "outputs": [],
   "source": [
    "kmean0 = KMeans(n_clusters = 2,random_state = 12345).fit(CMS0) \n",
    "ypred0 = kmean0.predict(CMS0)"
   ]
  },
  {
   "cell_type": "code",
   "execution_count": 10,
   "metadata": {},
   "outputs": [
    {
     "data": {
      "text/plain": [
       "[<matplotlib.lines.Line2D at 0x17f5a1d2d90>]"
      ]
     },
     "execution_count": 10,
     "metadata": {},
     "output_type": "execute_result"
    },
    {
     "data": {
      "image/png": "[encoded data removed]",
      "text/plain": [
       "<Figure size 432x288 with 1 Axes>"
      ]
     },
     "metadata": {
      "needs_background": "light"
     },
     "output_type": "display_data"
    }
   ],
   "source": [
    "plt.plot(ypred0,\".\")"
   ]
  },
  {
   "cell_type": "code",
   "execution_count": 11,
   "metadata": {},
   "outputs": [
    {
     "name": "stdout",
     "output_type": "stream",
     "text": [
      "(1934, 55) (923, 55)\n"
     ]
    }
   ],
   "source": [
    "#  now split the these sub-clusters\n",
    "CMS00 = CMS0[ypred0==0,:]\n",
    "CMS01 = CMS0[ypred0==1,:]\n",
    "print(CMS00.shape,CMS01.shape)"
   ]
  },
  {
   "cell_type": "code",
   "execution_count": 12,
   "metadata": {},
   "outputs": [],
   "source": [
    "kmean00 = KMeans(n_clusters = 2,random_state = 12345).fit(CMS00) \n",
    "ypred00 = kmean00.predict(CMS00)"
   ]
  },
  {
   "cell_type": "code",
   "execution_count": 13,
   "metadata": {},
   "outputs": [],
   "source": [
    "kmean01 = KMeans(n_clusters = 2,random_state = 12345).fit(CMS01) \n",
    "ypred01 = kmean01.predict(CMS01)"
   ]
  },
  {
   "cell_type": "code",
   "execution_count": 14,
   "metadata": {},
   "outputs": [
    {
     "name": "stdout",
     "output_type": "stream",
     "text": [
      "(1115, 55) (819, 55) (258, 55) (665, 55)\n"
     ]
    }
   ],
   "source": [
    "# final splits for the first initial cluster\n",
    "CMS000 = CMS00[ypred00==0,:]\n",
    "CMS001 = CMS00[ypred00==1,:]\n",
    "CMS010 = CMS01[ypred01==0,:]\n",
    "CMS011 = CMS01[ypred01==1,:]\n",
    "print(CMS000.shape,\n",
    "     CMS001.shape,\n",
    "     CMS010.shape,\n",
    "     CMS011.shape)"
   ]
  },
  {
   "cell_type": "code",
   "execution_count": 15,
   "metadata": {},
   "outputs": [],
   "source": [
    "# Now for the second initial cluster"
   ]
  },
  {
   "cell_type": "code",
   "execution_count": 16,
   "metadata": {},
   "outputs": [
    {
     "data": {
      "text/plain": [
       "[<matplotlib.lines.Line2D at 0x17f5aa06b80>]"
      ]
     },
     "execution_count": 16,
     "metadata": {},
     "output_type": "execute_result"
    },
    {
     "data": {
      "image/png": "[encoded data removed]",
      "text/plain": [
       "<Figure size 432x288 with 1 Axes>"
      ]
     },
     "metadata": {
      "needs_background": "light"
     },
     "output_type": "display_data"
    }
   ],
   "source": [
    "kmean1 = KMeans(n_clusters = 2,random_state = 12345).fit(CMS1) \n",
    "ypred1 = kmean1.predict(CMS1)\n",
    "plt.plot(ypred1,\".\")"
   ]
  },
  {
   "cell_type": "code",
   "execution_count": 17,
   "metadata": {},
   "outputs": [
    {
     "name": "stdout",
     "output_type": "stream",
     "text": [
      "(1376, 55) (1019, 55)\n"
     ]
    }
   ],
   "source": [
    "#  now split the these sub-clusters\n",
    "CMS10 = CMS1[ypred1==0,:]\n",
    "CMS11 = CMS1[ypred1==1,:]\n",
    "print(CMS10.shape,CMS11.shape)"
   ]
  },
  {
   "cell_type": "code",
   "execution_count": 18,
   "metadata": {},
   "outputs": [],
   "source": [
    "kmean10 = KMeans(n_clusters = 2,random_state = 12345).fit(CMS10) \n",
    "ypred10 = kmean10.predict(CMS10)\n",
    "kmean11 = KMeans(n_clusters = 2,random_state = 12345).fit(CMS11) \n",
    "ypred11 = kmean11.predict(CMS11)"
   ]
  },
  {
   "cell_type": "code",
   "execution_count": 19,
   "metadata": {},
   "outputs": [
    {
     "name": "stdout",
     "output_type": "stream",
     "text": [
      "(955, 55) (421, 55) (1376, 55) (323, 55)\n"
     ]
    }
   ],
   "source": [
    "# final splits for the first initial cluster\n",
    "CMS100 = CMS10[ypred10==0,:]\n",
    "CMS101 = CMS10[ypred10==1,:]\n",
    "CMS110 = CMS11[ypred11==0,:]\n",
    "CMS111 = CMS11[ypred11==1,:]\n",
    "print(CMS100.shape,\n",
    "     CMS101.shape,\n",
    "     CMS10.shape,\n",
    "     CMS111.shape)"
   ]
  },
  {
   "cell_type": "code",
   "execution_count": 20,
   "metadata": {},
   "outputs": [],
   "source": [
    "Labels = np.zeros(CorrMatrices.shape[0])"
   ]
  },
  {
   "cell_type": "code",
   "execution_count": 21,
   "metadata": {},
   "outputs": [
    {
     "name": "stdout",
     "output_type": "stream",
     "text": [
      "[0. 0. 0. 0. 0. 0. 0. 0. 0. 0.]\n",
      "[0 1 2 3 4 5 6 7 8 9]\n"
     ]
    }
   ],
   "source": [
    "Lab = Labels[0:10]\n",
    "print(Lab)\n",
    "Lab  = np.arange(10)\n",
    "print(Lab)"
   ]
  },
  {
   "cell_type": "code",
   "execution_count": 22,
   "metadata": {},
   "outputs": [
    {
     "name": "stdout",
     "output_type": "stream",
     "text": [
      "[0. 0. 0. 0. 0. 0. 0. 0. 0. 0. 0. 0. 0. 0. 0. 0. 0. 0. 0. 0.]\n"
     ]
    }
   ],
   "source": [
    "print(Labels[0:20])"
   ]
  },
  {
   "cell_type": "code",
   "execution_count": 23,
   "metadata": {},
   "outputs": [],
   "source": [
    "def Label(Instance):\n",
    "    \n",
    "    \n",
    "    Label1 = kmean.predict(Instance.reshape(1, -1))\n",
    "\n",
    "    if Label1 == 0:\n",
    "    \n",
    "        Label2 = kmean0.predict(Instance.reshape(1,-1))\n",
    "    \n",
    "        if Label2 == 0:\n",
    "            Label3 = kmean00.predict(Instance.reshape(1,-1))\n",
    "    \n",
    "        elif Label2 == 1:\n",
    "            Label3 = kmean01.predict(Instance.reshape(1,-1))\n",
    "    \n",
    "    \n",
    "    elif Label1 == 1:\n",
    "    \n",
    "        Label2 = kmean1.predict(Instance.reshape(1,-1))\n",
    "    \n",
    "        if Label2 == 0:\n",
    "            Label3 = kmean10.predict(Instance.reshape(1,-1))\n",
    "    \n",
    "        elif Label2 == 1:\n",
    "            Label3 = kmean11.predict(Instance.reshape(1,-1))\n",
    "    return(str(Label1[0])+str(Label2[0])+str(Label3[0]))\n",
    "            "
   ]
  },
  {
   "cell_type": "code",
   "execution_count": 24,
   "metadata": {},
   "outputs": [],
   "source": [
    "Labels = []\n",
    "for i in range(CorrMatrices.shape[0]):\n",
    "    Labels.append(Label(CorrMatrices[i,:]))"
   ]
  },
  {
   "cell_type": "code",
   "execution_count": 25,
   "metadata": {},
   "outputs": [
    {
     "data": {
      "text/plain": [
       "421"
      ]
     },
     "execution_count": 25,
     "metadata": {},
     "output_type": "execute_result"
    }
   ],
   "source": [
    "sum(np.array(Labels)== '101')"
   ]
  },
  {
   "cell_type": "code",
   "execution_count": 26,
   "metadata": {},
   "outputs": [],
   "source": [
    "Labels = np.array(Labels)"
   ]
  },
  {
   "cell_type": "code",
   "execution_count": 27,
   "metadata": {},
   "outputs": [],
   "source": [
    "Labels[Labels==\"000\"] = 0\n",
    "Labels[Labels==\"001\"] = 1\n",
    "Labels[Labels==\"010\"] = 2\n",
    "Labels[Labels==\"011\"] = 3\n",
    "Labels[Labels==\"100\"] = 4\n",
    "Labels[Labels==\"101\"] = 5\n",
    "Labels[Labels==\"110\"] = 6\n",
    "Labels[Labels==\"111\"] = 7\n",
    "Labels = Labels.astype(np.int)"
   ]
  },
  {
   "cell_type": "code",
   "execution_count": 28,
   "metadata": {},
   "outputs": [],
   "source": [
    "TimeIndex = DF.index[20:(len(DF.index)-20)]"
   ]
  },
  {
   "cell_type": "code",
   "execution_count": 29,
   "metadata": {},
   "outputs": [],
   "source": [
    "T = [datetime.datetime.strptime(d,'%Y-%m-%d').date() for d in TimeIndex]"
   ]
  },
  {
   "cell_type": "code",
   "execution_count": 30,
   "metadata": {},
   "outputs": [
    {
     "data": {
      "image/png": "[encoded data removed]",
      "text/plain": [
       "<Figure size 432x288 with 1 Axes>"
      ]
     },
     "metadata": {
      "needs_background": "light"
     },
     "output_type": "display_data"
    }
   ],
   "source": [
    "## Now get 1d Time Series\n",
    "\n",
    " # We look at the mean correlation value like Stepanov et al. and try to fit a time series to this.\n",
    "\n",
    "c_bar = CorrMatrices.mean(axis=1)\n",
    "plt.plot(T,c_bar)\n",
    "plt.show()\n",
    "TimeSeries = pd.DataFrame(data = {\"t\": T,\n",
    "                                \"c_bar\": c_bar})\n",
    "TimeSeries.to_csv(\"TimeSeries_Finance_Reduced\")"
   ]
  },
  {
   "cell_type": "code",
   "execution_count": 31,
   "metadata": {},
   "outputs": [
    {
     "name": "stdout",
     "output_type": "stream",
     "text": [
      "5252 5252\n"
     ]
    }
   ],
   "source": [
    "print(len(T), len(Labels))"
   ]
  },
  {
   "cell_type": "code",
   "execution_count": 32,
   "metadata": {
    "scrolled": true
   },
   "outputs": [
    {
     "data": {
      "image/png": "[encoded data removed]",
      "text/plain": [
       "<Figure size 432x288 with 1 Axes>"
      ]
     },
     "metadata": {
      "needs_background": "light"
     },
     "output_type": "display_data"
    }
   ],
   "source": [
    "plt.gca().xaxis.set_major_formatter(mdates.DateFormatter('%Y-%m-%d'))\n",
    "plt.gca().xaxis.set_major_locator(mdates.AutoDateLocator())\n",
    "plt.plot(T,Labels, \".\", alpha = 0.1)\n",
    "#plt.vlines(datetime.date(2001,9,11), \"110\", \"000\")\n",
    "plt.gcf().autofmt_xdate()"
   ]
  },
  {
   "cell_type": "code",
   "execution_count": 33,
   "metadata": {},
   "outputs": [
    {
     "data": {
      "text/plain": [
       "array([[   0, 1115],\n",
       "       [   1,  819],\n",
       "       [   2,  258],\n",
       "       [   3,  665],\n",
       "       [   4,  955],\n",
       "       [   5,  421],\n",
       "       [   6,  696],\n",
       "       [   7,  323]], dtype=int64)"
      ]
     },
     "execution_count": 33,
     "metadata": {},
     "output_type": "execute_result"
    }
   ],
   "source": [
    "np.array(np.unique(Labels, return_counts=True)).T"
   ]
  },
  {
   "cell_type": "code",
   "execution_count": 34,
   "metadata": {},
   "outputs": [
    {
     "name": "stdout",
     "output_type": "stream",
     "text": [
      "(8, 55)\n",
      "(55,)\n"
     ]
    }
   ],
   "source": [
    "# Combine all Centroids to one array\n",
    "\n",
    "Centroids = np.concatenate((kmean00.cluster_centers_,\n",
    "                            kmean01.cluster_centers_,\n",
    "                            kmean10.cluster_centers_,\n",
    "                           kmean11.cluster_centers_))\n",
    "print(Centroids.shape)\n",
    "print(Centroids[0].shape)"
   ]
  },
  {
   "cell_type": "markdown",
   "metadata": {},
   "source": [
    "## Neuralising kmeans"
   ]
  },
  {
   "cell_type": "code",
   "execution_count": 35,
   "metadata": {},
   "outputs": [],
   "source": [
    "def layer1(x, centroids, i):\n",
    "    # takes one instance x, centroid-matrix and index of ith centroid\n",
    "    # returns values for the distances to centroid i\n",
    "    mu_c = centroids[i]\n",
    "    w = 2*(mu_c - centroids)\n",
    "    b = (centroids**2.).sum(1) - (mu_c**2.).sum()\n",
    "    h = w.dot(x) + b\n",
    "    return(h)\n",
    "\n",
    "def layer2(h,i):\n",
    "    # i is the index of the cluster which we \"test\" here\n",
    "    Indices = np.arange(len(h))\n",
    "    return(min(h[Indices!=i]) )\n",
    "\n",
    "\n",
    "def DecisionLayer(Minimum):\n",
    "    return(Minimum > 0)\n",
    "\n",
    "\n",
    "\n",
    "def NN_k(x,centroids,k):\n",
    "    # checks if x belongs to kth cluster\n",
    "    return(layer2(layer1(x,centroids,k),k))"
   ]
  },
  {
   "cell_type": "code",
   "execution_count": 39,
   "metadata": {},
   "outputs": [
    {
     "name": "stdout",
     "output_type": "stream",
     "text": [
      "First instances Label is 0\n"
     ]
    }
   ],
   "source": [
    "print(\"First instances Label is\", Labels[0])"
   ]
  },
  {
   "cell_type": "code",
   "execution_count": 46,
   "metadata": {},
   "outputs": [
    {
     "name": "stdout",
     "output_type": "stream",
     "text": [
      "Should only be True for Label 6\n",
      " # # # # # #\n",
      "0 False\n",
      "# # # # # \n",
      "1 False\n",
      "# # # # # \n",
      "2 False\n",
      "# # # # # \n",
      "3 False\n",
      "# # # # # \n",
      "4 False\n",
      "# # # # # \n",
      "5 False\n",
      "# # # # # \n",
      "6 True\n",
      "# # # # # \n",
      "7 False\n",
      "# # # # # \n"
     ]
    }
   ],
   "source": [
    "k = 1451 # some instance\n",
    "\n",
    "print(\"Should only be True for Label\", Labels[k])\n",
    "\n",
    "print(\" # # # # # #\")\n",
    "for i in range(max(Labels)+1):\n",
    "    print(i,DecisionLayer(NN_k(CorrMatrices[k,:],Centroids, i)))\n",
    "    print(\"# # # # # \")\n",
    "    \n",
    "    "
   ]
  },
  {
   "cell_type": "code",
   "execution_count": 60,
   "metadata": {},
   "outputs": [
    {
     "data": {
      "text/plain": [
       "-0.6504046851159071"
      ]
     },
     "execution_count": 60,
     "metadata": {},
     "output_type": "execute_result"
    }
   ],
   "source": [
    "layer2(layer1(CorrMatrices[0,:],Centroids,1),1)"
   ]
  },
  {
   "cell_type": "code",
   "execution_count": 61,
   "metadata": {},
   "outputs": [
    {
     "name": "stdout",
     "output_type": "stream",
     "text": [
      "244\n"
     ]
    }
   ],
   "source": [
    "nKM = max(Labels) + 1 # number of clusters\n",
    "\n",
    "\n",
    "# CHeck for all instances\n",
    "Layer_Pred = np.empty(CorrMatrices.shape[0])\n",
    "Layer_1 = np.empty((CorrMatrices.shape[0], nKM))\n",
    "Layer_2 = np.empty(CorrMatrices.shape[0])\n",
    "\n",
    "Counter = 0\n",
    "for i in range(len(Layer_Pred)): # check all instances\n",
    "    Counter = 0\n",
    "    for j in range(nKM): # check all possible clusters\n",
    "        Decision = DecisionLayer(NN_k(CorrMatrices[i,:],Centroids, j))    \n",
    "        if Decision:\n",
    "            Layer_Pred[i] = range(nKM)[j]\n",
    "            Layer_1[i,:] = layer1(CorrMatrices[i,:], Centroids, j)\n",
    "            Layer_2[i] = layer2(Layer_1[i,:], j)\n",
    "            Counter +=1\n",
    "            \n",
    "        if Counter > 1:\n",
    "            print(\"Problem\", i, Labels[i], Layer_Pred[i])\n",
    "print(sum(Layer_Pred != Labels))\n"
   ]
  },
  {
   "cell_type": "code",
   "execution_count": 63,
   "metadata": {},
   "outputs": [
    {
     "name": "stdout",
     "output_type": "stream",
     "text": [
      "0.5680203001494357\n",
      "0.15598445820823437\n"
     ]
    }
   ],
   "source": [
    "print(np.mean(Layer_2))\n",
    "print(np.mean(Layer_2[Layer_Pred != Labels]))"
   ]
  },
  {
   "cell_type": "markdown",
   "metadata": {},
   "source": [
    "#### Problem:\n",
    "\n",
    "Neuralisation does not always yield the same results as the original clustering. The error quote is about 5%. The reason behind this (see above block) might be that the wrong labels have an output of layer2 that is close to zero, i.e. their classification  not as \"clear-cut\" "
   ]
  },
  {
   "cell_type": "code",
   "execution_count": 56,
   "metadata": {},
   "outputs": [
    {
     "data": {
      "text/plain": [
       "array([1, 0, 0, 0, 0, 1, 1, 1, 1, 1, 1, 1, 1, 0, 1, 1, 1, 0, 0, 0, 0, 0,\n",
       "       0, 0, 0, 0, 0, 0, 0, 0, 0, 0, 1, 1, 0, 0, 0, 0, 0, 1, 0, 0, 0, 0,\n",
       "       4, 4, 0, 0, 0, 0, 0, 1, 0, 0, 4, 4, 4, 4, 0, 0, 1, 1, 0, 3, 3, 3,\n",
       "       3, 3, 3, 3, 0, 3, 3, 3, 3, 3, 3, 3, 3, 3, 3, 3, 3, 3, 3, 2, 2, 2,\n",
       "       3, 3, 3, 3, 3, 3, 3, 3, 3, 3, 3, 4, 4, 4, 4, 4, 0, 0, 0, 0, 0, 4,\n",
       "       0, 0, 0, 0, 0, 5, 5, 5, 5, 0, 1, 1, 1, 1, 1, 1, 1, 1, 1, 1, 1, 0,\n",
       "       1, 1, 1, 4, 4, 4, 4, 4, 4, 4, 3, 3, 3, 3, 3, 3, 3, 3, 3, 3, 4, 5,\n",
       "       0, 0, 0, 4, 4, 4, 4, 4, 4, 4, 4, 5, 5, 5, 5, 5, 5, 5, 5, 5, 4, 4,\n",
       "       4, 4, 5, 5, 5, 5, 5, 5, 5, 5, 5, 5, 4, 5, 1, 1, 1, 1, 1, 6, 6, 6,\n",
       "       6, 6, 6, 6, 6, 4, 4, 4, 4, 4, 4, 4, 4, 4, 4, 4, 4, 4, 4, 4, 4, 4,\n",
       "       4, 4, 4, 4, 4, 4, 0, 1, 4, 4, 4, 4, 4, 4, 4, 4, 4, 4, 4, 4, 4, 4,\n",
       "       4, 4])"
      ]
     },
     "execution_count": 56,
     "metadata": {},
     "output_type": "execute_result"
    }
   ],
   "source": [
    "Labels[Layer_Pred != Labels] "
   ]
  },
  {
   "cell_type": "code",
   "execution_count": 57,
   "metadata": {},
   "outputs": [
    {
     "data": {
      "text/plain": [
       "array([3., 3., 3., 3., 3., 3., 3., 3., 3., 3., 3., 3., 3., 3., 3., 3., 3.,\n",
       "       3., 3., 3., 3., 3., 4., 4., 4., 3., 3., 3., 3., 3., 3., 3., 3., 3.,\n",
       "       3., 3., 3., 3., 3., 3., 3., 3., 3., 3., 0., 0., 4., 3., 3., 3., 3.,\n",
       "       5., 4., 4., 6., 6., 6., 6., 4., 4., 3., 3., 3., 0., 0., 0., 0., 0.,\n",
       "       0., 0., 4., 1., 1., 1., 1., 1., 1., 1., 1., 1., 1., 1., 1., 1., 1.,\n",
       "       1., 1., 0., 0., 0., 0., 0., 0., 0., 0., 0., 0., 0., 0., 6., 6., 6.,\n",
       "       6., 6., 4., 4., 4., 4., 4., 6., 4., 4., 4., 4., 4., 6., 6., 6., 6.,\n",
       "       4., 5., 5., 5., 5., 5., 5., 5., 5., 5., 5., 5., 4., 5., 5., 5., 6.,\n",
       "       6., 6., 6., 6., 6., 6., 1., 1., 1., 1., 1., 1., 1., 1., 1., 1., 6.,\n",
       "       6., 4., 4., 4., 6., 6., 6., 6., 6., 6., 6., 6., 6., 6., 6., 6., 6.,\n",
       "       6., 6., 6., 6., 6., 6., 6., 6., 6., 6., 6., 6., 6., 6., 6., 6., 6.,\n",
       "       6., 6., 6., 5., 5., 5., 5., 5., 5., 5., 5., 5., 5., 5., 5., 5., 6.,\n",
       "       6., 6., 6., 6., 6., 6., 6., 6., 6., 6., 6., 6., 6., 6., 6., 6., 6.,\n",
       "       6., 6., 6., 6., 6., 4., 4., 6., 6., 6., 6., 6., 6., 6., 6., 6., 6.,\n",
       "       6., 6., 6., 6., 6., 6.])"
      ]
     },
     "execution_count": 57,
     "metadata": {},
     "output_type": "execute_result"
    }
   ],
   "source": [
    "Layer_Pred[Layer_Pred != Labels]"
   ]
  },
  {
   "cell_type": "code",
   "execution_count": null,
   "metadata": {},
   "outputs": [],
   "source": []
  }
 ],
 "metadata": {
  "kernelspec": {
   "display_name": "Python 3",
   "language": "python",
   "name": "python3"
  },
  "language_info": {
   "codemirror_mode": {
    "name": "ipython",
    "version": 3
   },
   "file_extension": ".py",
   "mimetype": "text/x-python",
   "name": "python",
   "nbconvert_exporter": "python",
   "pygments_lexer": "ipython3",
   "version": "3.8.5"
  }
 },
 "nbformat": 4,
 "nbformat_minor": 5
}
